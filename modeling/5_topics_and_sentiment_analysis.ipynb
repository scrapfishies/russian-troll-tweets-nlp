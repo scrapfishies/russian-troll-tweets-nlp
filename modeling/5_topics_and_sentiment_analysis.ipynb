{
 "cells": [
  {
   "cell_type": "markdown",
   "metadata": {},
   "source": [
    "# Sentiment Analysis and Topics over Time"
   ]
  },
  {
   "cell_type": "code",
   "execution_count": 1,
   "metadata": {
    "ExecuteTime": {
     "end_time": "2020-11-10T00:37:22.232134Z",
     "start_time": "2020-11-10T00:37:18.858147Z"
    }
   },
   "outputs": [],
   "source": [
    "# Basics\n",
    "import pandas as pd\n",
    "import numpy as np\n",
    "import matplotlib.pyplot as plt\n",
    "%matplotlib inline\n",
    "import seaborn as sns\n",
    "import pickle \n",
    "\n",
    "from textblob import TextBlob\n",
    "from vaderSentiment.vaderSentiment import SentimentIntensityAnalyzer\n",
    "from wordcloud import WordCloud\n",
    "\n",
    "import umap\n",
    "\n",
    "#sklearn\n",
    "from sklearn.manifold import TSNE\n",
    "from sklearn.feature_extraction.text import CountVectorizer\n",
    "from sklearn.decomposition import LatentDirichletAllocation, PCA"
   ]
  },
  {
   "cell_type": "code",
   "execution_count": 2,
   "metadata": {
    "ExecuteTime": {
     "end_time": "2020-11-10T00:37:22.340206Z",
     "start_time": "2020-11-10T00:37:22.234007Z"
    }
   },
   "outputs": [],
   "source": [
    "with open('../data_files/processed_tweets.pickle', 'rb') as read_file:\n",
    "    df = pickle.load(read_file)"
   ]
  },
  {
   "cell_type": "code",
   "execution_count": 3,
   "metadata": {
    "ExecuteTime": {
     "end_time": "2020-11-10T00:37:22.353705Z",
     "start_time": "2020-11-10T00:37:22.342890Z"
    }
   },
   "outputs": [
    {
     "data": {
      "text/html": [
       "<div>\n",
       "<style scoped>\n",
       "    .dataframe tbody tr th:only-of-type {\n",
       "        vertical-align: middle;\n",
       "    }\n",
       "\n",
       "    .dataframe tbody tr th {\n",
       "        vertical-align: top;\n",
       "    }\n",
       "\n",
       "    .dataframe thead th {\n",
       "        text-align: right;\n",
       "    }\n",
       "</style>\n",
       "<table border=\"1\" class=\"dataframe\">\n",
       "  <thead>\n",
       "    <tr style=\"text-align: right;\">\n",
       "      <th></th>\n",
       "      <th>clean</th>\n",
       "      <th>processed</th>\n",
       "    </tr>\n",
       "  </thead>\n",
       "  <tbody>\n",
       "    <tr>\n",
       "      <th>0</th>\n",
       "      <td>islam kills are you trying to say that there w...</td>\n",
       "      <td>islam kill try say terrorist attack europe ref...</td>\n",
       "    </tr>\n",
       "    <tr>\n",
       "      <th>1</th>\n",
       "      <td>clinton trump should ve apologized more attack...</td>\n",
       "      <td>clinton trump apologize attack little</td>\n",
       "    </tr>\n",
       "    <tr>\n",
       "      <th>2</th>\n",
       "      <td>who was is the best president of the past year...</td>\n",
       "      <td>well president past retweet</td>\n",
       "    </tr>\n",
       "    <tr>\n",
       "      <th>3</th>\n",
       "      <td>i don t have to guess your religion christmasa...</td>\n",
       "      <td>guess religion christmasaftermath</td>\n",
       "    </tr>\n",
       "    <tr>\n",
       "      <th>4</th>\n",
       "      <td>pence and his lawyers decided which of his off...</td>\n",
       "      <td>pence lawyer decide official email public can see</td>\n",
       "    </tr>\n",
       "  </tbody>\n",
       "</table>\n",
       "</div>"
      ],
      "text/plain": [
       "                                               clean  \\\n",
       "0  islam kills are you trying to say that there w...   \n",
       "1  clinton trump should ve apologized more attack...   \n",
       "2  who was is the best president of the past year...   \n",
       "3  i don t have to guess your religion christmasa...   \n",
       "4  pence and his lawyers decided which of his off...   \n",
       "\n",
       "                                           processed  \n",
       "0  islam kill try say terrorist attack europe ref...  \n",
       "1              clinton trump apologize attack little  \n",
       "2                        well president past retweet  \n",
       "3                  guess religion christmasaftermath  \n",
       "4  pence lawyer decide official email public can see  "
      ]
     },
     "execution_count": 3,
     "metadata": {},
     "output_type": "execute_result"
    }
   ],
   "source": [
    "df.head()"
   ]
  },
  {
   "cell_type": "code",
   "execution_count": 4,
   "metadata": {
    "ExecuteTime": {
     "end_time": "2020-11-10T00:37:22.358463Z",
     "start_time": "2020-11-10T00:37:22.356010Z"
    }
   },
   "outputs": [],
   "source": [
    "proc_tweets = df.processed"
   ]
  },
  {
   "cell_type": "code",
   "execution_count": 5,
   "metadata": {
    "ExecuteTime": {
     "end_time": "2020-11-10T00:37:22.362989Z",
     "start_time": "2020-11-10T00:37:22.360311Z"
    }
   },
   "outputs": [],
   "source": [
    "vectorizer = CountVectorizer(token_pattern=\"\\\\b[a-z][a-z]+\\\\b\",\n",
    "                             binary=True,\n",
    "                             stop_words='english')"
   ]
  },
  {
   "cell_type": "code",
   "execution_count": 6,
   "metadata": {
    "ExecuteTime": {
     "end_time": "2020-11-10T00:37:24.345991Z",
     "start_time": "2020-11-10T00:37:22.365067Z"
    }
   },
   "outputs": [
    {
     "name": "stdout",
     "output_type": "stream",
     "text": [
      "(203482, 77822)\n"
     ]
    }
   ],
   "source": [
    "dtm_tf = vectorizer.fit_transform(proc_tweets)\n",
    "print(dtm_tf.shape)"
   ]
  },
  {
   "cell_type": "code",
   "execution_count": 7,
   "metadata": {
    "ExecuteTime": {
     "end_time": "2020-11-10T00:43:25.152814Z",
     "start_time": "2020-11-10T00:37:24.347827Z"
    }
   },
   "outputs": [
    {
     "name": "stdout",
     "output_type": "stream",
     "text": [
      "CPU times: user 5min 54s, sys: 4.79 s, total: 5min 58s\n",
      "Wall time: 6min\n"
     ]
    }
   ],
   "source": [
    "%%time\n",
    "\n",
    "lda_model = LatentDirichletAllocation(n_components=6, random_state=42)\n",
    "lda_model.fit(dtm_tf)\n",
    "\n",
    "lda_doc_matrix = lda_model.transform(dtm_tf)"
   ]
  },
  {
   "cell_type": "code",
   "execution_count": 8,
   "metadata": {
    "ExecuteTime": {
     "end_time": "2020-11-10T00:43:25.158362Z",
     "start_time": "2020-11-10T00:43:25.155230Z"
    }
   },
   "outputs": [],
   "source": [
    "def display_topics(model, feature_names, no_top_words, topic_names=None):\n",
    "    for ix, topic in enumerate(model.components_):\n",
    "        if not topic_names or not topic_names[ix]:\n",
    "            print(\"\\nTopic \", ix)\n",
    "        else:\n",
    "            print(\"\\nTopic: '\",topic_names[ix],\"'\")\n",
    "        print(\", \".join([feature_names[i]\n",
    "                        for i in topic.argsort()[:-no_top_words - 1:-1]]))"
   ]
  },
  {
   "cell_type": "code",
   "execution_count": 9,
   "metadata": {
    "ExecuteTime": {
     "end_time": "2020-11-10T00:43:25.268709Z",
     "start_time": "2020-11-10T00:43:25.161365Z"
    }
   },
   "outputs": [
    {
     "name": "stdout",
     "output_type": "stream",
     "text": [
      "\n",
      "Topic  0\n",
      "trump, news, post, new, merkel, die, debate, muss, video, politic, watch, clinton, election, anti, ist, tonight, photo, presidential, court, live, protest, rally, youtube, hat, betteralternativetodebates\n",
      "\n",
      "Topic  1\n",
      "obama, tcot, pjnet, ccot, trump, gop, god, wakeupamerica, election, away, day, america, plan, need, president, teaparty, sign, world, house, leave, office, obamacare, people, todolistbeforechristmas, come\n",
      "\n",
      "Topic  2\n",
      "like, people, love, play, make, thing, know, time, day, life, twitter, look, tweet, think, game, need, thank, come, want, say, use, feel, world, let, work\n",
      "\n",
      "Topic  3\n",
      "trump, donald, hillary, clinton, real, say, president, america, maga, people, obama, politic, make, want, country, like, voter, white, american, time, medium, support, poll, americans, supporter\n",
      "\n",
      "Topic  4\n",
      "good, man, midnight, woman, kill, black, police, stop, say, shoot, new, islam, old, cruz, people, family, make, attack, girl, muslim, ted, child, death, school, want\n",
      "\n",
      "Topic  5\n",
      "clinton, hillary, email, trump, lie, dnc, fbi, obama, say, campaign, russia, wikileaks, watch, know, news, foundation, break, politic, isis, eat, money, report, hack, medium, bernie\n"
     ]
    }
   ],
   "source": [
    "terms = vectorizer.get_feature_names()\n",
    "\n",
    "display_topics(lda_model, terms, 25)"
   ]
  },
  {
   "cell_type": "code",
   "execution_count": 10,
   "metadata": {
    "ExecuteTime": {
     "end_time": "2020-11-10T00:43:25.273638Z",
     "start_time": "2020-11-10T00:43:25.271422Z"
    }
   },
   "outputs": [],
   "source": [
    "topic_cols = ['news', 'conservative', 'general_twitter', 'trump', 'violence', 'clinton']"
   ]
  },
  {
   "cell_type": "code",
   "execution_count": 11,
   "metadata": {
    "ExecuteTime": {
     "end_time": "2020-11-10T00:43:25.279339Z",
     "start_time": "2020-11-10T00:43:25.275259Z"
    }
   },
   "outputs": [
    {
     "data": {
      "text/plain": [
       "array([[0.01668614, 0.01671921, 0.01676255, 0.01687818, 0.9162238 ,\n",
       "        0.01673013],\n",
       "       [0.02784275, 0.02785185, 0.02807543, 0.85996697, 0.02811381,\n",
       "        0.0281492 ],\n",
       "       [0.041671  , 0.04187765, 0.04231849, 0.79062642, 0.04172208,\n",
       "        0.04178435],\n",
       "       ...,\n",
       "       [0.02383652, 0.02384963, 0.88057349, 0.02393875, 0.02385778,\n",
       "        0.02394382],\n",
       "       [0.02397061, 0.02426326, 0.02429331, 0.02403896, 0.54554694,\n",
       "        0.35788692],\n",
       "       [0.01862333, 0.01883651, 0.90652258, 0.01880578, 0.01866339,\n",
       "        0.01854841]])"
      ]
     },
     "execution_count": 11,
     "metadata": {},
     "output_type": "execute_result"
    }
   ],
   "source": [
    "lda_doc_matrix"
   ]
  },
  {
   "cell_type": "code",
   "execution_count": 12,
   "metadata": {
    "ExecuteTime": {
     "end_time": "2020-11-10T00:43:25.283472Z",
     "start_time": "2020-11-10T00:43:25.280982Z"
    }
   },
   "outputs": [],
   "source": [
    "lda_df = pd.DataFrame(lda_doc_matrix, columns=topic_cols)"
   ]
  },
  {
   "cell_type": "code",
   "execution_count": 13,
   "metadata": {
    "ExecuteTime": {
     "end_time": "2020-11-10T00:43:25.488238Z",
     "start_time": "2020-11-10T00:43:25.284980Z"
    }
   },
   "outputs": [],
   "source": [
    "lda_df['label'] = lda_df.idxmax(axis=1)"
   ]
  },
  {
   "cell_type": "code",
   "execution_count": 14,
   "metadata": {
    "ExecuteTime": {
     "end_time": "2020-11-10T00:43:26.428790Z",
     "start_time": "2020-11-10T00:43:25.489645Z"
    }
   },
   "outputs": [
    {
     "data": {
      "text/html": [
       "<div>\n",
       "<style scoped>\n",
       "    .dataframe tbody tr th:only-of-type {\n",
       "        vertical-align: middle;\n",
       "    }\n",
       "\n",
       "    .dataframe tbody tr th {\n",
       "        vertical-align: top;\n",
       "    }\n",
       "\n",
       "    .dataframe thead th {\n",
       "        text-align: right;\n",
       "    }\n",
       "</style>\n",
       "<table border=\"1\" class=\"dataframe\">\n",
       "  <thead>\n",
       "    <tr style=\"text-align: right;\">\n",
       "      <th></th>\n",
       "      <th>user_id</th>\n",
       "      <th>user_key</th>\n",
       "      <th>created_at</th>\n",
       "      <th>created_str</th>\n",
       "      <th>retweet_count</th>\n",
       "      <th>retweeted</th>\n",
       "      <th>favorite_count</th>\n",
       "      <th>text</th>\n",
       "      <th>tweet_id</th>\n",
       "      <th>source</th>\n",
       "      <th>hashtags</th>\n",
       "      <th>expanded_urls</th>\n",
       "      <th>posted</th>\n",
       "      <th>mentions</th>\n",
       "      <th>retweeted_status_id</th>\n",
       "      <th>in_reply_to_status_id</th>\n",
       "    </tr>\n",
       "  </thead>\n",
       "  <tbody>\n",
       "    <tr>\n",
       "      <th>0</th>\n",
       "      <td>1.868981e+09</td>\n",
       "      <td>ryanmaxwell_1</td>\n",
       "      <td>1.458672e+12</td>\n",
       "      <td>2016-03-22 18:31:42</td>\n",
       "      <td>NaN</td>\n",
       "      <td>NaN</td>\n",
       "      <td>NaN</td>\n",
       "      <td>#IslamKills Are you trying to say that there w...</td>\n",
       "      <td>7.123460e+17</td>\n",
       "      <td>NaN</td>\n",
       "      <td>[\"IslamKills\"]</td>\n",
       "      <td>[]</td>\n",
       "      <td>POSTED</td>\n",
       "      <td>[]</td>\n",
       "      <td>NaN</td>\n",
       "      <td>NaN</td>\n",
       "    </tr>\n",
       "    <tr>\n",
       "      <th>1</th>\n",
       "      <td>2.571870e+09</td>\n",
       "      <td>detroitdailynew</td>\n",
       "      <td>1.476133e+12</td>\n",
       "      <td>2016-10-10 20:57:00</td>\n",
       "      <td>0.0</td>\n",
       "      <td>False</td>\n",
       "      <td>0.0</td>\n",
       "      <td>Clinton: Trump should’ve apologized more, atta...</td>\n",
       "      <td>7.855849e+17</td>\n",
       "      <td>&lt;a href=\"http://twitterfeed.com\" rel=\"nofollow...</td>\n",
       "      <td>[]</td>\n",
       "      <td>[\"http://detne.ws/2e172jF\"]</td>\n",
       "      <td>POSTED</td>\n",
       "      <td>[]</td>\n",
       "      <td>NaN</td>\n",
       "      <td>NaN</td>\n",
       "    </tr>\n",
       "    <tr>\n",
       "      <th>2</th>\n",
       "      <td>1.710805e+09</td>\n",
       "      <td>cookncooks</td>\n",
       "      <td>1.487767e+12</td>\n",
       "      <td>2017-02-22 12:43:43</td>\n",
       "      <td>NaN</td>\n",
       "      <td>NaN</td>\n",
       "      <td>NaN</td>\n",
       "      <td>RT @ltapoll: Who was/is the best president of ...</td>\n",
       "      <td>8.343832e+17</td>\n",
       "      <td>NaN</td>\n",
       "      <td>[]</td>\n",
       "      <td>[]</td>\n",
       "      <td>POSTED</td>\n",
       "      <td>[]</td>\n",
       "      <td>NaN</td>\n",
       "      <td>NaN</td>\n",
       "    </tr>\n",
       "    <tr>\n",
       "      <th>3</th>\n",
       "      <td>2.584153e+09</td>\n",
       "      <td>queenofthewo</td>\n",
       "      <td>1.482765e+12</td>\n",
       "      <td>2016-12-26 15:06:41</td>\n",
       "      <td>NaN</td>\n",
       "      <td>NaN</td>\n",
       "      <td>NaN</td>\n",
       "      <td>RT @jww372: I don't have to guess your religio...</td>\n",
       "      <td>8.134006e+17</td>\n",
       "      <td>NaN</td>\n",
       "      <td>[\"ChristmasAftermath\"]</td>\n",
       "      <td>[]</td>\n",
       "      <td>POSTED</td>\n",
       "      <td>[]</td>\n",
       "      <td>NaN</td>\n",
       "      <td>NaN</td>\n",
       "    </tr>\n",
       "    <tr>\n",
       "      <th>4</th>\n",
       "      <td>1.768260e+09</td>\n",
       "      <td>mrclydepratt</td>\n",
       "      <td>1.501987e+12</td>\n",
       "      <td>2017-08-06 02:36:24</td>\n",
       "      <td>NaN</td>\n",
       "      <td>NaN</td>\n",
       "      <td>NaN</td>\n",
       "      <td>RT @Shareblue: Pence and his lawyers decided w...</td>\n",
       "      <td>8.940243e+17</td>\n",
       "      <td>NaN</td>\n",
       "      <td>[]</td>\n",
       "      <td>[]</td>\n",
       "      <td>POSTED</td>\n",
       "      <td>[]</td>\n",
       "      <td>NaN</td>\n",
       "      <td>NaN</td>\n",
       "    </tr>\n",
       "  </tbody>\n",
       "</table>\n",
       "</div>"
      ],
      "text/plain": [
       "        user_id         user_key    created_at          created_str  \\\n",
       "0  1.868981e+09    ryanmaxwell_1  1.458672e+12  2016-03-22 18:31:42   \n",
       "1  2.571870e+09  detroitdailynew  1.476133e+12  2016-10-10 20:57:00   \n",
       "2  1.710805e+09       cookncooks  1.487767e+12  2017-02-22 12:43:43   \n",
       "3  2.584153e+09     queenofthewo  1.482765e+12  2016-12-26 15:06:41   \n",
       "4  1.768260e+09     mrclydepratt  1.501987e+12  2017-08-06 02:36:24   \n",
       "\n",
       "   retweet_count retweeted  favorite_count  \\\n",
       "0            NaN       NaN             NaN   \n",
       "1            0.0     False             0.0   \n",
       "2            NaN       NaN             NaN   \n",
       "3            NaN       NaN             NaN   \n",
       "4            NaN       NaN             NaN   \n",
       "\n",
       "                                                text      tweet_id  \\\n",
       "0  #IslamKills Are you trying to say that there w...  7.123460e+17   \n",
       "1  Clinton: Trump should’ve apologized more, atta...  7.855849e+17   \n",
       "2  RT @ltapoll: Who was/is the best president of ...  8.343832e+17   \n",
       "3  RT @jww372: I don't have to guess your religio...  8.134006e+17   \n",
       "4  RT @Shareblue: Pence and his lawyers decided w...  8.940243e+17   \n",
       "\n",
       "                                              source                hashtags  \\\n",
       "0                                                NaN          [\"IslamKills\"]   \n",
       "1  <a href=\"http://twitterfeed.com\" rel=\"nofollow...                      []   \n",
       "2                                                NaN                      []   \n",
       "3                                                NaN  [\"ChristmasAftermath\"]   \n",
       "4                                                NaN                      []   \n",
       "\n",
       "                 expanded_urls  posted mentions  retweeted_status_id  \\\n",
       "0                           []  POSTED       []                  NaN   \n",
       "1  [\"http://detne.ws/2e172jF\"]  POSTED       []                  NaN   \n",
       "2                           []  POSTED       []                  NaN   \n",
       "3                           []  POSTED       []                  NaN   \n",
       "4                           []  POSTED       []                  NaN   \n",
       "\n",
       "   in_reply_to_status_id  \n",
       "0                    NaN  \n",
       "1                    NaN  \n",
       "2                    NaN  \n",
       "3                    NaN  \n",
       "4                    NaN  "
      ]
     },
     "execution_count": 14,
     "metadata": {},
     "output_type": "execute_result"
    }
   ],
   "source": [
    "text = pd.read_csv('../data_files/tweets.csv.zip')\n",
    "text.head()"
   ]
  },
  {
   "cell_type": "code",
   "execution_count": 15,
   "metadata": {
    "ExecuteTime": {
     "end_time": "2020-11-10T00:43:26.439125Z",
     "start_time": "2020-11-10T00:43:26.430548Z"
    }
   },
   "outputs": [],
   "source": [
    "lda_df['handle'] = text['user_key']\n",
    "lda_df['datetime'] = text['created_str']\n",
    "lda_df['tweet'] = text['text']"
   ]
  },
  {
   "cell_type": "code",
   "execution_count": 16,
   "metadata": {
    "ExecuteTime": {
     "end_time": "2020-11-10T00:43:26.451507Z",
     "start_time": "2020-11-10T00:43:26.440541Z"
    },
    "scrolled": true
   },
   "outputs": [
    {
     "data": {
      "text/html": [
       "<div>\n",
       "<style scoped>\n",
       "    .dataframe tbody tr th:only-of-type {\n",
       "        vertical-align: middle;\n",
       "    }\n",
       "\n",
       "    .dataframe tbody tr th {\n",
       "        vertical-align: top;\n",
       "    }\n",
       "\n",
       "    .dataframe thead th {\n",
       "        text-align: right;\n",
       "    }\n",
       "</style>\n",
       "<table border=\"1\" class=\"dataframe\">\n",
       "  <thead>\n",
       "    <tr style=\"text-align: right;\">\n",
       "      <th></th>\n",
       "      <th>news</th>\n",
       "      <th>conservative</th>\n",
       "      <th>general_twitter</th>\n",
       "      <th>trump</th>\n",
       "      <th>violence</th>\n",
       "      <th>clinton</th>\n",
       "      <th>label</th>\n",
       "      <th>handle</th>\n",
       "      <th>datetime</th>\n",
       "      <th>tweet</th>\n",
       "    </tr>\n",
       "  </thead>\n",
       "  <tbody>\n",
       "    <tr>\n",
       "      <th>0</th>\n",
       "      <td>0.016686</td>\n",
       "      <td>0.016719</td>\n",
       "      <td>0.016763</td>\n",
       "      <td>0.016878</td>\n",
       "      <td>0.916224</td>\n",
       "      <td>0.016730</td>\n",
       "      <td>violence</td>\n",
       "      <td>ryanmaxwell_1</td>\n",
       "      <td>2016-03-22 18:31:42</td>\n",
       "      <td>#IslamKills Are you trying to say that there w...</td>\n",
       "    </tr>\n",
       "    <tr>\n",
       "      <th>1</th>\n",
       "      <td>0.027843</td>\n",
       "      <td>0.027852</td>\n",
       "      <td>0.028075</td>\n",
       "      <td>0.859967</td>\n",
       "      <td>0.028114</td>\n",
       "      <td>0.028149</td>\n",
       "      <td>trump</td>\n",
       "      <td>detroitdailynew</td>\n",
       "      <td>2016-10-10 20:57:00</td>\n",
       "      <td>Clinton: Trump should’ve apologized more, atta...</td>\n",
       "    </tr>\n",
       "    <tr>\n",
       "      <th>2</th>\n",
       "      <td>0.041671</td>\n",
       "      <td>0.041878</td>\n",
       "      <td>0.042318</td>\n",
       "      <td>0.790626</td>\n",
       "      <td>0.041722</td>\n",
       "      <td>0.041784</td>\n",
       "      <td>trump</td>\n",
       "      <td>cookncooks</td>\n",
       "      <td>2017-02-22 12:43:43</td>\n",
       "      <td>RT @ltapoll: Who was/is the best president of ...</td>\n",
       "    </tr>\n",
       "    <tr>\n",
       "      <th>3</th>\n",
       "      <td>0.041698</td>\n",
       "      <td>0.041748</td>\n",
       "      <td>0.042370</td>\n",
       "      <td>0.041795</td>\n",
       "      <td>0.789994</td>\n",
       "      <td>0.042395</td>\n",
       "      <td>violence</td>\n",
       "      <td>queenofthewo</td>\n",
       "      <td>2016-12-26 15:06:41</td>\n",
       "      <td>RT @jww372: I don't have to guess your religio...</td>\n",
       "    </tr>\n",
       "    <tr>\n",
       "      <th>4</th>\n",
       "      <td>0.024031</td>\n",
       "      <td>0.023984</td>\n",
       "      <td>0.023932</td>\n",
       "      <td>0.279995</td>\n",
       "      <td>0.023941</td>\n",
       "      <td>0.624117</td>\n",
       "      <td>clinton</td>\n",
       "      <td>mrclydepratt</td>\n",
       "      <td>2017-08-06 02:36:24</td>\n",
       "      <td>RT @Shareblue: Pence and his lawyers decided w...</td>\n",
       "    </tr>\n",
       "  </tbody>\n",
       "</table>\n",
       "</div>"
      ],
      "text/plain": [
       "       news  conservative  general_twitter     trump  violence   clinton  \\\n",
       "0  0.016686      0.016719         0.016763  0.016878  0.916224  0.016730   \n",
       "1  0.027843      0.027852         0.028075  0.859967  0.028114  0.028149   \n",
       "2  0.041671      0.041878         0.042318  0.790626  0.041722  0.041784   \n",
       "3  0.041698      0.041748         0.042370  0.041795  0.789994  0.042395   \n",
       "4  0.024031      0.023984         0.023932  0.279995  0.023941  0.624117   \n",
       "\n",
       "      label           handle             datetime  \\\n",
       "0  violence    ryanmaxwell_1  2016-03-22 18:31:42   \n",
       "1     trump  detroitdailynew  2016-10-10 20:57:00   \n",
       "2     trump       cookncooks  2017-02-22 12:43:43   \n",
       "3  violence     queenofthewo  2016-12-26 15:06:41   \n",
       "4   clinton     mrclydepratt  2017-08-06 02:36:24   \n",
       "\n",
       "                                               tweet  \n",
       "0  #IslamKills Are you trying to say that there w...  \n",
       "1  Clinton: Trump should’ve apologized more, atta...  \n",
       "2  RT @ltapoll: Who was/is the best president of ...  \n",
       "3  RT @jww372: I don't have to guess your religio...  \n",
       "4  RT @Shareblue: Pence and his lawyers decided w...  "
      ]
     },
     "execution_count": 16,
     "metadata": {},
     "output_type": "execute_result"
    }
   ],
   "source": [
    "lda_df.head()"
   ]
  },
  {
   "cell_type": "code",
   "execution_count": 17,
   "metadata": {
    "ExecuteTime": {
     "end_time": "2020-11-10T00:43:26.486697Z",
     "start_time": "2020-11-10T00:43:26.452918Z"
    }
   },
   "outputs": [],
   "source": [
    "dt_df = lda_df[['handle', 'datetime', 'tweet', 'label', \n",
    "               'trump', 'clinton', 'conservative', 'violence', 'news', 'general_twitter']] "
   ]
  },
  {
   "cell_type": "code",
   "execution_count": 18,
   "metadata": {
    "ExecuteTime": {
     "end_time": "2020-11-10T00:43:26.504291Z",
     "start_time": "2020-11-10T00:43:26.488431Z"
    }
   },
   "outputs": [
    {
     "data": {
      "text/html": [
       "<div>\n",
       "<style scoped>\n",
       "    .dataframe tbody tr th:only-of-type {\n",
       "        vertical-align: middle;\n",
       "    }\n",
       "\n",
       "    .dataframe tbody tr th {\n",
       "        vertical-align: top;\n",
       "    }\n",
       "\n",
       "    .dataframe thead th {\n",
       "        text-align: right;\n",
       "    }\n",
       "</style>\n",
       "<table border=\"1\" class=\"dataframe\">\n",
       "  <thead>\n",
       "    <tr style=\"text-align: right;\">\n",
       "      <th></th>\n",
       "      <th>handle</th>\n",
       "      <th>datetime</th>\n",
       "      <th>tweet</th>\n",
       "      <th>label</th>\n",
       "      <th>trump</th>\n",
       "      <th>clinton</th>\n",
       "      <th>conservative</th>\n",
       "      <th>violence</th>\n",
       "      <th>news</th>\n",
       "      <th>general_twitter</th>\n",
       "    </tr>\n",
       "  </thead>\n",
       "  <tbody>\n",
       "    <tr>\n",
       "      <th>0</th>\n",
       "      <td>ryanmaxwell_1</td>\n",
       "      <td>2016-03-22 18:31:42</td>\n",
       "      <td>#IslamKills Are you trying to say that there w...</td>\n",
       "      <td>violence</td>\n",
       "      <td>0.016878</td>\n",
       "      <td>0.016730</td>\n",
       "      <td>0.016719</td>\n",
       "      <td>0.916224</td>\n",
       "      <td>0.016686</td>\n",
       "      <td>0.016763</td>\n",
       "    </tr>\n",
       "    <tr>\n",
       "      <th>1</th>\n",
       "      <td>detroitdailynew</td>\n",
       "      <td>2016-10-10 20:57:00</td>\n",
       "      <td>Clinton: Trump should’ve apologized more, atta...</td>\n",
       "      <td>trump</td>\n",
       "      <td>0.859967</td>\n",
       "      <td>0.028149</td>\n",
       "      <td>0.027852</td>\n",
       "      <td>0.028114</td>\n",
       "      <td>0.027843</td>\n",
       "      <td>0.028075</td>\n",
       "    </tr>\n",
       "    <tr>\n",
       "      <th>2</th>\n",
       "      <td>cookncooks</td>\n",
       "      <td>2017-02-22 12:43:43</td>\n",
       "      <td>RT @ltapoll: Who was/is the best president of ...</td>\n",
       "      <td>trump</td>\n",
       "      <td>0.790626</td>\n",
       "      <td>0.041784</td>\n",
       "      <td>0.041878</td>\n",
       "      <td>0.041722</td>\n",
       "      <td>0.041671</td>\n",
       "      <td>0.042318</td>\n",
       "    </tr>\n",
       "    <tr>\n",
       "      <th>3</th>\n",
       "      <td>queenofthewo</td>\n",
       "      <td>2016-12-26 15:06:41</td>\n",
       "      <td>RT @jww372: I don't have to guess your religio...</td>\n",
       "      <td>violence</td>\n",
       "      <td>0.041795</td>\n",
       "      <td>0.042395</td>\n",
       "      <td>0.041748</td>\n",
       "      <td>0.789994</td>\n",
       "      <td>0.041698</td>\n",
       "      <td>0.042370</td>\n",
       "    </tr>\n",
       "    <tr>\n",
       "      <th>4</th>\n",
       "      <td>mrclydepratt</td>\n",
       "      <td>2017-08-06 02:36:24</td>\n",
       "      <td>RT @Shareblue: Pence and his lawyers decided w...</td>\n",
       "      <td>clinton</td>\n",
       "      <td>0.279995</td>\n",
       "      <td>0.624117</td>\n",
       "      <td>0.023984</td>\n",
       "      <td>0.023941</td>\n",
       "      <td>0.024031</td>\n",
       "      <td>0.023932</td>\n",
       "    </tr>\n",
       "    <tr>\n",
       "      <th>...</th>\n",
       "      <td>...</td>\n",
       "      <td>...</td>\n",
       "      <td>...</td>\n",
       "      <td>...</td>\n",
       "      <td>...</td>\n",
       "      <td>...</td>\n",
       "      <td>...</td>\n",
       "      <td>...</td>\n",
       "      <td>...</td>\n",
       "      <td>...</td>\n",
       "    </tr>\n",
       "    <tr>\n",
       "      <th>203477</th>\n",
       "      <td>nojonathonno</td>\n",
       "      <td>2016-11-01 12:13:06</td>\n",
       "      <td>RT @AndreaChalupa: In intel circles, the story...</td>\n",
       "      <td>clinton</td>\n",
       "      <td>0.012089</td>\n",
       "      <td>0.940005</td>\n",
       "      <td>0.011954</td>\n",
       "      <td>0.012005</td>\n",
       "      <td>0.011966</td>\n",
       "      <td>0.011982</td>\n",
       "    </tr>\n",
       "    <tr>\n",
       "      <th>203478</th>\n",
       "      <td>judelambertusa</td>\n",
       "      <td>2015-06-18 01:04:35</td>\n",
       "      <td>RT @KansasCityDNews: Tonganoxie police: Middle...</td>\n",
       "      <td>violence</td>\n",
       "      <td>0.016794</td>\n",
       "      <td>0.016785</td>\n",
       "      <td>0.016877</td>\n",
       "      <td>0.916045</td>\n",
       "      <td>0.016775</td>\n",
       "      <td>0.016724</td>\n",
       "    </tr>\n",
       "    <tr>\n",
       "      <th>203479</th>\n",
       "      <td>patriotblake</td>\n",
       "      <td>2017-01-10 18:50:48</td>\n",
       "      <td>RT @signsinyork: Getting the right #company lo...</td>\n",
       "      <td>general_twitter</td>\n",
       "      <td>0.023939</td>\n",
       "      <td>0.023944</td>\n",
       "      <td>0.023850</td>\n",
       "      <td>0.023858</td>\n",
       "      <td>0.023837</td>\n",
       "      <td>0.880573</td>\n",
       "    </tr>\n",
       "    <tr>\n",
       "      <th>203480</th>\n",
       "      <td>dailysandiego</td>\n",
       "      <td>2016-11-20 21:49:07</td>\n",
       "      <td>The Latest: Obama affirms continuity of ties w...</td>\n",
       "      <td>violence</td>\n",
       "      <td>0.024039</td>\n",
       "      <td>0.357887</td>\n",
       "      <td>0.024263</td>\n",
       "      <td>0.545547</td>\n",
       "      <td>0.023971</td>\n",
       "      <td>0.024293</td>\n",
       "    </tr>\n",
       "    <tr>\n",
       "      <th>203481</th>\n",
       "      <td>willisbonnerr</td>\n",
       "      <td>2016-12-19 23:00:17</td>\n",
       "      <td>RT @futureguru100: U cant just Upload a CD onl...</td>\n",
       "      <td>general_twitter</td>\n",
       "      <td>0.018806</td>\n",
       "      <td>0.018548</td>\n",
       "      <td>0.018837</td>\n",
       "      <td>0.018663</td>\n",
       "      <td>0.018623</td>\n",
       "      <td>0.906523</td>\n",
       "    </tr>\n",
       "  </tbody>\n",
       "</table>\n",
       "<p>203482 rows × 10 columns</p>\n",
       "</div>"
      ],
      "text/plain": [
       "                 handle             datetime  \\\n",
       "0         ryanmaxwell_1  2016-03-22 18:31:42   \n",
       "1       detroitdailynew  2016-10-10 20:57:00   \n",
       "2            cookncooks  2017-02-22 12:43:43   \n",
       "3          queenofthewo  2016-12-26 15:06:41   \n",
       "4          mrclydepratt  2017-08-06 02:36:24   \n",
       "...                 ...                  ...   \n",
       "203477     nojonathonno  2016-11-01 12:13:06   \n",
       "203478   judelambertusa  2015-06-18 01:04:35   \n",
       "203479     patriotblake  2017-01-10 18:50:48   \n",
       "203480    dailysandiego  2016-11-20 21:49:07   \n",
       "203481    willisbonnerr  2016-12-19 23:00:17   \n",
       "\n",
       "                                                    tweet            label  \\\n",
       "0       #IslamKills Are you trying to say that there w...         violence   \n",
       "1       Clinton: Trump should’ve apologized more, atta...            trump   \n",
       "2       RT @ltapoll: Who was/is the best president of ...            trump   \n",
       "3       RT @jww372: I don't have to guess your religio...         violence   \n",
       "4       RT @Shareblue: Pence and his lawyers decided w...          clinton   \n",
       "...                                                   ...              ...   \n",
       "203477  RT @AndreaChalupa: In intel circles, the story...          clinton   \n",
       "203478  RT @KansasCityDNews: Tonganoxie police: Middle...         violence   \n",
       "203479  RT @signsinyork: Getting the right #company lo...  general_twitter   \n",
       "203480  The Latest: Obama affirms continuity of ties w...         violence   \n",
       "203481  RT @futureguru100: U cant just Upload a CD onl...  general_twitter   \n",
       "\n",
       "           trump   clinton  conservative  violence      news  general_twitter  \n",
       "0       0.016878  0.016730      0.016719  0.916224  0.016686         0.016763  \n",
       "1       0.859967  0.028149      0.027852  0.028114  0.027843         0.028075  \n",
       "2       0.790626  0.041784      0.041878  0.041722  0.041671         0.042318  \n",
       "3       0.041795  0.042395      0.041748  0.789994  0.041698         0.042370  \n",
       "4       0.279995  0.624117      0.023984  0.023941  0.024031         0.023932  \n",
       "...          ...       ...           ...       ...       ...              ...  \n",
       "203477  0.012089  0.940005      0.011954  0.012005  0.011966         0.011982  \n",
       "203478  0.016794  0.016785      0.016877  0.916045  0.016775         0.016724  \n",
       "203479  0.023939  0.023944      0.023850  0.023858  0.023837         0.880573  \n",
       "203480  0.024039  0.357887      0.024263  0.545547  0.023971         0.024293  \n",
       "203481  0.018806  0.018548      0.018837  0.018663  0.018623         0.906523  \n",
       "\n",
       "[203482 rows x 10 columns]"
      ]
     },
     "execution_count": 18,
     "metadata": {},
     "output_type": "execute_result"
    }
   ],
   "source": [
    "dt_df"
   ]
  },
  {
   "cell_type": "code",
   "execution_count": 19,
   "metadata": {
    "ExecuteTime": {
     "end_time": "2020-11-10T00:43:26.521808Z",
     "start_time": "2020-11-10T00:43:26.505985Z"
    }
   },
   "outputs": [
    {
     "name": "stdout",
     "output_type": "stream",
     "text": [
      "Number of unique accounts: 454\n"
     ]
    }
   ],
   "source": [
    "print(f'Number of unique accounts: {len(dt_df.handle.unique())}')"
   ]
  },
  {
   "cell_type": "code",
   "execution_count": 20,
   "metadata": {
    "ExecuteTime": {
     "end_time": "2020-11-10T00:43:26.576913Z",
     "start_time": "2020-11-10T00:43:26.523200Z"
    }
   },
   "outputs": [],
   "source": [
    "dt_df['datetime'] = pd.to_datetime(dt_df['datetime'])"
   ]
  },
  {
   "cell_type": "code",
   "execution_count": 21,
   "metadata": {
    "ExecuteTime": {
     "end_time": "2020-11-10T00:43:27.528729Z",
     "start_time": "2020-11-10T00:43:26.578678Z"
    }
   },
   "outputs": [],
   "source": [
    "dt_df['month'] = dt_df['datetime'].dt.strftime('%Y-%m')"
   ]
  },
  {
   "cell_type": "code",
   "execution_count": 22,
   "metadata": {
    "ExecuteTime": {
     "end_time": "2020-11-10T00:43:27.541939Z",
     "start_time": "2020-11-10T00:43:27.530180Z"
    }
   },
   "outputs": [
    {
     "data": {
      "text/html": [
       "<div>\n",
       "<style scoped>\n",
       "    .dataframe tbody tr th:only-of-type {\n",
       "        vertical-align: middle;\n",
       "    }\n",
       "\n",
       "    .dataframe tbody tr th {\n",
       "        vertical-align: top;\n",
       "    }\n",
       "\n",
       "    .dataframe thead th {\n",
       "        text-align: right;\n",
       "    }\n",
       "</style>\n",
       "<table border=\"1\" class=\"dataframe\">\n",
       "  <thead>\n",
       "    <tr style=\"text-align: right;\">\n",
       "      <th></th>\n",
       "      <th>handle</th>\n",
       "      <th>datetime</th>\n",
       "      <th>tweet</th>\n",
       "      <th>label</th>\n",
       "      <th>trump</th>\n",
       "      <th>clinton</th>\n",
       "      <th>conservative</th>\n",
       "      <th>violence</th>\n",
       "      <th>news</th>\n",
       "      <th>general_twitter</th>\n",
       "      <th>month</th>\n",
       "    </tr>\n",
       "  </thead>\n",
       "  <tbody>\n",
       "    <tr>\n",
       "      <th>0</th>\n",
       "      <td>ryanmaxwell_1</td>\n",
       "      <td>2016-03-22 18:31:42</td>\n",
       "      <td>#IslamKills Are you trying to say that there w...</td>\n",
       "      <td>violence</td>\n",
       "      <td>0.016878</td>\n",
       "      <td>0.016730</td>\n",
       "      <td>0.016719</td>\n",
       "      <td>0.916224</td>\n",
       "      <td>0.016686</td>\n",
       "      <td>0.016763</td>\n",
       "      <td>2016-03</td>\n",
       "    </tr>\n",
       "    <tr>\n",
       "      <th>1</th>\n",
       "      <td>detroitdailynew</td>\n",
       "      <td>2016-10-10 20:57:00</td>\n",
       "      <td>Clinton: Trump should’ve apologized more, atta...</td>\n",
       "      <td>trump</td>\n",
       "      <td>0.859967</td>\n",
       "      <td>0.028149</td>\n",
       "      <td>0.027852</td>\n",
       "      <td>0.028114</td>\n",
       "      <td>0.027843</td>\n",
       "      <td>0.028075</td>\n",
       "      <td>2016-10</td>\n",
       "    </tr>\n",
       "    <tr>\n",
       "      <th>2</th>\n",
       "      <td>cookncooks</td>\n",
       "      <td>2017-02-22 12:43:43</td>\n",
       "      <td>RT @ltapoll: Who was/is the best president of ...</td>\n",
       "      <td>trump</td>\n",
       "      <td>0.790626</td>\n",
       "      <td>0.041784</td>\n",
       "      <td>0.041878</td>\n",
       "      <td>0.041722</td>\n",
       "      <td>0.041671</td>\n",
       "      <td>0.042318</td>\n",
       "      <td>2017-02</td>\n",
       "    </tr>\n",
       "    <tr>\n",
       "      <th>3</th>\n",
       "      <td>queenofthewo</td>\n",
       "      <td>2016-12-26 15:06:41</td>\n",
       "      <td>RT @jww372: I don't have to guess your religio...</td>\n",
       "      <td>violence</td>\n",
       "      <td>0.041795</td>\n",
       "      <td>0.042395</td>\n",
       "      <td>0.041748</td>\n",
       "      <td>0.789994</td>\n",
       "      <td>0.041698</td>\n",
       "      <td>0.042370</td>\n",
       "      <td>2016-12</td>\n",
       "    </tr>\n",
       "    <tr>\n",
       "      <th>4</th>\n",
       "      <td>mrclydepratt</td>\n",
       "      <td>2017-08-06 02:36:24</td>\n",
       "      <td>RT @Shareblue: Pence and his lawyers decided w...</td>\n",
       "      <td>clinton</td>\n",
       "      <td>0.279995</td>\n",
       "      <td>0.624117</td>\n",
       "      <td>0.023984</td>\n",
       "      <td>0.023941</td>\n",
       "      <td>0.024031</td>\n",
       "      <td>0.023932</td>\n",
       "      <td>2017-08</td>\n",
       "    </tr>\n",
       "  </tbody>\n",
       "</table>\n",
       "</div>"
      ],
      "text/plain": [
       "            handle            datetime  \\\n",
       "0    ryanmaxwell_1 2016-03-22 18:31:42   \n",
       "1  detroitdailynew 2016-10-10 20:57:00   \n",
       "2       cookncooks 2017-02-22 12:43:43   \n",
       "3     queenofthewo 2016-12-26 15:06:41   \n",
       "4     mrclydepratt 2017-08-06 02:36:24   \n",
       "\n",
       "                                               tweet     label     trump  \\\n",
       "0  #IslamKills Are you trying to say that there w...  violence  0.016878   \n",
       "1  Clinton: Trump should’ve apologized more, atta...     trump  0.859967   \n",
       "2  RT @ltapoll: Who was/is the best president of ...     trump  0.790626   \n",
       "3  RT @jww372: I don't have to guess your religio...  violence  0.041795   \n",
       "4  RT @Shareblue: Pence and his lawyers decided w...   clinton  0.279995   \n",
       "\n",
       "    clinton  conservative  violence      news  general_twitter    month  \n",
       "0  0.016730      0.016719  0.916224  0.016686         0.016763  2016-03  \n",
       "1  0.028149      0.027852  0.028114  0.027843         0.028075  2016-10  \n",
       "2  0.041784      0.041878  0.041722  0.041671         0.042318  2017-02  \n",
       "3  0.042395      0.041748  0.789994  0.041698         0.042370  2016-12  \n",
       "4  0.624117      0.023984  0.023941  0.024031         0.023932  2017-08  "
      ]
     },
     "execution_count": 22,
     "metadata": {},
     "output_type": "execute_result"
    }
   ],
   "source": [
    "dt_df.head()"
   ]
  },
  {
   "cell_type": "code",
   "execution_count": 23,
   "metadata": {
    "ExecuteTime": {
     "end_time": "2020-11-10T00:43:27.714169Z",
     "start_time": "2020-11-10T00:43:27.543368Z"
    }
   },
   "outputs": [
    {
     "data": {
      "image/png": "[encoded data removed]",
      "text/plain": [
       "<Figure size 576x432 with 1 Axes>"
      ]
     },
     "metadata": {
      "needs_background": "light"
     },
     "output_type": "display_data"
    }
   ],
   "source": [
    "plt.figure(figsize=(8, 6))\n",
    "dt_df['label'].value_counts(ascending=False).plot(kind='barh', color='#4e79a7')\n",
    "plt.title('Topic Frequency', fontsize=14)\n",
    "sns.despine();"
   ]
  },
  {
   "cell_type": "code",
   "execution_count": null,
   "metadata": {},
   "outputs": [],
   "source": []
  },
  {
   "cell_type": "code",
   "execution_count": null,
   "metadata": {},
   "outputs": [],
   "source": []
  },
  {
   "cell_type": "code",
   "execution_count": 24,
   "metadata": {
    "ExecuteTime": {
     "end_time": "2020-11-10T00:43:27.754971Z",
     "start_time": "2020-11-10T00:43:27.715829Z"
    }
   },
   "outputs": [],
   "source": [
    "date_freq = dt_df.groupby(['month', 'label']).size().unstack().reset_index()"
   ]
  },
  {
   "cell_type": "code",
   "execution_count": 25,
   "metadata": {
    "ExecuteTime": {
     "end_time": "2020-11-10T00:43:27.761092Z",
     "start_time": "2020-11-10T00:43:27.756715Z"
    }
   },
   "outputs": [],
   "source": [
    "date_freq.fillna(0, inplace=True)\n",
    "date_freq['total'] = date_freq.sum(axis=1)"
   ]
  },
  {
   "cell_type": "code",
   "execution_count": 26,
   "metadata": {
    "ExecuteTime": {
     "end_time": "2020-11-10T00:43:27.784103Z",
     "start_time": "2020-11-10T00:43:27.763066Z"
    }
   },
   "outputs": [
    {
     "data": {
      "text/html": [
       "<div>\n",
       "<style scoped>\n",
       "    .dataframe tbody tr th:only-of-type {\n",
       "        vertical-align: middle;\n",
       "    }\n",
       "\n",
       "    .dataframe tbody tr th {\n",
       "        vertical-align: top;\n",
       "    }\n",
       "\n",
       "    .dataframe thead th {\n",
       "        text-align: right;\n",
       "    }\n",
       "</style>\n",
       "<table border=\"1\" class=\"dataframe\">\n",
       "  <thead>\n",
       "    <tr style=\"text-align: right;\">\n",
       "      <th>label</th>\n",
       "      <th>month</th>\n",
       "      <th>clinton</th>\n",
       "      <th>conservative</th>\n",
       "      <th>general_twitter</th>\n",
       "      <th>news</th>\n",
       "      <th>trump</th>\n",
       "      <th>violence</th>\n",
       "      <th>total</th>\n",
       "    </tr>\n",
       "  </thead>\n",
       "  <tbody>\n",
       "    <tr>\n",
       "      <th>0</th>\n",
       "      <td>2014-07</td>\n",
       "      <td>0.0</td>\n",
       "      <td>2.0</td>\n",
       "      <td>8.0</td>\n",
       "      <td>0.0</td>\n",
       "      <td>0.0</td>\n",
       "      <td>2.0</td>\n",
       "      <td>12.0</td>\n",
       "    </tr>\n",
       "    <tr>\n",
       "      <th>1</th>\n",
       "      <td>2014-08</td>\n",
       "      <td>0.0</td>\n",
       "      <td>1.0</td>\n",
       "      <td>0.0</td>\n",
       "      <td>0.0</td>\n",
       "      <td>0.0</td>\n",
       "      <td>0.0</td>\n",
       "      <td>1.0</td>\n",
       "    </tr>\n",
       "    <tr>\n",
       "      <th>2</th>\n",
       "      <td>2014-09</td>\n",
       "      <td>1.0</td>\n",
       "      <td>0.0</td>\n",
       "      <td>0.0</td>\n",
       "      <td>0.0</td>\n",
       "      <td>0.0</td>\n",
       "      <td>0.0</td>\n",
       "      <td>1.0</td>\n",
       "    </tr>\n",
       "    <tr>\n",
       "      <th>3</th>\n",
       "      <td>2014-11</td>\n",
       "      <td>23.0</td>\n",
       "      <td>53.0</td>\n",
       "      <td>185.0</td>\n",
       "      <td>29.0</td>\n",
       "      <td>40.0</td>\n",
       "      <td>58.0</td>\n",
       "      <td>388.0</td>\n",
       "    </tr>\n",
       "    <tr>\n",
       "      <th>4</th>\n",
       "      <td>2014-12</td>\n",
       "      <td>20.0</td>\n",
       "      <td>55.0</td>\n",
       "      <td>231.0</td>\n",
       "      <td>40.0</td>\n",
       "      <td>40.0</td>\n",
       "      <td>56.0</td>\n",
       "      <td>442.0</td>\n",
       "    </tr>\n",
       "    <tr>\n",
       "      <th>5</th>\n",
       "      <td>2015-01</td>\n",
       "      <td>143.0</td>\n",
       "      <td>244.0</td>\n",
       "      <td>1107.0</td>\n",
       "      <td>178.0</td>\n",
       "      <td>154.0</td>\n",
       "      <td>365.0</td>\n",
       "      <td>2191.0</td>\n",
       "    </tr>\n",
       "    <tr>\n",
       "      <th>6</th>\n",
       "      <td>2015-02</td>\n",
       "      <td>179.0</td>\n",
       "      <td>246.0</td>\n",
       "      <td>949.0</td>\n",
       "      <td>182.0</td>\n",
       "      <td>188.0</td>\n",
       "      <td>347.0</td>\n",
       "      <td>2091.0</td>\n",
       "    </tr>\n",
       "    <tr>\n",
       "      <th>7</th>\n",
       "      <td>2015-03</td>\n",
       "      <td>241.0</td>\n",
       "      <td>258.0</td>\n",
       "      <td>948.0</td>\n",
       "      <td>304.0</td>\n",
       "      <td>168.0</td>\n",
       "      <td>406.0</td>\n",
       "      <td>2325.0</td>\n",
       "    </tr>\n",
       "    <tr>\n",
       "      <th>8</th>\n",
       "      <td>2015-04</td>\n",
       "      <td>264.0</td>\n",
       "      <td>277.0</td>\n",
       "      <td>690.0</td>\n",
       "      <td>266.0</td>\n",
       "      <td>213.0</td>\n",
       "      <td>540.0</td>\n",
       "      <td>2250.0</td>\n",
       "    </tr>\n",
       "    <tr>\n",
       "      <th>9</th>\n",
       "      <td>2015-05</td>\n",
       "      <td>262.0</td>\n",
       "      <td>317.0</td>\n",
       "      <td>456.0</td>\n",
       "      <td>240.0</td>\n",
       "      <td>180.0</td>\n",
       "      <td>445.0</td>\n",
       "      <td>1900.0</td>\n",
       "    </tr>\n",
       "    <tr>\n",
       "      <th>10</th>\n",
       "      <td>2015-06</td>\n",
       "      <td>565.0</td>\n",
       "      <td>506.0</td>\n",
       "      <td>552.0</td>\n",
       "      <td>514.0</td>\n",
       "      <td>470.0</td>\n",
       "      <td>1004.0</td>\n",
       "      <td>3611.0</td>\n",
       "    </tr>\n",
       "    <tr>\n",
       "      <th>11</th>\n",
       "      <td>2015-07</td>\n",
       "      <td>228.0</td>\n",
       "      <td>270.0</td>\n",
       "      <td>300.0</td>\n",
       "      <td>284.0</td>\n",
       "      <td>182.0</td>\n",
       "      <td>433.0</td>\n",
       "      <td>1697.0</td>\n",
       "    </tr>\n",
       "    <tr>\n",
       "      <th>12</th>\n",
       "      <td>2015-08</td>\n",
       "      <td>136.0</td>\n",
       "      <td>74.0</td>\n",
       "      <td>149.0</td>\n",
       "      <td>148.0</td>\n",
       "      <td>332.0</td>\n",
       "      <td>177.0</td>\n",
       "      <td>1016.0</td>\n",
       "    </tr>\n",
       "    <tr>\n",
       "      <th>13</th>\n",
       "      <td>2015-09</td>\n",
       "      <td>36.0</td>\n",
       "      <td>27.0</td>\n",
       "      <td>74.0</td>\n",
       "      <td>14.0</td>\n",
       "      <td>76.0</td>\n",
       "      <td>98.0</td>\n",
       "      <td>325.0</td>\n",
       "    </tr>\n",
       "    <tr>\n",
       "      <th>14</th>\n",
       "      <td>2015-10</td>\n",
       "      <td>163.0</td>\n",
       "      <td>202.0</td>\n",
       "      <td>185.0</td>\n",
       "      <td>112.0</td>\n",
       "      <td>142.0</td>\n",
       "      <td>266.0</td>\n",
       "      <td>1070.0</td>\n",
       "    </tr>\n",
       "    <tr>\n",
       "      <th>15</th>\n",
       "      <td>2015-11</td>\n",
       "      <td>128.0</td>\n",
       "      <td>110.0</td>\n",
       "      <td>109.0</td>\n",
       "      <td>170.0</td>\n",
       "      <td>237.0</td>\n",
       "      <td>217.0</td>\n",
       "      <td>971.0</td>\n",
       "    </tr>\n",
       "    <tr>\n",
       "      <th>16</th>\n",
       "      <td>2015-12</td>\n",
       "      <td>476.0</td>\n",
       "      <td>693.0</td>\n",
       "      <td>538.0</td>\n",
       "      <td>394.0</td>\n",
       "      <td>688.0</td>\n",
       "      <td>1160.0</td>\n",
       "      <td>3949.0</td>\n",
       "    </tr>\n",
       "    <tr>\n",
       "      <th>17</th>\n",
       "      <td>2016-01</td>\n",
       "      <td>217.0</td>\n",
       "      <td>316.0</td>\n",
       "      <td>266.0</td>\n",
       "      <td>187.0</td>\n",
       "      <td>404.0</td>\n",
       "      <td>359.0</td>\n",
       "      <td>1749.0</td>\n",
       "    </tr>\n",
       "    <tr>\n",
       "      <th>18</th>\n",
       "      <td>2016-02</td>\n",
       "      <td>775.0</td>\n",
       "      <td>1531.0</td>\n",
       "      <td>534.0</td>\n",
       "      <td>495.0</td>\n",
       "      <td>922.0</td>\n",
       "      <td>935.0</td>\n",
       "      <td>5192.0</td>\n",
       "    </tr>\n",
       "    <tr>\n",
       "      <th>19</th>\n",
       "      <td>2016-03</td>\n",
       "      <td>542.0</td>\n",
       "      <td>566.0</td>\n",
       "      <td>363.0</td>\n",
       "      <td>241.0</td>\n",
       "      <td>914.0</td>\n",
       "      <td>1166.0</td>\n",
       "      <td>3792.0</td>\n",
       "    </tr>\n",
       "    <tr>\n",
       "      <th>20</th>\n",
       "      <td>2016-04</td>\n",
       "      <td>36.0</td>\n",
       "      <td>53.0</td>\n",
       "      <td>121.0</td>\n",
       "      <td>47.0</td>\n",
       "      <td>90.0</td>\n",
       "      <td>96.0</td>\n",
       "      <td>443.0</td>\n",
       "    </tr>\n",
       "    <tr>\n",
       "      <th>21</th>\n",
       "      <td>2016-05</td>\n",
       "      <td>136.0</td>\n",
       "      <td>530.0</td>\n",
       "      <td>315.0</td>\n",
       "      <td>153.0</td>\n",
       "      <td>298.0</td>\n",
       "      <td>510.0</td>\n",
       "      <td>1942.0</td>\n",
       "    </tr>\n",
       "    <tr>\n",
       "      <th>22</th>\n",
       "      <td>2016-06</td>\n",
       "      <td>105.0</td>\n",
       "      <td>163.0</td>\n",
       "      <td>151.0</td>\n",
       "      <td>93.0</td>\n",
       "      <td>243.0</td>\n",
       "      <td>292.0</td>\n",
       "      <td>1047.0</td>\n",
       "    </tr>\n",
       "    <tr>\n",
       "      <th>23</th>\n",
       "      <td>2016-07</td>\n",
       "      <td>1358.0</td>\n",
       "      <td>590.0</td>\n",
       "      <td>520.0</td>\n",
       "      <td>1885.0</td>\n",
       "      <td>2066.0</td>\n",
       "      <td>859.0</td>\n",
       "      <td>7278.0</td>\n",
       "    </tr>\n",
       "    <tr>\n",
       "      <th>24</th>\n",
       "      <td>2016-08</td>\n",
       "      <td>1997.0</td>\n",
       "      <td>1427.0</td>\n",
       "      <td>2009.0</td>\n",
       "      <td>1097.0</td>\n",
       "      <td>3738.0</td>\n",
       "      <td>1400.0</td>\n",
       "      <td>11668.0</td>\n",
       "    </tr>\n",
       "    <tr>\n",
       "      <th>25</th>\n",
       "      <td>2016-09</td>\n",
       "      <td>5343.0</td>\n",
       "      <td>2586.0</td>\n",
       "      <td>3149.0</td>\n",
       "      <td>2102.0</td>\n",
       "      <td>9470.0</td>\n",
       "      <td>2998.0</td>\n",
       "      <td>25648.0</td>\n",
       "    </tr>\n",
       "    <tr>\n",
       "      <th>26</th>\n",
       "      <td>2016-10</td>\n",
       "      <td>5439.0</td>\n",
       "      <td>2989.0</td>\n",
       "      <td>4576.0</td>\n",
       "      <td>2987.0</td>\n",
       "      <td>9212.0</td>\n",
       "      <td>2780.0</td>\n",
       "      <td>27983.0</td>\n",
       "    </tr>\n",
       "    <tr>\n",
       "      <th>27</th>\n",
       "      <td>2016-11</td>\n",
       "      <td>2827.0</td>\n",
       "      <td>2472.0</td>\n",
       "      <td>4813.0</td>\n",
       "      <td>1947.0</td>\n",
       "      <td>7155.0</td>\n",
       "      <td>2591.0</td>\n",
       "      <td>21805.0</td>\n",
       "    </tr>\n",
       "    <tr>\n",
       "      <th>28</th>\n",
       "      <td>2016-12</td>\n",
       "      <td>2454.0</td>\n",
       "      <td>2481.0</td>\n",
       "      <td>5923.0</td>\n",
       "      <td>2241.0</td>\n",
       "      <td>3430.0</td>\n",
       "      <td>3436.0</td>\n",
       "      <td>19965.0</td>\n",
       "    </tr>\n",
       "    <tr>\n",
       "      <th>29</th>\n",
       "      <td>2017-01</td>\n",
       "      <td>2700.0</td>\n",
       "      <td>2624.0</td>\n",
       "      <td>5206.0</td>\n",
       "      <td>2403.0</td>\n",
       "      <td>4023.0</td>\n",
       "      <td>4111.0</td>\n",
       "      <td>21067.0</td>\n",
       "    </tr>\n",
       "    <tr>\n",
       "      <th>30</th>\n",
       "      <td>2017-02</td>\n",
       "      <td>1218.0</td>\n",
       "      <td>1248.0</td>\n",
       "      <td>2376.0</td>\n",
       "      <td>1316.0</td>\n",
       "      <td>1937.0</td>\n",
       "      <td>2056.0</td>\n",
       "      <td>10151.0</td>\n",
       "    </tr>\n",
       "    <tr>\n",
       "      <th>31</th>\n",
       "      <td>2017-03</td>\n",
       "      <td>1115.0</td>\n",
       "      <td>1077.0</td>\n",
       "      <td>1713.0</td>\n",
       "      <td>1119.0</td>\n",
       "      <td>1340.0</td>\n",
       "      <td>1822.0</td>\n",
       "      <td>8186.0</td>\n",
       "    </tr>\n",
       "    <tr>\n",
       "      <th>32</th>\n",
       "      <td>2017-04</td>\n",
       "      <td>479.0</td>\n",
       "      <td>457.0</td>\n",
       "      <td>1549.0</td>\n",
       "      <td>542.0</td>\n",
       "      <td>438.0</td>\n",
       "      <td>1126.0</td>\n",
       "      <td>4591.0</td>\n",
       "    </tr>\n",
       "    <tr>\n",
       "      <th>33</th>\n",
       "      <td>2017-05</td>\n",
       "      <td>41.0</td>\n",
       "      <td>62.0</td>\n",
       "      <td>238.0</td>\n",
       "      <td>113.0</td>\n",
       "      <td>58.0</td>\n",
       "      <td>126.0</td>\n",
       "      <td>638.0</td>\n",
       "    </tr>\n",
       "    <tr>\n",
       "      <th>34</th>\n",
       "      <td>2017-06</td>\n",
       "      <td>42.0</td>\n",
       "      <td>36.0</td>\n",
       "      <td>52.0</td>\n",
       "      <td>372.0</td>\n",
       "      <td>29.0</td>\n",
       "      <td>163.0</td>\n",
       "      <td>694.0</td>\n",
       "    </tr>\n",
       "    <tr>\n",
       "      <th>35</th>\n",
       "      <td>2017-07</td>\n",
       "      <td>335.0</td>\n",
       "      <td>374.0</td>\n",
       "      <td>1071.0</td>\n",
       "      <td>1090.0</td>\n",
       "      <td>337.0</td>\n",
       "      <td>731.0</td>\n",
       "      <td>3938.0</td>\n",
       "    </tr>\n",
       "    <tr>\n",
       "      <th>36</th>\n",
       "      <td>2017-08</td>\n",
       "      <td>144.0</td>\n",
       "      <td>136.0</td>\n",
       "      <td>400.0</td>\n",
       "      <td>246.0</td>\n",
       "      <td>139.0</td>\n",
       "      <td>342.0</td>\n",
       "      <td>1407.0</td>\n",
       "    </tr>\n",
       "    <tr>\n",
       "      <th>37</th>\n",
       "      <td>2017-09</td>\n",
       "      <td>2.0</td>\n",
       "      <td>2.0</td>\n",
       "      <td>2.0</td>\n",
       "      <td>22.0</td>\n",
       "      <td>4.0</td>\n",
       "      <td>5.0</td>\n",
       "      <td>37.0</td>\n",
       "    </tr>\n",
       "  </tbody>\n",
       "</table>\n",
       "</div>"
      ],
      "text/plain": [
       "label    month  clinton  conservative  general_twitter    news   trump  \\\n",
       "0      2014-07      0.0           2.0              8.0     0.0     0.0   \n",
       "1      2014-08      0.0           1.0              0.0     0.0     0.0   \n",
       "2      2014-09      1.0           0.0              0.0     0.0     0.0   \n",
       "3      2014-11     23.0          53.0            185.0    29.0    40.0   \n",
       "4      2014-12     20.0          55.0            231.0    40.0    40.0   \n",
       "5      2015-01    143.0         244.0           1107.0   178.0   154.0   \n",
       "6      2015-02    179.0         246.0            949.0   182.0   188.0   \n",
       "7      2015-03    241.0         258.0            948.0   304.0   168.0   \n",
       "8      2015-04    264.0         277.0            690.0   266.0   213.0   \n",
       "9      2015-05    262.0         317.0            456.0   240.0   180.0   \n",
       "10     2015-06    565.0         506.0            552.0   514.0   470.0   \n",
       "11     2015-07    228.0         270.0            300.0   284.0   182.0   \n",
       "12     2015-08    136.0          74.0            149.0   148.0   332.0   \n",
       "13     2015-09     36.0          27.0             74.0    14.0    76.0   \n",
       "14     2015-10    163.0         202.0            185.0   112.0   142.0   \n",
       "15     2015-11    128.0         110.0            109.0   170.0   237.0   \n",
       "16     2015-12    476.0         693.0            538.0   394.0   688.0   \n",
       "17     2016-01    217.0         316.0            266.0   187.0   404.0   \n",
       "18     2016-02    775.0        1531.0            534.0   495.0   922.0   \n",
       "19     2016-03    542.0         566.0            363.0   241.0   914.0   \n",
       "20     2016-04     36.0          53.0            121.0    47.0    90.0   \n",
       "21     2016-05    136.0         530.0            315.0   153.0   298.0   \n",
       "22     2016-06    105.0         163.0            151.0    93.0   243.0   \n",
       "23     2016-07   1358.0         590.0            520.0  1885.0  2066.0   \n",
       "24     2016-08   1997.0        1427.0           2009.0  1097.0  3738.0   \n",
       "25     2016-09   5343.0        2586.0           3149.0  2102.0  9470.0   \n",
       "26     2016-10   5439.0        2989.0           4576.0  2987.0  9212.0   \n",
       "27     2016-11   2827.0        2472.0           4813.0  1947.0  7155.0   \n",
       "28     2016-12   2454.0        2481.0           5923.0  2241.0  3430.0   \n",
       "29     2017-01   2700.0        2624.0           5206.0  2403.0  4023.0   \n",
       "30     2017-02   1218.0        1248.0           2376.0  1316.0  1937.0   \n",
       "31     2017-03   1115.0        1077.0           1713.0  1119.0  1340.0   \n",
       "32     2017-04    479.0         457.0           1549.0   542.0   438.0   \n",
       "33     2017-05     41.0          62.0            238.0   113.0    58.0   \n",
       "34     2017-06     42.0          36.0             52.0   372.0    29.0   \n",
       "35     2017-07    335.0         374.0           1071.0  1090.0   337.0   \n",
       "36     2017-08    144.0         136.0            400.0   246.0   139.0   \n",
       "37     2017-09      2.0           2.0              2.0    22.0     4.0   \n",
       "\n",
       "label  violence    total  \n",
       "0           2.0     12.0  \n",
       "1           0.0      1.0  \n",
       "2           0.0      1.0  \n",
       "3          58.0    388.0  \n",
       "4          56.0    442.0  \n",
       "5         365.0   2191.0  \n",
       "6         347.0   2091.0  \n",
       "7         406.0   2325.0  \n",
       "8         540.0   2250.0  \n",
       "9         445.0   1900.0  \n",
       "10       1004.0   3611.0  \n",
       "11        433.0   1697.0  \n",
       "12        177.0   1016.0  \n",
       "13         98.0    325.0  \n",
       "14        266.0   1070.0  \n",
       "15        217.0    971.0  \n",
       "16       1160.0   3949.0  \n",
       "17        359.0   1749.0  \n",
       "18        935.0   5192.0  \n",
       "19       1166.0   3792.0  \n",
       "20         96.0    443.0  \n",
       "21        510.0   1942.0  \n",
       "22        292.0   1047.0  \n",
       "23        859.0   7278.0  \n",
       "24       1400.0  11668.0  \n",
       "25       2998.0  25648.0  \n",
       "26       2780.0  27983.0  \n",
       "27       2591.0  21805.0  \n",
       "28       3436.0  19965.0  \n",
       "29       4111.0  21067.0  \n",
       "30       2056.0  10151.0  \n",
       "31       1822.0   8186.0  \n",
       "32       1126.0   4591.0  \n",
       "33        126.0    638.0  \n",
       "34        163.0    694.0  \n",
       "35        731.0   3938.0  \n",
       "36        342.0   1407.0  \n",
       "37          5.0     37.0  "
      ]
     },
     "execution_count": 26,
     "metadata": {},
     "output_type": "execute_result"
    }
   ],
   "source": [
    "date_freq"
   ]
  },
  {
   "cell_type": "code",
   "execution_count": 27,
   "metadata": {
    "ExecuteTime": {
     "end_time": "2020-11-10T00:43:27.992534Z",
     "start_time": "2020-11-10T00:43:27.791720Z"
    }
   },
   "outputs": [
    {
     "data": {
      "image/png": "[encoded data removed]",
      "text/plain": [
       "<Figure size 864x432 with 1 Axes>"
      ]
     },
     "metadata": {
      "needs_background": "light"
     },
     "output_type": "display_data"
    }
   ],
   "source": [
    "dates = date_freq.month\n",
    "total_tweets = date_freq.total\n",
    "x_ticks = list(date_freq.month.unique()[::3])\n",
    "\n",
    "plt.figure(figsize=(12, 6))\n",
    "plt.plot(dates, total_tweets, color='#4e79a7', linewidth=2)\n",
    "plt.title('Tweet Frequency over Time', fontsize=16)\n",
    "plt.xlabel('Date', fontsize=12)\n",
    "plt.ylabel('Count', fontsize=12)\n",
    "plt.xticks(x_ticks, rotation=45)\n",
    "sns.despine();"
   ]
  },
  {
   "cell_type": "code",
   "execution_count": 28,
   "metadata": {
    "ExecuteTime": {
     "end_time": "2020-11-10T00:43:28.306928Z",
     "start_time": "2020-11-10T00:43:27.998604Z"
    }
   },
   "outputs": [
    {
     "data": {
      "image/png": "[encoded data removed]",
      "text/plain": [
       "<Figure size 1008x576 with 1 Axes>"
      ]
     },
     "metadata": {
      "needs_background": "light"
     },
     "output_type": "display_data"
    }
   ],
   "source": [
    "dates = date_freq.month\n",
    "x_ticks = list(date_freq.month.unique()[::3])\n",
    "\n",
    "clinton = date_freq.clinton\n",
    "conservative = date_freq.conservative\n",
    "gen_twitter = date_freq.general_twitter\n",
    "news = date_freq.news\n",
    "trump = date_freq.trump\n",
    "violence = date_freq.violence\n",
    "\n",
    "plt.figure(figsize=(14, 8))\n",
    "plt.plot(dates, clinton, color='r', linewidth=2, label='Clinton')\n",
    "plt.plot(dates, trump, color='b', linewidth=2, label='Trump')\n",
    "\n",
    "plt.plot(dates, conservative, color='g', linewidth=1, label='Conservative')\n",
    "plt.plot(dates, violence, color='0', linewidth=1, label='Violence')\n",
    "plt.plot(dates, news, color='m', linewidth=1, label='News')\n",
    "plt.plot(dates, gen_twitter, color='y', linewidth=1, label='General Twitter')\n",
    "\n",
    "plt.vlines('2015-04', ymin=0, ymax=4000, linestyle='--', color='b')\n",
    "plt.text('2015-04', 4000, ' Clinton announces candidacy', rotation=0, fontsize=12)\n",
    "\n",
    "plt.vlines('2015-05', ymin=0, ymax=3000, linestyle='--', color='r')\n",
    "plt.text('2015-05', 3000, ' Trump announces candidacy', rotation=0, fontsize=12)\n",
    "\n",
    "# plt.vlines('2016-10', ymin=0, ymax=6600, linestyle='--', color='grey')\n",
    "# plt.text('2016-10', 6600, 'Comey announces FBI investigation', rotation=0, fontsize=12)\n",
    "\n",
    "plt.vlines('2016-11', ymin=0, ymax=8500, linestyle='--', color='grey')\n",
    "plt.text('2016-11', 8500, '  2016 Election', rotation=0, fontsize=12)\n",
    "\n",
    "\n",
    "plt.title('Topic Frequency over Time', fontsize=18)\n",
    "plt.xlabel('Date', fontsize=14)\n",
    "plt.ylabel('Count', fontsize=14)\n",
    "plt.xticks(x_ticks, rotation=45)\n",
    "plt.legend(loc='upper left', frameon=False, fontsize=12)\n",
    "sns.despine()\n",
    "#plt.savefig('../img/top_freq_timeseries.png');"
   ]
  },
  {
   "cell_type": "code",
   "execution_count": null,
   "metadata": {},
   "outputs": [],
   "source": []
  },
  {
   "cell_type": "markdown",
   "metadata": {},
   "source": [
    "## Sentiment Analysis\n",
    "\n",
    "Using Vader Sentiment Analysis"
   ]
  },
  {
   "cell_type": "code",
   "execution_count": 41,
   "metadata": {
    "ExecuteTime": {
     "end_time": "2020-11-10T00:49:57.462807Z",
     "start_time": "2020-11-10T00:49:57.459706Z"
    }
   },
   "outputs": [],
   "source": [
    "def sentiment_score(text):\n",
    "    analyzer = SentimentIntensityAnalyzer()\n",
    "    compound_score = analyzer.polarity_scores(text)['compound']\n",
    "    return compound_score\n",
    "\n",
    "\n",
    "def get_the_feels(compound_score):\n",
    "    if compound_score >= 0.05:\n",
    "        return 'positive'\n",
    "    elif compound_score <= -0.05:\n",
    "        return 'negative'\n",
    "    else:\n",
    "        return 'netural'"
   ]
  },
  {
   "cell_type": "code",
   "execution_count": 42,
   "metadata": {
    "ExecuteTime": {
     "end_time": "2020-11-10T00:49:59.386068Z",
     "start_time": "2020-11-10T00:49:59.375122Z"
    }
   },
   "outputs": [],
   "source": [
    "feels_df = dt_df[['handle', 'month', 'label', 'tweet']]"
   ]
  },
  {
   "cell_type": "code",
   "execution_count": 43,
   "metadata": {
    "ExecuteTime": {
     "end_time": "2020-11-10T00:50:00.606739Z",
     "start_time": "2020-11-10T00:50:00.560637Z"
    }
   },
   "outputs": [
    {
     "name": "stderr",
     "output_type": "stream",
     "text": [
      "<ipython-input-43-1500e1aa9611>:1: SettingWithCopyWarning: \n",
      "A value is trying to be set on a copy of a slice from a DataFrame.\n",
      "Try using .loc[row_indexer,col_indexer] = value instead\n",
      "\n",
      "See the caveats in the documentation: https://pandas.pydata.org/pandas-docs/stable/user_guide/indexing.html#returning-a-view-versus-a-copy\n",
      "  feels_df['tweet'] = feels_df['tweet'].astype(str)\n"
     ]
    }
   ],
   "source": [
    "feels_df['tweet'] = feels_df['tweet'].astype(str)"
   ]
  },
  {
   "cell_type": "code",
   "execution_count": 44,
   "metadata": {
    "ExecuteTime": {
     "end_time": "2020-11-10T00:50:01.736625Z",
     "start_time": "2020-11-10T00:50:01.729162Z"
    }
   },
   "outputs": [
    {
     "data": {
      "text/html": [
       "<div>\n",
       "<style scoped>\n",
       "    .dataframe tbody tr th:only-of-type {\n",
       "        vertical-align: middle;\n",
       "    }\n",
       "\n",
       "    .dataframe tbody tr th {\n",
       "        vertical-align: top;\n",
       "    }\n",
       "\n",
       "    .dataframe thead th {\n",
       "        text-align: right;\n",
       "    }\n",
       "</style>\n",
       "<table border=\"1\" class=\"dataframe\">\n",
       "  <thead>\n",
       "    <tr style=\"text-align: right;\">\n",
       "      <th></th>\n",
       "      <th>handle</th>\n",
       "      <th>month</th>\n",
       "      <th>label</th>\n",
       "      <th>tweet</th>\n",
       "    </tr>\n",
       "  </thead>\n",
       "  <tbody>\n",
       "    <tr>\n",
       "      <th>0</th>\n",
       "      <td>ryanmaxwell_1</td>\n",
       "      <td>2016-03</td>\n",
       "      <td>violence</td>\n",
       "      <td>#IslamKills Are you trying to say that there w...</td>\n",
       "    </tr>\n",
       "    <tr>\n",
       "      <th>1</th>\n",
       "      <td>detroitdailynew</td>\n",
       "      <td>2016-10</td>\n",
       "      <td>trump</td>\n",
       "      <td>Clinton: Trump should’ve apologized more, atta...</td>\n",
       "    </tr>\n",
       "    <tr>\n",
       "      <th>2</th>\n",
       "      <td>cookncooks</td>\n",
       "      <td>2017-02</td>\n",
       "      <td>trump</td>\n",
       "      <td>RT @ltapoll: Who was/is the best president of ...</td>\n",
       "    </tr>\n",
       "    <tr>\n",
       "      <th>3</th>\n",
       "      <td>queenofthewo</td>\n",
       "      <td>2016-12</td>\n",
       "      <td>violence</td>\n",
       "      <td>RT @jww372: I don't have to guess your religio...</td>\n",
       "    </tr>\n",
       "    <tr>\n",
       "      <th>4</th>\n",
       "      <td>mrclydepratt</td>\n",
       "      <td>2017-08</td>\n",
       "      <td>clinton</td>\n",
       "      <td>RT @Shareblue: Pence and his lawyers decided w...</td>\n",
       "    </tr>\n",
       "  </tbody>\n",
       "</table>\n",
       "</div>"
      ],
      "text/plain": [
       "            handle    month     label  \\\n",
       "0    ryanmaxwell_1  2016-03  violence   \n",
       "1  detroitdailynew  2016-10     trump   \n",
       "2       cookncooks  2017-02     trump   \n",
       "3     queenofthewo  2016-12  violence   \n",
       "4     mrclydepratt  2017-08   clinton   \n",
       "\n",
       "                                               tweet  \n",
       "0  #IslamKills Are you trying to say that there w...  \n",
       "1  Clinton: Trump should’ve apologized more, atta...  \n",
       "2  RT @ltapoll: Who was/is the best president of ...  \n",
       "3  RT @jww372: I don't have to guess your religio...  \n",
       "4  RT @Shareblue: Pence and his lawyers decided w...  "
      ]
     },
     "execution_count": 44,
     "metadata": {},
     "output_type": "execute_result"
    }
   ],
   "source": [
    "feels_df.head()"
   ]
  },
  {
   "cell_type": "code",
   "execution_count": 50,
   "metadata": {
    "ExecuteTime": {
     "end_time": "2020-11-10T01:33:18.227679Z",
     "start_time": "2020-11-10T01:33:18.203397Z"
    }
   },
   "outputs": [
    {
     "data": {
      "text/html": [
       "<div>\n",
       "<style scoped>\n",
       "    .dataframe tbody tr th:only-of-type {\n",
       "        vertical-align: middle;\n",
       "    }\n",
       "\n",
       "    .dataframe tbody tr th {\n",
       "        vertical-align: top;\n",
       "    }\n",
       "\n",
       "    .dataframe thead th {\n",
       "        text-align: right;\n",
       "    }\n",
       "</style>\n",
       "<table border=\"1\" class=\"dataframe\">\n",
       "  <thead>\n",
       "    <tr style=\"text-align: right;\">\n",
       "      <th></th>\n",
       "      <th>handle</th>\n",
       "      <th>month</th>\n",
       "      <th>label</th>\n",
       "      <th>tweet</th>\n",
       "    </tr>\n",
       "  </thead>\n",
       "  <tbody>\n",
       "    <tr>\n",
       "      <th>1</th>\n",
       "      <td>detroitdailynew</td>\n",
       "      <td>2016-10</td>\n",
       "      <td>trump</td>\n",
       "      <td>Clinton: Trump should’ve apologized more, atta...</td>\n",
       "    </tr>\n",
       "    <tr>\n",
       "      <th>2</th>\n",
       "      <td>cookncooks</td>\n",
       "      <td>2017-02</td>\n",
       "      <td>trump</td>\n",
       "      <td>RT @ltapoll: Who was/is the best president of ...</td>\n",
       "    </tr>\n",
       "    <tr>\n",
       "      <th>5</th>\n",
       "      <td>giselleevns</td>\n",
       "      <td>2016-10</td>\n",
       "      <td>trump</td>\n",
       "      <td>@ModicaGiunta me, too!</td>\n",
       "    </tr>\n",
       "    <tr>\n",
       "      <th>16</th>\n",
       "      <td>pamela_moore13</td>\n",
       "      <td>2016-09</td>\n",
       "      <td>trump</td>\n",
       "      <td>The war is here! \\nThis gentleman made more se...</td>\n",
       "    </tr>\n",
       "    <tr>\n",
       "      <th>20</th>\n",
       "      <td>kansasdailynews</td>\n",
       "      <td>2016-07</td>\n",
       "      <td>trump</td>\n",
       "      <td>Obama on Trump winning: 'Anything's possible' ...</td>\n",
       "    </tr>\n",
       "    <tr>\n",
       "      <th>...</th>\n",
       "      <td>...</td>\n",
       "      <td>...</td>\n",
       "      <td>...</td>\n",
       "      <td>...</td>\n",
       "    </tr>\n",
       "    <tr>\n",
       "      <th>203447</th>\n",
       "      <td>cookncooks</td>\n",
       "      <td>2017-01</td>\n",
       "      <td>trump</td>\n",
       "      <td>RT @_Proud_American: NO MORE OBAMA COVER UP! T...</td>\n",
       "    </tr>\n",
       "    <tr>\n",
       "      <th>203449</th>\n",
       "      <td>patriotblake</td>\n",
       "      <td>2016-11</td>\n",
       "      <td>trump</td>\n",
       "      <td>RT @RawDawgBuffalo: Trump Tells Early Voters t...</td>\n",
       "    </tr>\n",
       "    <tr>\n",
       "      <th>203450</th>\n",
       "      <td>jaydaastonishin</td>\n",
       "      <td>2016-11</td>\n",
       "      <td>trump</td>\n",
       "      <td>RT @smoothkobra: Obama and Clinton's policies ...</td>\n",
       "    </tr>\n",
       "    <tr>\n",
       "      <th>203452</th>\n",
       "      <td>kansasdailynews</td>\n",
       "      <td>2016-07</td>\n",
       "      <td>trump</td>\n",
       "      <td>Highlights from Bill Clinton's past DNC speech...</td>\n",
       "    </tr>\n",
       "    <tr>\n",
       "      <th>203455</th>\n",
       "      <td>hollandpatrickk</td>\n",
       "      <td>2015-04</td>\n",
       "      <td>trump</td>\n",
       "      <td>So many stupid mistakes!.. Anyone but NOT Hill...</td>\n",
       "    </tr>\n",
       "  </tbody>\n",
       "</table>\n",
       "<p>49357 rows × 4 columns</p>\n",
       "</div>"
      ],
      "text/plain": [
       "                 handle    month  label  \\\n",
       "1       detroitdailynew  2016-10  trump   \n",
       "2            cookncooks  2017-02  trump   \n",
       "5           giselleevns  2016-10  trump   \n",
       "16       pamela_moore13  2016-09  trump   \n",
       "20      kansasdailynews  2016-07  trump   \n",
       "...                 ...      ...    ...   \n",
       "203447       cookncooks  2017-01  trump   \n",
       "203449     patriotblake  2016-11  trump   \n",
       "203450  jaydaastonishin  2016-11  trump   \n",
       "203452  kansasdailynews  2016-07  trump   \n",
       "203455  hollandpatrickk  2015-04  trump   \n",
       "\n",
       "                                                    tweet  \n",
       "1       Clinton: Trump should’ve apologized more, atta...  \n",
       "2       RT @ltapoll: Who was/is the best president of ...  \n",
       "5                                  @ModicaGiunta me, too!  \n",
       "16      The war is here! \\nThis gentleman made more se...  \n",
       "20      Obama on Trump winning: 'Anything's possible' ...  \n",
       "...                                                   ...  \n",
       "203447  RT @_Proud_American: NO MORE OBAMA COVER UP! T...  \n",
       "203449  RT @RawDawgBuffalo: Trump Tells Early Voters t...  \n",
       "203450  RT @smoothkobra: Obama and Clinton's policies ...  \n",
       "203452  Highlights from Bill Clinton's past DNC speech...  \n",
       "203455  So many stupid mistakes!.. Anyone but NOT Hill...  \n",
       "\n",
       "[49357 rows x 4 columns]"
      ]
     },
     "execution_count": 50,
     "metadata": {},
     "output_type": "execute_result"
    }
   ],
   "source": [
    "trump_feels = feels_df[feels_df.label == 'trump']\n",
    "trump_feels.head()"
   ]
  },
  {
   "cell_type": "code",
   "execution_count": 51,
   "metadata": {
    "ExecuteTime": {
     "end_time": "2020-11-10T01:39:22.730872Z",
     "start_time": "2020-11-10T01:33:30.208091Z"
    }
   },
   "outputs": [
    {
     "name": "stdout",
     "output_type": "stream",
     "text": [
      "CPU times: user 5min 44s, sys: 7.13 s, total: 5min 51s\n",
      "Wall time: 5min 52s\n"
     ]
    },
    {
     "name": "stderr",
     "output_type": "stream",
     "text": [
      "<timed exec>:1: SettingWithCopyWarning: \n",
      "A value is trying to be set on a copy of a slice from a DataFrame.\n",
      "Try using .loc[row_indexer,col_indexer] = value instead\n",
      "\n",
      "See the caveats in the documentation: https://pandas.pydata.org/pandas-docs/stable/user_guide/indexing.html#returning-a-view-versus-a-copy\n"
     ]
    }
   ],
   "source": [
    "%%time\n",
    "trump_feels['vader_score'] = trump_feels['tweet'].map(sentiment_score)"
   ]
  },
  {
   "cell_type": "code",
   "execution_count": 52,
   "metadata": {
    "ExecuteTime": {
     "end_time": "2020-11-10T01:39:23.583450Z",
     "start_time": "2020-11-10T01:39:23.573333Z"
    }
   },
   "outputs": [
    {
     "data": {
      "text/html": [
       "<div>\n",
       "<style scoped>\n",
       "    .dataframe tbody tr th:only-of-type {\n",
       "        vertical-align: middle;\n",
       "    }\n",
       "\n",
       "    .dataframe tbody tr th {\n",
       "        vertical-align: top;\n",
       "    }\n",
       "\n",
       "    .dataframe thead th {\n",
       "        text-align: right;\n",
       "    }\n",
       "</style>\n",
       "<table border=\"1\" class=\"dataframe\">\n",
       "  <thead>\n",
       "    <tr style=\"text-align: right;\">\n",
       "      <th></th>\n",
       "      <th>handle</th>\n",
       "      <th>month</th>\n",
       "      <th>label</th>\n",
       "      <th>tweet</th>\n",
       "      <th>vader_score</th>\n",
       "    </tr>\n",
       "  </thead>\n",
       "  <tbody>\n",
       "    <tr>\n",
       "      <th>1</th>\n",
       "      <td>detroitdailynew</td>\n",
       "      <td>2016-10</td>\n",
       "      <td>trump</td>\n",
       "      <td>Clinton: Trump should’ve apologized more, atta...</td>\n",
       "      <td>-0.2484</td>\n",
       "    </tr>\n",
       "    <tr>\n",
       "      <th>2</th>\n",
       "      <td>cookncooks</td>\n",
       "      <td>2017-02</td>\n",
       "      <td>trump</td>\n",
       "      <td>RT @ltapoll: Who was/is the best president of ...</td>\n",
       "      <td>0.6369</td>\n",
       "    </tr>\n",
       "    <tr>\n",
       "      <th>5</th>\n",
       "      <td>giselleevns</td>\n",
       "      <td>2016-10</td>\n",
       "      <td>trump</td>\n",
       "      <td>@ModicaGiunta me, too!</td>\n",
       "      <td>0.0000</td>\n",
       "    </tr>\n",
       "    <tr>\n",
       "      <th>16</th>\n",
       "      <td>pamela_moore13</td>\n",
       "      <td>2016-09</td>\n",
       "      <td>trump</td>\n",
       "      <td>The war is here! \\nThis gentleman made more se...</td>\n",
       "      <td>-0.6360</td>\n",
       "    </tr>\n",
       "    <tr>\n",
       "      <th>20</th>\n",
       "      <td>kansasdailynews</td>\n",
       "      <td>2016-07</td>\n",
       "      <td>trump</td>\n",
       "      <td>Obama on Trump winning: 'Anything's possible' ...</td>\n",
       "      <td>0.5267</td>\n",
       "    </tr>\n",
       "    <tr>\n",
       "      <th>...</th>\n",
       "      <td>...</td>\n",
       "      <td>...</td>\n",
       "      <td>...</td>\n",
       "      <td>...</td>\n",
       "      <td>...</td>\n",
       "    </tr>\n",
       "    <tr>\n",
       "      <th>203447</th>\n",
       "      <td>cookncooks</td>\n",
       "      <td>2017-01</td>\n",
       "      <td>trump</td>\n",
       "      <td>RT @_Proud_American: NO MORE OBAMA COVER UP! T...</td>\n",
       "      <td>-0.7798</td>\n",
       "    </tr>\n",
       "    <tr>\n",
       "      <th>203449</th>\n",
       "      <td>patriotblake</td>\n",
       "      <td>2016-11</td>\n",
       "      <td>trump</td>\n",
       "      <td>RT @RawDawgBuffalo: Trump Tells Early Voters t...</td>\n",
       "      <td>-0.2732</td>\n",
       "    </tr>\n",
       "    <tr>\n",
       "      <th>203450</th>\n",
       "      <td>jaydaastonishin</td>\n",
       "      <td>2016-11</td>\n",
       "      <td>trump</td>\n",
       "      <td>RT @smoothkobra: Obama and Clinton's policies ...</td>\n",
       "      <td>-0.6486</td>\n",
       "    </tr>\n",
       "    <tr>\n",
       "      <th>203452</th>\n",
       "      <td>kansasdailynews</td>\n",
       "      <td>2016-07</td>\n",
       "      <td>trump</td>\n",
       "      <td>Highlights from Bill Clinton's past DNC speech...</td>\n",
       "      <td>0.0000</td>\n",
       "    </tr>\n",
       "    <tr>\n",
       "      <th>203455</th>\n",
       "      <td>hollandpatrickk</td>\n",
       "      <td>2015-04</td>\n",
       "      <td>trump</td>\n",
       "      <td>So many stupid mistakes!.. Anyone but NOT Hill...</td>\n",
       "      <td>-0.5443</td>\n",
       "    </tr>\n",
       "  </tbody>\n",
       "</table>\n",
       "<p>49357 rows × 5 columns</p>\n",
       "</div>"
      ],
      "text/plain": [
       "                 handle    month  label  \\\n",
       "1       detroitdailynew  2016-10  trump   \n",
       "2            cookncooks  2017-02  trump   \n",
       "5           giselleevns  2016-10  trump   \n",
       "16       pamela_moore13  2016-09  trump   \n",
       "20      kansasdailynews  2016-07  trump   \n",
       "...                 ...      ...    ...   \n",
       "203447       cookncooks  2017-01  trump   \n",
       "203449     patriotblake  2016-11  trump   \n",
       "203450  jaydaastonishin  2016-11  trump   \n",
       "203452  kansasdailynews  2016-07  trump   \n",
       "203455  hollandpatrickk  2015-04  trump   \n",
       "\n",
       "                                                    tweet  vader_score  \n",
       "1       Clinton: Trump should’ve apologized more, atta...      -0.2484  \n",
       "2       RT @ltapoll: Who was/is the best president of ...       0.6369  \n",
       "5                                  @ModicaGiunta me, too!       0.0000  \n",
       "16      The war is here! \\nThis gentleman made more se...      -0.6360  \n",
       "20      Obama on Trump winning: 'Anything's possible' ...       0.5267  \n",
       "...                                                   ...          ...  \n",
       "203447  RT @_Proud_American: NO MORE OBAMA COVER UP! T...      -0.7798  \n",
       "203449  RT @RawDawgBuffalo: Trump Tells Early Voters t...      -0.2732  \n",
       "203450  RT @smoothkobra: Obama and Clinton's policies ...      -0.6486  \n",
       "203452  Highlights from Bill Clinton's past DNC speech...       0.0000  \n",
       "203455  So many stupid mistakes!.. Anyone but NOT Hill...      -0.5443  \n",
       "\n",
       "[49357 rows x 5 columns]"
      ]
     },
     "execution_count": 52,
     "metadata": {},
     "output_type": "execute_result"
    }
   ],
   "source": [
    "trump_feels.head()"
   ]
  },
  {
   "cell_type": "code",
   "execution_count": null,
   "metadata": {},
   "outputs": [],
   "source": []
  },
  {
   "cell_type": "code",
   "execution_count": 53,
   "metadata": {
    "ExecuteTime": {
     "end_time": "2020-11-10T02:13:59.804409Z",
     "start_time": "2020-11-10T02:10:25.020523Z"
    }
   },
   "outputs": [
    {
     "name": "stderr",
     "output_type": "stream",
     "text": [
      "<ipython-input-53-a163126fe0e3>:2: SettingWithCopyWarning: \n",
      "A value is trying to be set on a copy of a slice from a DataFrame.\n",
      "Try using .loc[row_indexer,col_indexer] = value instead\n",
      "\n",
      "See the caveats in the documentation: https://pandas.pydata.org/pandas-docs/stable/user_guide/indexing.html#returning-a-view-versus-a-copy\n",
      "  clinton_feels['vader_score'] = clinton_feels['tweet'].map(sentiment_score)\n"
     ]
    }
   ],
   "source": [
    "%%time\n",
    "clinton_feels = feels_df[feels_df.label == 'clinton']\n",
    "clinton_feels['vader_score'] = clinton_feels['tweet'].map(sentiment_score)"
   ]
  },
  {
   "cell_type": "code",
   "execution_count": 138,
   "metadata": {
    "ExecuteTime": {
     "end_time": "2020-11-10T03:20:29.746016Z",
     "start_time": "2020-11-10T03:15:16.433414Z"
    }
   },
   "outputs": [
    {
     "name": "stderr",
     "output_type": "stream",
     "text": [
      "<ipython-input-138-7a1814b1a89b>:2: SettingWithCopyWarning: \n",
      "A value is trying to be set on a copy of a slice from a DataFrame.\n",
      "Try using .loc[row_indexer,col_indexer] = value instead\n",
      "\n",
      "See the caveats in the documentation: https://pandas.pydata.org/pandas-docs/stable/user_guide/indexing.html#returning-a-view-versus-a-copy\n",
      "  general_feels['vader_score'] = general_feels['tweet'].map(sentiment_score)\n"
     ]
    }
   ],
   "source": [
    "%%time\n",
    "general_feels = feels_df[feels_df.label == 'general_twitter']\n",
    "general_feels['vader_score'] = general_feels['tweet'].map(sentiment_score)"
   ]
  },
  {
   "cell_type": "code",
   "execution_count": 139,
   "metadata": {
    "ExecuteTime": {
     "end_time": "2020-11-10T03:20:30.976943Z",
     "start_time": "2020-11-10T03:20:30.947187Z"
    }
   },
   "outputs": [],
   "source": [
    "clinton_feels_time = clinton_feels.groupby('month').agg({'vader_score': 'mean'}).reset_index()\n",
    "trump_feels_time = trump_feels.groupby('month').agg({'vader_score': 'mean'}).reset_index()\n",
    "general_feels_time = general_feels.groupby('month').agg({'vader_score': 'mean'}).reset_index()"
   ]
  },
  {
   "cell_type": "code",
   "execution_count": 244,
   "metadata": {
    "ExecuteTime": {
     "end_time": "2020-11-10T04:05:59.657903Z",
     "start_time": "2020-11-10T04:05:59.404445Z"
    }
   },
   "outputs": [
    {
     "data": {
      "image/png": "[encoded data removed]",
      "text/plain": [
       "<Figure size 1008x576 with 1 Axes>"
      ]
     },
     "metadata": {
      "needs_background": "light"
     },
     "output_type": "display_data"
    }
   ],
   "source": [
    "clinton = clinton_feels_time.vader_score\n",
    "trump = trump_feels_time.vader_score\n",
    "general = general_feels_time.vader_score[1:]\n",
    "\n",
    "x_ticks = list(general_feels_time.month.unique()[1::3])\n",
    "\n",
    "plt.figure(figsize=(14, 8))\n",
    "plt.plot(clinton_feels_time.month, clinton, color='r', linewidth=2, label='Clinton')\n",
    "plt.plot(trump_feels_time.month, trump, color='b', linewidth=2, label='Trump')\n",
    "plt.plot(general_feels_time.month[1:], general, color='grey', linewidth=1, label='General Twitter')\n",
    "\n",
    "#plt.vlines('2017-08', ymin=-.75, ymax=0, linestyle='-.', color='grey')\n",
    "plt.annotate(\"\",\n",
    "            xy=('2017-06', -.2), xycoords='data',\n",
    "            xytext=('2017-03', -.2), textcoords='offset points',\n",
    "            arrowprops=dict(arrowstyle=\"<-\", \n",
    "                            connectionstyle=\"arc3\", lw=1))\n",
    "\n",
    "plt.text('2016-10',-.2, 'Clinton releases memoir', rotation=0, fontsize=12)\n",
    "plt.text('2016-10',-.25, '\"What Happened\" in Sept 2017 ', rotation=0, fontsize=12)\n",
    "\n",
    "plt.title('Sentiment Analysis over Time', fontsize=18)\n",
    "plt.xlabel('Date', fontsize=14)\n",
    "plt.ylabel('Vader Compound Score', fontsize=14)\n",
    "plt.xticks(x_ticks, rotation=45)\n",
    "plt.legend(loc='lower left', frameon=False, fontsize=12)\n",
    "sns.despine()\n",
    "#plt.savefig('../img/sentiment_timeseries.png');"
   ]
  },
  {
   "cell_type": "code",
   "execution_count": null,
   "metadata": {},
   "outputs": [],
   "source": []
  },
  {
   "cell_type": "code",
   "execution_count": null,
   "metadata": {},
   "outputs": [],
   "source": []
  },
  {
   "cell_type": "code",
   "execution_count": null,
   "metadata": {},
   "outputs": [],
   "source": [
    "# most positive accounts by topic? \n",
    "# most negative accounts by topic? \n",
    "# number of accounts over time? \n",
    "# number of accounts by topic? "
   ]
  },
  {
   "cell_type": "code",
   "execution_count": null,
   "metadata": {},
   "outputs": [],
   "source": []
  },
  {
   "cell_type": "code",
   "execution_count": null,
   "metadata": {},
   "outputs": [],
   "source": []
  },
  {
   "cell_type": "code",
   "execution_count": null,
   "metadata": {},
   "outputs": [],
   "source": []
  },
  {
   "cell_type": "code",
   "execution_count": null,
   "metadata": {},
   "outputs": [],
   "source": []
  },
  {
   "cell_type": "code",
   "execution_count": null,
   "metadata": {},
   "outputs": [],
   "source": []
  },
  {
   "cell_type": "code",
   "execution_count": null,
   "metadata": {},
   "outputs": [],
   "source": []
  },
  {
   "cell_type": "code",
   "execution_count": null,
   "metadata": {},
   "outputs": [],
   "source": []
  },
  {
   "cell_type": "code",
   "execution_count": null,
   "metadata": {},
   "outputs": [],
   "source": []
  }
 ],
 "metadata": {
  "kernelspec": {
   "display_name": "Python [conda env:metis] *",
   "language": "python",
   "name": "conda-env-metis-py"
  },
  "language_info": {
   "codemirror_mode": {
    "name": "ipython",
    "version": 3
   },
   "file_extension": ".py",
   "mimetype": "text/x-python",
   "name": "python",
   "nbconvert_exporter": "python",
   "pygments_lexer": "ipython3",
   "version": "3.8.5"
  },
  "toc": {
   "base_numbering": 1,
   "nav_menu": {},
   "number_sections": true,
   "sideBar": true,
   "skip_h1_title": false,
   "title_cell": "Table of Contents",
   "title_sidebar": "Contents",
   "toc_cell": false,
   "toc_position": {},
   "toc_section_display": true,
   "toc_window_display": false
  },
  "varInspector": {
   "cols": {
    "lenName": 16,
    "lenType": 16,
    "lenVar": 40
   },
   "kernels_config": {
    "python": {
     "delete_cmd_postfix": "",
     "delete_cmd_prefix": "del ",
     "library": "var_list.py",
     "varRefreshCmd": "print(var_dic_list())"
    },
    "r": {
     "delete_cmd_postfix": ") ",
     "delete_cmd_prefix": "rm(",
     "library": "var_list.r",
     "varRefreshCmd": "cat(var_dic_list()) "
    }
   },
   "types_to_exclude": [
    "module",
    "function",
    "builtin_function_or_method",
    "instance",
    "_Feature"
   ],
   "window_display": false
  }
 },
 "nbformat": 4,
 "nbformat_minor": 4
}
