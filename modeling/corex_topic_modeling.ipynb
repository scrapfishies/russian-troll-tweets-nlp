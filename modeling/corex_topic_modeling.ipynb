{
 "cells": [
  {
   "cell_type": "markdown",
   "metadata": {},
   "source": [
    "# Topic Modeling with CorEx"
   ]
  },
  {
   "cell_type": "code",
   "execution_count": null,
   "metadata": {},
   "outputs": [],
   "source": []
  },
  {
   "cell_type": "code",
   "execution_count": null,
   "metadata": {},
   "outputs": [],
   "source": []
  },
  {
   "cell_type": "markdown",
   "metadata": {},
   "source": [
    "## Setup"
   ]
  },
  {
   "cell_type": "code",
   "execution_count": 1,
   "metadata": {
    "ExecuteTime": {
     "end_time": "2020-11-04T22:13:08.741399Z",
     "start_time": "2020-11-04T22:13:06.524849Z"
    }
   },
   "outputs": [],
   "source": [
    "# Basics\n",
    "import pandas as pd\n",
    "import numpy as np\n",
    "import matplotlib.pyplot as plt\n",
    "import seaborn as sns\n",
    "%matplotlib inline\n",
    "import pickle \n",
    "\n",
    "# sklearn\n",
    "from sklearn.feature_extraction.text import CountVectorizer\n",
    "\n",
    "# corex\n",
    "from corextopic import corextopic as ct\n",
    "from corextopic import vis_topic as vt\n",
    "\n",
    "# bespoke\n",
    "from preprocessing_funcs import clean_tweet, get_hashtags, get_emojis"
   ]
  },
  {
   "cell_type": "code",
   "execution_count": null,
   "metadata": {
    "ExecuteTime": {
     "end_time": "2020-11-04T21:53:13.830790Z",
     "start_time": "2020-11-04T21:53:12.451526Z"
    }
   },
   "outputs": [],
   "source": [
    "#df = pd.read_csv('../data_files/processed_tweets.zip')"
   ]
  },
  {
   "cell_type": "code",
   "execution_count": 2,
   "metadata": {
    "ExecuteTime": {
     "end_time": "2020-11-04T22:13:22.630203Z",
     "start_time": "2020-11-04T22:13:22.449747Z"
    }
   },
   "outputs": [],
   "source": [
    "with open('../data_files/tweets.pickle', 'rb') as read_file:\n",
    "    df = pickle.load(read_file)"
   ]
  },
  {
   "cell_type": "code",
   "execution_count": 3,
   "metadata": {
    "ExecuteTime": {
     "end_time": "2020-11-04T22:13:24.064632Z",
     "start_time": "2020-11-04T22:13:24.054087Z"
    },
    "scrolled": true
   },
   "outputs": [
    {
     "data": {
      "text/html": [
       "<div>\n",
       "<style scoped>\n",
       "    .dataframe tbody tr th:only-of-type {\n",
       "        vertical-align: middle;\n",
       "    }\n",
       "\n",
       "    .dataframe tbody tr th {\n",
       "        vertical-align: top;\n",
       "    }\n",
       "\n",
       "    .dataframe thead th {\n",
       "        text-align: right;\n",
       "    }\n",
       "</style>\n",
       "<table border=\"1\" class=\"dataframe\">\n",
       "  <thead>\n",
       "    <tr style=\"text-align: right;\">\n",
       "      <th></th>\n",
       "      <th>text</th>\n",
       "      <th>clean</th>\n",
       "      <th>processed</th>\n",
       "    </tr>\n",
       "  </thead>\n",
       "  <tbody>\n",
       "    <tr>\n",
       "      <th>0</th>\n",
       "      <td>#IslamKills Are you trying to say that there w...</td>\n",
       "      <td>islam kills are you trying to say that there w...</td>\n",
       "      <td>islam kill try say terrorist attack europe ref...</td>\n",
       "    </tr>\n",
       "    <tr>\n",
       "      <th>1</th>\n",
       "      <td>Clinton: Trump should’ve apologized more, atta...</td>\n",
       "      <td>clinton trump should ve apologized more attack...</td>\n",
       "      <td>clinton trump apologize attack little</td>\n",
       "    </tr>\n",
       "    <tr>\n",
       "      <th>2</th>\n",
       "      <td>RT @ltapoll: Who was/is the best president of ...</td>\n",
       "      <td>who was is the best president of the past year...</td>\n",
       "      <td>well president past retweet</td>\n",
       "    </tr>\n",
       "    <tr>\n",
       "      <th>3</th>\n",
       "      <td>RT @jww372: I don't have to guess your religio...</td>\n",
       "      <td>i don t have to guess your religion christmas ...</td>\n",
       "      <td>guess religion christmas aftermath</td>\n",
       "    </tr>\n",
       "    <tr>\n",
       "      <th>4</th>\n",
       "      <td>RT @Shareblue: Pence and his lawyers decided w...</td>\n",
       "      <td>pence and his lawyers decided which of his off...</td>\n",
       "      <td>pence lawyer decide official email public can see</td>\n",
       "    </tr>\n",
       "  </tbody>\n",
       "</table>\n",
       "</div>"
      ],
      "text/plain": [
       "                                                text  \\\n",
       "0  #IslamKills Are you trying to say that there w...   \n",
       "1  Clinton: Trump should’ve apologized more, atta...   \n",
       "2  RT @ltapoll: Who was/is the best president of ...   \n",
       "3  RT @jww372: I don't have to guess your religio...   \n",
       "4  RT @Shareblue: Pence and his lawyers decided w...   \n",
       "\n",
       "                                               clean  \\\n",
       "0  islam kills are you trying to say that there w...   \n",
       "1  clinton trump should ve apologized more attack...   \n",
       "2  who was is the best president of the past year...   \n",
       "3  i don t have to guess your religion christmas ...   \n",
       "4  pence and his lawyers decided which of his off...   \n",
       "\n",
       "                                           processed  \n",
       "0  islam kill try say terrorist attack europe ref...  \n",
       "1              clinton trump apologize attack little  \n",
       "2                        well president past retweet  \n",
       "3                 guess religion christmas aftermath  \n",
       "4  pence lawyer decide official email public can see  "
      ]
     },
     "execution_count": 3,
     "metadata": {},
     "output_type": "execute_result"
    }
   ],
   "source": [
    "df.head()"
   ]
  },
  {
   "cell_type": "code",
   "execution_count": null,
   "metadata": {},
   "outputs": [],
   "source": []
  },
  {
   "cell_type": "markdown",
   "metadata": {},
   "source": [
    "## Topic Modeling"
   ]
  },
  {
   "cell_type": "markdown",
   "metadata": {},
   "source": [
    "### Cleaned (not lemmatized) Tweets - no anchors"
   ]
  },
  {
   "cell_type": "code",
   "execution_count": 4,
   "metadata": {
    "ExecuteTime": {
     "end_time": "2020-11-04T22:13:36.446740Z",
     "start_time": "2020-11-04T22:13:36.444436Z"
    }
   },
   "outputs": [],
   "source": [
    "clean_tweets = df.clean"
   ]
  },
  {
   "cell_type": "code",
   "execution_count": 5,
   "metadata": {
    "ExecuteTime": {
     "end_time": "2020-11-04T22:13:38.314479Z",
     "start_time": "2020-11-04T22:13:38.312265Z"
    }
   },
   "outputs": [],
   "source": [
    "proc_tweets = df.processed"
   ]
  },
  {
   "cell_type": "code",
   "execution_count": 6,
   "metadata": {
    "ExecuteTime": {
     "end_time": "2020-11-04T22:13:46.592589Z",
     "start_time": "2020-11-04T22:13:44.316738Z"
    }
   },
   "outputs": [],
   "source": [
    "vectorizer = CountVectorizer(#max_features=60000,\n",
    "                             token_pattern=\"\\\\b[a-z][a-z]+\\\\b\",\n",
    "                             binary=True,\n",
    "                             stop_words='english')\n",
    "\n",
    "doc_word = vectorizer.fit_transform(clean_tweets)\n",
    "words = list(np.asarray(vectorizer.get_feature_names()))"
   ]
  },
  {
   "cell_type": "code",
   "execution_count": 7,
   "metadata": {
    "ExecuteTime": {
     "end_time": "2020-11-04T22:18:30.808724Z",
     "start_time": "2020-11-04T22:13:47.130475Z"
    }
   },
   "outputs": [
    {
     "data": {
      "text/plain": [
       "<corextopic.corextopic.Corex at 0x7fea80ad5670>"
      ]
     },
     "execution_count": 7,
     "metadata": {},
     "output_type": "execute_result"
    }
   ],
   "source": [
    "topic_model = ct.Corex(n_hidden=10, \n",
    "                       words=words,\n",
    "                       max_iter=200, \n",
    "                       seed=42)\n",
    "\n",
    "topic_model.fit(doc_word, words=words, docs=clean_tweets)"
   ]
  },
  {
   "cell_type": "code",
   "execution_count": 8,
   "metadata": {
    "ExecuteTime": {
     "end_time": "2020-11-04T22:18:31.608053Z",
     "start_time": "2020-11-04T22:18:31.025249Z"
    }
   },
   "outputs": [
    {
     "name": "stdout",
     "output_type": "stream",
     "text": [
      "0: merkel, muss, bleiben, der, die, survival, ist, thanksgiving, und, guide\n",
      "1: trump, hillary, clinton, donald, real, campaign, vote, maga, gop, president\n",
      "2: tcot, pjnet, ccot, cruz, mt, tea, ted, wake, america, oscar\n",
      "3: police, muslim, refugees, muslims, islamic, terrorist, killed, attack, iran, terror\n",
      "4: news, obama, post, new, politics, state, fox, russia, dnc, breaking\n",
      "5: midnight, alternative, debates, better, san, fishtv, drunkbands, redneckamovie, dogsongs, addamovieruinamovie\n",
      "6: magazine, falls, com, khan, newt, gingrich, water, phosphorus, akbar, album\n",
      "7: islam, christmas, kills, gift, ideas, politicians, aftermath, brussels, year, old\n",
      "8: don, know, people, black, lives, matter, just, right, doesn, think\n",
      "9: like, twitter, looks, cyber, censorship, reallifemagicspells, things, warren, elizabeth, kim\n"
     ]
    }
   ],
   "source": [
    "# Print all topics from the CorEx topic model\n",
    "topics = topic_model.get_topics()\n",
    "for n,topic in enumerate(topics):\n",
    "    topic_words,_ = zip(*topic)\n",
    "    print('{}: '.format(n) + ', '.join(topic_words))"
   ]
  },
  {
   "cell_type": "code",
   "execution_count": 9,
   "metadata": {
    "ExecuteTime": {
     "end_time": "2020-11-04T22:18:48.561332Z",
     "start_time": "2020-11-04T22:18:48.381398Z"
    }
   },
   "outputs": [
    {
     "data": {
      "image/png": "[encoded data removed]",
      "text/plain": [
       "<Figure size 720x360 with 1 Axes>"
      ]
     },
     "metadata": {
      "needs_background": "light"
     },
     "output_type": "display_data"
    }
   ],
   "source": [
    "%matplotlib inline\n",
    "plt.figure(figsize=(10,5))\n",
    "plt.bar(range(topic_model.tcs.shape[0]), topic_model.tcs, color='#4e79a7', width=0.5)\n",
    "plt.xlabel('Topic', fontsize=16)\n",
    "plt.ylabel('Total Correlation (nats)', fontsize=16)\n",
    "plt.show()"
   ]
  },
  {
   "cell_type": "code",
   "execution_count": 39,
   "metadata": {
    "ExecuteTime": {
     "end_time": "2020-11-04T22:36:04.647531Z",
     "start_time": "2020-11-04T22:36:04.644238Z"
    }
   },
   "outputs": [],
   "source": [
    "def show_top_tweets(topic_model, num_tweets_to_show):\n",
    "    for i in range(len(topics)):\n",
    "        print(f'Topic {i}')\n",
    "        top_tweets = [tweet[0] for tweet in topic_model.get_top_docs(topic=i, n_docs=num_tweets_to_show)]\n",
    "        print(top_tweets, '\\n')"
   ]
  },
  {
   "cell_type": "code",
   "execution_count": 40,
   "metadata": {
    "ExecuteTime": {
     "end_time": "2020-11-04T22:36:26.025347Z",
     "start_time": "2020-11-04T22:36:23.600257Z"
    }
   },
   "outputs": [
    {
     "name": "stdout",
     "output_type": "stream",
     "text": [
      "Topic 0\n",
      "['bislang waren diese konkurrenten ausnahmslos m nner merkel muss bleiben', 't rkische zeitung nennt merkel  schlimmer als hitler  und was ist dann erdogan', 'ddie probleme der afd w hler werden bei merkel und der cdu ernst genommen merkel muss bleiben', 'peter theisen sehr geehrter theisen \\r\\nw rden sie merkel noch ein mal w hlen merkel muss bleiben', 'notte quartogrado quartograders gianluiginuzzi a meluzzi passate un buon we felice\\r\\ngrazie'] \n",
      "\n",
      "Topic 1\n",
      "['and what will hillary clinton or real donald trump i will vote who has the best solution palestinian lives matte ', 'pat toomey denounces trump clinton but won t say who he will support', 'hillary s campaign is in total meltdown desperation mode \\n\\n crooked hillary\\n lockherup \\n wikileaks ', 'women \\n blacks \\n jobless \\n\\nicymi\\n hillary clinton s life of deceit \\nseen through leaked emails \\n\\n  \\nhtt ', 'trump takes on clinton over leaked basement dweller comments politics'] \n",
      "\n",
      "Topic 2\n",
      "['mt why vote for anyone less vote cruz scprimary tcot ccot trusted cruz crew  ', 'mt maroulakiz and my god renewus pjnet ccot tcot', 'tea partynews tea party politics conservative usa america libertarian nobama wethepeople patriot', 'deneenborelli interviewing sented cruz at cr crconvention tcot pjnet', 'race baiters extort money from tax payers that is a crime rt tcot ccot makedclisten tea party con '] \n",
      "\n",
      "Topic 3\n",
      "['updated twin bomb blasts kill injure in syria s homs islamicstate zahra aleppo as ', 'alert dc police secure multiple crime scenes after officers shot suspect dead trinidad area ne', 'media mob frenzy daily beast falsely blames quebec mosque shooting on right wing bloggers nolt ', 'spanish police raid islamic state cell in north africa arrest former guantanamo prisoner\\r\\n\\r\\nobama let him go', 'radical islamist terror makes no distinction between shades of infidel benjamin netanyahu\\n munich'] \n",
      "\n",
      "Topic 4\n",
      "['north korea says obama s push for sanctions laughable world news', 'no denies reports it has scaled back plans to renegotiate eu role', 'politico reporter glenn thrush busted sending story to team clinton for  approval ', 'trump on the rise   clinton in decline ryan mcconnell gop elites not yet on board the trump train fredbarnes joins foxld ', 'news post gop philly meetings bugged   mole sends recordings to liberal news outlets audio'] \n",
      "\n",
      "Topic 5\n",
      "['citizenfour cane addamovieruinamovie midnight', 'beauty and the beastmaster addamovieruinamovie midnight', 'ff dinahogenboom stenojenny missouriwolfman tea party chris eylencolourful us ', 'interview with historical fiction author linda weaver lindawclarke fliploud readersgaze ', 'movie review tyburr raunch and rage in spike lee s  chi raq  via bostonglobe gt black lives matter'] \n",
      "\n",
      "Topic 6\n",
      "['catch lhhh s mzprincesslove amp rayj in the s tonight at   hiphopsquares', 'gavin macfadyen was mentor to assange and his closest friend in london to wikileaks sarah harrison joseph farrell and m ', 'photos lilbibby gherbo draycomccoy amp trillsammyy at fakeshoredrive s rbsoundselect show likesthis', 'acidtriptamo vlazuli via thehypemagazine acidtriptamo', 'lolmuslims \\r\\negyptian historian ahmad sarhan the egyptians not columbus discovered america memrireports'] \n",
      "\n",
      "Topic 7\n",
      "['gift ideas for politicians dinner with hannibal lecter', 'gift ideas for politicians the scrooge christmas carol experience', 'sign the petition tell potus to stop the dakota access pipeline via credomobile nodapl', 'live anonukradio nodapl rebelutionary z raincoaster by anonukradio via spreaker', 'islam kills prayforbrussels brussels   brussels'] \n",
      "\n",
      "Topic 8\n",
      "['the youth stay holding it down saintjamarday black lives matter', 'cuss more tv just said cussors are smarter people \\r\\nand if it s on tv you know its true', 'riptreyvonmartin we need justice in this world rest in peace my sweety c wearhoodiefortrayvon', 'black lives don t matter to hillary clinton black votes matter to hillary clinton gianno caldwell', 'breakingnews black lives matter justiceformariowoods mariowoods sanfrancisco sanfranciscoshooting sfpd bayview'] \n",
      "\n",
      "Topic 9\n",
      "['i don t want cia to read my imessages no cyber censorship', 'cybercensorship has nothing to do with cybersecurity no cyber censorship', 'contentmarketing forget about the digitalmarketing by joepulizzi', 'potus last tweet there isn t always going to be another house nigger to mop up the mess you ole fayes make so don t fuc ', 'charactero vacuumus for people who have personalities that suck \\r\\n reallifemagicspells'] \n",
      "\n"
     ]
    }
   ],
   "source": [
    "show_top_tweets(topic_model, 5)"
   ]
  },
  {
   "cell_type": "code",
   "execution_count": null,
   "metadata": {},
   "outputs": [],
   "source": []
  },
  {
   "cell_type": "code",
   "execution_count": null,
   "metadata": {},
   "outputs": [],
   "source": []
  },
  {
   "cell_type": "code",
   "execution_count": null,
   "metadata": {},
   "outputs": [],
   "source": []
  },
  {
   "cell_type": "code",
   "execution_count": null,
   "metadata": {},
   "outputs": [],
   "source": []
  },
  {
   "cell_type": "code",
   "execution_count": null,
   "metadata": {},
   "outputs": [],
   "source": []
  },
  {
   "cell_type": "code",
   "execution_count": null,
   "metadata": {},
   "outputs": [],
   "source": []
  },
  {
   "cell_type": "markdown",
   "metadata": {},
   "source": [
    "Not great -- run it again with processed tweets."
   ]
  },
  {
   "cell_type": "code",
   "execution_count": null,
   "metadata": {
    "ExecuteTime": {
     "end_time": "2020-11-04T22:05:25.265688Z",
     "start_time": "2020-11-04T22:05:20.409008Z"
    }
   },
   "outputs": [],
   "source": [
    "vectorizer = CountVectorizer(token_pattern=\"\\\\b[a-z][a-z]+\\\\b\",\n",
    "                             binary=True,\n",
    "                             stop_words='english')\n",
    "\n",
    "doc_word = vectorizer.fit_transform(proc_tweets)\n",
    "words = list(np.asarray(vectorizer.get_feature_names()))"
   ]
  },
  {
   "cell_type": "code",
   "execution_count": null,
   "metadata": {
    "ExecuteTime": {
     "end_time": "2020-11-04T22:11:20.015500Z",
     "start_time": "2020-11-04T22:05:25.543629Z"
    }
   },
   "outputs": [],
   "source": [
    "topic_model = ct.Corex(n_hidden=10, \n",
    "                       words=words,\n",
    "                       max_iter=200, \n",
    "                       seed=42)\n",
    "\n",
    "topic_model.fit(doc_word, words=words, docs=proc_tweets)"
   ]
  },
  {
   "cell_type": "code",
   "execution_count": null,
   "metadata": {
    "ExecuteTime": {
     "end_time": "2020-11-04T22:11:56.070543Z",
     "start_time": "2020-11-04T22:11:55.775775Z"
    }
   },
   "outputs": [],
   "source": [
    "# Print all topics from the CorEx topic model\n",
    "topics = topic_model.get_topics()\n",
    "for n,topic in enumerate(topics):\n",
    "    topic_words,_ = zip(*topic)\n",
    "    print('{}: '.format(n) + ', '.join(topic_words))"
   ]
  },
  {
   "cell_type": "code",
   "execution_count": null,
   "metadata": {},
   "outputs": [],
   "source": []
  },
  {
   "cell_type": "code",
   "execution_count": null,
   "metadata": {},
   "outputs": [],
   "source": []
  },
  {
   "cell_type": "code",
   "execution_count": null,
   "metadata": {},
   "outputs": [],
   "source": []
  },
  {
   "cell_type": "code",
   "execution_count": null,
   "metadata": {},
   "outputs": [],
   "source": []
  },
  {
   "cell_type": "code",
   "execution_count": null,
   "metadata": {},
   "outputs": [],
   "source": []
  },
  {
   "cell_type": "code",
   "execution_count": null,
   "metadata": {
    "ExecuteTime": {
     "end_time": "2020-11-04T00:07:32.210300Z",
     "start_time": "2020-11-04T00:07:32.205694Z"
    }
   },
   "outputs": [],
   "source": [
    "anchor_topics = [['donald', 'trump', 'maga'],                                             # trump stuff\n",
    "                ['hillary', 'clinton'],                                                  # hillary stuff\n",
    "                ['merkel', 'muss', 'die', 'ist', 'ich', 'das'],                          # german stuff\n",
    "                ['color', 'blm', 'black', 'matt', 'oscar', 'racism', 'blacktwitter'],    # BLM/race stuff\n",
    "                ['police', 'officer', 'shoot'],                                          # police stuff\n",
    "                ['obama', 'barack'],                                                     # obama stuff\n",
    "                ['isis', 'muslim', 'islam']                                              # isis/islam stuff\n",
    "               ]\n",
    "\n",
    "len(anchor_topics)"
   ]
  },
  {
   "cell_type": "code",
   "execution_count": null,
   "metadata": {
    "ExecuteTime": {
     "end_time": "2020-11-04T00:07:44.632374Z",
     "start_time": "2020-11-04T00:07:42.653732Z"
    }
   },
   "outputs": [],
   "source": [
    "vectorizer = CountVectorizer(token_pattern=\"\\\\b[a-z][a-z]+\\\\b\",\n",
    "                             binary=True,\n",
    "                             stop_words='english')\n",
    "\n",
    "doc_word = vectorizer.fit_transform(tweets)\n",
    "words = list(np.asarray(vectorizer.get_feature_names()))"
   ]
  },
  {
   "cell_type": "code",
   "execution_count": null,
   "metadata": {
    "ExecuteTime": {
     "end_time": "2020-11-04T00:11:00.712979Z",
     "start_time": "2020-11-04T00:07:52.075502Z"
    }
   },
   "outputs": [],
   "source": [
    "topic_model = ct.Corex(n_hidden=10, \n",
    "                       words=words,\n",
    "                       max_iter=200, \n",
    "                       seed=42)\n",
    "\n",
    "topic_model.fit(doc_word, words=words, docs=tweets, \n",
    "                anchors=anchor_topics, anchor_strength=6)"
   ]
  },
  {
   "cell_type": "code",
   "execution_count": null,
   "metadata": {
    "ExecuteTime": {
     "end_time": "2020-11-04T00:11:01.183343Z",
     "start_time": "2020-11-04T00:11:00.829565Z"
    }
   },
   "outputs": [],
   "source": [
    "# Print all topics from the CorEx topic model\n",
    "topics = topic_model.get_topics()\n",
    "for n,topic in enumerate(topics):\n",
    "    topic_words,_ = zip(*topic)\n",
    "    print('{}: '.format(n) + ', '.join(topic_words))"
   ]
  },
  {
   "cell_type": "code",
   "execution_count": null,
   "metadata": {
    "ExecuteTime": {
     "end_time": "2020-11-04T00:11:01.555791Z",
     "start_time": "2020-11-04T00:11:01.301792Z"
    }
   },
   "outputs": [],
   "source": [
    "# Let's check out topic : graphics\n",
    "topic_model.get_top_docs(topic=0, n_docs=10)"
   ]
  },
  {
   "cell_type": "code",
   "execution_count": null,
   "metadata": {
    "ExecuteTime": {
     "end_time": "2020-11-04T00:11:33.873831Z",
     "start_time": "2020-11-04T00:11:33.712164Z"
    }
   },
   "outputs": [],
   "source": [
    "%matplotlib inline\n",
    "plt.figure(figsize=(10,5))\n",
    "plt.bar(range(topic_model.tcs.shape[0]), topic_model.tcs, color='#4e79a7', width=0.5)\n",
    "plt.xlabel('Topic', fontsize=16)\n",
    "plt.ylabel('Total Correlation (nats)', fontsize=16)\n",
    "plt.show()"
   ]
  },
  {
   "cell_type": "code",
   "execution_count": null,
   "metadata": {
    "ExecuteTime": {
     "end_time": "2020-11-04T00:11:36.415733Z",
     "start_time": "2020-11-04T00:11:36.412236Z"
    }
   },
   "outputs": [],
   "source": [
    "topic_model.tc"
   ]
  },
  {
   "cell_type": "code",
   "execution_count": null,
   "metadata": {},
   "outputs": [],
   "source": []
  },
  {
   "cell_type": "code",
   "execution_count": null,
   "metadata": {
    "ExecuteTime": {
     "end_time": "2020-11-04T00:42:41.108878Z",
     "start_time": "2020-11-04T00:42:41.104079Z"
    }
   },
   "outputs": [],
   "source": [
    "anchor_topics = [['donald', 'trump'],\n",
    "                 ['donald', 'trump'],\n",
    "                 ['donald', 'trump'],\n",
    "                 ['donald', 'trump'],\n",
    "                 ['hillary', 'clinton'],\n",
    "                 ['hillary', 'clinton'],\n",
    "                 ['hillary', 'clinton'],\n",
    "                 ['hillary', 'clinton'],\n",
    "                 ['merkel', 'muss', 'die', 'ist', 'ich', 'das'],\n",
    "                ]\n",
    "\n",
    "len(anchor_topics)"
   ]
  },
  {
   "cell_type": "code",
   "execution_count": null,
   "metadata": {
    "ExecuteTime": {
     "end_time": "2020-11-04T00:47:35.608981Z",
     "start_time": "2020-11-04T00:43:03.756910Z"
    }
   },
   "outputs": [],
   "source": [
    "vectorizer = CountVectorizer(token_pattern=\"\\\\b[a-z][a-z]+\\\\b\",\n",
    "                             binary=True,\n",
    "                             stop_words='english')\n",
    "\n",
    "doc_word = vectorizer.fit_transform(tweets)\n",
    "words = list(np.asarray(vectorizer.get_feature_names()))\n",
    "\n",
    "topic_model = ct.Corex(n_hidden=14, \n",
    "                       words=words,\n",
    "                       max_iter=200, \n",
    "                       seed=42)\n",
    "\n",
    "topic_model.fit(doc_word, words=words, docs=tweets, \n",
    "               anchors=anchor_topics, anchor_strength=5)"
   ]
  },
  {
   "cell_type": "code",
   "execution_count": null,
   "metadata": {
    "ExecuteTime": {
     "end_time": "2020-11-04T00:47:36.609146Z",
     "start_time": "2020-11-04T00:47:35.733653Z"
    }
   },
   "outputs": [],
   "source": [
    "# Print all topics from the CorEx topic model\n",
    "topics = topic_model.get_topics()\n",
    "for n,topic in enumerate(topics):\n",
    "    topic_words,_ = zip(*topic)\n",
    "    print('{}: '.format(n) + ', '.join(topic_words))"
   ]
  },
  {
   "cell_type": "code",
   "execution_count": null,
   "metadata": {
    "ExecuteTime": {
     "end_time": "2020-11-04T00:48:16.814379Z",
     "start_time": "2020-11-04T00:48:16.637138Z"
    },
    "scrolled": true
   },
   "outputs": [],
   "source": [
    "%matplotlib inline\n",
    "plt.figure(figsize=(10,5))\n",
    "plt.bar(range(topic_model.tcs.shape[0]), topic_model.tcs, color='#4e79a7', width=0.5)\n",
    "plt.xlabel('Topic', fontsize=16)\n",
    "plt.ylabel('Total Correlation (nats)', fontsize=16)\n",
    "plt.show()"
   ]
  },
  {
   "cell_type": "code",
   "execution_count": null,
   "metadata": {
    "ExecuteTime": {
     "end_time": "2020-11-04T00:48:26.904793Z",
     "start_time": "2020-11-04T00:48:26.901598Z"
    }
   },
   "outputs": [],
   "source": [
    "topic_model.tc"
   ]
  },
  {
   "cell_type": "code",
   "execution_count": null,
   "metadata": {},
   "outputs": [],
   "source": []
  },
  {
   "cell_type": "code",
   "execution_count": null,
   "metadata": {
    "ExecuteTime": {
     "end_time": "2020-11-04T21:13:29.774692Z",
     "start_time": "2020-11-04T21:13:29.768326Z"
    }
   },
   "outputs": [],
   "source": [
    "anchor_topics = [['donald', 'trump'],\n",
    "                 ['donald', 'trump'],\n",
    "                 ['donald', 'trump'],\n",
    "                 ['donald', 'trump'],\n",
    "                 ['hillary', 'clinton'],\n",
    "                 ['hillary', 'clinton'],\n",
    "                 ['hillary', 'clinton'],\n",
    "                 ['hillary', 'clinton'],\n",
    "                 ['merkel', 'muss', 'die', 'ist', 'ich', 'das'],\n",
    "                 ['police', 'officer', 'cop'],\n",
    "                 ['barack', 'obama'], \n",
    "                 ['nowplaying', 'music', 'soundcloud']\n",
    "                ]\n",
    "\n",
    "len(anchor_topics)"
   ]
  },
  {
   "cell_type": "code",
   "execution_count": null,
   "metadata": {
    "ExecuteTime": {
     "end_time": "2020-11-04T21:16:27.632582Z",
     "start_time": "2020-11-04T21:13:59.813044Z"
    }
   },
   "outputs": [],
   "source": [
    "vectorizer = CountVectorizer(token_pattern=\"\\\\b[a-z][a-z]+\\\\b\",\n",
    "                             binary=True,\n",
    "                             stop_words='english')\n",
    "\n",
    "doc_word = vectorizer.fit_transform(tweets)\n",
    "words = list(np.asarray(vectorizer.get_feature_names()))\n",
    "\n",
    "topic_model = ct.Corex(n_hidden=16, \n",
    "                       words=words,\n",
    "                       max_iter=200, \n",
    "                       seed=42)\n",
    "\n",
    "topic_model.fit(doc_word, words=words, docs=tweets, \n",
    "               anchors=anchor_topics, anchor_strength=5)"
   ]
  },
  {
   "cell_type": "code",
   "execution_count": null,
   "metadata": {
    "ExecuteTime": {
     "end_time": "2020-11-04T21:16:28.843602Z",
     "start_time": "2020-11-04T21:16:27.748718Z"
    }
   },
   "outputs": [],
   "source": [
    "# Print all topics from the CorEx topic model\n",
    "topics = topic_model.get_topics()\n",
    "for n,topic in enumerate(topics):\n",
    "    topic_words,_ = zip(*topic)\n",
    "    print('{}: '.format(n) + ', '.join(topic_words))"
   ]
  },
  {
   "cell_type": "code",
   "execution_count": null,
   "metadata": {
    "ExecuteTime": {
     "end_time": "2020-11-04T21:18:28.662772Z",
     "start_time": "2020-11-04T21:18:28.468791Z"
    },
    "scrolled": true
   },
   "outputs": [],
   "source": [
    "%matplotlib inline\n",
    "plt.figure(figsize=(10,5))\n",
    "plt.bar(range(topic_model.tcs.shape[0]), topic_model.tcs, color='#4e79a7', width=0.5)\n",
    "plt.xlabel('Topic', fontsize=16)\n",
    "plt.ylabel('Total Correlation (nats)', fontsize=16)\n",
    "plt.show()"
   ]
  },
  {
   "cell_type": "code",
   "execution_count": null,
   "metadata": {
    "ExecuteTime": {
     "end_time": "2020-11-04T21:18:31.682940Z",
     "start_time": "2020-11-04T21:18:31.679538Z"
    }
   },
   "outputs": [],
   "source": [
    "topic_model.tc"
   ]
  },
  {
   "cell_type": "code",
   "execution_count": null,
   "metadata": {
    "ExecuteTime": {
     "end_time": "2020-11-04T21:18:33.516982Z",
     "start_time": "2020-11-04T21:18:33.508178Z"
    }
   },
   "outputs": [],
   "source": [
    "topic_model.clusters, len(topic_model.clusters)"
   ]
  },
  {
   "cell_type": "code",
   "execution_count": null,
   "metadata": {
    "ExecuteTime": {
     "end_time": "2020-11-04T21:19:08.436776Z",
     "start_time": "2020-11-04T21:19:08.430875Z"
    }
   },
   "outputs": [],
   "source": [
    "topic_model.clusters[:10]"
   ]
  },
  {
   "cell_type": "code",
   "execution_count": null,
   "metadata": {
    "ExecuteTime": {
     "end_time": "2020-11-04T21:40:07.451266Z",
     "start_time": "2020-11-04T21:40:07.447832Z"
    }
   },
   "outputs": [],
   "source": [
    "type(topics)"
   ]
  },
  {
   "cell_type": "code",
   "execution_count": null,
   "metadata": {
    "ExecuteTime": {
     "end_time": "2020-11-04T21:40:09.881505Z",
     "start_time": "2020-11-04T21:40:09.870351Z"
    }
   },
   "outputs": [],
   "source": [
    "topics"
   ]
  },
  {
   "cell_type": "code",
   "execution_count": null,
   "metadata": {},
   "outputs": [],
   "source": []
  },
  {
   "cell_type": "code",
   "execution_count": null,
   "metadata": {
    "ExecuteTime": {
     "end_time": "2020-11-04T01:02:23.596744Z",
     "start_time": "2020-11-04T01:02:23.593108Z"
    }
   },
   "outputs": [],
   "source": [
    "doc_word"
   ]
  },
  {
   "cell_type": "code",
   "execution_count": null,
   "metadata": {
    "ExecuteTime": {
     "end_time": "2020-11-04T01:03:18.930895Z",
     "start_time": "2020-11-04T01:03:13.969842Z"
    }
   },
   "outputs": [],
   "source": [
    "doc_matrix = pd.DataFrame(doc_word)\n"
   ]
  },
  {
   "cell_type": "code",
   "execution_count": null,
   "metadata": {
    "ExecuteTime": {
     "end_time": "2020-11-04T01:04:53.760368Z",
     "start_time": "2020-11-04T01:04:53.756805Z"
    }
   },
   "outputs": [],
   "source": [
    "topic_model.tcs"
   ]
  },
  {
   "cell_type": "code",
   "execution_count": null,
   "metadata": {
    "ExecuteTime": {
     "end_time": "2020-11-04T01:04:59.731668Z",
     "start_time": "2020-11-04T01:04:59.727773Z"
    }
   },
   "outputs": [],
   "source": [
    "len(topic_model.tcs)"
   ]
  },
  {
   "cell_type": "code",
   "execution_count": null,
   "metadata": {},
   "outputs": [],
   "source": []
  },
  {
   "cell_type": "code",
   "execution_count": null,
   "metadata": {},
   "outputs": [],
   "source": []
  }
 ],
 "metadata": {
  "kernelspec": {
   "display_name": "Python [conda env:metis] *",
   "language": "python",
   "name": "conda-env-metis-py"
  },
  "language_info": {
   "codemirror_mode": {
    "name": "ipython",
    "version": 3
   },
   "file_extension": ".py",
   "mimetype": "text/x-python",
   "name": "python",
   "nbconvert_exporter": "python",
   "pygments_lexer": "ipython3",
   "version": "3.8.5"
  },
  "toc": {
   "base_numbering": 1,
   "nav_menu": {},
   "number_sections": true,
   "sideBar": true,
   "skip_h1_title": false,
   "title_cell": "Table of Contents",
   "title_sidebar": "Contents",
   "toc_cell": false,
   "toc_position": {},
   "toc_section_display": true,
   "toc_window_display": true
  },
  "varInspector": {
   "cols": {
    "lenName": 16,
    "lenType": 16,
    "lenVar": 40
   },
   "kernels_config": {
    "python": {
     "delete_cmd_postfix": "",
     "delete_cmd_prefix": "del ",
     "library": "var_list.py",
     "varRefreshCmd": "print(var_dic_list())"
    },
    "r": {
     "delete_cmd_postfix": ") ",
     "delete_cmd_prefix": "rm(",
     "library": "var_list.r",
     "varRefreshCmd": "cat(var_dic_list()) "
    }
   },
   "types_to_exclude": [
    "module",
    "function",
    "builtin_function_or_method",
    "instance",
    "_Feature"
   ],
   "window_display": false
  }
 },
 "nbformat": 4,
 "nbformat_minor": 4
}
