{
 "cells": [
  {
   "cell_type": "markdown",
   "metadata": {},
   "source": [
    "# Topic Modeling with CorEx"
   ]
  },
  {
   "cell_type": "code",
   "execution_count": null,
   "metadata": {},
   "outputs": [],
   "source": []
  },
  {
   "cell_type": "code",
   "execution_count": null,
   "metadata": {},
   "outputs": [],
   "source": []
  },
  {
   "cell_type": "markdown",
   "metadata": {},
   "source": [
    "## Setup"
   ]
  },
  {
   "cell_type": "code",
   "execution_count": 1,
   "metadata": {
    "ExecuteTime": {
     "end_time": "2020-11-07T23:03:29.098226Z",
     "start_time": "2020-11-07T23:03:26.873420Z"
    }
   },
   "outputs": [],
   "source": [
    "# Basics\n",
    "import pandas as pd\n",
    "import numpy as np\n",
    "import matplotlib.pyplot as plt\n",
    "import seaborn as sns\n",
    "%matplotlib inline\n",
    "import pickle \n",
    "\n",
    "# sklearn\n",
    "from sklearn.feature_extraction.text import CountVectorizer\n",
    "\n",
    "# corex\n",
    "from corextopic import corextopic as ct\n",
    "from corextopic import vis_topic as vt\n",
    "\n",
    "# bespoke\n",
    "from preprocessing_funcs import clean_tweet, get_hashtags, get_emojis"
   ]
  },
  {
   "cell_type": "code",
   "execution_count": 3,
   "metadata": {
    "ExecuteTime": {
     "end_time": "2020-11-07T23:03:40.554907Z",
     "start_time": "2020-11-07T23:03:40.441395Z"
    }
   },
   "outputs": [],
   "source": [
    "with open('../data_files/processed_tweets.pickle', 'rb') as read_file:\n",
    "    df = pickle.load(read_file)"
   ]
  },
  {
   "cell_type": "code",
   "execution_count": 4,
   "metadata": {
    "ExecuteTime": {
     "end_time": "2020-11-07T23:03:41.931978Z",
     "start_time": "2020-11-07T23:03:41.922388Z"
    },
    "scrolled": true
   },
   "outputs": [
    {
     "data": {
      "text/html": [
       "<div>\n",
       "<style scoped>\n",
       "    .dataframe tbody tr th:only-of-type {\n",
       "        vertical-align: middle;\n",
       "    }\n",
       "\n",
       "    .dataframe tbody tr th {\n",
       "        vertical-align: top;\n",
       "    }\n",
       "\n",
       "    .dataframe thead th {\n",
       "        text-align: right;\n",
       "    }\n",
       "</style>\n",
       "<table border=\"1\" class=\"dataframe\">\n",
       "  <thead>\n",
       "    <tr style=\"text-align: right;\">\n",
       "      <th></th>\n",
       "      <th>clean</th>\n",
       "      <th>processed</th>\n",
       "    </tr>\n",
       "  </thead>\n",
       "  <tbody>\n",
       "    <tr>\n",
       "      <th>0</th>\n",
       "      <td>islam kills are you trying to say that there w...</td>\n",
       "      <td>islam kill try say terrorist attack europe ref...</td>\n",
       "    </tr>\n",
       "    <tr>\n",
       "      <th>1</th>\n",
       "      <td>clinton trump should ve apologized more attack...</td>\n",
       "      <td>clinton trump apologize attack little</td>\n",
       "    </tr>\n",
       "    <tr>\n",
       "      <th>2</th>\n",
       "      <td>who was is the best president of the past year...</td>\n",
       "      <td>well president past retweet</td>\n",
       "    </tr>\n",
       "    <tr>\n",
       "      <th>3</th>\n",
       "      <td>i don t have to guess your religion christmasa...</td>\n",
       "      <td>guess religion christmasaftermath</td>\n",
       "    </tr>\n",
       "    <tr>\n",
       "      <th>4</th>\n",
       "      <td>pence and his lawyers decided which of his off...</td>\n",
       "      <td>pence lawyer decide official email public can see</td>\n",
       "    </tr>\n",
       "  </tbody>\n",
       "</table>\n",
       "</div>"
      ],
      "text/plain": [
       "                                               clean  \\\n",
       "0  islam kills are you trying to say that there w...   \n",
       "1  clinton trump should ve apologized more attack...   \n",
       "2  who was is the best president of the past year...   \n",
       "3  i don t have to guess your religion christmasa...   \n",
       "4  pence and his lawyers decided which of his off...   \n",
       "\n",
       "                                           processed  \n",
       "0  islam kill try say terrorist attack europe ref...  \n",
       "1              clinton trump apologize attack little  \n",
       "2                        well president past retweet  \n",
       "3                  guess religion christmasaftermath  \n",
       "4  pence lawyer decide official email public can see  "
      ]
     },
     "execution_count": 4,
     "metadata": {},
     "output_type": "execute_result"
    }
   ],
   "source": [
    "df.head()"
   ]
  },
  {
   "cell_type": "markdown",
   "metadata": {},
   "source": [
    "## Topic Modeling"
   ]
  },
  {
   "cell_type": "code",
   "execution_count": 5,
   "metadata": {
    "ExecuteTime": {
     "end_time": "2020-11-07T23:03:57.524926Z",
     "start_time": "2020-11-07T23:03:57.522733Z"
    }
   },
   "outputs": [],
   "source": [
    "proc_tweets = df.processed"
   ]
  },
  {
   "cell_type": "code",
   "execution_count": 7,
   "metadata": {
    "ExecuteTime": {
     "end_time": "2020-11-07T23:04:16.606258Z",
     "start_time": "2020-11-07T23:04:14.912510Z"
    }
   },
   "outputs": [],
   "source": [
    "vectorizer = CountVectorizer(token_pattern=\"\\\\b[a-z][a-z]+\\\\b\",\n",
    "                             binary=True,\n",
    "                             stop_words='english')\n",
    "\n",
    "doc_word = vectorizer.fit_transform(proc_tweets)\n",
    "words = list(np.asarray(vectorizer.get_feature_names()))"
   ]
  },
  {
   "cell_type": "code",
   "execution_count": 12,
   "metadata": {
    "ExecuteTime": {
     "end_time": "2020-11-07T23:08:17.941959Z",
     "start_time": "2020-11-07T23:08:17.939217Z"
    }
   },
   "outputs": [],
   "source": [
    "def corex_topics(topic_model):\n",
    "    topics = topic_model.get_topics()\n",
    "    for n,topic in enumerate(topics):\n",
    "        topic_words,_ = zip(*topic)\n",
    "        print('{}: '.format(n) + ', '.join(topic_words))"
   ]
  },
  {
   "cell_type": "code",
   "execution_count": 14,
   "metadata": {
    "ExecuteTime": {
     "end_time": "2020-11-07T23:08:29.433040Z",
     "start_time": "2020-11-07T23:08:29.429729Z"
    }
   },
   "outputs": [],
   "source": [
    "def plot_topics(topic_model):\n",
    "    plt.figure(figsize=(10,5))\n",
    "    plt.bar(range(topic_model.tcs.shape[0]), topic_model.tcs, color='#4e79a7', width=0.5)\n",
    "    plt.xlabel('Topic', fontsize=16)\n",
    "    plt.ylabel('Total Correlation (nats)', fontsize=16)\n",
    "    plt.show()"
   ]
  },
  {
   "cell_type": "code",
   "execution_count": 17,
   "metadata": {
    "ExecuteTime": {
     "end_time": "2020-11-07T23:09:13.782912Z",
     "start_time": "2020-11-07T23:09:13.779687Z"
    }
   },
   "outputs": [],
   "source": [
    "def show_top_tweets(topic_model, num_tweets_to_show):\n",
    "    for i in range(len(topics)):\n",
    "        print(f'Topic {i}')\n",
    "        top_tweets = [tweet[0] for tweet in topic_model.get_top_docs(topic=i, n_docs=num_tweets_to_show)]\n",
    "        print(top_tweets, '\\n')"
   ]
  },
  {
   "cell_type": "markdown",
   "metadata": {},
   "source": [
    "### No Anchors"
   ]
  },
  {
   "cell_type": "code",
   "execution_count": 9,
   "metadata": {
    "ExecuteTime": {
     "end_time": "2020-11-07T23:07:43.375628Z",
     "start_time": "2020-11-07T23:04:34.054901Z"
    }
   },
   "outputs": [
    {
     "data": {
      "text/plain": [
       "<corextopic.corextopic.Corex at 0x7f8795a41070>"
      ]
     },
     "execution_count": 9,
     "metadata": {},
     "output_type": "execute_result"
    }
   ],
   "source": [
    "topic_model = ct.Corex(n_hidden=6, \n",
    "                       words=words,\n",
    "                       max_iter=200, \n",
    "                       seed=42)\n",
    "\n",
    "topic_model.fit(doc_word, words=words, docs=proc_tweets)"
   ]
  },
  {
   "cell_type": "code",
   "execution_count": 13,
   "metadata": {
    "ExecuteTime": {
     "end_time": "2020-11-07T23:08:22.182824Z",
     "start_time": "2020-11-07T23:08:22.009823Z"
    }
   },
   "outputs": [
    {
     "name": "stdout",
     "output_type": "stream",
     "text": [
      "0: merkel, muss, die, ist, das, es, sie, oscarhasnocolor, ich, mit\n",
      "1: obama, kill, islam, police, isis, muslim, refugee, attack, terrorist, midnight\n",
      "2: trump, donald, hillary, real, president, maga, debate, gop, supporter, poll\n",
      "3: clinton, email, campaign, politic, news, fbi, new, wikileaks, post, foundation\n",
      "4: tcot, pjnet, ccot, wakeupamerica, teaparty, cruzcrew, enlist, nra, patriot, tgdn\n",
      "5: politician, mike, gift, pence, idea, session, john, kelly, cnn, senate\n"
     ]
    }
   ],
   "source": [
    "corex_topics(topic_model)"
   ]
  },
  {
   "cell_type": "code",
   "execution_count": 16,
   "metadata": {
    "ExecuteTime": {
     "end_time": "2020-11-07T23:08:49.000416Z",
     "start_time": "2020-11-07T23:08:48.863621Z"
    },
    "scrolled": true
   },
   "outputs": [
    {
     "data": {
      "image/png": "[encoded data removed]",
      "text/plain": [
       "<Figure size 720x360 with 1 Axes>"
      ]
     },
     "metadata": {
      "needs_background": "light"
     },
     "output_type": "display_data"
    }
   ],
   "source": [
    "%matplotlib inline\n",
    "plot_topics(topic_model)"
   ]
  },
  {
   "cell_type": "code",
   "execution_count": 18,
   "metadata": {
    "ExecuteTime": {
     "end_time": "2020-11-07T23:09:23.158165Z",
     "start_time": "2020-11-07T23:09:22.421346Z"
    }
   },
   "outputs": [
    {
     "name": "stdout",
     "output_type": "stream",
     "text": [
      "Topic 0\n",
      "['real issue wethepeople gop thedemocrats yrnf youngcons youngdems teaparty ows justinbieber pjnet', 'ich unterst tze fast alle antr ge merkel merkel muss', 'cdu frau merkel die h chsten kompetenzwerte merkel muss', 'mittelst ndische die arbeitspl tze des merkel muss', 'il film di fly lotus chi l ha visto die che bellissimo'] \n",
      "\n",
      "Topic 1\n",
      "['bergdahl court martial also indict barack hussein obama american thinker', 'although innocent people terror list recognize tamerian tsarnaev despite sign', 'enough yet america muslims univ md demand prayer room every build shuttle service mosque ht', 'obama say isis represent islam ex muslim son imam say isis follow islam letter ob', 'vile woman implore castro extradite want terrorist cop killer joanne chesimard'] \n",
      "\n",
      "Topic 2\n",
      "['thank lorettalynn endorsement real donald trump trump never hillary', 'go via ap thank nh trumptrain drain swamp trump maga americafirst imvotingb trump president', 'hell empty demon earth ask real donald trump satanspawn nevertrump', 'seanmdav wait til hear rubio cruz gope conspire create nh snowstorm', 'thatsmypresident people president presidenttrump potus real donald trump surprise w h visitor tour resume americ'] \n",
      "\n",
      "Topic 3\n",
      "['f g prayfortrump prayforusa prayingfortrump prayfordonald j trumprump allprayfortrump', 'lucille sportsball desi arnaz comedy hour athleticstvshows', 'break puerto rico utility creditor near deal stave default', 'debbie wasserman schultz step dnc chair convention politic', 'retweet follow tarnybabe beapanda steffymunch'] \n",
      "\n",
      "Topic 4\n",
      "['cajun john wayne aka captclayhiggins win louisiana congressional seat scott angelle', 'near million view worldstar pierrealexander kayo montana msmg', 'play problem j hardworker johardworker hardworknation machierei bhmg hardworknation yve', 'congratulation sheriffclarke frontpage mag man good do tcot pjnet tcot ccot', 'chart show racist america really tcot tlot gop teaparty sgp pjnet'] \n",
      "\n",
      "Topic 5\n",
      "['replay david savard cbj', 'djmustard drop serious bass ridin around nipseyhussle rjmrla', 'rolandsmartin tvonetv face conservative panelist try good pence debate', 'power index jeb bush top gop rand paul fall chrisstirewalt gretchencarlson', 'donaldonald j trumprumpjr nosilentconsent get online register'] \n",
      "\n"
     ]
    }
   ],
   "source": [
    "show_top_tweets(topic_model, 5)"
   ]
  },
  {
   "cell_type": "code",
   "execution_count": null,
   "metadata": {},
   "outputs": [],
   "source": []
  },
  {
   "cell_type": "code",
   "execution_count": null,
   "metadata": {},
   "outputs": [],
   "source": []
  },
  {
   "cell_type": "code",
   "execution_count": null,
   "metadata": {},
   "outputs": [],
   "source": []
  },
  {
   "cell_type": "code",
   "execution_count": 19,
   "metadata": {
    "ExecuteTime": {
     "end_time": "2020-11-07T23:14:54.145418Z",
     "start_time": "2020-11-07T23:10:47.943977Z"
    }
   },
   "outputs": [
    {
     "data": {
      "text/plain": [
       "<corextopic.corextopic.Corex at 0x7f8784086850>"
      ]
     },
     "execution_count": 19,
     "metadata": {},
     "output_type": "execute_result"
    }
   ],
   "source": [
    "topic_model = ct.Corex(n_hidden=12, \n",
    "                       words=words,\n",
    "                       max_iter=200, \n",
    "                       seed=42)\n",
    "\n",
    "topic_model.fit(doc_word, words=words, docs=proc_tweets)"
   ]
  },
  {
   "cell_type": "code",
   "execution_count": 20,
   "metadata": {
    "ExecuteTime": {
     "end_time": "2020-11-07T23:14:55.054932Z",
     "start_time": "2020-11-07T23:14:54.265532Z"
    }
   },
   "outputs": [
    {
     "name": "stdout",
     "output_type": "stream",
     "text": [
      "0: trump, clinton, hillary, donald, real, politic, campaign, president, poll, supporter\n",
      "1: merkel, muss, cruz, ted, pjnet, ist, die, cruzcrew, es, sie\n",
      "2: das, feat, matthew, hurricane, gt, ber, listen, album, askem, artyoucanhear\n",
      "3: midnight, play, game, ft, soundcloud, hashtag, fishtv, opiceisis, iceisis, drunkbands\n",
      "4: islam, isis, kill, refugee, muslim, terrorist, muslims, attack, obama, islamic\n",
      "5: email, fbi, russia, wikileaks, hack, russian, state, iran, investigation, tax\n",
      "6: shoot, headline, trumps, favorite, cop, rape, officer, man, assault, san\n",
      "7: tcot, maga, gop, american, america, ccot, americans, nation, democrat, lie\n",
      "8: white, house, black, law, illegal, security, national, people, violence, anti\n",
      "9: new, police, york, david, order, high, sheriff, school, global, federal\n",
      "10: like, make, idea, look, gift, politician, good, thing, great, love\n",
      "11: reallifemagicspells, teapartynews, life, theteaparty, jesus, peace, spell, christ, ilove, butihate\n"
     ]
    }
   ],
   "source": [
    "corex_topics(topic_model)"
   ]
  },
  {
   "cell_type": "code",
   "execution_count": 21,
   "metadata": {
    "ExecuteTime": {
     "end_time": "2020-11-07T23:14:55.332748Z",
     "start_time": "2020-11-07T23:14:55.168338Z"
    }
   },
   "outputs": [
    {
     "data": {
      "image/png": "[encoded data removed]",
      "text/plain": [
       "<Figure size 720x360 with 1 Axes>"
      ]
     },
     "metadata": {
      "needs_background": "light"
     },
     "output_type": "display_data"
    }
   ],
   "source": [
    "plot_topics(topic_model)"
   ]
  },
  {
   "cell_type": "code",
   "execution_count": 24,
   "metadata": {
    "ExecuteTime": {
     "end_time": "2020-11-07T23:16:29.727189Z",
     "start_time": "2020-11-07T23:16:29.723947Z"
    }
   },
   "outputs": [
    {
     "data": {
      "text/plain": [
       "1.957922325609696"
      ]
     },
     "execution_count": 24,
     "metadata": {},
     "output_type": "execute_result"
    }
   ],
   "source": [
    "topic_model.tc"
   ]
  },
  {
   "cell_type": "code",
   "execution_count": null,
   "metadata": {},
   "outputs": [],
   "source": []
  },
  {
   "cell_type": "code",
   "execution_count": null,
   "metadata": {},
   "outputs": [],
   "source": []
  },
  {
   "cell_type": "markdown",
   "metadata": {},
   "source": [
    "### Semi-Supervised Modeling with CorEx Anchoring"
   ]
  },
  {
   "cell_type": "code",
   "execution_count": 25,
   "metadata": {
    "ExecuteTime": {
     "end_time": "2020-11-07T23:17:44.094909Z",
     "start_time": "2020-11-07T23:17:44.090581Z"
    }
   },
   "outputs": [
    {
     "data": {
      "text/plain": [
       "7"
      ]
     },
     "execution_count": 25,
     "metadata": {},
     "output_type": "execute_result"
    }
   ],
   "source": [
    "anchor_topics = [['donald', 'trump'],                                # trump stuff\n",
    "                ['hillary', 'clinton'],                              # hillary stuff\n",
    "                ['merkel', 'muss', 'die', 'ist', 'ich', 'das'],      # german stuff\n",
    "                ['blacklivesmatter'],                                # BLM/race stuff\n",
    "                ['police', 'officer', 'shoot'],                      # police stuff\n",
    "                ['obama', 'barack'],                                 # obama stuff\n",
    "                ['muslim', 'islam']                                  # isis/islam stuff\n",
    "               ]\n",
    "\n",
    "len(anchor_topics)"
   ]
  },
  {
   "cell_type": "code",
   "execution_count": 28,
   "metadata": {
    "ExecuteTime": {
     "end_time": "2020-11-07T23:22:13.549005Z",
     "start_time": "2020-11-07T23:18:26.199610Z"
    }
   },
   "outputs": [
    {
     "data": {
      "text/plain": [
       "<corextopic.corextopic.Corex at 0x7f8773f4e700>"
      ]
     },
     "execution_count": 28,
     "metadata": {},
     "output_type": "execute_result"
    }
   ],
   "source": [
    "topic_model = ct.Corex(n_hidden=10, \n",
    "                       words=words,\n",
    "                       max_iter=200, \n",
    "                       seed=42)\n",
    "\n",
    "topic_model.fit(doc_word, words=words, docs=proc_tweets, \n",
    "                anchors=anchor_topics, anchor_strength=8)"
   ]
  },
  {
   "cell_type": "code",
   "execution_count": 29,
   "metadata": {
    "ExecuteTime": {
     "end_time": "2020-11-07T23:22:14.100481Z",
     "start_time": "2020-11-07T23:22:13.666016Z"
    }
   },
   "outputs": [
    {
     "name": "stdout",
     "output_type": "stream",
     "text": [
      "0: trump, donald, real, president, politic, supporter, maga, poll, rally, say\n",
      "1: clinton, hillary, email, campaign, foundation, fbi, wikileaks, debate, benghazi, crook\n",
      "2: die, merkel, muss, ist, das, ich, sie, es, mit, zu\n",
      "3: blacklivesmatter, play, music, ft, feat, gt, black, hiphop, mixtape, artist\n",
      "4: police, shoot, officer, cop, suspect, arrest, dallas, san, man, brutality\n",
      "5: obama, barack, michelle, administration, admin, legacy, hussein, malia, pres, veto\n",
      "6: islam, muslim, kill, brussels, refugee, isis, prayforbrussels, opiceisis, iceisis, stop\n",
      "7: tcot, gop, pjnet, news, midnight, ccot, cruz, election, state, democrat\n",
      "8: favorite, headline, trumps, enlist, patriot, army, god, west, super, renewus\n",
      "9: new, cnn, medium, york, oscarhasnocolor, msnbc, oscars, session, fakenews, assange\n"
     ]
    }
   ],
   "source": [
    "corex_topics(topic_model)"
   ]
  },
  {
   "cell_type": "code",
   "execution_count": 30,
   "metadata": {
    "ExecuteTime": {
     "end_time": "2020-11-07T23:22:14.376471Z",
     "start_time": "2020-11-07T23:22:14.217617Z"
    }
   },
   "outputs": [
    {
     "data": {
      "image/png": "[encoded data removed]",
      "text/plain": [
       "<Figure size 720x360 with 1 Axes>"
      ]
     },
     "metadata": {
      "needs_background": "light"
     },
     "output_type": "display_data"
    }
   ],
   "source": [
    "plot_topics(topic_model)"
   ]
  },
  {
   "cell_type": "code",
   "execution_count": null,
   "metadata": {},
   "outputs": [],
   "source": []
  },
  {
   "cell_type": "code",
   "execution_count": null,
   "metadata": {},
   "outputs": [],
   "source": []
  },
  {
   "cell_type": "code",
   "execution_count": null,
   "metadata": {},
   "outputs": [],
   "source": []
  },
  {
   "cell_type": "code",
   "execution_count": 32,
   "metadata": {
    "ExecuteTime": {
     "end_time": "2020-11-07T23:23:39.339089Z",
     "start_time": "2020-11-07T23:23:39.334369Z"
    }
   },
   "outputs": [
    {
     "data": {
      "text/plain": [
       "12"
      ]
     },
     "execution_count": 32,
     "metadata": {},
     "output_type": "execute_result"
    }
   ],
   "source": [
    "anchor_topics = [['donald', 'trump'],\n",
    "                 ['donald', 'trump'],\n",
    "                 ['donald', 'trump'],\n",
    "                 ['donald', 'trump'],\n",
    "                 ['hillary', 'clinton'],\n",
    "                 ['hillary', 'clinton'],\n",
    "                 ['hillary', 'clinton'],\n",
    "                 ['hillary', 'clinton'],\n",
    "                 ['merkel', 'muss', 'die', 'ist', 'ich', 'das'],\n",
    "                 ['pjnet'], \n",
    "                 ['police', 'officer', 'cop'],\n",
    "                 ['god', 'christian', 'jesus']\n",
    "                ]\n",
    "\n",
    "len(anchor_topics)"
   ]
  },
  {
   "cell_type": "code",
   "execution_count": 34,
   "metadata": {
    "ExecuteTime": {
     "end_time": "2020-11-07T23:29:26.073789Z",
     "start_time": "2020-11-07T23:24:53.979571Z"
    }
   },
   "outputs": [
    {
     "data": {
      "text/plain": [
       "<corextopic.corextopic.Corex at 0x7f8775c6dac0>"
      ]
     },
     "execution_count": 34,
     "metadata": {},
     "output_type": "execute_result"
    }
   ],
   "source": [
    "topic_model = ct.Corex(n_hidden=14, \n",
    "                       words=words,\n",
    "                       max_iter=200, \n",
    "                       seed=42)\n",
    "\n",
    "topic_model.fit(doc_word, words=words, docs=proc_tweets, \n",
    "               anchors=anchor_topics, anchor_strength=8)"
   ]
  },
  {
   "cell_type": "code",
   "execution_count": 35,
   "metadata": {
    "ExecuteTime": {
     "end_time": "2020-11-07T23:29:27.148966Z",
     "start_time": "2020-11-07T23:29:26.244974Z"
    }
   },
   "outputs": [
    {
     "name": "stdout",
     "output_type": "stream",
     "text": [
      "0: trump, donald, melania, trumptrain, headline, celebrate, favorite, comment, ad, deplorables\n",
      "1: trump, donald, politic, rally, inauguration, obamaswishlist, presidency, hotel, adviser, wall\n",
      "2: trump, donald, real, vote, win, endorse, speech, analysis, nevertrump, criticize\n",
      "3: trump, donald, president, supporter, maga, poll, trumps, tower, makeamericagreatagain, elect\n",
      "4: clinton, hillary, foundation, wikileaks, debate, benghazi, pneumonia, donor, leak, chelsea\n",
      "5: clinton, hillary, campaign, lie, server, birtherism, aide, investigation, corruption, camp\n",
      "6: clinton, hillary, fbi, birther, blumenthal, hillarys, lockherup, humaabedin, rumor, mcclatchy\n",
      "7: clinton, hillary, email, crook, conspirator, paytoplay, dcleaks, prayforflo, preparefordroning, vocabulary\n",
      "8: die, merkel, muss, ist, das, ich, sie, es, mit, zu\n",
      "9: pjnet, tcot, ccot, cruzcrew, wakeupamerica, teaparty, cruz, tgdn, ted, nra\n",
      "10: police, cop, officer, shoot, arrest, suspect, dallas, blacklivesmatter, man, brutality\n",
      "11: god, jesus, christian, play, ft, feat, hiphop, jadedbypolitics, gt, la\n",
      "12: obama, america, american, islam, kill, americans, country, muslim, refugee, say\n",
      "13: news, gop, election, state, post, medium, midnight, report, new, russia\n"
     ]
    }
   ],
   "source": [
    "corex_topics(topic_model)"
   ]
  },
  {
   "cell_type": "code",
   "execution_count": 36,
   "metadata": {
    "ExecuteTime": {
     "end_time": "2020-11-07T23:29:27.452217Z",
     "start_time": "2020-11-07T23:29:27.274376Z"
    }
   },
   "outputs": [
    {
     "data": {
      "image/png": "[encoded data removed]",
      "text/plain": [
       "<Figure size 720x360 with 1 Axes>"
      ]
     },
     "metadata": {
      "needs_background": "light"
     },
     "output_type": "display_data"
    }
   ],
   "source": [
    "plot_topics(topic_model)"
   ]
  },
  {
   "cell_type": "code",
   "execution_count": 37,
   "metadata": {
    "ExecuteTime": {
     "end_time": "2020-11-07T23:29:58.071945Z",
     "start_time": "2020-11-07T23:29:58.068575Z"
    }
   },
   "outputs": [
    {
     "data": {
      "text/plain": [
       "30.51231101104988"
      ]
     },
     "execution_count": 37,
     "metadata": {},
     "output_type": "execute_result"
    }
   ],
   "source": [
    "topic_model.tc"
   ]
  },
  {
   "cell_type": "code",
   "execution_count": null,
   "metadata": {},
   "outputs": [],
   "source": []
  }
 ],
 "metadata": {
  "kernelspec": {
   "display_name": "Python [conda env:metis] *",
   "language": "python",
   "name": "conda-env-metis-py"
  },
  "language_info": {
   "codemirror_mode": {
    "name": "ipython",
    "version": 3
   },
   "file_extension": ".py",
   "mimetype": "text/x-python",
   "name": "python",
   "nbconvert_exporter": "python",
   "pygments_lexer": "ipython3",
   "version": "3.8.5"
  },
  "toc": {
   "base_numbering": 1,
   "nav_menu": {},
   "number_sections": true,
   "sideBar": true,
   "skip_h1_title": false,
   "title_cell": "Table of Contents",
   "title_sidebar": "Contents",
   "toc_cell": false,
   "toc_position": {},
   "toc_section_display": true,
   "toc_window_display": true
  },
  "varInspector": {
   "cols": {
    "lenName": 16,
    "lenType": 16,
    "lenVar": 40
   },
   "kernels_config": {
    "python": {
     "delete_cmd_postfix": "",
     "delete_cmd_prefix": "del ",
     "library": "var_list.py",
     "varRefreshCmd": "print(var_dic_list())"
    },
    "r": {
     "delete_cmd_postfix": ") ",
     "delete_cmd_prefix": "rm(",
     "library": "var_list.r",
     "varRefreshCmd": "cat(var_dic_list()) "
    }
   },
   "types_to_exclude": [
    "module",
    "function",
    "builtin_function_or_method",
    "instance",
    "_Feature"
   ],
   "window_display": false
  }
 },
 "nbformat": 4,
 "nbformat_minor": 4
}
