{
 "cells": [
  {
   "cell_type": "code",
   "execution_count": null,
   "metadata": {},
   "outputs": [],
   "source": []
  },
  {
   "cell_type": "code",
   "execution_count": 1,
   "metadata": {
    "ExecuteTime": {
     "end_time": "2020-11-08T17:57:07.219839Z",
     "start_time": "2020-11-08T17:57:05.570456Z"
    }
   },
   "outputs": [],
   "source": [
    "# Basics\n",
    "import pandas as pd\n",
    "import numpy as np\n",
    "import matplotlib.pyplot as plt\n",
    "%matplotlib inline\n",
    "import seaborn as sns\n",
    "import pickle \n",
    "\n",
    "#sklearn\n",
    "from sklearn.manifold import TSNE\n",
    "from sklearn.feature_extraction.text import CountVectorizer\n",
    "from sklearn.decomposition import LatentDirichletAllocation, PCA"
   ]
  },
  {
   "cell_type": "code",
   "execution_count": 2,
   "metadata": {
    "ExecuteTime": {
     "end_time": "2020-11-08T17:57:16.742093Z",
     "start_time": "2020-11-08T17:57:16.632405Z"
    }
   },
   "outputs": [],
   "source": [
    "with open('../data_files/processed_tweets.pickle', 'rb') as read_file:\n",
    "    df = pickle.load(read_file)"
   ]
  },
  {
   "cell_type": "code",
   "execution_count": 3,
   "metadata": {
    "ExecuteTime": {
     "end_time": "2020-11-08T17:57:25.134128Z",
     "start_time": "2020-11-08T17:57:25.123826Z"
    }
   },
   "outputs": [
    {
     "data": {
      "text/html": [
       "<div>\n",
       "<style scoped>\n",
       "    .dataframe tbody tr th:only-of-type {\n",
       "        vertical-align: middle;\n",
       "    }\n",
       "\n",
       "    .dataframe tbody tr th {\n",
       "        vertical-align: top;\n",
       "    }\n",
       "\n",
       "    .dataframe thead th {\n",
       "        text-align: right;\n",
       "    }\n",
       "</style>\n",
       "<table border=\"1\" class=\"dataframe\">\n",
       "  <thead>\n",
       "    <tr style=\"text-align: right;\">\n",
       "      <th></th>\n",
       "      <th>clean</th>\n",
       "      <th>processed</th>\n",
       "    </tr>\n",
       "  </thead>\n",
       "  <tbody>\n",
       "    <tr>\n",
       "      <th>0</th>\n",
       "      <td>islam kills are you trying to say that there w...</td>\n",
       "      <td>islam kill try say terrorist attack europe ref...</td>\n",
       "    </tr>\n",
       "    <tr>\n",
       "      <th>1</th>\n",
       "      <td>clinton trump should ve apologized more attack...</td>\n",
       "      <td>clinton trump apologize attack little</td>\n",
       "    </tr>\n",
       "    <tr>\n",
       "      <th>2</th>\n",
       "      <td>who was is the best president of the past year...</td>\n",
       "      <td>well president past retweet</td>\n",
       "    </tr>\n",
       "    <tr>\n",
       "      <th>3</th>\n",
       "      <td>i don t have to guess your religion christmasa...</td>\n",
       "      <td>guess religion christmasaftermath</td>\n",
       "    </tr>\n",
       "    <tr>\n",
       "      <th>4</th>\n",
       "      <td>pence and his lawyers decided which of his off...</td>\n",
       "      <td>pence lawyer decide official email public can see</td>\n",
       "    </tr>\n",
       "  </tbody>\n",
       "</table>\n",
       "</div>"
      ],
      "text/plain": [
       "                                               clean  \\\n",
       "0  islam kills are you trying to say that there w...   \n",
       "1  clinton trump should ve apologized more attack...   \n",
       "2  who was is the best president of the past year...   \n",
       "3  i don t have to guess your religion christmasa...   \n",
       "4  pence and his lawyers decided which of his off...   \n",
       "\n",
       "                                           processed  \n",
       "0  islam kill try say terrorist attack europe ref...  \n",
       "1              clinton trump apologize attack little  \n",
       "2                        well president past retweet  \n",
       "3                  guess religion christmasaftermath  \n",
       "4  pence lawyer decide official email public can see  "
      ]
     },
     "execution_count": 3,
     "metadata": {},
     "output_type": "execute_result"
    }
   ],
   "source": [
    "df.head()"
   ]
  },
  {
   "cell_type": "code",
   "execution_count": 4,
   "metadata": {
    "ExecuteTime": {
     "end_time": "2020-11-08T17:57:40.544541Z",
     "start_time": "2020-11-08T17:57:40.542200Z"
    }
   },
   "outputs": [],
   "source": [
    "proc_tweets = df.processed"
   ]
  },
  {
   "cell_type": "code",
   "execution_count": 5,
   "metadata": {
    "ExecuteTime": {
     "end_time": "2020-11-08T17:57:46.040206Z",
     "start_time": "2020-11-08T17:57:46.037707Z"
    }
   },
   "outputs": [],
   "source": [
    "vectorizer = CountVectorizer(token_pattern=\"\\\\b[a-z][a-z]+\\\\b\",\n",
    "                             binary=True,\n",
    "                             stop_words='english')"
   ]
  },
  {
   "cell_type": "code",
   "execution_count": 6,
   "metadata": {
    "ExecuteTime": {
     "end_time": "2020-11-08T17:58:10.888324Z",
     "start_time": "2020-11-08T17:58:09.220574Z"
    }
   },
   "outputs": [
    {
     "name": "stdout",
     "output_type": "stream",
     "text": [
      "(203482, 77822)\n"
     ]
    }
   ],
   "source": [
    "dtm_tf = vectorizer.fit_transform(proc_tweets)\n",
    "print(dtm_tf.shape)"
   ]
  },
  {
   "cell_type": "code",
   "execution_count": 10,
   "metadata": {
    "ExecuteTime": {
     "end_time": "2020-11-08T18:12:44.930577Z",
     "start_time": "2020-11-08T18:06:51.295093Z"
    }
   },
   "outputs": [
    {
     "name": "stdout",
     "output_type": "stream",
     "text": [
      "CPU times: user 5min 52s, sys: 814 ms, total: 5min 53s\n",
      "Wall time: 5min 53s\n"
     ]
    }
   ],
   "source": [
    "%%time\n",
    "\n",
    "lda_model = LatentDirichletAllocation(n_components=6, random_state=42)\n",
    "lda_model.fit(dtm_tf)\n",
    "\n",
    "lda_doc_matrix = lda_model.transform(dtm_tf)"
   ]
  },
  {
   "cell_type": "code",
   "execution_count": 11,
   "metadata": {
    "ExecuteTime": {
     "end_time": "2020-11-08T18:12:45.004835Z",
     "start_time": "2020-11-08T18:12:45.001357Z"
    }
   },
   "outputs": [],
   "source": [
    "def display_topics(model, feature_names, no_top_words, topic_names=None):\n",
    "    for ix, topic in enumerate(model.components_):\n",
    "        if not topic_names or not topic_names[ix]:\n",
    "            print(\"\\nTopic \", ix)\n",
    "        else:\n",
    "            print(\"\\nTopic: '\",topic_names[ix],\"'\")\n",
    "        print(\", \".join([feature_names[i]\n",
    "                        for i in topic.argsort()[:-no_top_words - 1:-1]]))"
   ]
  },
  {
   "cell_type": "code",
   "execution_count": 13,
   "metadata": {
    "ExecuteTime": {
     "end_time": "2020-11-08T18:15:23.220407Z",
     "start_time": "2020-11-08T18:15:23.109196Z"
    }
   },
   "outputs": [
    {
     "name": "stdout",
     "output_type": "stream",
     "text": [
      "\n",
      "Topic  0\n",
      "trump, news, post, new, merkel, die, debate, muss, video, politic, watch, clinton, election, anti, ist, tonight, photo, presidential, court, live, protest, rally, youtube, hat, betteralternativetodebates\n",
      "\n",
      "Topic  1\n",
      "obama, tcot, pjnet, ccot, trump, gop, god, wakeupamerica, election, away, day, america, plan, need, president, teaparty, sign, world, house, leave, office, obamacare, people, todolistbeforechristmas, come\n",
      "\n",
      "Topic  2\n",
      "like, people, love, play, make, thing, know, time, day, life, twitter, look, tweet, think, game, need, thank, come, want, say, use, feel, world, let, work\n",
      "\n",
      "Topic  3\n",
      "trump, donald, hillary, clinton, real, say, president, america, maga, people, obama, politic, make, want, country, like, voter, white, american, time, medium, support, poll, americans, supporter\n",
      "\n",
      "Topic  4\n",
      "good, man, midnight, woman, kill, black, police, stop, say, shoot, new, islam, old, cruz, people, family, make, attack, girl, muslim, ted, child, death, school, want\n",
      "\n",
      "Topic  5\n",
      "clinton, hillary, email, trump, lie, dnc, fbi, obama, say, campaign, russia, wikileaks, watch, know, news, foundation, break, politic, isis, eat, money, report, hack, medium, bernie\n"
     ]
    }
   ],
   "source": [
    "terms = vectorizer.get_feature_names()\n",
    "\n",
    "display_topics(lda_model, terms, 25)"
   ]
  },
  {
   "cell_type": "code",
   "execution_count": 14,
   "metadata": {
    "ExecuteTime": {
     "end_time": "2020-11-08T18:15:48.105185Z",
     "start_time": "2020-11-08T18:15:48.102534Z"
    }
   },
   "outputs": [],
   "source": [
    "topic_cols = ['news', 'conservative', 'general_twitter', 'trump', 'violence', 'clinton']"
   ]
  },
  {
   "cell_type": "code",
   "execution_count": 15,
   "metadata": {
    "ExecuteTime": {
     "end_time": "2020-11-08T18:15:49.370325Z",
     "start_time": "2020-11-08T18:15:49.366301Z"
    }
   },
   "outputs": [
    {
     "data": {
      "text/plain": [
       "array([[0.01668614, 0.01671921, 0.01676255, 0.01687818, 0.9162238 ,\n",
       "        0.01673013],\n",
       "       [0.02784275, 0.02785185, 0.02807543, 0.85996697, 0.02811381,\n",
       "        0.0281492 ],\n",
       "       [0.041671  , 0.04187765, 0.04231849, 0.79062642, 0.04172208,\n",
       "        0.04178435],\n",
       "       ...,\n",
       "       [0.02383652, 0.02384963, 0.88057349, 0.02393875, 0.02385778,\n",
       "        0.02394382],\n",
       "       [0.02397061, 0.02426326, 0.02429331, 0.02403896, 0.54554694,\n",
       "        0.35788692],\n",
       "       [0.01862333, 0.01883651, 0.90652258, 0.01880578, 0.01866339,\n",
       "        0.01854841]])"
      ]
     },
     "execution_count": 15,
     "metadata": {},
     "output_type": "execute_result"
    }
   ],
   "source": [
    "lda_doc_matrix"
   ]
  },
  {
   "cell_type": "code",
   "execution_count": 16,
   "metadata": {
    "ExecuteTime": {
     "end_time": "2020-11-08T18:15:53.346675Z",
     "start_time": "2020-11-08T18:15:53.344060Z"
    }
   },
   "outputs": [],
   "source": [
    "lda_df= pd.DataFrame(lda_doc_matrix, columns=topic_cols)"
   ]
  },
  {
   "cell_type": "code",
   "execution_count": 17,
   "metadata": {
    "ExecuteTime": {
     "end_time": "2020-11-08T18:15:55.682058Z",
     "start_time": "2020-11-08T18:15:55.488340Z"
    }
   },
   "outputs": [],
   "source": [
    "lda_df['label'] = lda_df.idxmax(axis=1)"
   ]
  },
  {
   "cell_type": "code",
   "execution_count": 18,
   "metadata": {
    "ExecuteTime": {
     "end_time": "2020-11-08T18:15:59.478724Z",
     "start_time": "2020-11-08T18:15:58.529504Z"
    }
   },
   "outputs": [
    {
     "data": {
      "text/html": [
       "<div>\n",
       "<style scoped>\n",
       "    .dataframe tbody tr th:only-of-type {\n",
       "        vertical-align: middle;\n",
       "    }\n",
       "\n",
       "    .dataframe tbody tr th {\n",
       "        vertical-align: top;\n",
       "    }\n",
       "\n",
       "    .dataframe thead th {\n",
       "        text-align: right;\n",
       "    }\n",
       "</style>\n",
       "<table border=\"1\" class=\"dataframe\">\n",
       "  <thead>\n",
       "    <tr style=\"text-align: right;\">\n",
       "      <th></th>\n",
       "      <th>user_id</th>\n",
       "      <th>user_key</th>\n",
       "      <th>created_at</th>\n",
       "      <th>created_str</th>\n",
       "      <th>retweet_count</th>\n",
       "      <th>retweeted</th>\n",
       "      <th>favorite_count</th>\n",
       "      <th>text</th>\n",
       "      <th>tweet_id</th>\n",
       "      <th>source</th>\n",
       "      <th>hashtags</th>\n",
       "      <th>expanded_urls</th>\n",
       "      <th>posted</th>\n",
       "      <th>mentions</th>\n",
       "      <th>retweeted_status_id</th>\n",
       "      <th>in_reply_to_status_id</th>\n",
       "    </tr>\n",
       "  </thead>\n",
       "  <tbody>\n",
       "    <tr>\n",
       "      <th>0</th>\n",
       "      <td>1.868981e+09</td>\n",
       "      <td>ryanmaxwell_1</td>\n",
       "      <td>1.458672e+12</td>\n",
       "      <td>2016-03-22 18:31:42</td>\n",
       "      <td>NaN</td>\n",
       "      <td>NaN</td>\n",
       "      <td>NaN</td>\n",
       "      <td>#IslamKills Are you trying to say that there w...</td>\n",
       "      <td>7.123460e+17</td>\n",
       "      <td>NaN</td>\n",
       "      <td>[\"IslamKills\"]</td>\n",
       "      <td>[]</td>\n",
       "      <td>POSTED</td>\n",
       "      <td>[]</td>\n",
       "      <td>NaN</td>\n",
       "      <td>NaN</td>\n",
       "    </tr>\n",
       "    <tr>\n",
       "      <th>1</th>\n",
       "      <td>2.571870e+09</td>\n",
       "      <td>detroitdailynew</td>\n",
       "      <td>1.476133e+12</td>\n",
       "      <td>2016-10-10 20:57:00</td>\n",
       "      <td>0.0</td>\n",
       "      <td>False</td>\n",
       "      <td>0.0</td>\n",
       "      <td>Clinton: Trump should’ve apologized more, atta...</td>\n",
       "      <td>7.855849e+17</td>\n",
       "      <td>&lt;a href=\"http://twitterfeed.com\" rel=\"nofollow...</td>\n",
       "      <td>[]</td>\n",
       "      <td>[\"http://detne.ws/2e172jF\"]</td>\n",
       "      <td>POSTED</td>\n",
       "      <td>[]</td>\n",
       "      <td>NaN</td>\n",
       "      <td>NaN</td>\n",
       "    </tr>\n",
       "    <tr>\n",
       "      <th>2</th>\n",
       "      <td>1.710805e+09</td>\n",
       "      <td>cookncooks</td>\n",
       "      <td>1.487767e+12</td>\n",
       "      <td>2017-02-22 12:43:43</td>\n",
       "      <td>NaN</td>\n",
       "      <td>NaN</td>\n",
       "      <td>NaN</td>\n",
       "      <td>RT @ltapoll: Who was/is the best president of ...</td>\n",
       "      <td>8.343832e+17</td>\n",
       "      <td>NaN</td>\n",
       "      <td>[]</td>\n",
       "      <td>[]</td>\n",
       "      <td>POSTED</td>\n",
       "      <td>[]</td>\n",
       "      <td>NaN</td>\n",
       "      <td>NaN</td>\n",
       "    </tr>\n",
       "    <tr>\n",
       "      <th>3</th>\n",
       "      <td>2.584153e+09</td>\n",
       "      <td>queenofthewo</td>\n",
       "      <td>1.482765e+12</td>\n",
       "      <td>2016-12-26 15:06:41</td>\n",
       "      <td>NaN</td>\n",
       "      <td>NaN</td>\n",
       "      <td>NaN</td>\n",
       "      <td>RT @jww372: I don't have to guess your religio...</td>\n",
       "      <td>8.134006e+17</td>\n",
       "      <td>NaN</td>\n",
       "      <td>[\"ChristmasAftermath\"]</td>\n",
       "      <td>[]</td>\n",
       "      <td>POSTED</td>\n",
       "      <td>[]</td>\n",
       "      <td>NaN</td>\n",
       "      <td>NaN</td>\n",
       "    </tr>\n",
       "    <tr>\n",
       "      <th>4</th>\n",
       "      <td>1.768260e+09</td>\n",
       "      <td>mrclydepratt</td>\n",
       "      <td>1.501987e+12</td>\n",
       "      <td>2017-08-06 02:36:24</td>\n",
       "      <td>NaN</td>\n",
       "      <td>NaN</td>\n",
       "      <td>NaN</td>\n",
       "      <td>RT @Shareblue: Pence and his lawyers decided w...</td>\n",
       "      <td>8.940243e+17</td>\n",
       "      <td>NaN</td>\n",
       "      <td>[]</td>\n",
       "      <td>[]</td>\n",
       "      <td>POSTED</td>\n",
       "      <td>[]</td>\n",
       "      <td>NaN</td>\n",
       "      <td>NaN</td>\n",
       "    </tr>\n",
       "  </tbody>\n",
       "</table>\n",
       "</div>"
      ],
      "text/plain": [
       "        user_id         user_key    created_at          created_str  \\\n",
       "0  1.868981e+09    ryanmaxwell_1  1.458672e+12  2016-03-22 18:31:42   \n",
       "1  2.571870e+09  detroitdailynew  1.476133e+12  2016-10-10 20:57:00   \n",
       "2  1.710805e+09       cookncooks  1.487767e+12  2017-02-22 12:43:43   \n",
       "3  2.584153e+09     queenofthewo  1.482765e+12  2016-12-26 15:06:41   \n",
       "4  1.768260e+09     mrclydepratt  1.501987e+12  2017-08-06 02:36:24   \n",
       "\n",
       "   retweet_count retweeted  favorite_count  \\\n",
       "0            NaN       NaN             NaN   \n",
       "1            0.0     False             0.0   \n",
       "2            NaN       NaN             NaN   \n",
       "3            NaN       NaN             NaN   \n",
       "4            NaN       NaN             NaN   \n",
       "\n",
       "                                                text      tweet_id  \\\n",
       "0  #IslamKills Are you trying to say that there w...  7.123460e+17   \n",
       "1  Clinton: Trump should’ve apologized more, atta...  7.855849e+17   \n",
       "2  RT @ltapoll: Who was/is the best president of ...  8.343832e+17   \n",
       "3  RT @jww372: I don't have to guess your religio...  8.134006e+17   \n",
       "4  RT @Shareblue: Pence and his lawyers decided w...  8.940243e+17   \n",
       "\n",
       "                                              source                hashtags  \\\n",
       "0                                                NaN          [\"IslamKills\"]   \n",
       "1  <a href=\"http://twitterfeed.com\" rel=\"nofollow...                      []   \n",
       "2                                                NaN                      []   \n",
       "3                                                NaN  [\"ChristmasAftermath\"]   \n",
       "4                                                NaN                      []   \n",
       "\n",
       "                 expanded_urls  posted mentions  retweeted_status_id  \\\n",
       "0                           []  POSTED       []                  NaN   \n",
       "1  [\"http://detne.ws/2e172jF\"]  POSTED       []                  NaN   \n",
       "2                           []  POSTED       []                  NaN   \n",
       "3                           []  POSTED       []                  NaN   \n",
       "4                           []  POSTED       []                  NaN   \n",
       "\n",
       "   in_reply_to_status_id  \n",
       "0                    NaN  \n",
       "1                    NaN  \n",
       "2                    NaN  \n",
       "3                    NaN  \n",
       "4                    NaN  "
      ]
     },
     "execution_count": 18,
     "metadata": {},
     "output_type": "execute_result"
    }
   ],
   "source": [
    "text = pd.read_csv('../data_files/tweets.csv.zip')\n",
    "text.head()"
   ]
  },
  {
   "cell_type": "code",
   "execution_count": 36,
   "metadata": {
    "ExecuteTime": {
     "end_time": "2020-11-08T18:38:06.892299Z",
     "start_time": "2020-11-08T18:38:06.878806Z"
    }
   },
   "outputs": [],
   "source": [
    "lda_df['handle'] = text['user_key']\n",
    "lda_df['datetime'] = text['created_str']\n",
    "lda_df['tweet'] = text['text']"
   ]
  },
  {
   "cell_type": "code",
   "execution_count": 37,
   "metadata": {
    "ExecuteTime": {
     "end_time": "2020-11-08T18:38:08.137928Z",
     "start_time": "2020-11-08T18:38:08.125075Z"
    },
    "scrolled": true
   },
   "outputs": [
    {
     "data": {
      "text/html": [
       "<div>\n",
       "<style scoped>\n",
       "    .dataframe tbody tr th:only-of-type {\n",
       "        vertical-align: middle;\n",
       "    }\n",
       "\n",
       "    .dataframe tbody tr th {\n",
       "        vertical-align: top;\n",
       "    }\n",
       "\n",
       "    .dataframe thead th {\n",
       "        text-align: right;\n",
       "    }\n",
       "</style>\n",
       "<table border=\"1\" class=\"dataframe\">\n",
       "  <thead>\n",
       "    <tr style=\"text-align: right;\">\n",
       "      <th></th>\n",
       "      <th>news</th>\n",
       "      <th>conservative</th>\n",
       "      <th>general_twitter</th>\n",
       "      <th>trump</th>\n",
       "      <th>violence</th>\n",
       "      <th>clinton</th>\n",
       "      <th>label</th>\n",
       "      <th>handle</th>\n",
       "      <th>datetime_str</th>\n",
       "      <th>tweet</th>\n",
       "      <th>datetime</th>\n",
       "    </tr>\n",
       "  </thead>\n",
       "  <tbody>\n",
       "    <tr>\n",
       "      <th>0</th>\n",
       "      <td>0.016686</td>\n",
       "      <td>0.016719</td>\n",
       "      <td>0.016763</td>\n",
       "      <td>0.016878</td>\n",
       "      <td>0.916224</td>\n",
       "      <td>0.016730</td>\n",
       "      <td>violence</td>\n",
       "      <td>ryanmaxwell_1</td>\n",
       "      <td>2016-03-22 18:31:42</td>\n",
       "      <td>#IslamKills Are you trying to say that there w...</td>\n",
       "      <td>2016-03-22 18:31:42</td>\n",
       "    </tr>\n",
       "    <tr>\n",
       "      <th>1</th>\n",
       "      <td>0.027843</td>\n",
       "      <td>0.027852</td>\n",
       "      <td>0.028075</td>\n",
       "      <td>0.859967</td>\n",
       "      <td>0.028114</td>\n",
       "      <td>0.028149</td>\n",
       "      <td>trump</td>\n",
       "      <td>detroitdailynew</td>\n",
       "      <td>2016-10-10 20:57:00</td>\n",
       "      <td>Clinton: Trump should’ve apologized more, atta...</td>\n",
       "      <td>2016-10-10 20:57:00</td>\n",
       "    </tr>\n",
       "    <tr>\n",
       "      <th>2</th>\n",
       "      <td>0.041671</td>\n",
       "      <td>0.041878</td>\n",
       "      <td>0.042318</td>\n",
       "      <td>0.790626</td>\n",
       "      <td>0.041722</td>\n",
       "      <td>0.041784</td>\n",
       "      <td>trump</td>\n",
       "      <td>cookncooks</td>\n",
       "      <td>2017-02-22 12:43:43</td>\n",
       "      <td>RT @ltapoll: Who was/is the best president of ...</td>\n",
       "      <td>2017-02-22 12:43:43</td>\n",
       "    </tr>\n",
       "    <tr>\n",
       "      <th>3</th>\n",
       "      <td>0.041698</td>\n",
       "      <td>0.041748</td>\n",
       "      <td>0.042370</td>\n",
       "      <td>0.041795</td>\n",
       "      <td>0.789994</td>\n",
       "      <td>0.042395</td>\n",
       "      <td>violence</td>\n",
       "      <td>queenofthewo</td>\n",
       "      <td>2016-12-26 15:06:41</td>\n",
       "      <td>RT @jww372: I don't have to guess your religio...</td>\n",
       "      <td>2016-12-26 15:06:41</td>\n",
       "    </tr>\n",
       "    <tr>\n",
       "      <th>4</th>\n",
       "      <td>0.024031</td>\n",
       "      <td>0.023984</td>\n",
       "      <td>0.023932</td>\n",
       "      <td>0.279995</td>\n",
       "      <td>0.023941</td>\n",
       "      <td>0.624117</td>\n",
       "      <td>clinton</td>\n",
       "      <td>mrclydepratt</td>\n",
       "      <td>2017-08-06 02:36:24</td>\n",
       "      <td>RT @Shareblue: Pence and his lawyers decided w...</td>\n",
       "      <td>2017-08-06 02:36:24</td>\n",
       "    </tr>\n",
       "  </tbody>\n",
       "</table>\n",
       "</div>"
      ],
      "text/plain": [
       "       news  conservative  general_twitter     trump  violence   clinton  \\\n",
       "0  0.016686      0.016719         0.016763  0.016878  0.916224  0.016730   \n",
       "1  0.027843      0.027852         0.028075  0.859967  0.028114  0.028149   \n",
       "2  0.041671      0.041878         0.042318  0.790626  0.041722  0.041784   \n",
       "3  0.041698      0.041748         0.042370  0.041795  0.789994  0.042395   \n",
       "4  0.024031      0.023984         0.023932  0.279995  0.023941  0.624117   \n",
       "\n",
       "      label           handle         datetime_str  \\\n",
       "0  violence    ryanmaxwell_1  2016-03-22 18:31:42   \n",
       "1     trump  detroitdailynew  2016-10-10 20:57:00   \n",
       "2     trump       cookncooks  2017-02-22 12:43:43   \n",
       "3  violence     queenofthewo  2016-12-26 15:06:41   \n",
       "4   clinton     mrclydepratt  2017-08-06 02:36:24   \n",
       "\n",
       "                                               tweet             datetime  \n",
       "0  #IslamKills Are you trying to say that there w...  2016-03-22 18:31:42  \n",
       "1  Clinton: Trump should’ve apologized more, atta...  2016-10-10 20:57:00  \n",
       "2  RT @ltapoll: Who was/is the best president of ...  2017-02-22 12:43:43  \n",
       "3  RT @jww372: I don't have to guess your religio...  2016-12-26 15:06:41  \n",
       "4  RT @Shareblue: Pence and his lawyers decided w...  2017-08-06 02:36:24  "
      ]
     },
     "execution_count": 37,
     "metadata": {},
     "output_type": "execute_result"
    }
   ],
   "source": [
    "lda_df.head()"
   ]
  },
  {
   "cell_type": "code",
   "execution_count": 38,
   "metadata": {
    "ExecuteTime": {
     "end_time": "2020-11-08T18:38:11.350305Z",
     "start_time": "2020-11-08T18:38:11.309344Z"
    }
   },
   "outputs": [],
   "source": [
    "dt_df = lda_df[['handle', 'datetime', 'tweet', 'label', \n",
    "               'trump', 'clinton', 'conservative', 'violence', 'news', 'general_twitter']] "
   ]
  },
  {
   "cell_type": "code",
   "execution_count": 39,
   "metadata": {
    "ExecuteTime": {
     "end_time": "2020-11-08T18:38:12.445170Z",
     "start_time": "2020-11-08T18:38:12.430570Z"
    }
   },
   "outputs": [
    {
     "data": {
      "text/html": [
       "<div>\n",
       "<style scoped>\n",
       "    .dataframe tbody tr th:only-of-type {\n",
       "        vertical-align: middle;\n",
       "    }\n",
       "\n",
       "    .dataframe tbody tr th {\n",
       "        vertical-align: top;\n",
       "    }\n",
       "\n",
       "    .dataframe thead th {\n",
       "        text-align: right;\n",
       "    }\n",
       "</style>\n",
       "<table border=\"1\" class=\"dataframe\">\n",
       "  <thead>\n",
       "    <tr style=\"text-align: right;\">\n",
       "      <th></th>\n",
       "      <th>handle</th>\n",
       "      <th>datetime</th>\n",
       "      <th>tweet</th>\n",
       "      <th>label</th>\n",
       "      <th>trump</th>\n",
       "      <th>clinton</th>\n",
       "      <th>conservative</th>\n",
       "      <th>violence</th>\n",
       "      <th>news</th>\n",
       "      <th>general_twitter</th>\n",
       "    </tr>\n",
       "  </thead>\n",
       "  <tbody>\n",
       "    <tr>\n",
       "      <th>0</th>\n",
       "      <td>ryanmaxwell_1</td>\n",
       "      <td>2016-03-22 18:31:42</td>\n",
       "      <td>#IslamKills Are you trying to say that there w...</td>\n",
       "      <td>violence</td>\n",
       "      <td>0.016878</td>\n",
       "      <td>0.016730</td>\n",
       "      <td>0.016719</td>\n",
       "      <td>0.916224</td>\n",
       "      <td>0.016686</td>\n",
       "      <td>0.016763</td>\n",
       "    </tr>\n",
       "    <tr>\n",
       "      <th>1</th>\n",
       "      <td>detroitdailynew</td>\n",
       "      <td>2016-10-10 20:57:00</td>\n",
       "      <td>Clinton: Trump should’ve apologized more, atta...</td>\n",
       "      <td>trump</td>\n",
       "      <td>0.859967</td>\n",
       "      <td>0.028149</td>\n",
       "      <td>0.027852</td>\n",
       "      <td>0.028114</td>\n",
       "      <td>0.027843</td>\n",
       "      <td>0.028075</td>\n",
       "    </tr>\n",
       "    <tr>\n",
       "      <th>2</th>\n",
       "      <td>cookncooks</td>\n",
       "      <td>2017-02-22 12:43:43</td>\n",
       "      <td>RT @ltapoll: Who was/is the best president of ...</td>\n",
       "      <td>trump</td>\n",
       "      <td>0.790626</td>\n",
       "      <td>0.041784</td>\n",
       "      <td>0.041878</td>\n",
       "      <td>0.041722</td>\n",
       "      <td>0.041671</td>\n",
       "      <td>0.042318</td>\n",
       "    </tr>\n",
       "    <tr>\n",
       "      <th>3</th>\n",
       "      <td>queenofthewo</td>\n",
       "      <td>2016-12-26 15:06:41</td>\n",
       "      <td>RT @jww372: I don't have to guess your religio...</td>\n",
       "      <td>violence</td>\n",
       "      <td>0.041795</td>\n",
       "      <td>0.042395</td>\n",
       "      <td>0.041748</td>\n",
       "      <td>0.789994</td>\n",
       "      <td>0.041698</td>\n",
       "      <td>0.042370</td>\n",
       "    </tr>\n",
       "    <tr>\n",
       "      <th>4</th>\n",
       "      <td>mrclydepratt</td>\n",
       "      <td>2017-08-06 02:36:24</td>\n",
       "      <td>RT @Shareblue: Pence and his lawyers decided w...</td>\n",
       "      <td>clinton</td>\n",
       "      <td>0.279995</td>\n",
       "      <td>0.624117</td>\n",
       "      <td>0.023984</td>\n",
       "      <td>0.023941</td>\n",
       "      <td>0.024031</td>\n",
       "      <td>0.023932</td>\n",
       "    </tr>\n",
       "    <tr>\n",
       "      <th>...</th>\n",
       "      <td>...</td>\n",
       "      <td>...</td>\n",
       "      <td>...</td>\n",
       "      <td>...</td>\n",
       "      <td>...</td>\n",
       "      <td>...</td>\n",
       "      <td>...</td>\n",
       "      <td>...</td>\n",
       "      <td>...</td>\n",
       "      <td>...</td>\n",
       "    </tr>\n",
       "    <tr>\n",
       "      <th>203477</th>\n",
       "      <td>nojonathonno</td>\n",
       "      <td>2016-11-01 12:13:06</td>\n",
       "      <td>RT @AndreaChalupa: In intel circles, the story...</td>\n",
       "      <td>clinton</td>\n",
       "      <td>0.012089</td>\n",
       "      <td>0.940005</td>\n",
       "      <td>0.011954</td>\n",
       "      <td>0.012005</td>\n",
       "      <td>0.011966</td>\n",
       "      <td>0.011982</td>\n",
       "    </tr>\n",
       "    <tr>\n",
       "      <th>203478</th>\n",
       "      <td>judelambertusa</td>\n",
       "      <td>2015-06-18 01:04:35</td>\n",
       "      <td>RT @KansasCityDNews: Tonganoxie police: Middle...</td>\n",
       "      <td>violence</td>\n",
       "      <td>0.016794</td>\n",
       "      <td>0.016785</td>\n",
       "      <td>0.016877</td>\n",
       "      <td>0.916045</td>\n",
       "      <td>0.016775</td>\n",
       "      <td>0.016724</td>\n",
       "    </tr>\n",
       "    <tr>\n",
       "      <th>203479</th>\n",
       "      <td>patriotblake</td>\n",
       "      <td>2017-01-10 18:50:48</td>\n",
       "      <td>RT @signsinyork: Getting the right #company lo...</td>\n",
       "      <td>general_twitter</td>\n",
       "      <td>0.023939</td>\n",
       "      <td>0.023944</td>\n",
       "      <td>0.023850</td>\n",
       "      <td>0.023858</td>\n",
       "      <td>0.023837</td>\n",
       "      <td>0.880573</td>\n",
       "    </tr>\n",
       "    <tr>\n",
       "      <th>203480</th>\n",
       "      <td>dailysandiego</td>\n",
       "      <td>2016-11-20 21:49:07</td>\n",
       "      <td>The Latest: Obama affirms continuity of ties w...</td>\n",
       "      <td>violence</td>\n",
       "      <td>0.024039</td>\n",
       "      <td>0.357887</td>\n",
       "      <td>0.024263</td>\n",
       "      <td>0.545547</td>\n",
       "      <td>0.023971</td>\n",
       "      <td>0.024293</td>\n",
       "    </tr>\n",
       "    <tr>\n",
       "      <th>203481</th>\n",
       "      <td>willisbonnerr</td>\n",
       "      <td>2016-12-19 23:00:17</td>\n",
       "      <td>RT @futureguru100: U cant just Upload a CD onl...</td>\n",
       "      <td>general_twitter</td>\n",
       "      <td>0.018806</td>\n",
       "      <td>0.018548</td>\n",
       "      <td>0.018837</td>\n",
       "      <td>0.018663</td>\n",
       "      <td>0.018623</td>\n",
       "      <td>0.906523</td>\n",
       "    </tr>\n",
       "  </tbody>\n",
       "</table>\n",
       "<p>203482 rows × 10 columns</p>\n",
       "</div>"
      ],
      "text/plain": [
       "                 handle             datetime  \\\n",
       "0         ryanmaxwell_1  2016-03-22 18:31:42   \n",
       "1       detroitdailynew  2016-10-10 20:57:00   \n",
       "2            cookncooks  2017-02-22 12:43:43   \n",
       "3          queenofthewo  2016-12-26 15:06:41   \n",
       "4          mrclydepratt  2017-08-06 02:36:24   \n",
       "...                 ...                  ...   \n",
       "203477     nojonathonno  2016-11-01 12:13:06   \n",
       "203478   judelambertusa  2015-06-18 01:04:35   \n",
       "203479     patriotblake  2017-01-10 18:50:48   \n",
       "203480    dailysandiego  2016-11-20 21:49:07   \n",
       "203481    willisbonnerr  2016-12-19 23:00:17   \n",
       "\n",
       "                                                    tweet            label  \\\n",
       "0       #IslamKills Are you trying to say that there w...         violence   \n",
       "1       Clinton: Trump should’ve apologized more, atta...            trump   \n",
       "2       RT @ltapoll: Who was/is the best president of ...            trump   \n",
       "3       RT @jww372: I don't have to guess your religio...         violence   \n",
       "4       RT @Shareblue: Pence and his lawyers decided w...          clinton   \n",
       "...                                                   ...              ...   \n",
       "203477  RT @AndreaChalupa: In intel circles, the story...          clinton   \n",
       "203478  RT @KansasCityDNews: Tonganoxie police: Middle...         violence   \n",
       "203479  RT @signsinyork: Getting the right #company lo...  general_twitter   \n",
       "203480  The Latest: Obama affirms continuity of ties w...         violence   \n",
       "203481  RT @futureguru100: U cant just Upload a CD onl...  general_twitter   \n",
       "\n",
       "           trump   clinton  conservative  violence      news  general_twitter  \n",
       "0       0.016878  0.016730      0.016719  0.916224  0.016686         0.016763  \n",
       "1       0.859967  0.028149      0.027852  0.028114  0.027843         0.028075  \n",
       "2       0.790626  0.041784      0.041878  0.041722  0.041671         0.042318  \n",
       "3       0.041795  0.042395      0.041748  0.789994  0.041698         0.042370  \n",
       "4       0.279995  0.624117      0.023984  0.023941  0.024031         0.023932  \n",
       "...          ...       ...           ...       ...       ...              ...  \n",
       "203477  0.012089  0.940005      0.011954  0.012005  0.011966         0.011982  \n",
       "203478  0.016794  0.016785      0.016877  0.916045  0.016775         0.016724  \n",
       "203479  0.023939  0.023944      0.023850  0.023858  0.023837         0.880573  \n",
       "203480  0.024039  0.357887      0.024263  0.545547  0.023971         0.024293  \n",
       "203481  0.018806  0.018548      0.018837  0.018663  0.018623         0.906523  \n",
       "\n",
       "[203482 rows x 10 columns]"
      ]
     },
     "execution_count": 39,
     "metadata": {},
     "output_type": "execute_result"
    }
   ],
   "source": [
    "dt_df"
   ]
  },
  {
   "cell_type": "code",
   "execution_count": 40,
   "metadata": {
    "ExecuteTime": {
     "end_time": "2020-11-08T18:38:15.509213Z",
     "start_time": "2020-11-08T18:38:15.493984Z"
    }
   },
   "outputs": [
    {
     "name": "stdout",
     "output_type": "stream",
     "text": [
      "Number of unique accounts: 454\n"
     ]
    }
   ],
   "source": [
    "print(f'Number of unique accounts: {len(dt_df.handle.unique())}')"
   ]
  },
  {
   "cell_type": "code",
   "execution_count": 42,
   "metadata": {
    "ExecuteTime": {
     "end_time": "2020-11-08T18:38:39.431982Z",
     "start_time": "2020-11-08T18:38:39.374547Z"
    }
   },
   "outputs": [
    {
     "name": "stderr",
     "output_type": "stream",
     "text": [
      "<ipython-input-42-d9d909e52f09>:1: SettingWithCopyWarning: \n",
      "A value is trying to be set on a copy of a slice from a DataFrame.\n",
      "Try using .loc[row_indexer,col_indexer] = value instead\n",
      "\n",
      "See the caveats in the documentation: https://pandas.pydata.org/pandas-docs/stable/user_guide/indexing.html#returning-a-view-versus-a-copy\n",
      "  dt_df['datetime'] = pd.to_datetime(dt_df['datetime'])\n"
     ]
    }
   ],
   "source": [
    "dt_df['datetime'] = pd.to_datetime(dt_df['datetime'])"
   ]
  },
  {
   "cell_type": "code",
   "execution_count": 46,
   "metadata": {
    "ExecuteTime": {
     "end_time": "2020-11-08T18:41:32.788380Z",
     "start_time": "2020-11-08T18:41:31.780087Z"
    }
   },
   "outputs": [],
   "source": [
    "dt_df['month'] = dt_df['datetime'].dt.strftime('%Y-%m')"
   ]
  },
  {
   "cell_type": "code",
   "execution_count": 48,
   "metadata": {
    "ExecuteTime": {
     "end_time": "2020-11-08T18:42:02.090593Z",
     "start_time": "2020-11-08T18:42:02.077462Z"
    }
   },
   "outputs": [
    {
     "data": {
      "text/html": [
       "<div>\n",
       "<style scoped>\n",
       "    .dataframe tbody tr th:only-of-type {\n",
       "        vertical-align: middle;\n",
       "    }\n",
       "\n",
       "    .dataframe tbody tr th {\n",
       "        vertical-align: top;\n",
       "    }\n",
       "\n",
       "    .dataframe thead th {\n",
       "        text-align: right;\n",
       "    }\n",
       "</style>\n",
       "<table border=\"1\" class=\"dataframe\">\n",
       "  <thead>\n",
       "    <tr style=\"text-align: right;\">\n",
       "      <th></th>\n",
       "      <th>handle</th>\n",
       "      <th>datetime</th>\n",
       "      <th>tweet</th>\n",
       "      <th>label</th>\n",
       "      <th>trump</th>\n",
       "      <th>clinton</th>\n",
       "      <th>conservative</th>\n",
       "      <th>violence</th>\n",
       "      <th>news</th>\n",
       "      <th>general_twitter</th>\n",
       "      <th>month</th>\n",
       "    </tr>\n",
       "  </thead>\n",
       "  <tbody>\n",
       "    <tr>\n",
       "      <th>0</th>\n",
       "      <td>ryanmaxwell_1</td>\n",
       "      <td>2016-03-22 18:31:42</td>\n",
       "      <td>#IslamKills Are you trying to say that there w...</td>\n",
       "      <td>violence</td>\n",
       "      <td>0.016878</td>\n",
       "      <td>0.016730</td>\n",
       "      <td>0.016719</td>\n",
       "      <td>0.916224</td>\n",
       "      <td>0.016686</td>\n",
       "      <td>0.016763</td>\n",
       "      <td>2016-03</td>\n",
       "    </tr>\n",
       "    <tr>\n",
       "      <th>1</th>\n",
       "      <td>detroitdailynew</td>\n",
       "      <td>2016-10-10 20:57:00</td>\n",
       "      <td>Clinton: Trump should’ve apologized more, atta...</td>\n",
       "      <td>trump</td>\n",
       "      <td>0.859967</td>\n",
       "      <td>0.028149</td>\n",
       "      <td>0.027852</td>\n",
       "      <td>0.028114</td>\n",
       "      <td>0.027843</td>\n",
       "      <td>0.028075</td>\n",
       "      <td>2016-10</td>\n",
       "    </tr>\n",
       "    <tr>\n",
       "      <th>2</th>\n",
       "      <td>cookncooks</td>\n",
       "      <td>2017-02-22 12:43:43</td>\n",
       "      <td>RT @ltapoll: Who was/is the best president of ...</td>\n",
       "      <td>trump</td>\n",
       "      <td>0.790626</td>\n",
       "      <td>0.041784</td>\n",
       "      <td>0.041878</td>\n",
       "      <td>0.041722</td>\n",
       "      <td>0.041671</td>\n",
       "      <td>0.042318</td>\n",
       "      <td>2017-02</td>\n",
       "    </tr>\n",
       "    <tr>\n",
       "      <th>3</th>\n",
       "      <td>queenofthewo</td>\n",
       "      <td>2016-12-26 15:06:41</td>\n",
       "      <td>RT @jww372: I don't have to guess your religio...</td>\n",
       "      <td>violence</td>\n",
       "      <td>0.041795</td>\n",
       "      <td>0.042395</td>\n",
       "      <td>0.041748</td>\n",
       "      <td>0.789994</td>\n",
       "      <td>0.041698</td>\n",
       "      <td>0.042370</td>\n",
       "      <td>2016-12</td>\n",
       "    </tr>\n",
       "    <tr>\n",
       "      <th>4</th>\n",
       "      <td>mrclydepratt</td>\n",
       "      <td>2017-08-06 02:36:24</td>\n",
       "      <td>RT @Shareblue: Pence and his lawyers decided w...</td>\n",
       "      <td>clinton</td>\n",
       "      <td>0.279995</td>\n",
       "      <td>0.624117</td>\n",
       "      <td>0.023984</td>\n",
       "      <td>0.023941</td>\n",
       "      <td>0.024031</td>\n",
       "      <td>0.023932</td>\n",
       "      <td>2017-08</td>\n",
       "    </tr>\n",
       "  </tbody>\n",
       "</table>\n",
       "</div>"
      ],
      "text/plain": [
       "            handle            datetime  \\\n",
       "0    ryanmaxwell_1 2016-03-22 18:31:42   \n",
       "1  detroitdailynew 2016-10-10 20:57:00   \n",
       "2       cookncooks 2017-02-22 12:43:43   \n",
       "3     queenofthewo 2016-12-26 15:06:41   \n",
       "4     mrclydepratt 2017-08-06 02:36:24   \n",
       "\n",
       "                                               tweet     label     trump  \\\n",
       "0  #IslamKills Are you trying to say that there w...  violence  0.016878   \n",
       "1  Clinton: Trump should’ve apologized more, atta...     trump  0.859967   \n",
       "2  RT @ltapoll: Who was/is the best president of ...     trump  0.790626   \n",
       "3  RT @jww372: I don't have to guess your religio...  violence  0.041795   \n",
       "4  RT @Shareblue: Pence and his lawyers decided w...   clinton  0.279995   \n",
       "\n",
       "    clinton  conservative  violence      news  general_twitter    month  \n",
       "0  0.016730      0.016719  0.916224  0.016686         0.016763  2016-03  \n",
       "1  0.028149      0.027852  0.028114  0.027843         0.028075  2016-10  \n",
       "2  0.041784      0.041878  0.041722  0.041671         0.042318  2017-02  \n",
       "3  0.042395      0.041748  0.789994  0.041698         0.042370  2016-12  \n",
       "4  0.624117      0.023984  0.023941  0.024031         0.023932  2017-08  "
      ]
     },
     "execution_count": 48,
     "metadata": {},
     "output_type": "execute_result"
    }
   ],
   "source": [
    "dt_df.head()"
   ]
  },
  {
   "cell_type": "code",
   "execution_count": 80,
   "metadata": {
    "ExecuteTime": {
     "end_time": "2020-11-08T18:57:16.844198Z",
     "start_time": "2020-11-08T18:57:16.705477Z"
    }
   },
   "outputs": [
    {
     "data": {
      "image/png": "[encoded data removed]",
      "text/plain": [
       "<Figure size 576x432 with 1 Axes>"
      ]
     },
     "metadata": {
      "needs_background": "light"
     },
     "output_type": "display_data"
    }
   ],
   "source": [
    "plt.figure(figsize=(8, 6))\n",
    "dt_df['label'].value_counts(ascending=False).plot(kind='barh', color='#4e79a7')\n",
    "plt.title('Topic Frequency', fontsize=14)\n",
    "sns.despine();"
   ]
  },
  {
   "cell_type": "code",
   "execution_count": null,
   "metadata": {},
   "outputs": [],
   "source": []
  },
  {
   "cell_type": "code",
   "execution_count": null,
   "metadata": {},
   "outputs": [],
   "source": []
  },
  {
   "cell_type": "code",
   "execution_count": null,
   "metadata": {},
   "outputs": [],
   "source": []
  },
  {
   "cell_type": "code",
   "execution_count": 109,
   "metadata": {
    "ExecuteTime": {
     "end_time": "2020-11-08T19:12:06.977053Z",
     "start_time": "2020-11-08T19:12:06.940292Z"
    }
   },
   "outputs": [],
   "source": [
    "date_freq = dt_df.groupby(['month', 'label']).size().unstack().reset_index()"
   ]
  },
  {
   "cell_type": "code",
   "execution_count": 112,
   "metadata": {
    "ExecuteTime": {
     "end_time": "2020-11-08T19:12:38.548162Z",
     "start_time": "2020-11-08T19:12:38.543970Z"
    }
   },
   "outputs": [],
   "source": [
    "date_freq.fillna(0, inplace=True)\n",
    "date_freq['total'] = date_freq.sum(axis=1)"
   ]
  },
  {
   "cell_type": "code",
   "execution_count": 113,
   "metadata": {
    "ExecuteTime": {
     "end_time": "2020-11-08T19:12:43.395855Z",
     "start_time": "2020-11-08T19:12:43.384544Z"
    }
   },
   "outputs": [
    {
     "data": {
      "text/html": [
       "<div>\n",
       "<style scoped>\n",
       "    .dataframe tbody tr th:only-of-type {\n",
       "        vertical-align: middle;\n",
       "    }\n",
       "\n",
       "    .dataframe tbody tr th {\n",
       "        vertical-align: top;\n",
       "    }\n",
       "\n",
       "    .dataframe thead th {\n",
       "        text-align: right;\n",
       "    }\n",
       "</style>\n",
       "<table border=\"1\" class=\"dataframe\">\n",
       "  <thead>\n",
       "    <tr style=\"text-align: right;\">\n",
       "      <th>label</th>\n",
       "      <th>month</th>\n",
       "      <th>clinton</th>\n",
       "      <th>conservative</th>\n",
       "      <th>general_twitter</th>\n",
       "      <th>news</th>\n",
       "      <th>trump</th>\n",
       "      <th>violence</th>\n",
       "      <th>total</th>\n",
       "    </tr>\n",
       "  </thead>\n",
       "  <tbody>\n",
       "    <tr>\n",
       "      <th>0</th>\n",
       "      <td>2014-07</td>\n",
       "      <td>0.0</td>\n",
       "      <td>2.0</td>\n",
       "      <td>8.0</td>\n",
       "      <td>0.0</td>\n",
       "      <td>0.0</td>\n",
       "      <td>2.0</td>\n",
       "      <td>12.0</td>\n",
       "    </tr>\n",
       "    <tr>\n",
       "      <th>1</th>\n",
       "      <td>2014-08</td>\n",
       "      <td>0.0</td>\n",
       "      <td>1.0</td>\n",
       "      <td>0.0</td>\n",
       "      <td>0.0</td>\n",
       "      <td>0.0</td>\n",
       "      <td>0.0</td>\n",
       "      <td>1.0</td>\n",
       "    </tr>\n",
       "    <tr>\n",
       "      <th>2</th>\n",
       "      <td>2014-09</td>\n",
       "      <td>1.0</td>\n",
       "      <td>0.0</td>\n",
       "      <td>0.0</td>\n",
       "      <td>0.0</td>\n",
       "      <td>0.0</td>\n",
       "      <td>0.0</td>\n",
       "      <td>1.0</td>\n",
       "    </tr>\n",
       "    <tr>\n",
       "      <th>3</th>\n",
       "      <td>2014-11</td>\n",
       "      <td>23.0</td>\n",
       "      <td>53.0</td>\n",
       "      <td>185.0</td>\n",
       "      <td>29.0</td>\n",
       "      <td>40.0</td>\n",
       "      <td>58.0</td>\n",
       "      <td>388.0</td>\n",
       "    </tr>\n",
       "    <tr>\n",
       "      <th>4</th>\n",
       "      <td>2014-12</td>\n",
       "      <td>20.0</td>\n",
       "      <td>55.0</td>\n",
       "      <td>231.0</td>\n",
       "      <td>40.0</td>\n",
       "      <td>40.0</td>\n",
       "      <td>56.0</td>\n",
       "      <td>442.0</td>\n",
       "    </tr>\n",
       "  </tbody>\n",
       "</table>\n",
       "</div>"
      ],
      "text/plain": [
       "label    month  clinton  conservative  general_twitter  news  trump  violence  \\\n",
       "0      2014-07      0.0           2.0              8.0   0.0    0.0       2.0   \n",
       "1      2014-08      0.0           1.0              0.0   0.0    0.0       0.0   \n",
       "2      2014-09      1.0           0.0              0.0   0.0    0.0       0.0   \n",
       "3      2014-11     23.0          53.0            185.0  29.0   40.0      58.0   \n",
       "4      2014-12     20.0          55.0            231.0  40.0   40.0      56.0   \n",
       "\n",
       "label  total  \n",
       "0       12.0  \n",
       "1        1.0  \n",
       "2        1.0  \n",
       "3      388.0  \n",
       "4      442.0  "
      ]
     },
     "execution_count": 113,
     "metadata": {},
     "output_type": "execute_result"
    }
   ],
   "source": [
    "date_freq.head()"
   ]
  },
  {
   "cell_type": "code",
   "execution_count": 142,
   "metadata": {
    "ExecuteTime": {
     "end_time": "2020-11-08T19:23:21.684797Z",
     "start_time": "2020-11-08T19:23:21.440212Z"
    }
   },
   "outputs": [
    {
     "data": {
      "image/png": "[encoded data removed]",
      "text/plain": [
       "<Figure size 720x576 with 1 Axes>"
      ]
     },
     "metadata": {
      "needs_background": "light"
     },
     "output_type": "display_data"
    }
   ],
   "source": [
    "dates = date_freq.month\n",
    "total_tweets = date_freq.total\n",
    "x_ticks = list(date_freq.month.unique()[::3])\n",
    "\n",
    "plt.figure(figsize=(10, 8))\n",
    "plt.plot(dates, total_tweets, color='#4e79a7', linewidth=2)\n",
    "plt.title('Tweet Frequency over Time', fontsize=16)\n",
    "plt.xlabel('Date', fontsize=12)\n",
    "plt.ylabel('Count', fontsize=12)\n",
    "plt.xticks(x_ticks, rotation=45)\n",
    "sns.despine();"
   ]
  },
  {
   "cell_type": "code",
   "execution_count": 151,
   "metadata": {
    "ExecuteTime": {
     "end_time": "2020-11-08T19:28:55.650523Z",
     "start_time": "2020-11-08T19:28:55.647015Z"
    }
   },
   "outputs": [
    {
     "data": {
      "text/plain": [
       "['2014-07',\n",
       " '2014-11',\n",
       " '2015-02',\n",
       " '2015-05',\n",
       " '2015-08',\n",
       " '2015-11',\n",
       " '2016-02',\n",
       " '2016-05',\n",
       " '2016-08',\n",
       " '2016-11',\n",
       " '2017-02',\n",
       " '2017-05',\n",
       " '2017-08']"
      ]
     },
     "execution_count": 151,
     "metadata": {},
     "output_type": "execute_result"
    }
   ],
   "source": [
    "x_ticks"
   ]
  },
  {
   "cell_type": "code",
   "execution_count": 186,
   "metadata": {
    "ExecuteTime": {
     "end_time": "2020-11-08T20:06:46.524695Z",
     "start_time": "2020-11-08T20:06:46.240260Z"
    }
   },
   "outputs": [
    {
     "data": {
      "image/png": "[encoded data removed]",
      "text/plain": [
       "<Figure size 1008x576 with 1 Axes>"
      ]
     },
     "metadata": {
      "needs_background": "light"
     },
     "output_type": "display_data"
    }
   ],
   "source": [
    "dates = date_freq.month\n",
    "x_ticks = list(date_freq.month.unique()[::3])\n",
    "\n",
    "clinton = date_freq.clinton\n",
    "conservative = date_freq.conservative\n",
    "gen_twitter = date_freq.general_twitter\n",
    "news = date_freq.news\n",
    "trump = date_freq.trump\n",
    "violence = date_freq.violence\n",
    "\n",
    "plt.figure(figsize=(14, 8))\n",
    "plt.plot(dates, clinton, color='r', linewidth=2, label='Clinton')\n",
    "plt.plot(dates, trump, color='b', linewidth=2, label='Trump')\n",
    "plt.plot(dates, conservative, color='g', linewidth=1, label='Conservative')\n",
    "plt.plot(dates, violence, color='0', linewidth=1, label='Violence')\n",
    "plt.plot(dates, news, color='m', linewidth=1, label='News')\n",
    "plt.plot(dates, gen_twitter, color='y', linewidth=1, label='General Twitter')\n",
    "\n",
    "plt.vlines('2015-04', ymin=0, ymax=4000, linestyle='--', color='b')\n",
    "plt.text('2015-04', 4000, ' Clinton announces candidacy', rotation=0, fontsize=12)\n",
    "\n",
    "plt.vlines('2015-05', ymin=0, ymax=3000, linestyle='--', color='r')\n",
    "plt.text('2015-05', 3000, ' Trump announces candidacy', rotation=0, fontsize=12)\n",
    "\n",
    "plt.vlines('2016-10', ymin=0, ymax=6600, linestyle='--', color='grey')\n",
    "plt.text('2016-10', 6600, 'Comey announces FBI investigation', rotation=0, fontsize=12)\n",
    "\n",
    "plt.vlines('2016-11', ymin=0, ymax=6200, linestyle='--', color='grey')\n",
    "plt.text('2016-11', 6200, '  2016 Election', rotation=0, fontsize=12)\n",
    "\n",
    "\n",
    "plt.title('Topic Frequency over Time', fontsize=18)\n",
    "plt.xlabel('Date', fontsize=14)\n",
    "plt.ylabel('Count', fontsize=14)\n",
    "plt.xticks(x_ticks, rotation=45)\n",
    "plt.legend(loc='best', frameon=False, fontsize=12)\n",
    "sns.despine();"
   ]
  },
  {
   "cell_type": "code",
   "execution_count": null,
   "metadata": {},
   "outputs": [],
   "source": []
  },
  {
   "cell_type": "code",
   "execution_count": null,
   "metadata": {},
   "outputs": [],
   "source": []
  },
  {
   "cell_type": "code",
   "execution_count": null,
   "metadata": {},
   "outputs": [],
   "source": []
  },
  {
   "cell_type": "code",
   "execution_count": null,
   "metadata": {},
   "outputs": [],
   "source": []
  },
  {
   "cell_type": "code",
   "execution_count": null,
   "metadata": {},
   "outputs": [],
   "source": []
  },
  {
   "cell_type": "code",
   "execution_count": null,
   "metadata": {},
   "outputs": [],
   "source": []
  },
  {
   "cell_type": "code",
   "execution_count": null,
   "metadata": {},
   "outputs": [],
   "source": []
  },
  {
   "cell_type": "code",
   "execution_count": null,
   "metadata": {},
   "outputs": [],
   "source": []
  }
 ],
 "metadata": {
  "kernelspec": {
   "display_name": "Python [conda env:metis] *",
   "language": "python",
   "name": "conda-env-metis-py"
  },
  "language_info": {
   "codemirror_mode": {
    "name": "ipython",
    "version": 3
   },
   "file_extension": ".py",
   "mimetype": "text/x-python",
   "name": "python",
   "nbconvert_exporter": "python",
   "pygments_lexer": "ipython3",
   "version": "3.8.5"
  },
  "toc": {
   "base_numbering": 1,
   "nav_menu": {},
   "number_sections": true,
   "sideBar": true,
   "skip_h1_title": false,
   "title_cell": "Table of Contents",
   "title_sidebar": "Contents",
   "toc_cell": false,
   "toc_position": {},
   "toc_section_display": true,
   "toc_window_display": false
  },
  "varInspector": {
   "cols": {
    "lenName": 16,
    "lenType": 16,
    "lenVar": 40
   },
   "kernels_config": {
    "python": {
     "delete_cmd_postfix": "",
     "delete_cmd_prefix": "del ",
     "library": "var_list.py",
     "varRefreshCmd": "print(var_dic_list())"
    },
    "r": {
     "delete_cmd_postfix": ") ",
     "delete_cmd_prefix": "rm(",
     "library": "var_list.r",
     "varRefreshCmd": "cat(var_dic_list()) "
    }
   },
   "types_to_exclude": [
    "module",
    "function",
    "builtin_function_or_method",
    "instance",
    "_Feature"
   ],
   "window_display": false
  }
 },
 "nbformat": 4,
 "nbformat_minor": 4
}
