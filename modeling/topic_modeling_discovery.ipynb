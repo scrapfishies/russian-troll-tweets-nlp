{
 "cells": [
  {
   "cell_type": "markdown",
   "metadata": {},
   "source": [
    "# Topic Modeling Discovery"
   ]
  },
  {
   "cell_type": "code",
   "execution_count": 1,
   "metadata": {
    "ExecuteTime": {
     "end_time": "2020-11-04T23:12:54.224990Z",
     "start_time": "2020-11-04T23:12:51.687652Z"
    }
   },
   "outputs": [],
   "source": [
    "# Basics\n",
    "import pandas as pd\n",
    "import numpy as np\n",
    "import matplotlib.pyplot as plt\n",
    "import seaborn as sns\n",
    "%matplotlib inline\n",
    "import pickle \n",
    "\n",
    "# nltk\n",
    "import nltk\n",
    "from nltk.tokenize import word_tokenize\n",
    "from nltk.corpus import stopwords, wordnet\n",
    "from sklearn.decomposition import TruncatedSVD\n",
    "from sklearn.decomposition import NMF\n",
    "from sklearn.pipeline import Pipeline\n",
    "\n",
    "#sklearn\n",
    "from sklearn.feature_extraction.text import CountVectorizer\n",
    "from sklearn.feature_extraction.text import TfidfVectorizer\n",
    "from sklearn.cluster import KMeans\n",
    "\n",
    "# spacy\n",
    "import spacy\n",
    "\n",
    "# corex\n",
    "from corextopic import corextopic as ct\n",
    "from corextopic import vis_topic as vt\n",
    "\n",
    "from preprocessing_funcs import clean_tweet, get_hashtags, get_emojis"
   ]
  },
  {
   "cell_type": "code",
   "execution_count": 2,
   "metadata": {
    "ExecuteTime": {
     "end_time": "2020-11-04T23:12:55.626847Z",
     "start_time": "2020-11-04T23:12:55.510652Z"
    }
   },
   "outputs": [],
   "source": [
    "with open('../data_files/processed_tweets.pickle', 'rb') as read_file:\n",
    "    tweets = pickle.load(read_file)"
   ]
  },
  {
   "cell_type": "code",
   "execution_count": 3,
   "metadata": {
    "ExecuteTime": {
     "end_time": "2020-11-04T23:12:55.682640Z",
     "start_time": "2020-11-04T23:12:55.671773Z"
    },
    "scrolled": true
   },
   "outputs": [
    {
     "data": {
      "text/html": [
       "<div>\n",
       "<style scoped>\n",
       "    .dataframe tbody tr th:only-of-type {\n",
       "        vertical-align: middle;\n",
       "    }\n",
       "\n",
       "    .dataframe tbody tr th {\n",
       "        vertical-align: top;\n",
       "    }\n",
       "\n",
       "    .dataframe thead th {\n",
       "        text-align: right;\n",
       "    }\n",
       "</style>\n",
       "<table border=\"1\" class=\"dataframe\">\n",
       "  <thead>\n",
       "    <tr style=\"text-align: right;\">\n",
       "      <th></th>\n",
       "      <th>text</th>\n",
       "      <th>processed</th>\n",
       "    </tr>\n",
       "  </thead>\n",
       "  <tbody>\n",
       "    <tr>\n",
       "      <th>0</th>\n",
       "      <td>#IslamKills Are you trying to say that there w...</td>\n",
       "      <td>islam kill try say terrorist attack europe ref...</td>\n",
       "    </tr>\n",
       "    <tr>\n",
       "      <th>1</th>\n",
       "      <td>Clinton: Trump should’ve apologized more, atta...</td>\n",
       "      <td>clinton trump apologize attack little</td>\n",
       "    </tr>\n",
       "    <tr>\n",
       "      <th>2</th>\n",
       "      <td>RT @ltapoll: Who was/is the best president of ...</td>\n",
       "      <td>well president past retweet</td>\n",
       "    </tr>\n",
       "    <tr>\n",
       "      <th>3</th>\n",
       "      <td>RT @jww372: I don't have to guess your religio...</td>\n",
       "      <td>guess religion christmas aftermath</td>\n",
       "    </tr>\n",
       "    <tr>\n",
       "      <th>4</th>\n",
       "      <td>RT @Shareblue: Pence and his lawyers decided w...</td>\n",
       "      <td>pence lawyer decide official email public can see</td>\n",
       "    </tr>\n",
       "  </tbody>\n",
       "</table>\n",
       "</div>"
      ],
      "text/plain": [
       "                                                text  \\\n",
       "0  #IslamKills Are you trying to say that there w...   \n",
       "1  Clinton: Trump should’ve apologized more, atta...   \n",
       "2  RT @ltapoll: Who was/is the best president of ...   \n",
       "3  RT @jww372: I don't have to guess your religio...   \n",
       "4  RT @Shareblue: Pence and his lawyers decided w...   \n",
       "\n",
       "                                           processed  \n",
       "0  islam kill try say terrorist attack europe ref...  \n",
       "1              clinton trump apologize attack little  \n",
       "2                        well president past retweet  \n",
       "3                 guess religion christmas aftermath  \n",
       "4  pence lawyer decide official email public can see  "
      ]
     },
     "execution_count": 3,
     "metadata": {},
     "output_type": "execute_result"
    }
   ],
   "source": [
    "tweets.head()"
   ]
  },
  {
   "cell_type": "code",
   "execution_count": 4,
   "metadata": {
    "ExecuteTime": {
     "end_time": "2020-11-04T23:12:55.734196Z",
     "start_time": "2020-11-04T23:12:55.727494Z"
    },
    "scrolled": true
   },
   "outputs": [
    {
     "data": {
      "text/html": [
       "<div>\n",
       "<style scoped>\n",
       "    .dataframe tbody tr th:only-of-type {\n",
       "        vertical-align: middle;\n",
       "    }\n",
       "\n",
       "    .dataframe tbody tr th {\n",
       "        vertical-align: top;\n",
       "    }\n",
       "\n",
       "    .dataframe thead th {\n",
       "        text-align: right;\n",
       "    }\n",
       "</style>\n",
       "<table border=\"1\" class=\"dataframe\">\n",
       "  <thead>\n",
       "    <tr style=\"text-align: right;\">\n",
       "      <th></th>\n",
       "      <th>text</th>\n",
       "      <th>processed</th>\n",
       "    </tr>\n",
       "  </thead>\n",
       "  <tbody>\n",
       "    <tr>\n",
       "      <th>203477</th>\n",
       "      <td>RT @AndreaChalupa: In intel circles, the story...</td>\n",
       "      <td>intel circle story go fsb film trump orgy russ...</td>\n",
       "    </tr>\n",
       "    <tr>\n",
       "      <th>203478</th>\n",
       "      <td>RT @KansasCityDNews: Tonganoxie police: Middle...</td>\n",
       "      <td>tonganoxie police middle school girl sexually ...</td>\n",
       "    </tr>\n",
       "    <tr>\n",
       "      <th>203479</th>\n",
       "      <td>RT @signsinyork: Getting the right #company lo...</td>\n",
       "      <td>get right company logo business get message ac...</td>\n",
       "    </tr>\n",
       "    <tr>\n",
       "      <th>203480</th>\n",
       "      <td>The Latest: Obama affirms continuity of ties w...</td>\n",
       "      <td>late obama affirm continuity tie canada</td>\n",
       "    </tr>\n",
       "    <tr>\n",
       "      <th>203481</th>\n",
       "      <td>RT @futureguru100: U cant just Upload a CD onl...</td>\n",
       "      <td>u can not upload cd online product work u get ...</td>\n",
       "    </tr>\n",
       "  </tbody>\n",
       "</table>\n",
       "</div>"
      ],
      "text/plain": [
       "                                                     text  \\\n",
       "203477  RT @AndreaChalupa: In intel circles, the story...   \n",
       "203478  RT @KansasCityDNews: Tonganoxie police: Middle...   \n",
       "203479  RT @signsinyork: Getting the right #company lo...   \n",
       "203480  The Latest: Obama affirms continuity of ties w...   \n",
       "203481  RT @futureguru100: U cant just Upload a CD onl...   \n",
       "\n",
       "                                                processed  \n",
       "203477  intel circle story go fsb film trump orgy russ...  \n",
       "203478  tonganoxie police middle school girl sexually ...  \n",
       "203479  get right company logo business get message ac...  \n",
       "203480            late obama affirm continuity tie canada  \n",
       "203481  u can not upload cd online product work u get ...  "
      ]
     },
     "execution_count": 4,
     "metadata": {},
     "output_type": "execute_result"
    }
   ],
   "source": [
    "tweets.tail()"
   ]
  },
  {
   "cell_type": "code",
   "execution_count": 5,
   "metadata": {
    "ExecuteTime": {
     "end_time": "2020-11-04T23:12:57.894201Z",
     "start_time": "2020-11-04T23:12:57.864504Z"
    },
    "scrolled": true
   },
   "outputs": [
    {
     "name": "stdout",
     "output_type": "stream",
     "text": [
      "<class 'pandas.core.frame.DataFrame'>\n",
      "RangeIndex: 203482 entries, 0 to 203481\n",
      "Data columns (total 2 columns):\n",
      " #   Column     Non-Null Count   Dtype \n",
      "---  ------     --------------   ----- \n",
      " 0   text       203482 non-null  object\n",
      " 1   processed  203482 non-null  object\n",
      "dtypes: object(2)\n",
      "memory usage: 3.1+ MB\n"
     ]
    }
   ],
   "source": [
    "tweets.info()"
   ]
  },
  {
   "cell_type": "code",
   "execution_count": 6,
   "metadata": {
    "ExecuteTime": {
     "end_time": "2020-11-04T23:12:59.439815Z",
     "start_time": "2020-11-04T23:12:59.433324Z"
    }
   },
   "outputs": [
    {
     "data": {
      "text/html": [
       "<div>\n",
       "<style scoped>\n",
       "    .dataframe tbody tr th:only-of-type {\n",
       "        vertical-align: middle;\n",
       "    }\n",
       "\n",
       "    .dataframe tbody tr th {\n",
       "        vertical-align: top;\n",
       "    }\n",
       "\n",
       "    .dataframe thead th {\n",
       "        text-align: right;\n",
       "    }\n",
       "</style>\n",
       "<table border=\"1\" class=\"dataframe\">\n",
       "  <thead>\n",
       "    <tr style=\"text-align: right;\">\n",
       "      <th></th>\n",
       "      <th>text</th>\n",
       "      <th>processed</th>\n",
       "    </tr>\n",
       "  </thead>\n",
       "  <tbody>\n",
       "    <tr>\n",
       "      <th>0</th>\n",
       "      <td>#IslamKills Are you trying to say that there w...</td>\n",
       "      <td>islam kill try say terrorist attack europe ref...</td>\n",
       "    </tr>\n",
       "    <tr>\n",
       "      <th>1</th>\n",
       "      <td>Clinton: Trump should’ve apologized more, atta...</td>\n",
       "      <td>clinton trump apologize attack little</td>\n",
       "    </tr>\n",
       "    <tr>\n",
       "      <th>2</th>\n",
       "      <td>RT @ltapoll: Who was/is the best president of ...</td>\n",
       "      <td>well president past retweet</td>\n",
       "    </tr>\n",
       "    <tr>\n",
       "      <th>3</th>\n",
       "      <td>RT @jww372: I don't have to guess your religio...</td>\n",
       "      <td>guess religion christmas aftermath</td>\n",
       "    </tr>\n",
       "    <tr>\n",
       "      <th>4</th>\n",
       "      <td>RT @Shareblue: Pence and his lawyers decided w...</td>\n",
       "      <td>pence lawyer decide official email public can see</td>\n",
       "    </tr>\n",
       "  </tbody>\n",
       "</table>\n",
       "</div>"
      ],
      "text/plain": [
       "                                                text  \\\n",
       "0  #IslamKills Are you trying to say that there w...   \n",
       "1  Clinton: Trump should’ve apologized more, atta...   \n",
       "2  RT @ltapoll: Who was/is the best president of ...   \n",
       "3  RT @jww372: I don't have to guess your religio...   \n",
       "4  RT @Shareblue: Pence and his lawyers decided w...   \n",
       "\n",
       "                                           processed  \n",
       "0  islam kill try say terrorist attack europe ref...  \n",
       "1              clinton trump apologize attack little  \n",
       "2                        well president past retweet  \n",
       "3                 guess religion christmas aftermath  \n",
       "4  pence lawyer decide official email public can see  "
      ]
     },
     "execution_count": 6,
     "metadata": {},
     "output_type": "execute_result"
    }
   ],
   "source": [
    "tweets.head()"
   ]
  },
  {
   "cell_type": "code",
   "execution_count": 7,
   "metadata": {
    "ExecuteTime": {
     "end_time": "2020-11-04T23:13:00.622885Z",
     "start_time": "2020-11-04T23:13:00.620679Z"
    }
   },
   "outputs": [],
   "source": [
    "proc_tweets = tweets.processed"
   ]
  },
  {
   "cell_type": "markdown",
   "metadata": {},
   "source": [
    "## KMeans"
   ]
  },
  {
   "cell_type": "code",
   "execution_count": 8,
   "metadata": {
    "ExecuteTime": {
     "end_time": "2020-11-04T23:13:04.305537Z",
     "start_time": "2020-11-04T23:13:02.460388Z"
    }
   },
   "outputs": [
    {
     "name": "stdout",
     "output_type": "stream",
     "text": [
      "CPU times: user 1.79 s, sys: 46.4 ms, total: 1.84 s\n",
      "Wall time: 1.84 s\n"
     ]
    }
   ],
   "source": [
    "%%time\n",
    "\n",
    "tfidfconvert = TfidfVectorizer(use_idf=True, smooth_idf=True, max_features=60000, stop_words='english')\n",
    "tweets_transformed = tfidfconvert.fit_transform(proc_tweets)"
   ]
  },
  {
   "cell_type": "code",
   "execution_count": 9,
   "metadata": {
    "ExecuteTime": {
     "end_time": "2020-11-04T23:21:06.896245Z",
     "start_time": "2020-11-04T23:13:05.244020Z"
    }
   },
   "outputs": [
    {
     "name": "stdout",
     "output_type": "stream",
     "text": [
      "CPU times: user 1h 1min 47s, sys: 1min 42s, total: 1h 3min 30s\n",
      "Wall time: 8min 1s\n"
     ]
    }
   ],
   "source": [
    "%%time\n",
    "inertias = []\n",
    "\n",
    "for k_ in np.arange(1, 21):\n",
    "    km = KMeans(n_clusters=k_)\n",
    "    km.fit(tweets_transformed)\n",
    "    inertias.append(km.inertia_)"
   ]
  },
  {
   "cell_type": "code",
   "execution_count": 11,
   "metadata": {
    "ExecuteTime": {
     "end_time": "2020-11-04T23:22:08.566233Z",
     "start_time": "2020-11-04T23:22:08.317259Z"
    },
    "scrolled": true
   },
   "outputs": [
    {
     "data": {
      "image/png": "[encoded data removed]",
      "text/plain": [
       "<Figure size 720x576 with 1 Axes>"
      ]
     },
     "metadata": {
      "needs_background": "light"
     },
     "output_type": "display_data"
    }
   ],
   "source": [
    "%matplotlib inline\n",
    "plt.figure(figsize=(10, 8))\n",
    "plt.plot(np.arange(1, 21), inertias, marker='o')\n",
    "plt.axvline(x=6, ls='--', label='Elbow @ k=6')\n",
    "plt.axvline(x=10, ls='--', label='Elbow @ k=10')\n",
    "plt.axvline(x=13, ls='--', label='Elbow @ k=13')\n",
    "plt.axvline(x=16, ls='--', label='Elbow @ k=16')\n",
    "plt.xticks(np.arange(0, 22, step=2))\n",
    "plt.title('Inertias by k-clusters', fontsize=14)\n",
    "plt.ylabel(\"Inertia\", fontsize=12)\n",
    "plt.xlabel('k', fontsize=12)\n",
    "plt.legend();"
   ]
  },
  {
   "cell_type": "markdown",
   "metadata": {},
   "source": [
    "## Topic Modeling"
   ]
  },
  {
   "cell_type": "code",
   "execution_count": 12,
   "metadata": {
    "ExecuteTime": {
     "end_time": "2020-11-04T23:22:15.316355Z",
     "start_time": "2020-11-04T23:22:15.312952Z"
    }
   },
   "outputs": [],
   "source": [
    "def display_topics(model, feature_names, no_top_words, topic_names=None):\n",
    "    for ix, topic in enumerate(model.components_):\n",
    "        if not topic_names or not topic_names[ix]:\n",
    "            print(\"\\nTopic \", ix)\n",
    "        else:\n",
    "            print(\"\\nTopic: '\",topic_names[ix],\"'\")\n",
    "        print(\", \".join([feature_names[i]\n",
    "                        for i in topic.argsort()[:-no_top_words - 1:-1]]))"
   ]
  },
  {
   "cell_type": "markdown",
   "metadata": {},
   "source": [
    "### LSA"
   ]
  },
  {
   "cell_type": "markdown",
   "metadata": {},
   "source": [
    "Will start with 10 topics - the most pronounced first elbow from above."
   ]
  },
  {
   "cell_type": "code",
   "execution_count": 13,
   "metadata": {
    "ExecuteTime": {
     "end_time": "2020-11-04T23:22:36.495091Z",
     "start_time": "2020-11-04T23:22:17.729193Z"
    }
   },
   "outputs": [],
   "source": [
    "vectorizer = TfidfVectorizer(use_idf=True, \n",
    "                             smooth_idf=True,\n",
    "                             stop_words='english')\n",
    "\n",
    "svd_model = TruncatedSVD(n_components=10, \n",
    "                         algorithm='randomized',\n",
    "                         n_iter=100,\n",
    "                         random_state=42)\n",
    "\n",
    "# pipeline of tf-idf + SVD, fit and applied to docs: \n",
    "\n",
    "svd_transformer = Pipeline([('tfidf', vectorizer),\n",
    "                           ('svd', svd_model)])\n",
    "\n",
    "svd_matrix = svd_transformer.fit_transform(proc_tweets)"
   ]
  },
  {
   "cell_type": "code",
   "execution_count": 14,
   "metadata": {
    "ExecuteTime": {
     "end_time": "2020-11-04T23:22:36.784613Z",
     "start_time": "2020-11-04T23:22:36.627994Z"
    }
   },
   "outputs": [
    {
     "name": "stdout",
     "output_type": "stream",
     "text": [
      "\n",
      "Topic  0\n",
      "trump, hillary, donald, clinton, real, president, america, say, make, obama\n",
      "\n",
      "Topic  1\n",
      "hillary, clinton, twitter, conservative, patriot, network, email, journalist, obama, thing\n",
      "\n",
      "Topic  2\n",
      "twitter, conservative, patriot, network, journalist, christian, america, wake, make, cruz\n",
      "\n",
      "Topic  3\n",
      "make, america, people, great, like, know, say, obama, good, love\n",
      "\n",
      "Topic  4\n",
      "make, america, great, hillary, real, donald, phrase, hate, clinton, wake\n",
      "\n",
      "Topic  5\n",
      "president, obama, trump, run, politic, say, news, america, day, elect\n",
      "\n",
      "Topic  6\n",
      "debate, topic, reject, politic, alternative, say, gop, night, make, trump\n",
      "\n",
      "Topic  7\n",
      "say, obama, politic, news, clinton, america, black, make, donald, islam\n",
      "\n",
      "Topic  8\n",
      "know, right, obama, real, donald, patriot, need, journalist, network, want\n",
      "\n",
      "Topic  9\n",
      "say, know, trump, right, like, make, thing, twitter, love, good\n"
     ]
    }
   ],
   "source": [
    "terms = vectorizer.get_feature_names()\n",
    "\n",
    "display_topics(svd_model, terms, 10)"
   ]
  },
  {
   "cell_type": "markdown",
   "metadata": {},
   "source": [
    "Try again with CountVectorizer"
   ]
  },
  {
   "cell_type": "code",
   "execution_count": 15,
   "metadata": {
    "ExecuteTime": {
     "end_time": "2020-11-04T23:22:56.583304Z",
     "start_time": "2020-11-04T23:22:36.984258Z"
    }
   },
   "outputs": [],
   "source": [
    "vectorizer = CountVectorizer(binary=True, \n",
    "                             stop_words='english')\n",
    "\n",
    "svd_model = TruncatedSVD(n_components=10, \n",
    "                         algorithm='randomized',\n",
    "                         n_iter=100,\n",
    "                         random_state=42)\n",
    "\n",
    "# pipeline of tf-idf + SVD, fit and applied to docs: \n",
    "\n",
    "svd_transformer = Pipeline([('cv', vectorizer),\n",
    "                           ('svd', svd_model)])\n",
    "\n",
    "svd_matrix = svd_transformer.fit_transform(proc_tweets)"
   ]
  },
  {
   "cell_type": "code",
   "execution_count": 16,
   "metadata": {
    "ExecuteTime": {
     "end_time": "2020-11-04T23:22:56.940342Z",
     "start_time": "2020-11-04T23:22:56.781485Z"
    }
   },
   "outputs": [
    {
     "name": "stdout",
     "output_type": "stream",
     "text": [
      "\n",
      "Topic  0\n",
      "trump, donald, hillary, clinton, real, say, president, obama, america, politic\n",
      "\n",
      "Topic  1\n",
      "hillary, clinton, obama, email, campaign, twitter, conservative, fbi, say, debate\n",
      "\n",
      "Topic  2\n",
      "twitter, conservative, patriot, journalist, network, obama, christian, america, wake, make\n",
      "\n",
      "Topic  3\n",
      "obama, say, make, people, president, like, news, black, know, want\n",
      "\n",
      "Topic  4\n",
      "donald, real, hillary, make, america, people, great, like, thing, know\n",
      "\n",
      "Topic  5\n",
      "make, people, say, america, like, great, black, know, want, thing\n",
      "\n",
      "Topic  6\n",
      "clinton, donald, make, real, america, politic, great, news, new, email\n",
      "\n",
      "Topic  7\n",
      "say, people, donald, real, like, black, know, thing, live, twitter\n",
      "\n",
      "Topic  8\n",
      "people, like, black, live, clinton, twitter, know, white, matt, think\n",
      "\n",
      "Topic  9\n",
      "patriot, journalist, network, black, live, people, matt, cruz, american, crow\n"
     ]
    }
   ],
   "source": [
    "terms = vectorizer.get_feature_names()\n",
    "\n",
    "display_topics(svd_model, terms, 10)"
   ]
  },
  {
   "cell_type": "markdown",
   "metadata": {},
   "source": [
    "Feels like there's a bit more variety in the CountVectorizer version. But there's not a lot of variety between the topics anyway. Maybe 10 is too many?"
   ]
  },
  {
   "cell_type": "markdown",
   "metadata": {},
   "source": [
    "### NMF"
   ]
  },
  {
   "cell_type": "code",
   "execution_count": 17,
   "metadata": {
    "ExecuteTime": {
     "end_time": "2020-11-04T23:23:55.639614Z",
     "start_time": "2020-11-04T23:23:47.388630Z"
    }
   },
   "outputs": [],
   "source": [
    "vectorizer = CountVectorizer(binary=True, \n",
    "                             stop_words='english')\n",
    "\n",
    "nmf_model = NMF(n_components=10)\n",
    "\n",
    "# pipeline of tf-idf + SVD, fit and applied to docs: \n",
    "\n",
    "nfm_transformer = Pipeline([('cv', vectorizer),\n",
    "                           ('nmf', nmf_model)])\n",
    "\n",
    "nmf_matrix = nfm_transformer.fit_transform(proc_tweets)"
   ]
  },
  {
   "cell_type": "code",
   "execution_count": 18,
   "metadata": {
    "ExecuteTime": {
     "end_time": "2020-11-04T23:23:55.985497Z",
     "start_time": "2020-11-04T23:23:55.870565Z"
    }
   },
   "outputs": [
    {
     "name": "stdout",
     "output_type": "stream",
     "text": [
      "\n",
      "Topic  0\n",
      "trump, president, politic, maga, donald, supporter, news, medium, poll, debate\n",
      "\n",
      "Topic  1\n",
      "hillary, crook, thing, trust, lie, maga, prison, debate, want, benghazi\n",
      "\n",
      "Topic  2\n",
      "twitter, conservative, christian, party, tea, gop, maga, america, wake, tgdn\n",
      "\n",
      "Topic  3\n",
      "obama, president, news, barack, michelle, isis, politic, world, administration, house\n",
      "\n",
      "Topic  4\n",
      "donald, real, trump, america, need, potus, mike, maga, thank, time\n",
      "\n",
      "Topic  5\n",
      "make, america, great, hate, wake, phrase, president, let, good, day\n",
      "\n",
      "Topic  6\n",
      "clinton, politic, email, campaign, foundation, fbi, new, news, debate, poll\n",
      "\n",
      "Topic  7\n",
      "say, news, good, election, know, want, woman, politic, thing, time\n",
      "\n",
      "Topic  8\n",
      "people, like, black, know, live, thing, want, think, look, white\n",
      "\n",
      "Topic  9\n",
      "patriot, journalist, network, cruz, crow, america, wake, ted, american, nra\n"
     ]
    }
   ],
   "source": [
    "terms = vectorizer.get_feature_names()\n",
    "\n",
    "display_topics(nmf_model, terms, 10)"
   ]
  },
  {
   "cell_type": "markdown",
   "metadata": {},
   "source": [
    "Pretty similar to LSA"
   ]
  },
  {
   "cell_type": "markdown",
   "metadata": {},
   "source": [
    "### Corex"
   ]
  },
  {
   "cell_type": "markdown",
   "metadata": {},
   "source": [
    "[lecture example notebook](https://github.com/scrapfishies/onl20_ds4/blob/master/curriculum/project-04/fancy-nlp/corex/CorEx.ipynb)"
   ]
  },
  {
   "cell_type": "code",
   "execution_count": 19,
   "metadata": {
    "ExecuteTime": {
     "end_time": "2020-11-04T23:24:31.156052Z",
     "start_time": "2020-11-04T23:24:29.000994Z"
    }
   },
   "outputs": [],
   "source": [
    "vectorizer = CountVectorizer(token_pattern=\"\\\\b[a-z][a-z]+\\\\b\",\n",
    "                             binary=True,\n",
    "                             stop_words='english')\n",
    "\n",
    "doc_word = vectorizer.fit_transform(proc_tweets)\n",
    "words = list(np.asarray(vectorizer.get_feature_names()))"
   ]
  },
  {
   "cell_type": "code",
   "execution_count": 20,
   "metadata": {
    "ExecuteTime": {
     "end_time": "2020-11-04T23:28:24.051478Z",
     "start_time": "2020-11-04T23:24:31.791185Z"
    }
   },
   "outputs": [
    {
     "data": {
      "text/plain": [
       "<corextopic.corextopic.Corex at 0x7fd425377e20>"
      ]
     },
     "execution_count": 20,
     "metadata": {},
     "output_type": "execute_result"
    }
   ],
   "source": [
    "topic_model = ct.Corex(n_hidden=10, \n",
    "                       words=words,\n",
    "                       max_iter=200, \n",
    "                       seed=42)\n",
    "\n",
    "\n",
    "topic_model.fit(doc_word, words=words, docs=proc_tweets)"
   ]
  },
  {
   "cell_type": "code",
   "execution_count": 21,
   "metadata": {
    "ExecuteTime": {
     "end_time": "2020-11-04T23:28:24.797717Z",
     "start_time": "2020-11-04T23:28:24.386165Z"
    },
    "scrolled": true
   },
   "outputs": [
    {
     "name": "stdout",
     "output_type": "stream",
     "text": [
      "0: conservative, twitter, network, journalist, patriot, christian, merkel, muss, tea, islam\n",
      "1: news, police, post, black, midnight, white, campaign, fbi, report, state\n",
      "2: trump, donald, real, politic, president, maga, poll, supporter, rally, pence\n",
      "3: oscar, play, color, ft, oscars, feat, gt, music, ben, oscarssowhite\n",
      "4: hillary, clinton, email, crook, foundation, wikileaks, politician, gift, benghazi, bernie\n",
      "5: cruz, ted, crow, isis, john, law, ice, saudi, op, target\n",
      "6: guide, thanksgiving, survival, click, water, promotion, mixtape, soundcloud, west, fall\n",
      "7: wear, car, local, boy, bowl, driver, man, room, truck, park\n",
      "8: obama, american, illegal, americans, michelle, obamacare, barack, african, enlist, climate\n",
      "9: know, right, people, truth, lie, think, liberal, really, want, need\n"
     ]
    }
   ],
   "source": [
    "# Print all topics from the CorEx topic model\n",
    "topics = topic_model.get_topics()\n",
    "for n, topic in enumerate(topics):\n",
    "    topic_words, _ = zip(*topic)\n",
    "    print('{}: '.format(n) + ', '.join(topic_words))"
   ]
  },
  {
   "cell_type": "markdown",
   "metadata": {},
   "source": [
    "These topics look more promising - much more diverse"
   ]
  },
  {
   "cell_type": "code",
   "execution_count": 24,
   "metadata": {
    "ExecuteTime": {
     "end_time": "2020-11-04T23:29:20.211997Z",
     "start_time": "2020-11-04T23:29:19.966624Z"
    }
   },
   "outputs": [
    {
     "data": {
      "text/plain": [
       "[('cheryl mill hillary aid get immunity hillary clinton email scandal sicken democratic party',\n",
       "  0.0),\n",
       " ('hillary clinton sphincter transplant word sphincter reject anncoulter hillaryfordumm',\n",
       "  0.0),\n",
       " ('new trump ad trump campaign respond hillary basket deplorables comment maga hillarys health',\n",
       "  0.0),\n",
       " ('statement attempt coverup clinton email state department wikileaks hillarys email crook',\n",
       "  0.0),\n",
       " ('percent crook hillary clinton foundation budget actually go charity maga',\n",
       "  0.0),\n",
       " ('excite welcome loyolahounds hall fame class back loyolamaryland weekend thrill honor distinguis',\n",
       "  0.0),\n",
       " ('bill clinton rape cover ou speech via campusreform never hillary clintoncrimes',\n",
       "  0.0),\n",
       " ('break hillarys huma abedin miss clinton body count via youtube fbireopenscase maga c',\n",
       "  0.0),\n",
       " ('racysicilian hillary clinton afterbill rape womenu psychologically rapedthem defendbill stop deflect',\n",
       "  0.0),\n",
       " ('softnumnums mare secviar jimasher hillary clinton one obsess obama bear',\n",
       "  0.0)]"
      ]
     },
     "execution_count": 24,
     "metadata": {},
     "output_type": "execute_result"
    }
   ],
   "source": [
    "# Let's check out topic : graphics\n",
    "topic_model.get_top_docs(topic=4, n_docs=10)"
   ]
  },
  {
   "cell_type": "markdown",
   "metadata": {},
   "source": [
    "Yikes"
   ]
  },
  {
   "cell_type": "code",
   "execution_count": 25,
   "metadata": {
    "ExecuteTime": {
     "end_time": "2020-11-04T23:29:43.423938Z",
     "start_time": "2020-11-04T23:29:43.282764Z"
    }
   },
   "outputs": [
    {
     "data": {
      "image/png": "[encoded data removed]",
      "text/plain": [
       "<Figure size 720x360 with 1 Axes>"
      ]
     },
     "metadata": {
      "needs_background": "light"
     },
     "output_type": "display_data"
    }
   ],
   "source": [
    "plt.figure(figsize=(10,5))\n",
    "plt.bar(range(topic_model.tcs.shape[0]), topic_model.tcs, color='#4e79a7', width=0.5)\n",
    "plt.xlabel('Topic', fontsize=16)\n",
    "plt.ylabel('Total Correlation (nats)', fontsize=16)\n",
    "plt.show()"
   ]
  },
  {
   "cell_type": "markdown",
   "metadata": {},
   "source": [
    "Testing some anchors based on the topic results"
   ]
  },
  {
   "cell_type": "code",
   "execution_count": 26,
   "metadata": {
    "ExecuteTime": {
     "end_time": "2020-11-04T23:29:58.042352Z",
     "start_time": "2020-11-04T23:29:58.037527Z"
    }
   },
   "outputs": [
    {
     "data": {
      "text/plain": [
       "7"
      ]
     },
     "execution_count": 26,
     "metadata": {},
     "output_type": "execute_result"
    }
   ],
   "source": [
    "topics = [['donald', 'trump', 'maga'],                                             # trump stuff\n",
    "          ['hillary', 'clinton'],                                                  # hillary stuff\n",
    "          ['merkel', 'muss', 'die', 'ist', 'ich', 'das'],                          # german stuff\n",
    "          ['color', 'blm', 'black', 'matt', 'oscar', 'racism', 'blacktwitter'],    # BLM/race stuff\n",
    "          ['police', 'officer', 'shoot'],                                          # police stuff\n",
    "          ['obama', 'barack'],                                                     # obama stuff\n",
    "          ['isis', 'muslim', 'islam']                                              # isis/islam stuff\n",
    "         ]\n",
    "\n",
    "len(topics)"
   ]
  },
  {
   "cell_type": "markdown",
   "metadata": {},
   "source": [
    "Will plot out 7 anchors and let CorEx decide the rest"
   ]
  },
  {
   "cell_type": "code",
   "execution_count": 27,
   "metadata": {
    "ExecuteTime": {
     "end_time": "2020-11-04T23:33:34.392003Z",
     "start_time": "2020-11-04T23:30:05.372117Z"
    }
   },
   "outputs": [
    {
     "data": {
      "text/plain": [
       "<corextopic.corextopic.Corex at 0x7fd4253775e0>"
      ]
     },
     "execution_count": 27,
     "metadata": {},
     "output_type": "execute_result"
    }
   ],
   "source": [
    "topic_model = ct.Corex(n_hidden=10, \n",
    "                       words=words,\n",
    "                       max_iter=200, \n",
    "                       seed=42)\n",
    "\n",
    "topic_model.fit(doc_word, words=words, docs=proc_tweets, \n",
    "                anchors=topics, anchor_strength=5)"
   ]
  },
  {
   "cell_type": "code",
   "execution_count": 28,
   "metadata": {
    "ExecuteTime": {
     "end_time": "2020-11-04T23:33:35.180676Z",
     "start_time": "2020-11-04T23:33:34.741770Z"
    }
   },
   "outputs": [
    {
     "name": "stdout",
     "output_type": "stream",
     "text": [
      "0: trump, donald, maga, real, president, supporter, politic, train, poll, rally\n",
      "1: hillary, clinton, email, campaign, crook, foundation, fbi, trust, wikileaks, benghazi\n",
      "2: die, merkel, muss, ist, das, ich, sie, es, mit, den\n",
      "3: black, matt, color, racism, oscar, blm, blacktwitter, live, white, oscars\n",
      "4: police, shoot, officer, san, cop, suspect, nodapl, pipeline, arrest, dakota\n",
      "5: obama, journalist, network, patriot, barack, conservative, twitter, christian, tea, michelle\n",
      "6: islam, isis, muslim, kill, refugee, brussels, muslims, terrorist, prayforbrussels, islamic\n",
      "7: cruz, ted, guide, thanksgiving, survival, crow, censorship, cyber, gt, click\n",
      "8: news, medium, election, state, report, gop, post, cnn, new, russia\n",
      "9: midnight, christmas, phrase, play, dinner, aftermath, ruin, america, reallifemagicspells, ft\n"
     ]
    }
   ],
   "source": [
    "# Print all topics from the CorEx topic model\n",
    "topics = topic_model.get_topics()\n",
    "for n,topic in enumerate(topics):\n",
    "    topic_words,_ = zip(*topic)\n",
    "    print('{}: '.format(n) + ', '.join(topic_words))"
   ]
  },
  {
   "cell_type": "code",
   "execution_count": 30,
   "metadata": {
    "ExecuteTime": {
     "end_time": "2020-11-04T23:34:12.941606Z",
     "start_time": "2020-11-04T23:34:12.708102Z"
    }
   },
   "outputs": [
    {
     "data": {
      "text/plain": [
       "[('lie pander cover hillary dw promote clinton foundation red nation rise',\n",
       "  0.0),\n",
       " ('clinton suggest russia work elect trump', 0.0),\n",
       " ('vikkideiter cnn clinton george soros headquarter never ever tell truth',\n",
       "  0.0),\n",
       " ('hillary proclaim jihadists radical face palm islam kill stop islam', 0.0),\n",
       " ('story hillary little girl', 0.0),\n",
       " ('trump hillary question debate video daily caller', 0.0),\n",
       " ('right sid blumenthal random clinton supporter', 0.0),\n",
       " ('inform bill clinton rape woman hillary fund isis please oh great one inform robert byr',\n",
       "  0.0),\n",
       " ('florida poll clinton trump virtually tie politic', 0.0),\n",
       " ('trumpsarmy urrrg hillary dirty sneaky thing', 0.0)]"
      ]
     },
     "execution_count": 30,
     "metadata": {},
     "output_type": "execute_result"
    }
   ],
   "source": [
    "# Let's check out topic : graphics\n",
    "topic_model.get_top_docs(topic=1, n_docs=10)"
   ]
  },
  {
   "cell_type": "code",
   "execution_count": 31,
   "metadata": {
    "ExecuteTime": {
     "end_time": "2020-11-04T23:34:29.980320Z",
     "start_time": "2020-11-04T23:34:29.839131Z"
    }
   },
   "outputs": [
    {
     "data": {
      "image/png": "[encoded data removed]",
      "text/plain": [
       "<Figure size 720x360 with 1 Axes>"
      ]
     },
     "metadata": {
      "needs_background": "light"
     },
     "output_type": "display_data"
    }
   ],
   "source": [
    "plt.figure(figsize=(10,5))\n",
    "plt.bar(range(topic_model.tcs.shape[0]), topic_model.tcs, color='#4e79a7', width=0.5)\n",
    "plt.xlabel('Topic', fontsize=16)\n",
    "plt.ylabel('Total Correlation (nats)', fontsize=16)\n",
    "plt.show()"
   ]
  },
  {
   "cell_type": "code",
   "execution_count": 33,
   "metadata": {
    "ExecuteTime": {
     "end_time": "2020-11-04T23:34:44.902325Z",
     "start_time": "2020-11-04T23:34:44.899155Z"
    }
   },
   "outputs": [
    {
     "data": {
      "text/plain": [
       "8.131715395509769"
      ]
     },
     "execution_count": 33,
     "metadata": {},
     "output_type": "execute_result"
    }
   ],
   "source": [
    "topic_model.tc"
   ]
  },
  {
   "cell_type": "markdown",
   "metadata": {},
   "source": [
    "CorEx seems the most promising and I like the anchors. I'll wrap up this notebook as model discovery and start another to focus solely on CorEx."
   ]
  }
 ],
 "metadata": {
  "kernelspec": {
   "display_name": "Python [conda env:metis] *",
   "language": "python",
   "name": "conda-env-metis-py"
  },
  "language_info": {
   "codemirror_mode": {
    "name": "ipython",
    "version": 3
   },
   "file_extension": ".py",
   "mimetype": "text/x-python",
   "name": "python",
   "nbconvert_exporter": "python",
   "pygments_lexer": "ipython3",
   "version": "3.8.5"
  },
  "toc": {
   "base_numbering": 1,
   "nav_menu": {},
   "number_sections": true,
   "sideBar": true,
   "skip_h1_title": false,
   "title_cell": "Table of Contents",
   "title_sidebar": "Contents",
   "toc_cell": false,
   "toc_position": {},
   "toc_section_display": true,
   "toc_window_display": true
  },
  "varInspector": {
   "cols": {
    "lenName": 16,
    "lenType": 16,
    "lenVar": 40
   },
   "kernels_config": {
    "python": {
     "delete_cmd_postfix": "",
     "delete_cmd_prefix": "del ",
     "library": "var_list.py",
     "varRefreshCmd": "print(var_dic_list())"
    },
    "r": {
     "delete_cmd_postfix": ") ",
     "delete_cmd_prefix": "rm(",
     "library": "var_list.r",
     "varRefreshCmd": "cat(var_dic_list()) "
    }
   },
   "types_to_exclude": [
    "module",
    "function",
    "builtin_function_or_method",
    "instance",
    "_Feature"
   ],
   "window_display": false
  }
 },
 "nbformat": 4,
 "nbformat_minor": 4
}
