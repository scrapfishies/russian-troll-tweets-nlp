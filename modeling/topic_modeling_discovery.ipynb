{
 "cells": [
  {
   "cell_type": "markdown",
   "metadata": {},
   "source": [
    "# Topic Modeling Discovery"
   ]
  },
  {
   "cell_type": "code",
   "execution_count": 1,
   "metadata": {
    "ExecuteTime": {
     "end_time": "2020-11-03T22:59:02.233116Z",
     "start_time": "2020-11-03T22:59:00.078898Z"
    }
   },
   "outputs": [],
   "source": [
    "# Basics\n",
    "import pandas as pd\n",
    "import numpy as np\n",
    "import matplotlib.pyplot as plt\n",
    "import seaborn as sns\n",
    "%matplotlib inline\n",
    "import pickle \n",
    "\n",
    "# nltk\n",
    "import nltk\n",
    "from nltk.tokenize import word_tokenize\n",
    "from nltk.corpus import stopwords, wordnet\n",
    "from sklearn.decomposition import TruncatedSVD\n",
    "from sklearn.decomposition import NMF\n",
    "from sklearn.pipeline import Pipeline\n",
    "\n",
    "#sklearn\n",
    "from sklearn.feature_extraction.text import CountVectorizer\n",
    "from sklearn.feature_extraction.text import TfidfVectorizer\n",
    "from sklearn.cluster import KMeans\n",
    "\n",
    "# spacy\n",
    "import spacy\n",
    "\n",
    "# corex\n",
    "from corextopic import corextopic as ct\n",
    "from corextopic import vis_topic as vt\n",
    "\n",
    "from preprocessing_funcs import clean_tweet, get_hashtags, get_emojis"
   ]
  },
  {
   "cell_type": "code",
   "execution_count": 2,
   "metadata": {
    "ExecuteTime": {
     "end_time": "2020-11-03T22:59:03.717586Z",
     "start_time": "2020-11-03T22:59:03.577947Z"
    }
   },
   "outputs": [],
   "source": [
    "with open('../data_files/processed_tweets.pickle', 'rb') as read_file:\n",
    "    tweets = pickle.load(read_file)"
   ]
  },
  {
   "cell_type": "code",
   "execution_count": 3,
   "metadata": {
    "ExecuteTime": {
     "end_time": "2020-11-03T22:59:03.840563Z",
     "start_time": "2020-11-03T22:59:03.830667Z"
    },
    "scrolled": true
   },
   "outputs": [
    {
     "data": {
      "text/html": [
       "<div>\n",
       "<style scoped>\n",
       "    .dataframe tbody tr th:only-of-type {\n",
       "        vertical-align: middle;\n",
       "    }\n",
       "\n",
       "    .dataframe tbody tr th {\n",
       "        vertical-align: top;\n",
       "    }\n",
       "\n",
       "    .dataframe thead th {\n",
       "        text-align: right;\n",
       "    }\n",
       "</style>\n",
       "<table border=\"1\" class=\"dataframe\">\n",
       "  <thead>\n",
       "    <tr style=\"text-align: right;\">\n",
       "      <th></th>\n",
       "      <th>text</th>\n",
       "      <th>processed</th>\n",
       "    </tr>\n",
       "  </thead>\n",
       "  <tbody>\n",
       "    <tr>\n",
       "      <th>0</th>\n",
       "      <td>#IslamKills Are you trying to say that there w...</td>\n",
       "      <td>islam kill try say terrorist attack europe ref...</td>\n",
       "    </tr>\n",
       "    <tr>\n",
       "      <th>1</th>\n",
       "      <td>Clinton: Trump should’ve apologized more, atta...</td>\n",
       "      <td>clinton trump apologize attack little</td>\n",
       "    </tr>\n",
       "    <tr>\n",
       "      <th>2</th>\n",
       "      <td>RT @ltapoll: Who was/is the best president of ...</td>\n",
       "      <td>well president past retweet</td>\n",
       "    </tr>\n",
       "    <tr>\n",
       "      <th>3</th>\n",
       "      <td>RT @jww372: I don't have to guess your religio...</td>\n",
       "      <td>guess religion christmas aftermath</td>\n",
       "    </tr>\n",
       "    <tr>\n",
       "      <th>4</th>\n",
       "      <td>RT @Shareblue: Pence and his lawyers decided w...</td>\n",
       "      <td>pence lawyer decide official email public can see</td>\n",
       "    </tr>\n",
       "  </tbody>\n",
       "</table>\n",
       "</div>"
      ],
      "text/plain": [
       "                                                text  \\\n",
       "0  #IslamKills Are you trying to say that there w...   \n",
       "1  Clinton: Trump should’ve apologized more, atta...   \n",
       "2  RT @ltapoll: Who was/is the best president of ...   \n",
       "3  RT @jww372: I don't have to guess your religio...   \n",
       "4  RT @Shareblue: Pence and his lawyers decided w...   \n",
       "\n",
       "                                           processed  \n",
       "0  islam kill try say terrorist attack europe ref...  \n",
       "1              clinton trump apologize attack little  \n",
       "2                        well president past retweet  \n",
       "3                 guess religion christmas aftermath  \n",
       "4  pence lawyer decide official email public can see  "
      ]
     },
     "execution_count": 3,
     "metadata": {},
     "output_type": "execute_result"
    }
   ],
   "source": [
    "tweets.head()"
   ]
  },
  {
   "cell_type": "code",
   "execution_count": 4,
   "metadata": {
    "ExecuteTime": {
     "end_time": "2020-11-03T22:59:06.037029Z",
     "start_time": "2020-11-03T22:59:06.030570Z"
    },
    "scrolled": true
   },
   "outputs": [
    {
     "data": {
      "text/html": [
       "<div>\n",
       "<style scoped>\n",
       "    .dataframe tbody tr th:only-of-type {\n",
       "        vertical-align: middle;\n",
       "    }\n",
       "\n",
       "    .dataframe tbody tr th {\n",
       "        vertical-align: top;\n",
       "    }\n",
       "\n",
       "    .dataframe thead th {\n",
       "        text-align: right;\n",
       "    }\n",
       "</style>\n",
       "<table border=\"1\" class=\"dataframe\">\n",
       "  <thead>\n",
       "    <tr style=\"text-align: right;\">\n",
       "      <th></th>\n",
       "      <th>text</th>\n",
       "      <th>processed</th>\n",
       "    </tr>\n",
       "  </thead>\n",
       "  <tbody>\n",
       "    <tr>\n",
       "      <th>203477</th>\n",
       "      <td>RT @AndreaChalupa: In intel circles, the story...</td>\n",
       "      <td>intel circle story go fsb film trump orgy russ...</td>\n",
       "    </tr>\n",
       "    <tr>\n",
       "      <th>203478</th>\n",
       "      <td>RT @KansasCityDNews: Tonganoxie police: Middle...</td>\n",
       "      <td>tonganoxie police middle school girl sexually ...</td>\n",
       "    </tr>\n",
       "    <tr>\n",
       "      <th>203479</th>\n",
       "      <td>RT @signsinyork: Getting the right #company lo...</td>\n",
       "      <td>get right company logo business get message ac...</td>\n",
       "    </tr>\n",
       "    <tr>\n",
       "      <th>203480</th>\n",
       "      <td>The Latest: Obama affirms continuity of ties w...</td>\n",
       "      <td>late obama affirm continuity tie canada</td>\n",
       "    </tr>\n",
       "    <tr>\n",
       "      <th>203481</th>\n",
       "      <td>RT @futureguru100: U cant just Upload a CD onl...</td>\n",
       "      <td>u can not upload cd online product work u get ...</td>\n",
       "    </tr>\n",
       "  </tbody>\n",
       "</table>\n",
       "</div>"
      ],
      "text/plain": [
       "                                                     text  \\\n",
       "203477  RT @AndreaChalupa: In intel circles, the story...   \n",
       "203478  RT @KansasCityDNews: Tonganoxie police: Middle...   \n",
       "203479  RT @signsinyork: Getting the right #company lo...   \n",
       "203480  The Latest: Obama affirms continuity of ties w...   \n",
       "203481  RT @futureguru100: U cant just Upload a CD onl...   \n",
       "\n",
       "                                                processed  \n",
       "203477  intel circle story go fsb film trump orgy russ...  \n",
       "203478  tonganoxie police middle school girl sexually ...  \n",
       "203479  get right company logo business get message ac...  \n",
       "203480            late obama affirm continuity tie canada  \n",
       "203481  u can not upload cd online product work u get ...  "
      ]
     },
     "execution_count": 4,
     "metadata": {},
     "output_type": "execute_result"
    }
   ],
   "source": [
    "tweets.tail()"
   ]
  },
  {
   "cell_type": "code",
   "execution_count": 5,
   "metadata": {
    "ExecuteTime": {
     "end_time": "2020-11-03T22:59:07.918173Z",
     "start_time": "2020-11-03T22:59:07.888991Z"
    },
    "scrolled": true
   },
   "outputs": [
    {
     "name": "stdout",
     "output_type": "stream",
     "text": [
      "<class 'pandas.core.frame.DataFrame'>\n",
      "RangeIndex: 203482 entries, 0 to 203481\n",
      "Data columns (total 2 columns):\n",
      " #   Column     Non-Null Count   Dtype \n",
      "---  ------     --------------   ----- \n",
      " 0   text       203482 non-null  object\n",
      " 1   processed  203482 non-null  object\n",
      "dtypes: object(2)\n",
      "memory usage: 3.1+ MB\n"
     ]
    }
   ],
   "source": [
    "tweets.info()"
   ]
  },
  {
   "cell_type": "code",
   "execution_count": 6,
   "metadata": {
    "ExecuteTime": {
     "end_time": "2020-11-03T22:59:09.756379Z",
     "start_time": "2020-11-03T22:59:09.749969Z"
    }
   },
   "outputs": [
    {
     "data": {
      "text/html": [
       "<div>\n",
       "<style scoped>\n",
       "    .dataframe tbody tr th:only-of-type {\n",
       "        vertical-align: middle;\n",
       "    }\n",
       "\n",
       "    .dataframe tbody tr th {\n",
       "        vertical-align: top;\n",
       "    }\n",
       "\n",
       "    .dataframe thead th {\n",
       "        text-align: right;\n",
       "    }\n",
       "</style>\n",
       "<table border=\"1\" class=\"dataframe\">\n",
       "  <thead>\n",
       "    <tr style=\"text-align: right;\">\n",
       "      <th></th>\n",
       "      <th>text</th>\n",
       "      <th>processed</th>\n",
       "    </tr>\n",
       "  </thead>\n",
       "  <tbody>\n",
       "    <tr>\n",
       "      <th>0</th>\n",
       "      <td>#IslamKills Are you trying to say that there w...</td>\n",
       "      <td>islam kill try say terrorist attack europe ref...</td>\n",
       "    </tr>\n",
       "    <tr>\n",
       "      <th>1</th>\n",
       "      <td>Clinton: Trump should’ve apologized more, atta...</td>\n",
       "      <td>clinton trump apologize attack little</td>\n",
       "    </tr>\n",
       "    <tr>\n",
       "      <th>2</th>\n",
       "      <td>RT @ltapoll: Who was/is the best president of ...</td>\n",
       "      <td>well president past retweet</td>\n",
       "    </tr>\n",
       "    <tr>\n",
       "      <th>3</th>\n",
       "      <td>RT @jww372: I don't have to guess your religio...</td>\n",
       "      <td>guess religion christmas aftermath</td>\n",
       "    </tr>\n",
       "    <tr>\n",
       "      <th>4</th>\n",
       "      <td>RT @Shareblue: Pence and his lawyers decided w...</td>\n",
       "      <td>pence lawyer decide official email public can see</td>\n",
       "    </tr>\n",
       "  </tbody>\n",
       "</table>\n",
       "</div>"
      ],
      "text/plain": [
       "                                                text  \\\n",
       "0  #IslamKills Are you trying to say that there w...   \n",
       "1  Clinton: Trump should’ve apologized more, atta...   \n",
       "2  RT @ltapoll: Who was/is the best president of ...   \n",
       "3  RT @jww372: I don't have to guess your religio...   \n",
       "4  RT @Shareblue: Pence and his lawyers decided w...   \n",
       "\n",
       "                                           processed  \n",
       "0  islam kill try say terrorist attack europe ref...  \n",
       "1              clinton trump apologize attack little  \n",
       "2                        well president past retweet  \n",
       "3                 guess religion christmas aftermath  \n",
       "4  pence lawyer decide official email public can see  "
      ]
     },
     "execution_count": 6,
     "metadata": {},
     "output_type": "execute_result"
    }
   ],
   "source": [
    "tweets.head()"
   ]
  },
  {
   "cell_type": "code",
   "execution_count": 7,
   "metadata": {
    "ExecuteTime": {
     "end_time": "2020-11-03T22:59:13.172332Z",
     "start_time": "2020-11-03T22:59:13.170135Z"
    }
   },
   "outputs": [],
   "source": [
    "proc_tweets = tweets.processed"
   ]
  },
  {
   "cell_type": "markdown",
   "metadata": {},
   "source": [
    "## KMeans"
   ]
  },
  {
   "cell_type": "code",
   "execution_count": 8,
   "metadata": {
    "ExecuteTime": {
     "end_time": "2020-11-03T22:59:42.223601Z",
     "start_time": "2020-11-03T22:59:40.436033Z"
    }
   },
   "outputs": [
    {
     "name": "stdout",
     "output_type": "stream",
     "text": [
      "CPU times: user 1.72 s, sys: 54.4 ms, total: 1.78 s\n",
      "Wall time: 1.78 s\n"
     ]
    }
   ],
   "source": [
    "%%time\n",
    "\n",
    "tfidfconvert = TfidfVectorizer(use_idf=True, smooth_idf=True, max_features=60000, stop_words='english')\n",
    "tweets_transformed = tfidfconvert.fit_transform(proc_tweets)"
   ]
  },
  {
   "cell_type": "code",
   "execution_count": 9,
   "metadata": {
    "ExecuteTime": {
     "end_time": "2020-11-03T23:08:28.780104Z",
     "start_time": "2020-11-03T22:59:49.981990Z"
    }
   },
   "outputs": [
    {
     "name": "stdout",
     "output_type": "stream",
     "text": [
      "CPU times: user 1h 5min 37s, sys: 2min 12s, total: 1h 7min 50s\n",
      "Wall time: 8min 38s\n"
     ]
    }
   ],
   "source": [
    "%%time\n",
    "inertias = []\n",
    "\n",
    "for k_ in np.arange(1, 21):\n",
    "    km = KMeans(n_clusters=k_)\n",
    "    km.fit(tweets_transformed)\n",
    "    inertias.append(km.inertia_)"
   ]
  },
  {
   "cell_type": "code",
   "execution_count": 10,
   "metadata": {
    "ExecuteTime": {
     "end_time": "2020-11-03T23:08:29.069848Z",
     "start_time": "2020-11-03T23:08:29.067057Z"
    }
   },
   "outputs": [
    {
     "data": {
      "text/plain": [
       "20"
      ]
     },
     "execution_count": 10,
     "metadata": {},
     "output_type": "execute_result"
    }
   ],
   "source": [
    "len(inertias)"
   ]
  },
  {
   "cell_type": "code",
   "execution_count": 18,
   "metadata": {
    "ExecuteTime": {
     "end_time": "2020-11-03T23:11:19.231728Z",
     "start_time": "2020-11-03T23:11:18.993770Z"
    },
    "scrolled": true
   },
   "outputs": [
    {
     "data": {
      "image/png": "[encoded data removed]",
      "text/plain": [
       "<Figure size 720x576 with 1 Axes>"
      ]
     },
     "metadata": {
      "needs_background": "light"
     },
     "output_type": "display_data"
    }
   ],
   "source": [
    "%matplotlib inline\n",
    "plt.figure(figsize=(10, 8))\n",
    "plt.plot(np.arange(1, 21), inertias, marker='o')\n",
    "plt.axvline(x=10, ls='--', label='Elbow @ k=10')\n",
    "plt.axvline(x=12, ls='--', label='Elbow @ k=12')\n",
    "plt.axvline(x=14, ls='--', label='Elbow @ k=14')\n",
    "plt.xticks(np.arange(0, 22, step=2))\n",
    "plt.title('Inertias by k-clusters', fontsize=14)\n",
    "plt.ylabel(\"Inertia\", fontsize=12)\n",
    "plt.xlabel('k', fontsize=12)\n",
    "plt.legend();"
   ]
  },
  {
   "cell_type": "markdown",
   "metadata": {},
   "source": [
    "## Topic Modeling"
   ]
  },
  {
   "cell_type": "code",
   "execution_count": 19,
   "metadata": {
    "ExecuteTime": {
     "end_time": "2020-11-03T23:11:31.138783Z",
     "start_time": "2020-11-03T23:11:31.135368Z"
    }
   },
   "outputs": [],
   "source": [
    "def display_topics(model, feature_names, no_top_words, topic_names=None):\n",
    "    for ix, topic in enumerate(model.components_):\n",
    "        if not topic_names or not topic_names[ix]:\n",
    "            print(\"\\nTopic \", ix)\n",
    "        else:\n",
    "            print(\"\\nTopic: '\",topic_names[ix],\"'\")\n",
    "        print(\", \".join([feature_names[i]\n",
    "                        for i in topic.argsort()[:-no_top_words - 1:-1]]))"
   ]
  },
  {
   "cell_type": "markdown",
   "metadata": {},
   "source": [
    "### LSA"
   ]
  },
  {
   "cell_type": "markdown",
   "metadata": {},
   "source": [
    "Will start with 8 topics - the most pronounced first elbow from above."
   ]
  },
  {
   "cell_type": "code",
   "execution_count": 20,
   "metadata": {
    "ExecuteTime": {
     "end_time": "2020-11-03T23:12:02.478822Z",
     "start_time": "2020-11-03T23:11:45.194666Z"
    }
   },
   "outputs": [],
   "source": [
    "vectorizer = TfidfVectorizer(use_idf=True, \n",
    "                             smooth_idf=True, \n",
    "                             max_features=60000,\n",
    "                             stop_words='english')\n",
    "\n",
    "svd_model = TruncatedSVD(n_components=10, \n",
    "                         algorithm='randomized',\n",
    "                         n_iter=100,\n",
    "                         random_state=42)\n",
    "\n",
    "# pipeline of tf-idf + SVD, fit and applied to docs: \n",
    "\n",
    "svd_transformer = Pipeline([('tfidf', vectorizer),\n",
    "                           ('svd', svd_model)])\n",
    "\n",
    "svd_matrix = svd_transformer.fit_transform(proc_tweets)"
   ]
  },
  {
   "cell_type": "code",
   "execution_count": 21,
   "metadata": {
    "ExecuteTime": {
     "end_time": "2020-11-03T23:12:09.266116Z",
     "start_time": "2020-11-03T23:12:09.139940Z"
    }
   },
   "outputs": [
    {
     "name": "stdout",
     "output_type": "stream",
     "text": [
      "\n",
      "Topic  0\n",
      "trump, donald, hillary, clinton, real, president, america, say, make, politic\n",
      "\n",
      "Topic  1\n",
      "hillary, clinton, email, debate, campaign, obama, thing, trust, crook, know\n",
      "\n",
      "Topic  2\n",
      "make, america, people, great, like, obama, know, say, good, love\n",
      "\n",
      "Topic  3\n",
      "make, america, great, hillary, real, donald, wake, clinton, phrase, hate\n",
      "\n",
      "Topic  4\n",
      "president, obama, trump, run, politic, say, news, america, maga, tcot\n",
      "\n",
      "Topic  5\n",
      "debate, say, topic, reject, politic, alternative, gop, night, america, clinton\n",
      "\n",
      "Topic  6\n",
      "obama, say, real, tcot, donald, america, pjnet, islam, news, kill\n",
      "\n",
      "Topic  7\n",
      "know, obama, right, real, donald, tcot, pjnet, debate, president, america\n",
      "\n",
      "Topic  8\n",
      "know, say, right, make, love, good, phrase, trump, hate, great\n",
      "\n",
      "Topic  9\n",
      "black, live, matt, know, love, right, trump, clinton, new, white\n"
     ]
    }
   ],
   "source": [
    "terms = vectorizer.get_feature_names()\n",
    "\n",
    "display_topics(svd_model, terms, 10)"
   ]
  },
  {
   "cell_type": "markdown",
   "metadata": {},
   "source": [
    "Try again with CountVectorizer"
   ]
  },
  {
   "cell_type": "code",
   "execution_count": 22,
   "metadata": {
    "ExecuteTime": {
     "end_time": "2020-11-03T23:13:02.110589Z",
     "start_time": "2020-11-03T23:12:28.928473Z"
    }
   },
   "outputs": [],
   "source": [
    "vectorizer = CountVectorizer(max_features=60000,\n",
    "                             binary=True, \n",
    "                             stop_words='english')\n",
    "\n",
    "svd_model = TruncatedSVD(n_components=10, \n",
    "                         algorithm='randomized',\n",
    "                         n_iter=200,\n",
    "                         random_state=42)\n",
    "\n",
    "# pipeline of tf-idf + SVD, fit and applied to docs: \n",
    "\n",
    "svd_transformer = Pipeline([('cv', vectorizer),\n",
    "                           ('svd', svd_model)])\n",
    "\n",
    "svd_matrix = svd_transformer.fit_transform(proc_tweets)"
   ]
  },
  {
   "cell_type": "code",
   "execution_count": 23,
   "metadata": {
    "ExecuteTime": {
     "end_time": "2020-11-03T23:13:02.707005Z",
     "start_time": "2020-11-03T23:13:02.565921Z"
    }
   },
   "outputs": [
    {
     "name": "stdout",
     "output_type": "stream",
     "text": [
      "\n",
      "Topic  0\n",
      "trump, donald, hillary, clinton, real, say, president, obama, politic, america\n",
      "\n",
      "Topic  1\n",
      "hillary, clinton, obama, email, campaign, fbi, say, debate, crook, lie\n",
      "\n",
      "Topic  2\n",
      "obama, make, say, america, people, like, tcot, president, pjnet, black\n",
      "\n",
      "Topic  3\n",
      "donald, real, make, hillary, america, great, people, like, wake, tcot\n",
      "\n",
      "Topic  4\n",
      "obama, donald, real, hillary, president, barack, michelle, administration, isis, iran\n",
      "\n",
      "Topic  5\n",
      "clinton, donald, make, real, america, politic, great, news, new, email\n",
      "\n",
      "Topic  6\n",
      "say, people, donald, real, like, black, know, live, thing, matt\n",
      "\n",
      "Topic  7\n",
      "people, like, black, live, clinton, know, white, matt, think, look\n",
      "\n",
      "Topic  8\n",
      "tcot, america, pjnet, ccot, wake, party, gop, mt, maga, tea\n",
      "\n",
      "Topic  9\n",
      "new, black, news, live, matt, post, man, time, white, woman\n"
     ]
    }
   ],
   "source": [
    "terms = vectorizer.get_feature_names()\n",
    "\n",
    "display_topics(svd_model, terms, 10)"
   ]
  },
  {
   "cell_type": "markdown",
   "metadata": {},
   "source": [
    "Feels like there's a bit more variety in the CountVectorizer version."
   ]
  },
  {
   "cell_type": "markdown",
   "metadata": {},
   "source": [
    "Hashtag Meanings\n",
    "- tcot = Top Conservatives on Twitter\n",
    "- ccot = Christina Conservatives on Twitter\n",
    "- pjnet = Patriot Journalist Network "
   ]
  },
  {
   "cell_type": "markdown",
   "metadata": {},
   "source": [
    "### NMF"
   ]
  },
  {
   "cell_type": "code",
   "execution_count": 24,
   "metadata": {
    "ExecuteTime": {
     "end_time": "2020-11-03T23:13:26.614074Z",
     "start_time": "2020-11-03T23:13:18.701306Z"
    }
   },
   "outputs": [],
   "source": [
    "vectorizer = CountVectorizer(max_features=60000,\n",
    "                             binary=True, \n",
    "                             stop_words='english')\n",
    "\n",
    "nmf_model = NMF(n_components=10)\n",
    "\n",
    "# pipeline of tf-idf + SVD, fit and applied to docs: \n",
    "\n",
    "nfm_transformer = Pipeline([('cv', vectorizer),\n",
    "                           ('nmf', nmf_model)])\n",
    "\n",
    "nmf_matrix = nfm_transformer.fit_transform(proc_tweets)"
   ]
  },
  {
   "cell_type": "code",
   "execution_count": 25,
   "metadata": {
    "ExecuteTime": {
     "end_time": "2020-11-03T23:13:32.962183Z",
     "start_time": "2020-11-03T23:13:32.857549Z"
    }
   },
   "outputs": [
    {
     "name": "stdout",
     "output_type": "stream",
     "text": [
      "\n",
      "Topic  0\n",
      "trump, president, politic, maga, donald, supporter, medium, debate, poll, train\n",
      "\n",
      "Topic  1\n",
      "hillary, crook, thing, trust, lie, maga, prison, debate, want, benghazi\n",
      "\n",
      "Topic  2\n",
      "make, great, hate, america, phrase, president, good, let, sure, day\n",
      "\n",
      "Topic  3\n",
      "donald, real, trump, need, america, time, potus, mike, thank, great\n",
      "\n",
      "Topic  4\n",
      "obama, president, barack, michelle, isis, politic, american, administration, iran, world\n",
      "\n",
      "Topic  5\n",
      "clinton, politic, email, campaign, foundation, fbi, debate, poll, state, wikileaks\n",
      "\n",
      "Topic  6\n",
      "say, know, good, politic, want, thing, election, woman, mean, time\n",
      "\n",
      "Topic  7\n",
      "people, like, know, thing, look, think, want, twitter, good, need\n",
      "\n",
      "Topic  8\n",
      "america, tcot, pjnet, wake, ccot, party, maga, mt, tea, gop\n",
      "\n",
      "Topic  9\n",
      "black, new, news, live, matt, post, man, time, white, day\n"
     ]
    }
   ],
   "source": [
    "terms = vectorizer.get_feature_names()\n",
    "\n",
    "display_topics(nmf_model, terms, 10)"
   ]
  },
  {
   "cell_type": "markdown",
   "metadata": {},
   "source": [
    "Pretty similar to LSA"
   ]
  },
  {
   "cell_type": "markdown",
   "metadata": {},
   "source": [
    "### Corex"
   ]
  },
  {
   "cell_type": "markdown",
   "metadata": {},
   "source": [
    "[lecture example notebook](https://github.com/scrapfishies/onl20_ds4/blob/master/curriculum/project-04/fancy-nlp/corex/CorEx.ipynb)"
   ]
  },
  {
   "cell_type": "code",
   "execution_count": 26,
   "metadata": {
    "ExecuteTime": {
     "end_time": "2020-11-03T23:14:03.262596Z",
     "start_time": "2020-11-03T23:14:01.287963Z"
    }
   },
   "outputs": [],
   "source": [
    "vectorizer = CountVectorizer(max_features=60000,\n",
    "                             token_pattern=\"\\\\b[a-z][a-z]+\\\\b\",\n",
    "                             binary=True,\n",
    "                             stop_words='english')\n",
    "\n",
    "doc_word = vectorizer.fit_transform(proc_tweets)\n",
    "words = list(np.asarray(vectorizer.get_feature_names()))"
   ]
  },
  {
   "cell_type": "code",
   "execution_count": 27,
   "metadata": {
    "ExecuteTime": {
     "end_time": "2020-11-03T23:17:20.771832Z",
     "start_time": "2020-11-03T23:14:07.873000Z"
    }
   },
   "outputs": [
    {
     "data": {
      "text/plain": [
       "<corextopic.corextopic.Corex at 0x7fd7fb17a670>"
      ]
     },
     "execution_count": 27,
     "metadata": {},
     "output_type": "execute_result"
    }
   ],
   "source": [
    "topic_model = ct.Corex(n_hidden=10, \n",
    "                       words=words,\n",
    "                       max_iter=200, \n",
    "                       seed=42)\n",
    "\n",
    "\n",
    "topic_model.fit(doc_word, words=words, docs=proc_tweets)"
   ]
  },
  {
   "cell_type": "code",
   "execution_count": 28,
   "metadata": {
    "ExecuteTime": {
     "end_time": "2020-11-03T23:17:21.914943Z",
     "start_time": "2020-11-03T23:17:21.570398Z"
    },
    "scrolled": true
   },
   "outputs": [
    {
     "name": "stdout",
     "output_type": "stream",
     "text": [
      "0: trump, hillary, clinton, donald, real, politic, campaign, maga, poll, president\n",
      "1: merkel, muss, die, ist, das, es, nowplaying, sie, ft, ich\n",
      "2: tcot, pjnet, islam, ccot, mt, kill, refugee, muslim, terrorist, america\n",
      "3: obama, email, fbi, news, cruz, ted, russia, state, foundation, wikileaks\n",
      "4: police, black, matt, live, tea, officer, party, shoot, color, oscar\n",
      "5: guide, thanksgiving, survival, drain, swamp, censorship, cyber, saudi, jadedbypolitics, stein\n",
      "6: american, white, midnight, house, law, anti, illegal, school, immigration, leader\n",
      "7: new, gift, politician, idea, york, hall, album, podcast, butihate, ilove\n",
      "8: christmas, aftermath, happy, birthday, abrams, jenn, santa, girl, merry, halloween\n",
      "9: make, like, look, great, people, thing, hate, good, know, feel\n"
     ]
    }
   ],
   "source": [
    "# Print all topics from the CorEx topic model\n",
    "topics = topic_model.get_topics()\n",
    "for n, topic in enumerate(topics):\n",
    "    topic_words, _ = zip(*topic)\n",
    "    print('{}: '.format(n) + ', '.join(topic_words))"
   ]
  },
  {
   "cell_type": "markdown",
   "metadata": {},
   "source": [
    "These topics look more promising - much more diverse"
   ]
  },
  {
   "cell_type": "code",
   "execution_count": 30,
   "metadata": {
    "ExecuteTime": {
     "end_time": "2020-11-03T23:17:53.152801Z",
     "start_time": "2020-11-03T23:17:52.906488Z"
    }
   },
   "outputs": [
    {
     "data": {
      "text/plain": [
       "[('family sasha obama land job seafood joint malia obama smoke joint lollapalooza',\n",
       "  0.0),\n",
       " ('jimmy fallon wear surgical mask interview hillary clinton', 0.0),\n",
       " ('bachman turner hangoverdrive drunkbands midnight', 0.0),\n",
       " ('dea reverse kratom ban stun victory warondrugs drugwar health drug', 0.0),\n",
       " ('thing people twitter like full anonymity fb booby gifs really drive home tw',\n",
       "  0.0),\n",
       " ('hadenough taxingtyrants r u ready ctcomeback join us', 0.0),\n",
       " ('family sasha obama land job seafood joint old sister smoke joint lollapalooza',\n",
       "  0.0),\n",
       " ('local news coverage prominent democrat michigan arrest morning death threat jimmy fallon intervi',\n",
       "  0.0),\n",
       " ('iamthankfulfor sis dccciv always good whenever need vent', 0.0),\n",
       " ('reallifemagicspells instill common sense someone complete comedic sound effect feel beat',\n",
       "  0.0)]"
      ]
     },
     "execution_count": 30,
     "metadata": {},
     "output_type": "execute_result"
    }
   ],
   "source": [
    "# Let's check out topic : graphics\n",
    "topic_model.get_top_docs(topic=9, n_docs=10)"
   ]
  },
  {
   "cell_type": "code",
   "execution_count": 31,
   "metadata": {
    "ExecuteTime": {
     "end_time": "2020-11-03T23:18:24.461601Z",
     "start_time": "2020-11-03T23:18:24.308165Z"
    }
   },
   "outputs": [
    {
     "data": {
      "image/png": "[encoded data removed]",
      "text/plain": [
       "<Figure size 720x360 with 1 Axes>"
      ]
     },
     "metadata": {
      "needs_background": "light"
     },
     "output_type": "display_data"
    }
   ],
   "source": [
    "plt.figure(figsize=(10,5))\n",
    "plt.bar(range(topic_model.tcs.shape[0]), topic_model.tcs, color='#4e79a7', width=0.5)\n",
    "plt.xlabel('Topic', fontsize=16)\n",
    "plt.ylabel('Total Correlation (nats)', fontsize=16)\n",
    "plt.show()"
   ]
  },
  {
   "cell_type": "markdown",
   "metadata": {},
   "source": [
    "Testing some anchors based on the topic results"
   ]
  },
  {
   "cell_type": "code",
   "execution_count": 32,
   "metadata": {
    "ExecuteTime": {
     "end_time": "2020-11-03T23:22:12.530501Z",
     "start_time": "2020-11-03T23:22:12.525687Z"
    }
   },
   "outputs": [
    {
     "data": {
      "text/plain": [
       "7"
      ]
     },
     "execution_count": 32,
     "metadata": {},
     "output_type": "execute_result"
    }
   ],
   "source": [
    "topics = [['donald', 'trump', 'maga'],                                             # trump stuff\n",
    "          ['hillary', 'clinton'],                                                  # hillary stuff\n",
    "          ['merkel', 'muss', 'die', 'ist', 'ich', 'das'],                          # german stuff\n",
    "          ['color', 'blm', 'black', 'matt', 'oscar', 'racism', 'blacktwitter'],    # BLM/race stuff\n",
    "          ['police', 'officer', 'shoot'],                                          # police stuff\n",
    "          ['obama', 'barack'],                                                     # obama stuff\n",
    "          ['isis', 'muslim', 'islam']                                              # isis/islam stuff\n",
    "         ]\n",
    "\n",
    "len(topics)"
   ]
  },
  {
   "cell_type": "markdown",
   "metadata": {},
   "source": [
    "Will plot out 7 anchors and let CorEx decide the rest"
   ]
  },
  {
   "cell_type": "code",
   "execution_count": 34,
   "metadata": {
    "ExecuteTime": {
     "end_time": "2020-11-03T23:27:42.224369Z",
     "start_time": "2020-11-03T23:24:31.303760Z"
    }
   },
   "outputs": [
    {
     "data": {
      "text/plain": [
       "<corextopic.corextopic.Corex at 0x7fd7d46a5910>"
      ]
     },
     "execution_count": 34,
     "metadata": {},
     "output_type": "execute_result"
    }
   ],
   "source": [
    "topic_model = ct.Corex(n_hidden=10, \n",
    "                       words=words,\n",
    "                       max_iter=200, \n",
    "                       seed=42)\n",
    "\n",
    "topic_model.fit(doc_word, words=words, docs=proc_tweets, \n",
    "                anchors=topics, anchor_strength=5)"
   ]
  },
  {
   "cell_type": "code",
   "execution_count": 35,
   "metadata": {
    "ExecuteTime": {
     "end_time": "2020-11-03T23:27:43.352211Z",
     "start_time": "2020-11-03T23:27:43.021163Z"
    }
   },
   "outputs": [
    {
     "name": "stdout",
     "output_type": "stream",
     "text": [
      "0: trump, donald, maga, real, president, supporter, politic, train, rally, headline\n",
      "1: hillary, clinton, email, campaign, crook, foundation, fbi, trust, wikileaks, benghazi\n",
      "2: die, merkel, muss, ist, das, ich, sie, es, mit, den\n",
      "3: black, matt, color, racism, oscar, blm, blacktwitter, live, white, oscars\n",
      "4: police, shoot, officer, cop, san, suspect, nodapl, arrest, pipeline, dakota\n",
      "5: obama, barack, michelle, administration, admin, legacy, iran, hussein, malia, pres\n",
      "6: islam, isis, muslim, kill, refugee, brussels, prayforbrussels, terrorist, opiceisis, iceisis\n",
      "7: tcot, pjnet, ccot, cruz, mt, america, tea, ted, reject, gop\n",
      "8: news, election, medium, poll, post, state, new, voter, cnn, report\n",
      "9: midnight, play, nowplaying, music, game, gt, ft, tim, sport, song\n"
     ]
    }
   ],
   "source": [
    "# Print all topics from the CorEx topic model\n",
    "topics = topic_model.get_topics()\n",
    "for n,topic in enumerate(topics):\n",
    "    topic_words,_ = zip(*topic)\n",
    "    print('{}: '.format(n) + ', '.join(topic_words))"
   ]
  },
  {
   "cell_type": "code",
   "execution_count": 37,
   "metadata": {
    "ExecuteTime": {
     "end_time": "2020-11-03T23:43:18.027677Z",
     "start_time": "2020-11-03T23:43:17.805797Z"
    }
   },
   "outputs": [
    {
     "data": {
      "text/plain": [
       "[('melaniatrump donald trump love country know get thing do talk', 0.0),\n",
       " ('trump favorite headline chelsea clinton enter exam trump university', 0.0),\n",
       " ('lincoln appeal well angel nature trump appeal make lincoln speech gettysburg necess',\n",
       "  0.0),\n",
       " ('trump approve russian flag', 0.0),\n",
       " ('finally obama see real change trump refuse presidential salary trumppresident',\n",
       "  0.0),\n",
       " ('unite accord donald trump', 0.0),\n",
       " ('real donald trump credo trumpthatbitch lockherup buildthewall drain swamp maga trump president',\n",
       "  0.0),\n",
       " ('mind go anyone hillary trump save usa', 0.0),\n",
       " ('trump tell maureen dowd like violence rally say add frisson excitement',\n",
       "  0.0),\n",
       " ('michael moore trump \\ufeff1 presidential debate', 0.0)]"
      ]
     },
     "execution_count": 37,
     "metadata": {},
     "output_type": "execute_result"
    }
   ],
   "source": [
    "# Let's check out topic : graphics\n",
    "topic_model.get_top_docs(topic=0, n_docs=10)"
   ]
  },
  {
   "cell_type": "code",
   "execution_count": 36,
   "metadata": {
    "ExecuteTime": {
     "end_time": "2020-11-03T23:27:44.252750Z",
     "start_time": "2020-11-03T23:27:44.120083Z"
    }
   },
   "outputs": [
    {
     "data": {
      "image/png": "[encoded data removed]",
      "text/plain": [
       "<Figure size 720x360 with 1 Axes>"
      ]
     },
     "metadata": {
      "needs_background": "light"
     },
     "output_type": "display_data"
    }
   ],
   "source": [
    "plt.figure(figsize=(10,5))\n",
    "plt.bar(range(topic_model.tcs.shape[0]), topic_model.tcs, color='#4e79a7', width=0.5)\n",
    "plt.xlabel('Topic', fontsize=16)\n",
    "plt.ylabel('Total Correlation (nats)', fontsize=16)\n",
    "plt.show()"
   ]
  },
  {
   "cell_type": "markdown",
   "metadata": {},
   "source": [
    "CorEx seems the most promising and I like the anchors. I'll wrap up this notebook as model discovery and start another to focus solely on CorEx."
   ]
  }
 ],
 "metadata": {
  "kernelspec": {
   "display_name": "Python [conda env:metis] *",
   "language": "python",
   "name": "conda-env-metis-py"
  },
  "language_info": {
   "codemirror_mode": {
    "name": "ipython",
    "version": 3
   },
   "file_extension": ".py",
   "mimetype": "text/x-python",
   "name": "python",
   "nbconvert_exporter": "python",
   "pygments_lexer": "ipython3",
   "version": "3.8.5"
  },
  "toc": {
   "base_numbering": 1,
   "nav_menu": {},
   "number_sections": true,
   "sideBar": true,
   "skip_h1_title": false,
   "title_cell": "Table of Contents",
   "title_sidebar": "Contents",
   "toc_cell": false,
   "toc_position": {},
   "toc_section_display": true,
   "toc_window_display": true
  },
  "varInspector": {
   "cols": {
    "lenName": 16,
    "lenType": 16,
    "lenVar": 40
   },
   "kernels_config": {
    "python": {
     "delete_cmd_postfix": "",
     "delete_cmd_prefix": "del ",
     "library": "var_list.py",
     "varRefreshCmd": "print(var_dic_list())"
    },
    "r": {
     "delete_cmd_postfix": ") ",
     "delete_cmd_prefix": "rm(",
     "library": "var_list.r",
     "varRefreshCmd": "cat(var_dic_list()) "
    }
   },
   "types_to_exclude": [
    "module",
    "function",
    "builtin_function_or_method",
    "instance",
    "_Feature"
   ],
   "window_display": false
  }
 },
 "nbformat": 4,
 "nbformat_minor": 4
}
