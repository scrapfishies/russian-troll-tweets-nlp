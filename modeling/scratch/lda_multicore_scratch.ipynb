{
 "cells": [
  {
   "cell_type": "code",
   "execution_count": 25,
   "metadata": {
    "ExecuteTime": {
     "end_time": "2020-11-10T21:29:56.681616Z",
     "start_time": "2020-11-10T21:29:56.675515Z"
    }
   },
   "outputs": [],
   "source": [
    "import pandas as pd\n",
    "import numpy as np\n",
    "import matplotlib.pyplot as plt\n",
    "import seaborn as sns\n",
    "%matplotlib inline\n",
    "\n",
    "import re\n",
    "import pickle\n",
    "import multiprocessing\n",
    "\n",
    "import pyLDAvis.gensim\n",
    "\n",
    "import gensim\n",
    "from gensim.corpora import Dictionary\n",
    "from gensim.models.ldamulticore import LdaMulticore\n",
    "from gensim.models.coherencemodel import CoherenceModel"
   ]
  },
  {
   "cell_type": "code",
   "execution_count": 6,
   "metadata": {
    "ExecuteTime": {
     "end_time": "2020-11-10T21:23:55.325802Z",
     "start_time": "2020-11-10T21:23:55.323492Z"
    }
   },
   "outputs": [],
   "source": [
    "import warnings\n",
    "warnings.filterwarnings('ignore')"
   ]
  },
  {
   "cell_type": "code",
   "execution_count": 7,
   "metadata": {
    "ExecuteTime": {
     "end_time": "2020-11-10T21:23:56.547694Z",
     "start_time": "2020-11-10T21:23:56.449228Z"
    }
   },
   "outputs": [],
   "source": [
    "with open('../data_files/processed_tweets.pickle', 'rb') as read_file:\n",
    "    df = pickle.load(read_file)"
   ]
  },
  {
   "cell_type": "code",
   "execution_count": 4,
   "metadata": {
    "ExecuteTime": {
     "end_time": "2020-11-10T21:21:51.851613Z",
     "start_time": "2020-11-10T21:21:51.841353Z"
    }
   },
   "outputs": [
    {
     "data": {
      "text/html": [
       "<div>\n",
       "<style scoped>\n",
       "    .dataframe tbody tr th:only-of-type {\n",
       "        vertical-align: middle;\n",
       "    }\n",
       "\n",
       "    .dataframe tbody tr th {\n",
       "        vertical-align: top;\n",
       "    }\n",
       "\n",
       "    .dataframe thead th {\n",
       "        text-align: right;\n",
       "    }\n",
       "</style>\n",
       "<table border=\"1\" class=\"dataframe\">\n",
       "  <thead>\n",
       "    <tr style=\"text-align: right;\">\n",
       "      <th></th>\n",
       "      <th>clean</th>\n",
       "      <th>processed</th>\n",
       "    </tr>\n",
       "  </thead>\n",
       "  <tbody>\n",
       "    <tr>\n",
       "      <th>0</th>\n",
       "      <td>islam kills are you trying to say that there w...</td>\n",
       "      <td>islam kill try say terrorist attack europe ref...</td>\n",
       "    </tr>\n",
       "    <tr>\n",
       "      <th>1</th>\n",
       "      <td>clinton trump should ve apologized more attack...</td>\n",
       "      <td>clinton trump apologize attack little</td>\n",
       "    </tr>\n",
       "    <tr>\n",
       "      <th>2</th>\n",
       "      <td>who was is the best president of the past year...</td>\n",
       "      <td>well president past retweet</td>\n",
       "    </tr>\n",
       "    <tr>\n",
       "      <th>3</th>\n",
       "      <td>i don t have to guess your religion christmasa...</td>\n",
       "      <td>guess religion christmasaftermath</td>\n",
       "    </tr>\n",
       "    <tr>\n",
       "      <th>4</th>\n",
       "      <td>pence and his lawyers decided which of his off...</td>\n",
       "      <td>pence lawyer decide official email public can see</td>\n",
       "    </tr>\n",
       "  </tbody>\n",
       "</table>\n",
       "</div>"
      ],
      "text/plain": [
       "                                               clean  \\\n",
       "0  islam kills are you trying to say that there w...   \n",
       "1  clinton trump should ve apologized more attack...   \n",
       "2  who was is the best president of the past year...   \n",
       "3  i don t have to guess your religion christmasa...   \n",
       "4  pence and his lawyers decided which of his off...   \n",
       "\n",
       "                                           processed  \n",
       "0  islam kill try say terrorist attack europe ref...  \n",
       "1              clinton trump apologize attack little  \n",
       "2                        well president past retweet  \n",
       "3                  guess religion christmasaftermath  \n",
       "4  pence lawyer decide official email public can see  "
      ]
     },
     "execution_count": 4,
     "metadata": {},
     "output_type": "execute_result"
    }
   ],
   "source": [
    "df.head()"
   ]
  },
  {
   "cell_type": "code",
   "execution_count": null,
   "metadata": {},
   "outputs": [],
   "source": []
  },
  {
   "cell_type": "code",
   "execution_count": 12,
   "metadata": {
    "ExecuteTime": {
     "end_time": "2020-11-10T21:25:05.831589Z",
     "start_time": "2020-11-10T21:25:05.206154Z"
    }
   },
   "outputs": [],
   "source": [
    "df['lemma_list'] = df['processed'].apply(lambda x: x.split(\" \"))"
   ]
  },
  {
   "cell_type": "code",
   "execution_count": 13,
   "metadata": {
    "ExecuteTime": {
     "end_time": "2020-11-10T21:25:06.826039Z",
     "start_time": "2020-11-10T21:25:06.817558Z"
    }
   },
   "outputs": [
    {
     "data": {
      "text/html": [
       "<div>\n",
       "<style scoped>\n",
       "    .dataframe tbody tr th:only-of-type {\n",
       "        vertical-align: middle;\n",
       "    }\n",
       "\n",
       "    .dataframe tbody tr th {\n",
       "        vertical-align: top;\n",
       "    }\n",
       "\n",
       "    .dataframe thead th {\n",
       "        text-align: right;\n",
       "    }\n",
       "</style>\n",
       "<table border=\"1\" class=\"dataframe\">\n",
       "  <thead>\n",
       "    <tr style=\"text-align: right;\">\n",
       "      <th></th>\n",
       "      <th>clean</th>\n",
       "      <th>processed</th>\n",
       "      <th>lemma_list</th>\n",
       "    </tr>\n",
       "  </thead>\n",
       "  <tbody>\n",
       "    <tr>\n",
       "      <th>0</th>\n",
       "      <td>islam kills are you trying to say that there w...</td>\n",
       "      <td>islam kill try say terrorist attack europe ref...</td>\n",
       "      <td>[islam, kill, try, say, terrorist, attack, eur...</td>\n",
       "    </tr>\n",
       "    <tr>\n",
       "      <th>1</th>\n",
       "      <td>clinton trump should ve apologized more attack...</td>\n",
       "      <td>clinton trump apologize attack little</td>\n",
       "      <td>[clinton, trump, apologize, attack, little]</td>\n",
       "    </tr>\n",
       "    <tr>\n",
       "      <th>2</th>\n",
       "      <td>who was is the best president of the past year...</td>\n",
       "      <td>well president past retweet</td>\n",
       "      <td>[well, president, past, retweet]</td>\n",
       "    </tr>\n",
       "    <tr>\n",
       "      <th>3</th>\n",
       "      <td>i don t have to guess your religion christmasa...</td>\n",
       "      <td>guess religion christmasaftermath</td>\n",
       "      <td>[guess, religion, christmasaftermath]</td>\n",
       "    </tr>\n",
       "    <tr>\n",
       "      <th>4</th>\n",
       "      <td>pence and his lawyers decided which of his off...</td>\n",
       "      <td>pence lawyer decide official email public can see</td>\n",
       "      <td>[pence, lawyer, decide, official, email, publi...</td>\n",
       "    </tr>\n",
       "  </tbody>\n",
       "</table>\n",
       "</div>"
      ],
      "text/plain": [
       "                                               clean  \\\n",
       "0  islam kills are you trying to say that there w...   \n",
       "1  clinton trump should ve apologized more attack...   \n",
       "2  who was is the best president of the past year...   \n",
       "3  i don t have to guess your religion christmasa...   \n",
       "4  pence and his lawyers decided which of his off...   \n",
       "\n",
       "                                           processed  \\\n",
       "0  islam kill try say terrorist attack europe ref...   \n",
       "1              clinton trump apologize attack little   \n",
       "2                        well president past retweet   \n",
       "3                  guess religion christmasaftermath   \n",
       "4  pence lawyer decide official email public can see   \n",
       "\n",
       "                                          lemma_list  \n",
       "0  [islam, kill, try, say, terrorist, attack, eur...  \n",
       "1        [clinton, trump, apologize, attack, little]  \n",
       "2                   [well, president, past, retweet]  \n",
       "3              [guess, religion, christmasaftermath]  \n",
       "4  [pence, lawyer, decide, official, email, publi...  "
      ]
     },
     "execution_count": 13,
     "metadata": {},
     "output_type": "execute_result"
    }
   ],
   "source": [
    "df.head()"
   ]
  },
  {
   "cell_type": "code",
   "execution_count": 14,
   "metadata": {
    "ExecuteTime": {
     "end_time": "2020-11-10T21:25:17.479849Z",
     "start_time": "2020-11-10T21:25:15.430982Z"
    }
   },
   "outputs": [
    {
     "name": "stdout",
     "output_type": "stream",
     "text": [
      "78051\n"
     ]
    }
   ],
   "source": [
    "id2word = Dictionary(df['lemma_list'])\n",
    "print(len(id2word))"
   ]
  },
  {
   "cell_type": "code",
   "execution_count": 15,
   "metadata": {
    "ExecuteTime": {
     "end_time": "2020-11-10T21:25:34.342186Z",
     "start_time": "2020-11-10T21:25:34.214418Z"
    }
   },
   "outputs": [
    {
     "name": "stdout",
     "output_type": "stream",
     "text": [
      "36687\n"
     ]
    }
   ],
   "source": [
    "# Filtering Extremes\n",
    "id2word.filter_extremes(no_below=2, no_above=.99)\n",
    "print(len(id2word))"
   ]
  },
  {
   "cell_type": "code",
   "execution_count": 16,
   "metadata": {
    "ExecuteTime": {
     "end_time": "2020-11-10T21:25:57.616804Z",
     "start_time": "2020-11-10T21:25:55.939399Z"
    }
   },
   "outputs": [],
   "source": [
    "# Creating a corpus object \n",
    "corpus = [id2word.doc2bow(d) for d in df['lemma_list']]"
   ]
  },
  {
   "cell_type": "code",
   "execution_count": 22,
   "metadata": {
    "ExecuteTime": {
     "end_time": "2020-11-10T21:28:35.931197Z",
     "start_time": "2020-11-10T21:28:35.927684Z"
    }
   },
   "outputs": [
    {
     "data": {
      "text/plain": [
       "203482"
      ]
     },
     "execution_count": 22,
     "metadata": {},
     "output_type": "execute_result"
    }
   ],
   "source": [
    "len(corpus)"
   ]
  },
  {
   "cell_type": "code",
   "execution_count": 18,
   "metadata": {
    "ExecuteTime": {
     "end_time": "2020-11-10T21:27:03.717902Z",
     "start_time": "2020-11-10T21:27:03.714567Z"
    }
   },
   "outputs": [
    {
     "data": {
      "text/plain": [
       "12"
      ]
     },
     "execution_count": 18,
     "metadata": {},
     "output_type": "execute_result"
    }
   ],
   "source": [
    "cores = multiprocessing.cpu_count()\n",
    "cores"
   ]
  },
  {
   "cell_type": "code",
   "execution_count": 23,
   "metadata": {
    "ExecuteTime": {
     "end_time": "2020-11-10T21:29:48.420590Z",
     "start_time": "2020-11-10T21:28:53.794903Z"
    }
   },
   "outputs": [],
   "source": [
    "base_model = LdaMulticore(corpus=corpus, \n",
    "                          num_topics=6, \n",
    "                          id2word=id2word, \n",
    "                          workers=cores-1, \n",
    "                          passes=5)"
   ]
  },
  {
   "cell_type": "code",
   "execution_count": 26,
   "metadata": {
    "ExecuteTime": {
     "end_time": "2020-11-10T21:30:01.630762Z",
     "start_time": "2020-11-10T21:30:01.625580Z"
    }
   },
   "outputs": [],
   "source": [
    "# Filtering for words \n",
    "words = [re.findall(r'\"([^\"]*)\"',t[1]) for t in base_model.print_topics()]"
   ]
  },
  {
   "cell_type": "code",
   "execution_count": 27,
   "metadata": {
    "ExecuteTime": {
     "end_time": "2020-11-10T21:30:03.653058Z",
     "start_time": "2020-11-10T21:30:03.650788Z"
    }
   },
   "outputs": [],
   "source": [
    "\n",
    "# Create Topics\n",
    "topics = [' '.join(t[0:10]) for t in words]"
   ]
  },
  {
   "cell_type": "code",
   "execution_count": 28,
   "metadata": {
    "ExecuteTime": {
     "end_time": "2020-11-10T21:30:05.665667Z",
     "start_time": "2020-11-10T21:30:05.660645Z"
    }
   },
   "outputs": [
    {
     "name": "stdout",
     "output_type": "stream",
     "text": [
      "------ Topic 0 ------\n",
      "merkel die get midnight play gt muss god r go\n",
      "\n",
      "------ Topic 1 ------\n",
      "obama  tcot pjnet islam kill stop america want us\n",
      "\n",
      "------ Topic 2 ------\n",
      "clinton hillary new email get make fbi good idea say\n",
      "\n",
      "------ Topic 3 ------\n",
      "go get woman man think like look one hillary take\n",
      "\n",
      "------ Topic 4 ------\n",
      "trump hillary clinton donald real president politic say obama news\n",
      "\n",
      "------ Topic 5 ------\n",
      "people like time thing love get see make back good\n",
      "\n"
     ]
    }
   ],
   "source": [
    "# Getting the topics\n",
    "for id, t in enumerate(topics): \n",
    "    print(f\"------ Topic {id} ------\")\n",
    "    print(t, end=\"\\n\\n\")"
   ]
  },
  {
   "cell_type": "code",
   "execution_count": 30,
   "metadata": {
    "ExecuteTime": {
     "end_time": "2020-11-10T21:32:30.177012Z",
     "start_time": "2020-11-10T21:31:22.328018Z"
    }
   },
   "outputs": [
    {
     "name": "stdout",
     "output_type": "stream",
     "text": [
      "\n",
      "Perplexity:  -8.382009466938264\n",
      "\n",
      "Coherence Score:  0.26810344212161613\n"
     ]
    }
   ],
   "source": [
    "# Compute Perplexity\n",
    "# a measure of how good the model is. lower the better\n",
    "base_perplexity = base_model.log_perplexity(corpus)\n",
    "print('\\nPerplexity: ', base_perplexity) \n",
    "\n",
    "# Compute Coherence Score\n",
    "coherence_model = CoherenceModel(model=base_model, texts=df['lemma_list'], \n",
    "                                   dictionary=id2word, coherence='c_v')\n",
    "coherence_lda_model_base = coherence_model.get_coherence()\n",
    "print('\\nCoherence Score: ', coherence_lda_model_base)"
   ]
  },
  {
   "cell_type": "markdown",
   "metadata": {},
   "source": [
    "### Find optimal number of topics by Coherence & Perplexity scores"
   ]
  },
  {
   "cell_type": "code",
   "execution_count": 42,
   "metadata": {
    "ExecuteTime": {
     "end_time": "2020-11-10T22:13:35.648210Z",
     "start_time": "2020-11-10T22:13:35.641729Z"
    }
   },
   "outputs": [],
   "source": [
    "def find_num_topics(topic_num_list, corpus, id2word):\n",
    "    \n",
    "    perplexity_scores = []\n",
    "    coherence_scores = []\n",
    "    \n",
    "    for topic_num in topic_num_list:\n",
    "            model = LdaMulticore(corpus=corpus, \n",
    "                                  num_topics=topic_num, \n",
    "                                  id2word=id2word, \n",
    "                                  workers=cores-1, \n",
    "                                  passes=5)\n",
    "            \n",
    "            # Create Topics\n",
    "            words = [re.findall(r'\"([^\"]*)\"',t[1]) for t in model.print_topics()]\n",
    "            topics = [' '.join(t[0:10]) for t in words]\n",
    "            \n",
    "            # Getting the topics\n",
    "            print(f'Number of Topics: {topic_num}')\n",
    "            for id, t in enumerate(topics): \n",
    "                print(f\"------ Topic {id} ------\")\n",
    "                print(t, end=\"\\n\\n\")\n",
    "                  \n",
    "            # Compute Perplexity\n",
    "            # a measure of how good the model is. lower the better\n",
    "            perplexity = model.log_perplexity(corpus)\n",
    "            print('\\nPerplexity: ', perplexity) \n",
    "\n",
    "            # Compute Coherence Score\n",
    "            coherence_model = CoherenceModel(model=model, texts=df['lemma_list'], \n",
    "                                               dictionary=id2word, coherence='c_v')\n",
    "            coherence = coherence_model.get_coherence()\n",
    "            print('\\nCoherence Score: ', coherence)      \n",
    "            print('\\n\\n')\n",
    "            print(\"------END MODEL------\\n\")\n",
    "            \n",
    "            perplexity_scores.append(perplexity)\n",
    "            coherence_scores.append(coherence)\n",
    "            \n",
    "    return perplexity_scores, coherence_scores"
   ]
  },
  {
   "cell_type": "code",
   "execution_count": null,
   "metadata": {},
   "outputs": [],
   "source": []
  },
  {
   "cell_type": "code",
   "execution_count": 43,
   "metadata": {
    "ExecuteTime": {
     "end_time": "2020-11-10T22:13:38.356211Z",
     "start_time": "2020-11-10T22:13:38.353687Z"
    }
   },
   "outputs": [],
   "source": [
    "topic_num_list = [5, 10, 15, 20, 25, 30]"
   ]
  },
  {
   "cell_type": "code",
   "execution_count": 44,
   "metadata": {
    "ExecuteTime": {
     "end_time": "2020-11-10T22:25:48.666517Z",
     "start_time": "2020-11-10T22:13:40.860180Z"
    }
   },
   "outputs": [
    {
     "name": "stdout",
     "output_type": "stream",
     "text": [
      "Number of Topics: 5\n",
      "------ Topic 0 ------\n",
      "clinton hillary via merkel email die fbi r muss say\n",
      "\n",
      "------ Topic 1 ------\n",
      "hillary get obama trump say never clinton think people like\n",
      "\n",
      "------ Topic 2 ------\n",
      "trump donald real  president obama say america islam maga\n",
      "\n",
      "------ Topic 3 ------\n",
      "trump clinton hillary make news people politic new call time\n",
      "\n",
      "------ Topic 4 ------\n",
      "midnight get like go trump good love thank look well\n",
      "\n",
      "\n",
      "Perplexity:  -8.394902565415423\n",
      "\n",
      "Coherence Score:  0.19751355411585775\n",
      "\n",
      "\n",
      "\n",
      "------END MODEL------\n",
      "\n",
      "Number of Topics: 10\n",
      "------ Topic 0 ------\n",
      "obama hillary clinton think know last trump tweet go president\n",
      "\n",
      "------ Topic 1 ------\n",
      " trump take like go real gun america donald isis\n",
      "\n",
      "------ Topic 2 ------\n",
      "people like look thing black hillary go american get clinton\n",
      "\n",
      "------ Topic 3 ------\n",
      "day get one say make come something time thank happy\n",
      "\n",
      "------ Topic 4 ------\n",
      "man get play obama trump gt woman debate watch call\n",
      "\n",
      "------ Topic 5 ------\n",
      "trump merkel islam kill muss idea die president politician gift\n",
      "\n",
      "------ Topic 6 ------\n",
      "trump clinton hillary donald real politic say campaign gop via\n",
      "\n",
      "------ Topic 7 ------\n",
      "tcot new via pjnet news trump ccot take time us\n",
      "\n",
      "------ Topic 8 ------\n",
      "midnight u obama trump get show question muslim hillary clinton\n",
      "\n",
      "------ Topic 9 ------\n",
      "good love well please get one great friend protest us\n",
      "\n",
      "\n",
      "Perplexity:  -8.65393307141803\n",
      "\n",
      "Coherence Score:  0.24783081062750006\n",
      "\n",
      "\n",
      "\n",
      "------END MODEL------\n",
      "\n",
      "Number of Topics: 15\n",
      "------ Topic 0 ------\n",
      "get house white well christmas friend drink come todolistbeforechristmas go\n",
      "\n",
      "------ Topic 1 ------\n",
      "trump donald real president america maga hillary obama clinton us\n",
      "\n",
      "------ Topic 2 ------\n",
      "obama gun new time gt isis city order law state\n",
      "\n",
      "------ Topic 3 ------\n",
      "go get make want one know to day good work\n",
      "\n",
      "------ Topic 4 ------\n",
      " tcot pjnet obama cruz ccot wakeupamerica ted trump favorite\n",
      "\n",
      "------ Topic 5 ------\n",
      "never kill islam hillary trump refugee stop muslim new woman\n",
      "\n",
      "------ Topic 6 ------\n",
      "trump tweet black obama potus watch white last like man\n",
      "\n",
      "------ Topic 7 ------\n",
      "trump think protest reason call school go right back student\n",
      "\n",
      "------ Topic 8 ------\n",
      "trump via woman break police news obama youtube get man\n",
      "\n",
      "------ Topic 9 ------\n",
      "trump clinton politic midnight hillary debate poll news campaign voter\n",
      "\n",
      "------ Topic 10 ------\n",
      "play trump gt go find new man shoot time dead\n",
      "\n",
      "------ Topic 11 ------\n",
      "people love like make thing good really great feel life\n",
      "\n",
      "------ Topic 12 ------\n",
      "trump thank obama million us many conservative politic take country\n",
      "\n",
      "------ Topic 13 ------\n",
      "live black trump book leave matt us read like obama\n",
      "\n",
      "------ Topic 14 ------\n",
      "clinton hillary trump say merkel die email bill lie medium\n",
      "\n",
      "\n",
      "Perplexity:  -8.810990144000652\n",
      "\n",
      "Coherence Score:  0.2815016703680434\n",
      "\n",
      "\n",
      "\n",
      "------END MODEL------\n",
      "\n",
      "Number of Topics: 20\n",
      "------ Topic 0 ------\n",
      "see obama something people trump say want country let believe\n",
      "\n",
      "------ Topic 1 ------\n",
      "obama last play tweet potus new money president news michelle\n",
      "\n",
      "------ Topic 2 ------\n",
      "election join trump american patriot stand u fight us fraud\n",
      "\n",
      "------ Topic 3 ------\n",
      "never like well still god make wait friend feel know\n",
      "\n",
      "------ Topic 4 ------\n",
      "trump donald real politic president say clinton hillary maga supporter\n",
      "\n",
      "------ Topic 5 ------\n",
      "good america make trump great woman black nothing say liberal\n",
      "\n",
      "------ Topic 6 ------\n",
      "midnight get idea gift happy politician man woman law quote\n",
      "\n",
      "------ Topic 7 ------\n",
      "tcot pjnet via ccot medium fake news youtube report rise\n",
      "\n",
      "------ Topic 8 ------\n",
      "kill islam isis us refugee please stop terrorist target muslim\n",
      "\n",
      "------ Topic 9 ------\n",
      "right get game play alternativeacronyminterpretations leave betteralternativetodebates man day like\n",
      "\n",
      "------ Topic 10 ------\n",
      "r debate want trump issue high get national gop call\n",
      "\n",
      "------ Topic 11 ------\n",
      "clinton hillary email campaign dnc trump wikileaks fbi obama gt\n",
      "\n",
      "------ Topic 12 ------\n",
      "trump news post new house white gop poll say favorite\n",
      "\n",
      "------ Topic 13 ------\n",
      "like people one thing get need really twitter look make\n",
      "\n",
      "------ Topic 14 ------\n",
      " love thank live day follow us trump know press\n",
      "\n",
      "------ Topic 15 ------\n",
      "midnight build tcot constitution wall daily us pjnet wakeupamerica life\n",
      "\n",
      "------ Topic 16 ------\n",
      "merkel die cruz muss ted f ist la w l\n",
      "\n",
      "------ Topic 17 ------\n",
      "hillary go clinton trump think bill get to pay away\n",
      "\n",
      "------ Topic 18 ------\n",
      "try take blacklivesmatter man find tell get say woman happen\n",
      "\n",
      "------ Topic 19 ------\n",
      "give u russia obama world via stop war death iran\n",
      "\n",
      "\n",
      "Perplexity:  -8.958654961586015\n",
      "\n",
      "Coherence Score:  0.3128683638436175\n",
      "\n",
      "\n",
      "\n",
      "------END MODEL------\n",
      "\n",
      "Number of Topics: 25\n",
      "------ Topic 0 ------\n",
      "trump white black racist house support woman call show say\n",
      "\n",
      "------ Topic 1 ------\n",
      "last tweet potus war night midnight us protest alternativeacronyminterpretations city\n",
      "\n",
      "------ Topic 2 ------\n",
      "love nation rise target tcot trump red account muslims isis\n",
      "\n",
      "------ Topic 3 ------\n",
      "pjnet tcot ccot wakeupamerica makemehateyouinonephrase another kaine keep father tim\n",
      "\n",
      "------ Topic 4 ------\n",
      "trump help god vs friend stay enemy america come tcot\n",
      "\n",
      "------ Topic 5 ------\n",
      "really change know trump see school people thing hope right\n",
      "\n",
      "------ Topic 6 ------\n",
      "star watch march woman itsriskyto movie imtoooldfor food man take\n",
      "\n",
      "------ Topic 7 ------\n",
      "people american thank like trump twitter make reallifemagicspells thing hard\n",
      "\n",
      "------ Topic 8 ------\n",
      "news post trump fake new fox medium facebook pretty florida\n",
      "\n",
      "------ Topic 9 ------\n",
      "trump donald real president politic clinton hillary maga say obama\n",
      "\n",
      "------ Topic 10 ------\n",
      "go get think to even eat drink people like oh\n",
      "\n",
      "------ Topic 11 ------\n",
      "gt happy love get pay make old wish pence secondhandgifts\n",
      "\n",
      "------ Topic 12 ------\n",
      "every trump fact celebrate christmas check todolistbeforechristmas forget say day\n",
      "\n",
      "------ Topic 13 ------\n",
      "kill islam refugee stop terrorist man isis attack stand obama\n",
      "\n",
      "------ Topic 14 ------\n",
      "well play idea new live politician gift music game start\n",
      "\n",
      "------ Topic 15 ------\n",
      "trump bernie favorite trumps headline sander day state islamic good\n",
      "\n",
      "------ Topic 16 ------\n",
      "gop debate country illegal obama money conservative tcot us please\n",
      "\n",
      "------ Topic 17 ------\n",
      "trump election voter say rig fraud paul miss ryan censorship\n",
      "\n",
      "------ Topic 18 ------\n",
      "great cruz make gun ted sure america pjnet book people\n",
      "\n",
      "------ Topic 19 ------\n",
      "trump break midnight something party thingsthatshouldbecensored thingsmoretrustedthanhillary law new mess\n",
      "\n",
      "\n",
      "Perplexity:  -9.142766952823012\n",
      "\n",
      "Coherence Score:  0.29681825546190377\n",
      "\n",
      "\n",
      "\n",
      "------END MODEL------\n",
      "\n",
      "Number of Topics: 30\n",
      "------ Topic 0 ------\n",
      "black trump maga hate people white swamp drain racist wait\n",
      "\n",
      "------ Topic 1 ------\n",
      "trump hillary clinton donald real politic president campaign poll say\n",
      "\n",
      "------ Topic 2 ------\n",
      "country trump make people back celebrate america strong us wake\n",
      "\n",
      "------ Topic 3 ------\n",
      "great happy debate make betteralternativetodebates well day tonight quote two\n",
      "\n",
      "------ Topic 4 ------\n",
      "clinton hillary trump fbi say email election americans foundation bill\n",
      "\n",
      "------ Topic 5 ------\n",
      "one try idea gift politician get buy trump well way\n",
      "\n",
      "------ Topic 6 ------\n",
      "get pay always work secondhandgifts hard trump deserve bitch artist\n",
      "\n",
      "------ Topic 7 ------\n",
      "obama national trump security gop law convention bill obamacare news\n",
      "\n",
      "------ Topic 8 ------\n",
      "think really world people need war know heart funny see\n",
      "\n",
      "------ Topic 9 ------\n",
      "grow christmas would makemehateyouinonephrase put sometimesitsokto say follower get make\n",
      "\n",
      "------ Topic 10 ------\n",
      "police new officer post live shoot black yes fire cop\n",
      "\n",
      "------ Topic 11 ------\n",
      "via youtube wall trump build street video college white jesus\n",
      "\n",
      "------ Topic 12 ------\n",
      "trump debate favorite know not trumps gop headline alone million\n",
      "\n",
      "------ Topic 13 ------\n",
      "merkel die r muss f ist kaine hat tim e\n",
      "\n",
      "------ Topic 14 ------\n",
      "good gt play money morning listen follow make music oscarhasnocolor\n",
      "\n",
      "------ Topic 15 ------\n",
      "trump obama white house us medium say leave michelle president\n",
      "\n",
      "------ Topic 16 ------\n",
      "isis target account state miss cry obama ben carson secretary\n",
      "\n",
      "------ Topic 17 ------\n",
      "something girl want get support say water would walk christmasaftermath\n",
      "\n",
      "------ Topic 18 ------\n",
      "tweet trump potus last much tax return illegal day food\n",
      "\n",
      "------ Topic 19 ------\n",
      "kill islam stop refugee muslim terrorist protest woman attack reason\n",
      "\n"
     ]
    },
    {
     "name": "stdout",
     "output_type": "stream",
     "text": [
      "\n",
      "Perplexity:  -9.316309773017089\n",
      "\n",
      "Coherence Score:  0.31709361164349187\n",
      "\n",
      "\n",
      "\n",
      "------END MODEL------\n",
      "\n"
     ]
    }
   ],
   "source": [
    "perp_scores, coh_scores = find_num_topics(topic_num_list, corpus, id2word)"
   ]
  },
  {
   "cell_type": "code",
   "execution_count": 56,
   "metadata": {
    "ExecuteTime": {
     "end_time": "2020-11-10T22:32:55.154766Z",
     "start_time": "2020-11-10T22:32:54.881978Z"
    }
   },
   "outputs": [
    {
     "data": {
      "image/png": "[encoded data removed]",
      "text/plain": [
       "<Figure size 864x288 with 2 Axes>"
      ]
     },
     "metadata": {
      "needs_background": "light"
     },
     "output_type": "display_data"
    }
   ],
   "source": [
    "plt.figure(figsize=(12, 4))\n",
    "plt.suptitle('Coherence & Perplexity')\n",
    "plt.subplot(1, 2, 1)\n",
    "plt.title('Perplexity')\n",
    "plt.plot(topic_num_list, perp_scores)\n",
    "plt.xlabel('Number of Topics')\n",
    "plt.ylabel('Perplexity Score')\n",
    "\n",
    "plt.subplot(1, 2, 2)\n",
    "plt.title('Coherence')\n",
    "plt.plot(topic_num_list, coh_scores)\n",
    "plt.xlabel('Number of Topics')\n",
    "plt.ylabel('Coherence Score');"
   ]
  },
  {
   "cell_type": "code",
   "execution_count": null,
   "metadata": {},
   "outputs": [],
   "source": []
  },
  {
   "cell_type": "code",
   "execution_count": null,
   "metadata": {},
   "outputs": [],
   "source": []
  },
  {
   "cell_type": "code",
   "execution_count": null,
   "metadata": {},
   "outputs": [],
   "source": []
  },
  {
   "cell_type": "code",
   "execution_count": null,
   "metadata": {},
   "outputs": [],
   "source": []
  },
  {
   "cell_type": "code",
   "execution_count": null,
   "metadata": {},
   "outputs": [],
   "source": []
  },
  {
   "cell_type": "code",
   "execution_count": null,
   "metadata": {},
   "outputs": [],
   "source": []
  }
 ],
 "metadata": {
  "kernelspec": {
   "display_name": "Python [conda env:metis] *",
   "language": "python",
   "name": "conda-env-metis-py"
  },
  "language_info": {
   "codemirror_mode": {
    "name": "ipython",
    "version": 3
   },
   "file_extension": ".py",
   "mimetype": "text/x-python",
   "name": "python",
   "nbconvert_exporter": "python",
   "pygments_lexer": "ipython3",
   "version": "3.8.5"
  },
  "toc": {
   "base_numbering": 1,
   "nav_menu": {},
   "number_sections": true,
   "sideBar": true,
   "skip_h1_title": false,
   "title_cell": "Table of Contents",
   "title_sidebar": "Contents",
   "toc_cell": false,
   "toc_position": {},
   "toc_section_display": true,
   "toc_window_display": false
  },
  "varInspector": {
   "cols": {
    "lenName": 16,
    "lenType": 16,
    "lenVar": 40
   },
   "kernels_config": {
    "python": {
     "delete_cmd_postfix": "",
     "delete_cmd_prefix": "del ",
     "library": "var_list.py",
     "varRefreshCmd": "print(var_dic_list())"
    },
    "r": {
     "delete_cmd_postfix": ") ",
     "delete_cmd_prefix": "rm(",
     "library": "var_list.r",
     "varRefreshCmd": "cat(var_dic_list()) "
    }
   },
   "types_to_exclude": [
    "module",
    "function",
    "builtin_function_or_method",
    "instance",
    "_Feature"
   ],
   "window_display": false
  }
 },
 "nbformat": 4,
 "nbformat_minor": 4
}
