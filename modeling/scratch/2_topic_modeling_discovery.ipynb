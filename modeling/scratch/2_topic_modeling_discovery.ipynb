{
 "cells": [
  {
   "cell_type": "markdown",
   "metadata": {},
   "source": [
    "# Topic Modeling Discovery"
   ]
  },
  {
   "cell_type": "code",
   "execution_count": 1,
   "metadata": {
    "ExecuteTime": {
     "end_time": "2020-11-07T20:57:31.874768Z",
     "start_time": "2020-11-07T20:57:29.015727Z"
    }
   },
   "outputs": [],
   "source": [
    "# Basics\n",
    "import pandas as pd\n",
    "import numpy as np\n",
    "import matplotlib.pyplot as plt\n",
    "import seaborn as sns\n",
    "%matplotlib inline\n",
    "import pickle \n",
    "\n",
    "# nltk\n",
    "import nltk\n",
    "from nltk.tokenize import word_tokenize\n",
    "from nltk.corpus import stopwords, wordnet\n",
    "from sklearn.decomposition import TruncatedSVD\n",
    "from sklearn.decomposition import NMF\n",
    "from sklearn.pipeline import Pipeline\n",
    "\n",
    "#sklearn\n",
    "from sklearn.feature_extraction.text import CountVectorizer\n",
    "from sklearn.feature_extraction.text import TfidfVectorizer\n",
    "from sklearn.cluster import KMeans\n",
    "\n",
    "# spacy\n",
    "import spacy\n",
    "\n",
    "# corex\n",
    "from corextopic import corextopic as ct\n",
    "from corextopic import vis_topic as vt\n",
    "\n",
    "from preprocessing_funcs import clean_tweet, get_hashtags, get_emojis"
   ]
  },
  {
   "cell_type": "code",
   "execution_count": 2,
   "metadata": {
    "ExecuteTime": {
     "end_time": "2020-11-07T20:57:37.750319Z",
     "start_time": "2020-11-07T20:57:37.636915Z"
    }
   },
   "outputs": [],
   "source": [
    "with open('../data_files/processed_tweets.pickle', 'rb') as read_file:\n",
    "    tweets = pickle.load(read_file)"
   ]
  },
  {
   "cell_type": "code",
   "execution_count": 3,
   "metadata": {
    "ExecuteTime": {
     "end_time": "2020-11-07T20:57:38.930237Z",
     "start_time": "2020-11-07T20:57:38.919853Z"
    },
    "scrolled": true
   },
   "outputs": [
    {
     "data": {
      "text/html": [
       "<div>\n",
       "<style scoped>\n",
       "    .dataframe tbody tr th:only-of-type {\n",
       "        vertical-align: middle;\n",
       "    }\n",
       "\n",
       "    .dataframe tbody tr th {\n",
       "        vertical-align: top;\n",
       "    }\n",
       "\n",
       "    .dataframe thead th {\n",
       "        text-align: right;\n",
       "    }\n",
       "</style>\n",
       "<table border=\"1\" class=\"dataframe\">\n",
       "  <thead>\n",
       "    <tr style=\"text-align: right;\">\n",
       "      <th></th>\n",
       "      <th>clean</th>\n",
       "      <th>processed</th>\n",
       "    </tr>\n",
       "  </thead>\n",
       "  <tbody>\n",
       "    <tr>\n",
       "      <th>0</th>\n",
       "      <td>islam kills are you trying to say that there w...</td>\n",
       "      <td>islam kill try say terrorist attack europe ref...</td>\n",
       "    </tr>\n",
       "    <tr>\n",
       "      <th>1</th>\n",
       "      <td>clinton trump should ve apologized more attack...</td>\n",
       "      <td>clinton trump apologize attack little</td>\n",
       "    </tr>\n",
       "    <tr>\n",
       "      <th>2</th>\n",
       "      <td>who was is the best president of the past year...</td>\n",
       "      <td>well president past retweet</td>\n",
       "    </tr>\n",
       "    <tr>\n",
       "      <th>3</th>\n",
       "      <td>i don t have to guess your religion christmasa...</td>\n",
       "      <td>guess religion christmasaftermath</td>\n",
       "    </tr>\n",
       "    <tr>\n",
       "      <th>4</th>\n",
       "      <td>pence and his lawyers decided which of his off...</td>\n",
       "      <td>pence lawyer decide official email public can see</td>\n",
       "    </tr>\n",
       "  </tbody>\n",
       "</table>\n",
       "</div>"
      ],
      "text/plain": [
       "                                               clean  \\\n",
       "0  islam kills are you trying to say that there w...   \n",
       "1  clinton trump should ve apologized more attack...   \n",
       "2  who was is the best president of the past year...   \n",
       "3  i don t have to guess your religion christmasa...   \n",
       "4  pence and his lawyers decided which of his off...   \n",
       "\n",
       "                                           processed  \n",
       "0  islam kill try say terrorist attack europe ref...  \n",
       "1              clinton trump apologize attack little  \n",
       "2                        well president past retweet  \n",
       "3                  guess religion christmasaftermath  \n",
       "4  pence lawyer decide official email public can see  "
      ]
     },
     "execution_count": 3,
     "metadata": {},
     "output_type": "execute_result"
    }
   ],
   "source": [
    "tweets.head()"
   ]
  },
  {
   "cell_type": "code",
   "execution_count": 4,
   "metadata": {
    "ExecuteTime": {
     "end_time": "2020-11-07T20:57:41.325131Z",
     "start_time": "2020-11-07T20:57:41.317798Z"
    },
    "scrolled": true
   },
   "outputs": [
    {
     "data": {
      "text/html": [
       "<div>\n",
       "<style scoped>\n",
       "    .dataframe tbody tr th:only-of-type {\n",
       "        vertical-align: middle;\n",
       "    }\n",
       "\n",
       "    .dataframe tbody tr th {\n",
       "        vertical-align: top;\n",
       "    }\n",
       "\n",
       "    .dataframe thead th {\n",
       "        text-align: right;\n",
       "    }\n",
       "</style>\n",
       "<table border=\"1\" class=\"dataframe\">\n",
       "  <thead>\n",
       "    <tr style=\"text-align: right;\">\n",
       "      <th></th>\n",
       "      <th>clean</th>\n",
       "      <th>processed</th>\n",
       "    </tr>\n",
       "  </thead>\n",
       "  <tbody>\n",
       "    <tr>\n",
       "      <th>203477</th>\n",
       "      <td>in intel circles the story goes fsb filmed tru...</td>\n",
       "      <td>intel circle story go fsb film trump orgy russ...</td>\n",
       "    </tr>\n",
       "    <tr>\n",
       "      <th>203478</th>\n",
       "      <td>tonganoxie police middle school girl sexually ...</td>\n",
       "      <td>tonganoxie police middle school girl sexually ...</td>\n",
       "    </tr>\n",
       "    <tr>\n",
       "      <th>203479</th>\n",
       "      <td>getting the right company logo how businesses ...</td>\n",
       "      <td>get right company logo business get message ac...</td>\n",
       "    </tr>\n",
       "    <tr>\n",
       "      <th>203480</th>\n",
       "      <td>the latest obama affirms continuity of ties wi...</td>\n",
       "      <td>late obama affirm continuity tie canada</td>\n",
       "    </tr>\n",
       "    <tr>\n",
       "      <th>203481</th>\n",
       "      <td>u cant just upload a cd online amp thats it wh...</td>\n",
       "      <td>u can not upload cd online product work u get ...</td>\n",
       "    </tr>\n",
       "  </tbody>\n",
       "</table>\n",
       "</div>"
      ],
      "text/plain": [
       "                                                    clean  \\\n",
       "203477  in intel circles the story goes fsb filmed tru...   \n",
       "203478  tonganoxie police middle school girl sexually ...   \n",
       "203479  getting the right company logo how businesses ...   \n",
       "203480  the latest obama affirms continuity of ties wi...   \n",
       "203481  u cant just upload a cd online amp thats it wh...   \n",
       "\n",
       "                                                processed  \n",
       "203477  intel circle story go fsb film trump orgy russ...  \n",
       "203478  tonganoxie police middle school girl sexually ...  \n",
       "203479  get right company logo business get message ac...  \n",
       "203480            late obama affirm continuity tie canada  \n",
       "203481  u can not upload cd online product work u get ...  "
      ]
     },
     "execution_count": 4,
     "metadata": {},
     "output_type": "execute_result"
    }
   ],
   "source": [
    "tweets.tail()"
   ]
  },
  {
   "cell_type": "code",
   "execution_count": 5,
   "metadata": {
    "ExecuteTime": {
     "end_time": "2020-11-07T20:57:43.874803Z",
     "start_time": "2020-11-07T20:57:43.848450Z"
    },
    "scrolled": true
   },
   "outputs": [
    {
     "name": "stdout",
     "output_type": "stream",
     "text": [
      "<class 'pandas.core.frame.DataFrame'>\n",
      "RangeIndex: 203482 entries, 0 to 203481\n",
      "Data columns (total 2 columns):\n",
      " #   Column     Non-Null Count   Dtype \n",
      "---  ------     --------------   ----- \n",
      " 0   clean      203482 non-null  object\n",
      " 1   processed  203482 non-null  object\n",
      "dtypes: object(2)\n",
      "memory usage: 3.1+ MB\n"
     ]
    }
   ],
   "source": [
    "tweets.info()"
   ]
  },
  {
   "cell_type": "code",
   "execution_count": 7,
   "metadata": {
    "ExecuteTime": {
     "end_time": "2020-11-07T20:57:53.247645Z",
     "start_time": "2020-11-07T20:57:53.245361Z"
    }
   },
   "outputs": [],
   "source": [
    "proc_tweets = tweets.processed"
   ]
  },
  {
   "cell_type": "markdown",
   "metadata": {},
   "source": [
    "## KMeans"
   ]
  },
  {
   "cell_type": "code",
   "execution_count": 8,
   "metadata": {
    "ExecuteTime": {
     "end_time": "2020-11-07T20:58:03.036194Z",
     "start_time": "2020-11-07T20:58:01.153061Z"
    }
   },
   "outputs": [
    {
     "name": "stdout",
     "output_type": "stream",
     "text": [
      "CPU times: user 1.83 s, sys: 43.7 ms, total: 1.88 s\n",
      "Wall time: 1.88 s\n"
     ]
    }
   ],
   "source": [
    "%%time\n",
    "\n",
    "tfidfconvert = TfidfVectorizer(use_idf=True, smooth_idf=True, stop_words='english')\n",
    "tweets_transformed = tfidfconvert.fit_transform(proc_tweets)"
   ]
  },
  {
   "cell_type": "code",
   "execution_count": 9,
   "metadata": {
    "ExecuteTime": {
     "end_time": "2020-11-07T21:06:29.334524Z",
     "start_time": "2020-11-07T20:58:07.106981Z"
    }
   },
   "outputs": [
    {
     "name": "stdout",
     "output_type": "stream",
     "text": [
      "CPU times: user 1h 4min 8s, sys: 1min 44s, total: 1h 5min 53s\n",
      "Wall time: 8min 22s\n"
     ]
    }
   ],
   "source": [
    "%%time\n",
    "inertias = []\n",
    "\n",
    "for k_ in np.arange(1, 21):\n",
    "    km = KMeans(n_clusters=k_)\n",
    "    km.fit(tweets_transformed)\n",
    "    inertias.append(km.inertia_)"
   ]
  },
  {
   "cell_type": "code",
   "execution_count": 12,
   "metadata": {
    "ExecuteTime": {
     "end_time": "2020-11-07T21:07:21.144877Z",
     "start_time": "2020-11-07T21:07:20.777787Z"
    },
    "scrolled": true
   },
   "outputs": [
    {
     "data": {
      "image/png": "[encoded data removed]",
      "text/plain": [
       "<Figure size 720x576 with 1 Axes>"
      ]
     },
     "metadata": {
      "needs_background": "light"
     },
     "output_type": "display_data"
    }
   ],
   "source": [
    "%matplotlib inline\n",
    "plt.figure(figsize=(10, 8))\n",
    "plt.plot(np.arange(1, 21), inertias, marker='o')\n",
    "plt.axvline(x=4, ls='--', label='Elbow @ k=4')\n",
    "plt.axvline(x=8, ls='--', label='Elbow @ k=8')\n",
    "plt.axvline(x=12, ls='--', label='Elbow @ k=12')\n",
    "plt.axvline(x=16, ls='--', label='Elbow @ k=16')\n",
    "plt.axvline(x=19, ls='--', label='Elbow @ k=19')\n",
    "plt.xticks(np.arange(0, 22, step=2))\n",
    "plt.title('Inertias by k-clusters', fontsize=14)\n",
    "plt.ylabel(\"Inertia\", fontsize=12)\n",
    "plt.xlabel('k', fontsize=12)\n",
    "plt.legend();"
   ]
  },
  {
   "cell_type": "markdown",
   "metadata": {},
   "source": [
    "## Topic Modeling"
   ]
  },
  {
   "cell_type": "code",
   "execution_count": 13,
   "metadata": {
    "ExecuteTime": {
     "end_time": "2020-11-07T21:07:38.844425Z",
     "start_time": "2020-11-07T21:07:38.840720Z"
    }
   },
   "outputs": [],
   "source": [
    "def display_topics(model, feature_names, no_top_words, topic_names=None):\n",
    "    for ix, topic in enumerate(model.components_):\n",
    "        if not topic_names or not topic_names[ix]:\n",
    "            print(\"\\nTopic \", ix)\n",
    "        else:\n",
    "            print(\"\\nTopic: '\",topic_names[ix],\"'\")\n",
    "        print(\", \".join([feature_names[i]\n",
    "                        for i in topic.argsort()[:-no_top_words - 1:-1]]))"
   ]
  },
  {
   "cell_type": "markdown",
   "metadata": {},
   "source": [
    "### LSA"
   ]
  },
  {
   "cell_type": "markdown",
   "metadata": {},
   "source": [
    "Will start with 10 topics - the most pronounced first elbow from above."
   ]
  },
  {
   "cell_type": "code",
   "execution_count": 20,
   "metadata": {
    "ExecuteTime": {
     "end_time": "2020-11-07T21:12:00.689646Z",
     "start_time": "2020-11-07T21:11:43.289509Z"
    }
   },
   "outputs": [
    {
     "name": "stdout",
     "output_type": "stream",
     "text": [
      "\n",
      "Topic  0\n",
      "trump, donald, hillary, clinton, real, president, say, politic, obama, people\n",
      "\n",
      "Topic  1\n",
      "hillary, clinton, email, campaign, obama, lie, politic, foundation, fbi, say\n",
      "\n",
      "Topic  2\n",
      "people, obama, like, say, make, know, good, want, love, thing\n",
      "\n",
      "Topic  3\n",
      "president, obama, trump, say, politic, news, election, new, michelle, barack\n",
      "\n",
      "Topic  4\n",
      "say, politic, trump, clinton, debate, news, thing, know, campaign, poll\n",
      "\n",
      "Topic  5\n",
      "obama, real, donald, say, tcot, islam, pjnet, kill, america, stop\n",
      "\n",
      "Topic  6\n",
      "make, love, america, great, good, day, know, time, let, god\n",
      "\n",
      "Topic  7\n",
      "love, president, people, hillary, say, islam, kill, want, stop, real\n"
     ]
    }
   ],
   "source": [
    "vectorizer = TfidfVectorizer(use_idf=True, \n",
    "                             smooth_idf=True,\n",
    "                             stop_words='english')\n",
    "\n",
    "svd_model = TruncatedSVD(n_components=8, \n",
    "                         algorithm='randomized',\n",
    "                         n_iter=100,\n",
    "                         random_state=42)\n",
    "\n",
    "# pipeline of vectorizer, model fit and applied to docs: \n",
    "\n",
    "svd_transformer = Pipeline([('tfidf', vectorizer),\n",
    "                           ('svd', svd_model)])\n",
    "\n",
    "svd_matrix = svd_transformer.fit_transform(proc_tweets)\n",
    "\n",
    "# Display\n",
    "terms = vectorizer.get_feature_names()\n",
    "display_topics(svd_model, terms, 10)"
   ]
  },
  {
   "cell_type": "markdown",
   "metadata": {},
   "source": [
    "Try again with CountVectorizer"
   ]
  },
  {
   "cell_type": "code",
   "execution_count": 19,
   "metadata": {
    "ExecuteTime": {
     "end_time": "2020-11-07T21:11:43.156810Z",
     "start_time": "2020-11-07T21:11:25.775656Z"
    }
   },
   "outputs": [
    {
     "name": "stdout",
     "output_type": "stream",
     "text": [
      "\n",
      "Topic  0\n",
      "trump, donald, hillary, clinton, real, say, president, obama, politic, people\n",
      "\n",
      "Topic  1\n",
      "clinton, hillary, obama, email, campaign, say, fbi, foundation, politic, lie\n",
      "\n",
      "Topic  2\n",
      "obama, say, people, like, make, president, tcot, news, pjnet, want\n",
      "\n",
      "Topic  3\n",
      "donald, real, obama, hillary, america, people, tcot, pjnet, maga, make\n",
      "\n",
      "Topic  4\n",
      "people, say, like, make, hillary, know, want, thing, think, good\n",
      "\n",
      "Topic  5\n",
      "clinton, say, donald, real, politic, new, news, email, foundation, fbi\n",
      "\n",
      "Topic  6\n",
      "say, hillary, donald, real, obama, russia, supporter, hack, benghazi, bomb\n",
      "\n",
      "Topic  7\n",
      "make, new, tcot, america, pjnet, great, ccot, news, day, time\n"
     ]
    }
   ],
   "source": [
    "vectorizer = CountVectorizer(token_pattern=\"\\\\b[a-z][a-z]+\\\\b\",\n",
    "                             binary=True, \n",
    "                             stop_words='english')\n",
    "\n",
    "svd_model = TruncatedSVD(n_components=8, \n",
    "                         algorithm='randomized',\n",
    "                         n_iter=100,\n",
    "                         random_state=42)\n",
    "\n",
    "# pipeline of tf-idf + SVD, fit and applied to docs: \n",
    "\n",
    "svd_transformer = Pipeline([('cv', vectorizer),\n",
    "                           ('svd', svd_model)])\n",
    "\n",
    "svd_matrix = svd_transformer.fit_transform(proc_tweets)\n",
    "\n",
    "\n",
    "terms = vectorizer.get_feature_names()\n",
    "display_topics(svd_model, terms, 10)"
   ]
  },
  {
   "cell_type": "markdown",
   "metadata": {},
   "source": [
    "### NMF"
   ]
  },
  {
   "cell_type": "code",
   "execution_count": 21,
   "metadata": {
    "ExecuteTime": {
     "end_time": "2020-11-07T21:12:08.656052Z",
     "start_time": "2020-11-07T21:12:00.829733Z"
    }
   },
   "outputs": [
    {
     "name": "stdout",
     "output_type": "stream",
     "text": [
      "\n",
      "Topic  0\n",
      "trump, president, politic, donald, supporter, maga, medium, poll, news, rally\n",
      "\n",
      "Topic  1\n",
      "hillary, lie, maga, want, know, debate, benghazi, woman, supporter, think\n",
      "\n",
      "Topic  2\n",
      "obama, president, news, tcot, barack, michelle, pjnet, isis, politic, american\n",
      "\n",
      "Topic  3\n",
      "donald, real, trump, america, maga, need, potus, thank, mike, trumptrain\n",
      "\n",
      "Topic  4\n",
      "people, like, thing, black, look, know, think, want, twitter, white\n",
      "\n",
      "Topic  5\n",
      "clinton, politic, email, campaign, foundation, fbi, poll, news, new, state\n",
      "\n",
      "Topic  6\n",
      "say, know, news, good, thing, woman, want, election, politic, man\n",
      "\n",
      "Topic  7\n",
      "make, new, america, tcot, pjnet, great, day, time, ccot, good\n"
     ]
    }
   ],
   "source": [
    "vectorizer = CountVectorizer(token_pattern=\"\\\\b[a-z][a-z]+\\\\b\",\n",
    "                             binary=True, \n",
    "                             stop_words='english')\n",
    "\n",
    "nmf_model = NMF(n_components=8)\n",
    "\n",
    "# pipeline of tf-idf + SVD, fit and applied to docs: \n",
    "\n",
    "nfm_transformer = Pipeline([('cv', vectorizer),\n",
    "                           ('nmf', nmf_model)])\n",
    "\n",
    "nmf_matrix = nfm_transformer.fit_transform(proc_tweets)\n",
    "\n",
    "\n",
    "terms = vectorizer.get_feature_names()\n",
    "display_topics(nmf_model, terms, 10)"
   ]
  },
  {
   "cell_type": "markdown",
   "metadata": {},
   "source": [
    "Pretty similar to LSA"
   ]
  },
  {
   "cell_type": "markdown",
   "metadata": {},
   "source": [
    "### Corex"
   ]
  },
  {
   "cell_type": "markdown",
   "metadata": {},
   "source": [
    "[lecture example notebook](https://github.com/scrapfishies/onl20_ds4/blob/master/curriculum/project-04/fancy-nlp/corex/CorEx.ipynb)"
   ]
  },
  {
   "cell_type": "code",
   "execution_count": 22,
   "metadata": {
    "ExecuteTime": {
     "end_time": "2020-11-07T21:12:50.200833Z",
     "start_time": "2020-11-07T21:12:48.407793Z"
    }
   },
   "outputs": [],
   "source": [
    "vectorizer = CountVectorizer(token_pattern=\"\\\\b[a-z][a-z]+\\\\b\",\n",
    "                             binary=True,\n",
    "                             stop_words='english')\n",
    "\n",
    "doc_word = vectorizer.fit_transform(proc_tweets)\n",
    "words = list(np.asarray(vectorizer.get_feature_names()))"
   ]
  },
  {
   "cell_type": "code",
   "execution_count": 23,
   "metadata": {
    "ExecuteTime": {
     "end_time": "2020-11-07T21:16:22.915728Z",
     "start_time": "2020-11-07T21:12:53.994025Z"
    }
   },
   "outputs": [
    {
     "data": {
      "text/plain": [
       "<corextopic.corextopic.Corex at 0x7fd9b2718370>"
      ]
     },
     "execution_count": 23,
     "metadata": {},
     "output_type": "execute_result"
    }
   ],
   "source": [
    "topic_model = ct.Corex(n_hidden=8, \n",
    "                       words=words,\n",
    "                       max_iter=200, \n",
    "                       seed=42)\n",
    "\n",
    "\n",
    "topic_model.fit(doc_word, words=words, docs=proc_tweets)"
   ]
  },
  {
   "cell_type": "code",
   "execution_count": 24,
   "metadata": {
    "ExecuteTime": {
     "end_time": "2020-11-07T21:16:23.418477Z",
     "start_time": "2020-11-07T21:16:23.133840Z"
    },
    "scrolled": true
   },
   "outputs": [
    {
     "name": "stdout",
     "output_type": "stream",
     "text": [
      "0: merkel, muss, ist, die, das, es, sie, ich, mit, den\n",
      "1: clinton, hillary, email, campaign, fbi, politic, news, poll, dnc, wikileaks\n",
      "2: trump, donald, real, president, maga, supporter, pence, rally, swamp, drain\n",
      "3: tcot, pjnet, ccot, wakeupamerica, cruzcrew, teaparty, nra, tgdn, uniteblue, tlot\n",
      "4: obama, gop, midnight, american, white, americans, cruz, black, law, illegal\n",
      "5: islam, kill, refugee, muslim, terrorist, muslims, attack, islamic, isis, nation\n",
      "6: alternativeacronyminterpretations, star, wear, abrams, jenn, ilove, butihate, girl, jones, kim\n",
      "7: police, politician, gift, idea, shoot, school, officer, cop, student, man\n"
     ]
    }
   ],
   "source": [
    "# Print all topics from the CorEx topic model\n",
    "topics = topic_model.get_topics()\n",
    "for n, topic in enumerate(topics):\n",
    "    topic_words, _ = zip(*topic)\n",
    "    print('{}: '.format(n) + ', '.join(topic_words))"
   ]
  },
  {
   "cell_type": "markdown",
   "metadata": {},
   "source": [
    "These topics look more promising - much more diverse"
   ]
  },
  {
   "cell_type": "code",
   "execution_count": 26,
   "metadata": {
    "ExecuteTime": {
     "end_time": "2020-11-07T21:17:35.767907Z",
     "start_time": "2020-11-07T21:17:35.587351Z"
    }
   },
   "outputs": [
    {
     "data": {
      "text/plain": [
       "[('break entire clinton campaign implicate dnc violence voter fraud scheme drain swamp',\n",
       "  0.0),\n",
       " ('hacker release ton email clinton state department insider', 0.0),\n",
       " ('wikileaks arianna huffington co founder huffinton post prefer covert influence tcot ccot',\n",
       "  0.0),\n",
       " ('new doc show clinton foundation donor seek access state department via',\n",
       "  0.0),\n",
       " ('rep clinton aide get immunity deal direct email scrub via foxnews', 0.0),\n",
       " ('confirm clinton foundation also fbi investigation sundaymorning thisweek facethena',\n",
       "  0.0),\n",
       " ('levinsurge call housegop member tell voteno ryancare yes expect cantored mar',\n",
       "  0.0),\n",
       " ('gansler sachs call fbi decision clinton email serious mistake politic',\n",
       "  0.0),\n",
       " ('wikileaks fbi agent push clinton foundation investigation justice dept sh tcot ccot',\n",
       "  0.0),\n",
       " ('believe julian assange appear exclusive onrt russia today say russians nothing',\n",
       "  0.0)]"
      ]
     },
     "execution_count": 26,
     "metadata": {},
     "output_type": "execute_result"
    }
   ],
   "source": [
    "# Let's check out topic : clinton\n",
    "topic_model.get_top_docs(topic=1, n_docs=10)"
   ]
  },
  {
   "cell_type": "markdown",
   "metadata": {},
   "source": [
    "Yikes"
   ]
  },
  {
   "cell_type": "code",
   "execution_count": 27,
   "metadata": {
    "ExecuteTime": {
     "end_time": "2020-11-07T21:17:40.178985Z",
     "start_time": "2020-11-07T21:17:40.018127Z"
    }
   },
   "outputs": [
    {
     "data": {
      "image/png": "[encoded data removed]",
      "text/plain": [
       "<Figure size 720x360 with 1 Axes>"
      ]
     },
     "metadata": {
      "needs_background": "light"
     },
     "output_type": "display_data"
    }
   ],
   "source": [
    "plt.figure(figsize=(10,5))\n",
    "plt.bar(range(topic_model.tcs.shape[0]), topic_model.tcs, color='#4e79a7', width=0.5)\n",
    "plt.xlabel('Topic', fontsize=16)\n",
    "plt.ylabel('Total Correlation (nats)', fontsize=16)\n",
    "plt.show()"
   ]
  },
  {
   "cell_type": "code",
   "execution_count": 28,
   "metadata": {
    "ExecuteTime": {
     "end_time": "2020-11-07T21:17:48.413284Z",
     "start_time": "2020-11-07T21:17:48.409980Z"
    }
   },
   "outputs": [
    {
     "data": {
      "text/plain": [
       "1.8896454714616562"
      ]
     },
     "execution_count": 28,
     "metadata": {},
     "output_type": "execute_result"
    }
   ],
   "source": [
    "topic_model.tc"
   ]
  },
  {
   "cell_type": "markdown",
   "metadata": {},
   "source": [
    "Testing some anchors based on the topic results"
   ]
  },
  {
   "cell_type": "code",
   "execution_count": 29,
   "metadata": {
    "ExecuteTime": {
     "end_time": "2020-11-07T21:17:54.564428Z",
     "start_time": "2020-11-07T21:17:54.559949Z"
    }
   },
   "outputs": [
    {
     "data": {
      "text/plain": [
       "7"
      ]
     },
     "execution_count": 29,
     "metadata": {},
     "output_type": "execute_result"
    }
   ],
   "source": [
    "topics = [['donald', 'trump', 'maga'],                                             # trump stuff\n",
    "          ['hillary', 'clinton'],                                                  # hillary stuff\n",
    "          ['merkel', 'muss', 'die', 'ist', 'ich', 'das'],                          # german stuff\n",
    "          ['blacklivesmatter'],                                                    # BLM\n",
    "          ['police', 'officer', 'shoot'],                                          # police stuff\n",
    "          ['obama', 'barack'],                                                     # obama stuff\n",
    "          ['isis', 'muslim', 'islam']                                              # isis/islam stuff\n",
    "         ]\n",
    "\n",
    "len(topics)"
   ]
  },
  {
   "cell_type": "markdown",
   "metadata": {},
   "source": [
    "Will plot out 7 anchors and let CorEx decide a few more."
   ]
  },
  {
   "cell_type": "code",
   "execution_count": 30,
   "metadata": {
    "ExecuteTime": {
     "end_time": "2020-11-07T21:22:15.085814Z",
     "start_time": "2020-11-07T21:18:24.442228Z"
    }
   },
   "outputs": [
    {
     "data": {
      "text/plain": [
       "<corextopic.corextopic.Corex at 0x7fd9b3f5c5b0>"
      ]
     },
     "execution_count": 30,
     "metadata": {},
     "output_type": "execute_result"
    }
   ],
   "source": [
    "topic_model = ct.Corex(n_hidden=10, \n",
    "                       words=words,\n",
    "                       max_iter=200, \n",
    "                       seed=42)\n",
    "\n",
    "topic_model.fit(doc_word, words=words, docs=proc_tweets, \n",
    "                anchors=topics, anchor_strength=7)"
   ]
  },
  {
   "cell_type": "code",
   "execution_count": 31,
   "metadata": {
    "ExecuteTime": {
     "end_time": "2020-11-07T21:22:15.688265Z",
     "start_time": "2020-11-07T21:22:15.298784Z"
    }
   },
   "outputs": [
    {
     "name": "stdout",
     "output_type": "stream",
     "text": [
      "0: trump, donald, maga, real, president, politic, supporter, poll, rally, trumptrain\n",
      "1: clinton, hillary, email, campaign, foundation, fbi, wikileaks, debate, benghazi, crook\n",
      "2: die, merkel, muss, ist, das, ich, sie, es, mit, den\n",
      "3: blacklivesmatter, play, music, ft, gt, soundcloud, feat, black, artist, mixtape\n",
      "4: police, shoot, officer, cop, suspect, san, arrest, dallas, man, brutality\n",
      "5: obama, barack, michelle, administration, admin, legacy, hussein, malia, pres, veto\n",
      "6: islam, isis, muslim, kill, brussels, refugee, opiceisis, iceisis, prayforbrussels, stop\n",
      "7: tcot, gop, pjnet, news, midnight, ccot, cruz, election, democrat, state\n",
      "8: favorite, headline, trumps, enlist, patriot, god, west, army, renewus, super\n",
      "9: new, cnn, medium, york, oscarhasnocolor, msnbc, oscars, session, watch, assange\n"
     ]
    }
   ],
   "source": [
    "# Print all topics from the CorEx topic model\n",
    "topics = topic_model.get_topics()\n",
    "for n,topic in enumerate(topics):\n",
    "    topic_words,_ = zip(*topic)\n",
    "    print('{}: '.format(n) + ', '.join(topic_words))"
   ]
  },
  {
   "cell_type": "code",
   "execution_count": 34,
   "metadata": {
    "ExecuteTime": {
     "end_time": "2020-11-07T21:25:32.241917Z",
     "start_time": "2020-11-07T21:25:32.027664Z"
    }
   },
   "outputs": [
    {
     "data": {
      "text/plain": [
       "[('rudy giuliani hillary know call say one thing private one public call li',\n",
       "  0.0),\n",
       " ('shalabh elect hillary mean end american civilization', 0.0),\n",
       " ('trump clinton representative attend brief transition', 0.0),\n",
       " ('monmouth u poll echo nbc wsj big clinton lead clinton trump', 0.0),\n",
       " ('internal poll show trump lead hillary believe medium', 0.0),\n",
       " ('husband bill clinton look woman decide want rape scale', 0.0),\n",
       " ('hillary clinton win election lose', 0.0),\n",
       " ('hillary clinton support radical increase syrian refugee come u maga', 0.0),\n",
       " ('joe biden surprise volunteer hillary clinton campaign cleveland politic',\n",
       "  0.0),\n",
       " ('twitter censor real life bill clinton get heckle w rapist trend people ha',\n",
       "  0.0)]"
      ]
     },
     "execution_count": 34,
     "metadata": {},
     "output_type": "execute_result"
    }
   ],
   "source": [
    "# Let's check out topic : graphics\n",
    "topic_model.get_top_docs(topic=1, n_docs=10)"
   ]
  },
  {
   "cell_type": "code",
   "execution_count": 35,
   "metadata": {
    "ExecuteTime": {
     "end_time": "2020-11-07T21:25:35.010481Z",
     "start_time": "2020-11-07T21:25:34.871534Z"
    }
   },
   "outputs": [
    {
     "data": {
      "image/png": "[encoded data removed]",
      "text/plain": [
       "<Figure size 720x360 with 1 Axes>"
      ]
     },
     "metadata": {
      "needs_background": "light"
     },
     "output_type": "display_data"
    }
   ],
   "source": [
    "plt.figure(figsize=(10,5))\n",
    "plt.bar(range(topic_model.tcs.shape[0]), topic_model.tcs, color='#4e79a7', width=0.5)\n",
    "plt.xlabel('Topic', fontsize=16)\n",
    "plt.ylabel('Total Correlation (nats)', fontsize=16)\n",
    "plt.show()"
   ]
  },
  {
   "cell_type": "code",
   "execution_count": 36,
   "metadata": {
    "ExecuteTime": {
     "end_time": "2020-11-07T21:25:36.955245Z",
     "start_time": "2020-11-07T21:25:36.951772Z"
    }
   },
   "outputs": [
    {
     "data": {
      "text/plain": [
       "10.406523992892142"
      ]
     },
     "execution_count": 36,
     "metadata": {},
     "output_type": "execute_result"
    }
   ],
   "source": [
    "topic_model.tc"
   ]
  },
  {
   "cell_type": "markdown",
   "metadata": {},
   "source": [
    "CorEx seems like it'll be useful in teasing out sub-topics using the anchors. I'll dig deeper into CorEx's topics in a separate notebook. "
   ]
  },
  {
   "cell_type": "markdown",
   "metadata": {},
   "source": [
    "### LDA"
   ]
  },
  {
   "cell_type": "code",
   "execution_count": null,
   "metadata": {},
   "outputs": [],
   "source": []
  },
  {
   "cell_type": "code",
   "execution_count": null,
   "metadata": {},
   "outputs": [],
   "source": []
  },
  {
   "cell_type": "code",
   "execution_count": null,
   "metadata": {},
   "outputs": [],
   "source": []
  },
  {
   "cell_type": "code",
   "execution_count": null,
   "metadata": {},
   "outputs": [],
   "source": []
  },
  {
   "cell_type": "code",
   "execution_count": null,
   "metadata": {},
   "outputs": [],
   "source": []
  }
 ],
 "metadata": {
  "kernelspec": {
   "display_name": "Python [conda env:metis] *",
   "language": "python",
   "name": "conda-env-metis-py"
  },
  "language_info": {
   "codemirror_mode": {
    "name": "ipython",
    "version": 3
   },
   "file_extension": ".py",
   "mimetype": "text/x-python",
   "name": "python",
   "nbconvert_exporter": "python",
   "pygments_lexer": "ipython3",
   "version": "3.8.5"
  },
  "toc": {
   "base_numbering": 1,
   "nav_menu": {},
   "number_sections": true,
   "sideBar": true,
   "skip_h1_title": false,
   "title_cell": "Table of Contents",
   "title_sidebar": "Contents",
   "toc_cell": false,
   "toc_position": {},
   "toc_section_display": true,
   "toc_window_display": true
  },
  "varInspector": {
   "cols": {
    "lenName": 16,
    "lenType": 16,
    "lenVar": 40
   },
   "kernels_config": {
    "python": {
     "delete_cmd_postfix": "",
     "delete_cmd_prefix": "del ",
     "library": "var_list.py",
     "varRefreshCmd": "print(var_dic_list())"
    },
    "r": {
     "delete_cmd_postfix": ") ",
     "delete_cmd_prefix": "rm(",
     "library": "var_list.r",
     "varRefreshCmd": "cat(var_dic_list()) "
    }
   },
   "types_to_exclude": [
    "module",
    "function",
    "builtin_function_or_method",
    "instance",
    "_Feature"
   ],
   "window_display": false
  }
 },
 "nbformat": 4,
 "nbformat_minor": 4
}
