{
 "cells": [
  {
   "cell_type": "markdown",
   "metadata": {},
   "source": [
    "# Topic Modeling with CorEx"
   ]
  },
  {
   "cell_type": "markdown",
   "metadata": {},
   "source": [
    "After getting a sense of the topics from pyLDAvis, I'll use CorEx to tease out these topics further with the help of anchors, a [sort of 'semi-supervised learning' approach](https://github.com/gregversteeg/corex_topic)."
   ]
  },
  {
   "cell_type": "markdown",
   "metadata": {},
   "source": [
    "## Setup"
   ]
  },
  {
   "cell_type": "code",
   "execution_count": 1,
   "metadata": {
    "ExecuteTime": {
     "end_time": "2020-11-11T23:40:01.115677Z",
     "start_time": "2020-11-11T23:39:59.869129Z"
    }
   },
   "outputs": [],
   "source": [
    "# Basics\n",
    "import pandas as pd\n",
    "import numpy as np\n",
    "import matplotlib.pyplot as plt\n",
    "import seaborn as sns\n",
    "%matplotlib inline\n",
    "import pickle \n",
    "\n",
    "# sklearn\n",
    "from sklearn.feature_extraction.text import CountVectorizer\n",
    "\n",
    "# corex\n",
    "from corextopic import corextopic as ct"
   ]
  },
  {
   "cell_type": "code",
   "execution_count": 3,
   "metadata": {
    "ExecuteTime": {
     "end_time": "2020-11-11T23:40:02.953364Z",
     "start_time": "2020-11-11T23:40:02.848982Z"
    }
   },
   "outputs": [],
   "source": [
    "with open('../data_files/processed_tweets.pickle', 'rb') as read_file:\n",
    "    df = pickle.load(read_file)"
   ]
  },
  {
   "cell_type": "code",
   "execution_count": 4,
   "metadata": {
    "ExecuteTime": {
     "end_time": "2020-11-11T23:40:04.155376Z",
     "start_time": "2020-11-11T23:40:04.146679Z"
    },
    "scrolled": true
   },
   "outputs": [
    {
     "data": {
      "text/html": [
       "<div>\n",
       "<style scoped>\n",
       "    .dataframe tbody tr th:only-of-type {\n",
       "        vertical-align: middle;\n",
       "    }\n",
       "\n",
       "    .dataframe tbody tr th {\n",
       "        vertical-align: top;\n",
       "    }\n",
       "\n",
       "    .dataframe thead th {\n",
       "        text-align: right;\n",
       "    }\n",
       "</style>\n",
       "<table border=\"1\" class=\"dataframe\">\n",
       "  <thead>\n",
       "    <tr style=\"text-align: right;\">\n",
       "      <th></th>\n",
       "      <th>clean</th>\n",
       "      <th>processed</th>\n",
       "    </tr>\n",
       "  </thead>\n",
       "  <tbody>\n",
       "    <tr>\n",
       "      <th>0</th>\n",
       "      <td>islam kills are you trying to say that there w...</td>\n",
       "      <td>islam kill try say terrorist attack europe ref...</td>\n",
       "    </tr>\n",
       "    <tr>\n",
       "      <th>1</th>\n",
       "      <td>clinton trump should ve apologized more attack...</td>\n",
       "      <td>clinton trump apologize attack little</td>\n",
       "    </tr>\n",
       "    <tr>\n",
       "      <th>2</th>\n",
       "      <td>who was is the best president of the past year...</td>\n",
       "      <td>well president past retweet</td>\n",
       "    </tr>\n",
       "    <tr>\n",
       "      <th>3</th>\n",
       "      <td>i don t have to guess your religion christmasa...</td>\n",
       "      <td>guess religion christmasaftermath</td>\n",
       "    </tr>\n",
       "    <tr>\n",
       "      <th>4</th>\n",
       "      <td>pence and his lawyers decided which of his off...</td>\n",
       "      <td>pence lawyer decide official email public can see</td>\n",
       "    </tr>\n",
       "  </tbody>\n",
       "</table>\n",
       "</div>"
      ],
      "text/plain": [
       "                                               clean  \\\n",
       "0  islam kills are you trying to say that there w...   \n",
       "1  clinton trump should ve apologized more attack...   \n",
       "2  who was is the best president of the past year...   \n",
       "3  i don t have to guess your religion christmasa...   \n",
       "4  pence and his lawyers decided which of his off...   \n",
       "\n",
       "                                           processed  \n",
       "0  islam kill try say terrorist attack europe ref...  \n",
       "1              clinton trump apologize attack little  \n",
       "2                        well president past retweet  \n",
       "3                  guess religion christmasaftermath  \n",
       "4  pence lawyer decide official email public can see  "
      ]
     },
     "execution_count": 4,
     "metadata": {},
     "output_type": "execute_result"
    }
   ],
   "source": [
    "df.head()"
   ]
  },
  {
   "cell_type": "markdown",
   "metadata": {},
   "source": [
    "## Topic Modeling"
   ]
  },
  {
   "cell_type": "code",
   "execution_count": 5,
   "metadata": {
    "ExecuteTime": {
     "end_time": "2020-11-11T23:40:05.671974Z",
     "start_time": "2020-11-11T23:40:05.669794Z"
    }
   },
   "outputs": [],
   "source": [
    "proc_tweets = df.processed"
   ]
  },
  {
   "cell_type": "code",
   "execution_count": 6,
   "metadata": {
    "ExecuteTime": {
     "end_time": "2020-11-11T23:40:08.864237Z",
     "start_time": "2020-11-11T23:40:06.796908Z"
    }
   },
   "outputs": [],
   "source": [
    "vectorizer = CountVectorizer(token_pattern=\"\\\\b[a-z][a-z]+\\\\b\",\n",
    "                             binary=True,\n",
    "                             stop_words='english')\n",
    "\n",
    "doc_word = vectorizer.fit_transform(proc_tweets)\n",
    "words = list(np.asarray(vectorizer.get_feature_names()))"
   ]
  },
  {
   "cell_type": "code",
   "execution_count": 22,
   "metadata": {
    "ExecuteTime": {
     "end_time": "2020-11-11T23:49:21.461625Z",
     "start_time": "2020-11-11T23:49:21.458431Z"
    }
   },
   "outputs": [],
   "source": [
    "def corex_topics(topic_model):\n",
    "    topics = topic_model.get_topics()\n",
    "    for n,topic in enumerate(topics):\n",
    "        topic_words,_ = zip(*topic)\n",
    "        print('Topic {} keywords: '.format(n) + ', '.join(topic_words))"
   ]
  },
  {
   "cell_type": "code",
   "execution_count": 8,
   "metadata": {
    "ExecuteTime": {
     "end_time": "2020-11-11T23:40:11.484258Z",
     "start_time": "2020-11-11T23:40:11.481209Z"
    }
   },
   "outputs": [],
   "source": [
    "def plot_topics(topic_model):\n",
    "    plt.figure(figsize=(10,5))\n",
    "    plt.bar(range(topic_model.tcs.shape[0]), topic_model.tcs, color='#4e79a7', width=0.5)\n",
    "    plt.xlabel('Topic', fontsize=14)\n",
    "    plt.ylabel('Total Correlation (nats)', fontsize=14)\n",
    "    plt.title(\"CorEx Topic Correlation\")\n",
    "    sns.despine()\n",
    "    plt.show()"
   ]
  },
  {
   "cell_type": "code",
   "execution_count": 20,
   "metadata": {
    "ExecuteTime": {
     "end_time": "2020-11-11T23:47:42.094085Z",
     "start_time": "2020-11-11T23:47:42.090416Z"
    }
   },
   "outputs": [],
   "source": [
    "def show_top_tweets(topic_model, num_tweets_to_show):\n",
    "    topics = topic_model.get_topics()\n",
    "    for i in range(len(topics)):\n",
    "        print(f'Topic {i}')\n",
    "        top_tweets = [tweet[0] for tweet in topic_model.get_top_docs(topic=i, n_docs=num_tweets_to_show)]\n",
    "        for i in range(len(top_tweets)):\n",
    "            print(f\"{i+1}) {top_tweets[i]}\")\n",
    "        print(\"\")"
   ]
  },
  {
   "cell_type": "markdown",
   "metadata": {},
   "source": [
    "### No Anchors\n",
    "\n",
    "To start, let's run CorEx with no anchors and 10 topics. "
   ]
  },
  {
   "cell_type": "code",
   "execution_count": 10,
   "metadata": {
    "ExecuteTime": {
     "end_time": "2020-11-11T23:42:18.352109Z",
     "start_time": "2020-11-11T23:40:15.429431Z"
    }
   },
   "outputs": [
    {
     "data": {
      "text/plain": [
       "<corextopic.corextopic.Corex at 0x7f828a1f38b0>"
      ]
     },
     "execution_count": 10,
     "metadata": {},
     "output_type": "execute_result"
    }
   ],
   "source": [
    "topic_model = ct.Corex(n_hidden=10, \n",
    "                       words=words,\n",
    "                       max_iter=100, \n",
    "                       seed=42)\n",
    "\n",
    "topic_model.fit(doc_word, words=words, docs=proc_tweets)"
   ]
  },
  {
   "cell_type": "code",
   "execution_count": 23,
   "metadata": {
    "ExecuteTime": {
     "end_time": "2020-11-11T23:49:25.269662Z",
     "start_time": "2020-11-11T23:49:24.829365Z"
    }
   },
   "outputs": [
    {
     "name": "stdout",
     "output_type": "stream",
     "text": [
      "Topic 0 keywords: merkel, muss, die, ist, das, es, headline, sie, trumps, favorite\n",
      "Topic 1 keywords: clinton, hillary, obama, politic, fbi, news, police, midnight, dnc, attack\n",
      "Topic 2 keywords: tcot, pjnet, ccot, cruz, ted, wakeupamerica, teaparty, gift, politician, cruzcrew\n",
      "Topic 3 keywords: trump, president, gop, debate, election, poll, voter, medium, supporter, campaign\n",
      "Topic 4 keywords: real, donald, maga, trumptrain, drain, swamp, paul, americafirst, ryan, makeamericagreatagain\n",
      "Topic 5 keywords: law, iran, school, student, north, session, deal, nuclear, attorney, south\n",
      "Topic 6 keywords: email, wikileaks, hack, kaine, russia, leak, tim, russian, michael, putin\n",
      "Topic 7 keywords: islam, refugee, kill, america, border, muslims, country, stop, terrorist, brussels\n",
      "Topic 8 keywords: city, new, shoot, cop, post, york, protester, illegal, sheriff, baltimore\n",
      "Topic 9 keywords: white, house, black, racist, woman, assault, press, video, reporter, sexual\n"
     ]
    }
   ],
   "source": [
    "corex_topics(topic_model)"
   ]
  },
  {
   "cell_type": "code",
   "execution_count": 24,
   "metadata": {
    "ExecuteTime": {
     "end_time": "2020-11-11T23:49:31.870321Z",
     "start_time": "2020-11-11T23:49:31.728702Z"
    },
    "scrolled": true
   },
   "outputs": [
    {
     "data": {
      "image/png": "[encoded data removed]",
      "text/plain": [
       "<Figure size 720x360 with 1 Axes>"
      ]
     },
     "metadata": {
      "needs_background": "light"
     },
     "output_type": "display_data"
    }
   ],
   "source": [
    "%matplotlib inline\n",
    "plot_topics(topic_model)"
   ]
  },
  {
   "cell_type": "code",
   "execution_count": 25,
   "metadata": {
    "ExecuteTime": {
     "end_time": "2020-11-11T23:49:36.036007Z",
     "start_time": "2020-11-11T23:49:33.115210Z"
    }
   },
   "outputs": [
    {
     "name": "stdout",
     "output_type": "stream",
     "text": [
      "Topic 0\n",
      "1) medizinstudium abiturnote sind praxisbezug ne landarztquote eingef hrt\n",
      "2) die bergungsarbeiten sind elltra nach zugungl ck\n",
      "3) love nickiminaj remyma go remyma nikkiminaj bgc shether\n",
      "4) chi ci chiama accozzaglia non ha cultura politica iovotono\n",
      "5) downbyseashore eavesdropann bullyuzi jorgenseptember leeds good even maryan\n",
      "\n",
      "Topic 1\n",
      "1) fun fact obama administration refuse despite fact saudi arabia egypt uae consider ter\n",
      "2) huma take order clinton foundation work state dept\n",
      "3) document show without doubt treason obstruction justice election fraud manipulation bribery ht\n",
      "4) national debt make trump clinton lame duck policticalnews conservativenews\n",
      "5) ashley bell head c coordinate gop battleground ef\n",
      "\n",
      "Topic 2\n",
      "1) philanthropic plan challenge mission possible impossible tcot ccot via guntrust\n",
      "2) scotus heart gosnell american thinker abortion prolife texas defundpp pjnet\n",
      "3) sevigny rob sexyaustrian sfstraighttalk shakira sharylattkisson shaunking\n",
      "4) dagestani man photo take russian photographer sergey prokudin gorsky\n",
      "5) read goredforwomen wakeupamerica real donald trump sented cruz senmarcorubio lrihendry gaetasusan\n",
      "\n",
      "Topic 3\n",
      "1) watch live donald ivanka trump hold campaign rally new hampshire electionday eve\n",
      "2) thatdoesimpressmemuch melania plagiarize michelle obama rick speech\n",
      "3) cnn orc instant poll show viewer likely trump rnc follower\n",
      "4) james carville say someone sabotage melania trump rnc speech add line michelle obama remark\n",
      "5) seanmdav wait til hear rubio cruz gope conspire create nh snowstorm\n",
      "\n",
      "Topic 4\n",
      "1) leslie rutledge  excuse trump pathetic comment miss machado victim blame really\n",
      "2) colormered origintent real donald trump apology wrong real donald trump delegate tonight\n",
      "3) jadedbypolitics sarcatstyx mikerzer kcarslin acidbrainwash pretty funny\n",
      "4) convergenceofstruggles way save pachamama child human animal live jdoreofficiel edwypl\n",
      "5) sarcatstyx jealous jadedbypolitics kcarslin shariromine\n",
      "\n",
      "Topic 5\n",
      "1) djs go bronze datpiff without sponsorship click detail datpiff ht\n",
      "2) davechappelle trump get chance institute stopandfrisk across us u know law order mean\n",
      "3) husky get commitment three star tight end jacob kizer news\n",
      "4) much oil spill us pipeline since via bi science keepitintheground\n",
      "5) trump announce new missile defense system iran north korea\n",
      "\n",
      "Topic 6\n",
      "1) irs thug gop crnc youngcons yrnf teaparty bzep lessgovmorefun jtimberlake instagram\n",
      "2) michael brantley lift indians past brewer center fielder michael brantley lift ind\n",
      "3) little ask end illegal feed cartel gop thedemocrats crnc collegedems youngd\n",
      "4) patriotress pudingtane thewelshtwitt tradethecycles loretta stile baggabrigade abben anna allwomansb hilla\n",
      "5) jayfielden esquire digg matt hacker matter lie dnc hillary clinton tell let quit bury\n",
      "\n",
      "Topic 7\n",
      "1) islam kill try say terrorist attack europe refugee let\n",
      "2) obama admin shock shock find refugee terrorist islam kill brussels\n",
      "3) stop islam islam kill sender mine tanker ned til belgia og brussel n prayforbrussels\n",
      "4) refugee bring kill maim us trebortwo never hillary trump\n",
      "5) hickforco sign uae saudi arabia refuse take unvettable syrian refugee copolitics h\n",
      "\n",
      "Topic 8\n",
      "1) license handgun owner ulster county new york carry pistol\n",
      "2) two victim identify triple homicide cleveland east side cuyahoga county medical examiner identify\n",
      "3) senangusking afraid water contamination phosphorus say massive\n",
      "4) new york city official search bomber motive mayor make stun admission\n",
      "5) shailene woodley truth arrest nodapl potus indigenous tairp\n",
      "\n",
      "Topic 9\n",
      "1) day brave six old girl ruby bridge become  black girl attend white elemen\n",
      "2) sex become permissible subjective feeling objective lifelong marriage commitment\n",
      "3) white michael vick disgust hurt dog feel ben roethlisberger sexually assault wh\n",
      "4) need janet bring tittie back ihatehalftimeshows superbowl pepsihalftime riseup\n",
      "5) venus serena williams give back hometown thevoicenews\n",
      "\n"
     ]
    }
   ],
   "source": [
    "show_top_tweets(topic_model, 5)"
   ]
  },
  {
   "cell_type": "code",
   "execution_count": null,
   "metadata": {},
   "outputs": [],
   "source": []
  },
  {
   "cell_type": "markdown",
   "metadata": {},
   "source": [
    "### Semi-Supervised Modeling with CorEx Anchoring"
   ]
  },
  {
   "cell_type": "code",
   "execution_count": 27,
   "metadata": {
    "ExecuteTime": {
     "end_time": "2020-11-11T23:51:51.341335Z",
     "start_time": "2020-11-11T23:51:51.336384Z"
    }
   },
   "outputs": [
    {
     "data": {
      "text/plain": [
       "7"
      ]
     },
     "execution_count": 27,
     "metadata": {},
     "output_type": "execute_result"
    }
   ],
   "source": [
    "anchor_topics = [['donald', 'trump'],                                # trump stuff\n",
    "                ['hillary', 'clinton'],                              # hillary stuff\n",
    "                ['merkel', 'muss', 'die', 'ist', 'ich', 'das'],      # german stuff\n",
    "                ['blacklivesmatter'],                                # BLM/race stuff\n",
    "                ['police', 'officer', 'shoot'],                      # police stuff\n",
    "                ['obama', 'barack'],                                 # obama stuff\n",
    "                ['muslim', 'islam']                                  # isis/islam stuff\n",
    "               ]\n",
    "\n",
    "len(anchor_topics)"
   ]
  },
  {
   "cell_type": "code",
   "execution_count": 28,
   "metadata": {
    "ExecuteTime": {
     "end_time": "2020-11-11T23:53:58.583596Z",
     "start_time": "2020-11-11T23:51:53.536914Z"
    }
   },
   "outputs": [
    {
     "data": {
      "text/plain": [
       "<corextopic.corextopic.Corex at 0x7f8266cde8b0>"
      ]
     },
     "execution_count": 28,
     "metadata": {},
     "output_type": "execute_result"
    }
   ],
   "source": [
    "topic_model = ct.Corex(n_hidden=10, \n",
    "                       words=words,\n",
    "                       max_iter=100, \n",
    "                       seed=42)\n",
    "\n",
    "topic_model.fit(doc_word, words=words, docs=proc_tweets, \n",
    "                anchors=anchor_topics, anchor_strength=8)"
   ]
  },
  {
   "cell_type": "code",
   "execution_count": 41,
   "metadata": {
    "ExecuteTime": {
     "end_time": "2020-11-11T23:58:31.440577Z",
     "start_time": "2020-11-11T23:58:31.436163Z"
    }
   },
   "outputs": [],
   "source": [
    "def full_topic_report(topic_model, num_tweets_to_show):    \n",
    "    print(\"------- Topics -------\\n\")\n",
    "    corex_topics(topic_model)\n",
    "    print('\\n------- Top Tweets -------\\n')\n",
    "    show_top_tweets(topic_model, num_tweets_to_show)\n",
    "    print('\\n------- Topic Correlation -------\\n')\n",
    "    print(f'Topic Correlation Score: {topic_model.tc:.2f}')\n",
    "    plot_topics(topic_model)"
   ]
  },
  {
   "cell_type": "code",
   "execution_count": 40,
   "metadata": {
    "ExecuteTime": {
     "end_time": "2020-11-11T23:58:03.479569Z",
     "start_time": "2020-11-11T23:58:03.475113Z"
    }
   },
   "outputs": [
    {
     "data": {
      "text/plain": [
       "11.674365085584613"
      ]
     },
     "execution_count": 40,
     "metadata": {},
     "output_type": "execute_result"
    }
   ],
   "source": [
    "topic_model.tc"
   ]
  },
  {
   "cell_type": "code",
   "execution_count": 42,
   "metadata": {
    "ExecuteTime": {
     "end_time": "2020-11-11T23:58:35.955945Z",
     "start_time": "2020-11-11T23:58:32.843419Z"
    }
   },
   "outputs": [
    {
     "name": "stdout",
     "output_type": "stream",
     "text": [
      "------- Topics -------\n",
      "\n",
      "Topic 0 keywords: trump, donald, real, president, politic, supporter, maga, poll, rally, say\n",
      "Topic 1 keywords: clinton, hillary, email, campaign, foundation, fbi, wikileaks, debate, benghazi, crook\n",
      "Topic 2 keywords: die, merkel, muss, ist, das, ich, sie, es, mit, zu\n",
      "Topic 3 keywords: blacklivesmatter, play, music, ft, feat, gt, black, hiphop, mixtape, artist\n",
      "Topic 4 keywords: police, shoot, officer, cop, suspect, arrest, san, dallas, man, brutality\n",
      "Topic 5 keywords: obama, barack, michelle, administration, admin, legacy, hussein, malia, pres, veto\n",
      "Topic 6 keywords: islam, muslim, kill, brussels, refugee, isis, prayforbrussels, opiceisis, iceisis, stop\n",
      "Topic 7 keywords: tcot, pjnet, gop, news, midnight, ccot, cruz, state, election, democrat\n",
      "Topic 8 keywords: favorite, headline, trumps, enlist, patriot, army, god, west, super, renewus\n",
      "Topic 9 keywords: new, cnn, medium, york, oscarhasnocolor, session, msnbc, oscars, check, watch\n",
      "\n",
      "------- Top Tweets -------\n",
      "\n",
      "Topic 0\n",
      "1) hillary clinton real donald trump robbin u come little late confirm dj trump\n",
      "2) dems slam two racial arsonist trump birther crusade end\n",
      "3) business leader say real donald trump simply reckless american business\n",
      "4) drudge report trump approval rate approach amongst world populas trumps favorite headline\n",
      "\n",
      "Topic 1\n",
      "1) primary clinton run obama within birthirism political force america math htt\n",
      "2) cnn clinton news network\n",
      "3) campaign hillary clinton northcarolina revjjackson wearewithher strongertogether\n",
      "4) guy crowd hillary prison hillary let make happen\n",
      "\n",
      "Topic 2\n",
      "1) fingerabdruck f r sechsj hrige die versch rfen die terror kriminalit\n",
      "2) hit stage wgcisummerjam jamalsmallz wethebest luxeboys \n",
      "3) deutschland zweitwichtigstes einwanderungsland via zeitonline\n",
      "4) robert koch institut asylwerber schleppen ansteckende tuberkulose\n",
      "\n",
      "Topic 3\n",
      "1) fresh f ck feat gucci waka flocka flame slim dunkin cowboysnation\n",
      "2) hustleshotlist every saturday listen late indie music news w hhl\n",
      "3) akrobatik askem artyoucanhear\n",
      "4) chuck negron tour new music three dog night unwritable rant podcast interview\n",
      "\n",
      "Topic 4\n",
      "1) watch video officer body slam girl work\n",
      "2) battleground pennsylvania philly police union chief endorse real donald trump\n",
      "3) police power abuse tolerate baltimorevsracism\n",
      "4) six baltimore officer charge death gray one murder\n",
      "\n",
      "Topic 5\n",
      "1) time move time real change term obama hillary trump maga\n",
      "2) imagine obama child marriage speak dnc forget thank one acce\n",
      "3) factchek dykstradame latimes gotcha not see obama lead around type either sh\n",
      "4) inkofsquid definitely burn flag destroy property beat obama voter\n",
      "\n",
      "Topic 6\n",
      "1) islam kill try say terrorist attack europe refugee let\n",
      "2) obama clinton hate fag trump can dream islam punishment gay death allahuakbar\n",
      "3) muslim obama intentionally aid isis today syria strike housegop gop ten gop\n",
      "4) piece documentation vindicate trump claim muslim celebration breitbart\n",
      "\n",
      "Topic 7\n",
      "1) trump interior secretary drop border wall bomb dems clueless tcot wakeupamerica\n",
      "2) know support stimulus package know would popular republican party vegasgop debate\n",
      "3) intolerance leave afbranco cartoon tcot lnyhbt tgdn drain swamp buildthewall\n",
      "4) let accuse russia shhhh georgia secretary state say cyberattacks trace dhs address\n",
      "\n",
      "Topic 8\n",
      "1) thankyoubernie sportslawyerlis westcoastlawyer thankyoubernie realtimblack obamagrowapair demand potus stop\n",
      "2) jan pierce salute militarymonday supportourtroops sot pjnet\n",
      "3) stun apex survey reveal mesmerize milky way discovery news\n",
      "4) sissywillis hipechik appreciate localism sense place edge day tho\n",
      "\n",
      "Topic 9\n",
      "1) seth rich sethrich twitter cnn foxnews abc nbc cbs\n",
      "2) bette midler describe geraldo rivera producer drug proceed grope geraldo cal\n",
      "3) stop rascism white people oscarhasnocolor oscars\n",
      "4) real donald trump replant forest renewable resource inprimary neprimary wvprimary orprimary waprimary\n",
      "\n",
      "\n",
      "------- Topic Correlation -------\n",
      "\n",
      "Topic Correlation Score: 11.67\n"
     ]
    },
    {
     "data": {
      "image/png": "[encoded data removed]",
      "text/plain": [
       "<Figure size 720x360 with 1 Axes>"
      ]
     },
     "metadata": {
      "needs_background": "light"
     },
     "output_type": "display_data"
    }
   ],
   "source": [
    "full_topic_report(topic_model, 4)"
   ]
  },
  {
   "cell_type": "code",
   "execution_count": null,
   "metadata": {},
   "outputs": [],
   "source": []
  },
  {
   "cell_type": "code",
   "execution_count": 43,
   "metadata": {
    "ExecuteTime": {
     "end_time": "2020-11-11T23:59:40.262077Z",
     "start_time": "2020-11-11T23:59:40.256589Z"
    }
   },
   "outputs": [
    {
     "data": {
      "text/plain": [
       "12"
      ]
     },
     "execution_count": 43,
     "metadata": {},
     "output_type": "execute_result"
    }
   ],
   "source": [
    "anchor_topics = [['donald', 'trump'],\n",
    "                 ['donald', 'trump'],\n",
    "                 ['donald', 'trump'],\n",
    "                 ['donald', 'trump'],\n",
    "                 ['hillary', 'clinton'],\n",
    "                 ['hillary', 'clinton'],\n",
    "                 ['hillary', 'clinton'],\n",
    "                 ['hillary', 'clinton'],\n",
    "                 ['merkel', 'muss', 'die', 'ist', 'ich', 'das'],\n",
    "                 ['pjnet'], \n",
    "                 ['police', 'officer', 'cop'],\n",
    "                 ['god', 'christian', 'jesus']\n",
    "                ]\n",
    "\n",
    "len(anchor_topics)"
   ]
  },
  {
   "cell_type": "code",
   "execution_count": 45,
   "metadata": {
    "ExecuteTime": {
     "end_time": "2020-11-12T00:02:10.788504Z",
     "start_time": "2020-11-11T23:59:49.495341Z"
    }
   },
   "outputs": [
    {
     "data": {
      "text/plain": [
       "<corextopic.corextopic.Corex at 0x7f828972e970>"
      ]
     },
     "execution_count": 45,
     "metadata": {},
     "output_type": "execute_result"
    }
   ],
   "source": [
    "topic_model = ct.Corex(n_hidden=14, \n",
    "                       words=words,\n",
    "                       max_iter=100, \n",
    "                       seed=42)\n",
    "\n",
    "topic_model.fit(doc_word, words=words, docs=proc_tweets, \n",
    "               anchors=anchor_topics, anchor_strength=8)"
   ]
  },
  {
   "cell_type": "code",
   "execution_count": 46,
   "metadata": {
    "ExecuteTime": {
     "end_time": "2020-11-12T00:02:17.195140Z",
     "start_time": "2020-11-12T00:02:10.985792Z"
    }
   },
   "outputs": [
    {
     "name": "stdout",
     "output_type": "stream",
     "text": [
      "------- Topics -------\n",
      "\n",
      "Topic 0 keywords: trump, donald, real, maga, trumps, win, favorite, elect, ivanka, ad\n",
      "Topic 1 keywords: trump, donald, poll, tower, vote, makeamericagreatagain, obamaswishlist, mexico, hotel, criticize\n",
      "Topic 2 keywords: trump, donald, president, celebrate, endorse, inauguration, speech, presidency, idrunforpresidentif, hitler\n",
      "Topic 3 keywords: trump, donald, politic, supporter, rally, melania, trumptrain, headline, comment, deplorables\n",
      "Topic 4 keywords: clinton, hillary, foundation, wikileaks, debate, benghazi, pneumonia, donor, leak, chelsea\n",
      "Topic 5 keywords: clinton, hillary, campaign, lie, server, birtherism, aide, investigation, corruption, camp\n",
      "Topic 6 keywords: clinton, hillary, fbi, birther, blumenthal, hillarys, lockherup, humaabedin, rumor, mcclatchy\n",
      "Topic 7 keywords: clinton, hillary, email, crook, conspirator, paytoplay, dcleaks, prayforflo, preparefordroning, lockthemup\n",
      "Topic 8 keywords: die, merkel, muss, ist, das, ich, sie, es, mit, zu\n",
      "Topic 9 keywords: pjnet, tcot, ccot, cruzcrew, wakeupamerica, teaparty, cruz, tgdn, ted, nra\n",
      "Topic 10 keywords: police, cop, officer, shoot, arrest, suspect, dallas, blacklivesmatter, man, brutality\n",
      "Topic 11 keywords: god, jesus, christian, play, ft, feat, hiphop, jadedbypolitics, gt, la\n",
      "Topic 12 keywords: obama, america, american, islam, kill, americans, country, muslim, refugee, say\n",
      "Topic 13 keywords: news, gop, election, state, post, medium, midnight, report, new, russia\n",
      "\n",
      "------- Top Tweets -------\n",
      "\n",
      "Topic 0\n",
      "1) voter want congress work donald trump\n",
      "2) trump get us fuck\n",
      "3) hale razor bill clinton thing donald trump say\n",
      "4) huma staffer wh back comey fbireopenscase crookedhillary drain swamp trump maga\n",
      "\n",
      "Topic 1\n",
      "1) horror leftist mob beat kick pummel trump supporter wear maga hat via gatewaypundit\n",
      "2) cnngetitright trump never ever say immigration illegal immigration okay illegal\n",
      "3) jimmygarner atasiding awkward idiot trump fraud\n",
      "4) day day donald j trump willdefeat hillary clinton elect president unite\n",
      "\n",
      "Topic 2\n",
      "1) real donald trump facebook stats continue climb past day new page like reach enga\n",
      "2) hacker expose clinton camp plan murder track trump supporter\n",
      "3) trump make mockery presidency russia literally throw face republicans let\n",
      "4) kanye west rant trump beyonce cancel sunday concert la\n",
      "\n",
      "Topic 3\n",
      "1) thingsthatshouldbecensored anyone complain trump follow campaign promise\n",
      "2) jesse jackson praise trump n lifetime help african american community blackamerica\n",
      "3) trump win louisiana\n",
      "4) new york value straight donald trump tweet\n",
      "\n",
      "Topic 4\n",
      "1) document appear implicate state dept cover clinton email via worldtribune\n",
      "2) vice president joe biden campaign clinton chatham university\n",
      "3) ted cruz life hillary trump fight conscience\n",
      "4) dear hillary clinton msm hate trump badmouthed every time speak america hate goaway htt\n",
      "\n",
      "Topic 5\n",
      "1) former bush administration official appear spanish language ad clinton\n",
      "2) trump everything hillary clinton blunt direct strong speak mind heart\n",
      "3) donald trump showdown hillary clinton watch debate u history\n",
      "4) donald trump lead hillary clinton late ohio poll politic\n",
      "\n",
      "Topic 6\n",
      "1) hillary clinton catch cheat way white house berniesanders hillary clinton via c\n",
      "2) break fbi heeft alle agenten gereed te houden voor aanhoudingsbevelen van clinton camp\n",
      "3) good say erictrump disgraceful move clinton take advantage hurricane\n",
      "4) break drjillstein file fec complaint real donald trump hillary clinton illegal super pac coordina\n",
      "\n",
      "Topic 7\n",
      "1) wikileaks dnc chair donna brazile aid clinton campaign sander wikileaks\n",
      "2) clinton campaign blame russian hacker assange promise leak op edge\n",
      "3) rudy giuliani remember see hillary clinton nydailynews\n",
      "4) black democrat get mad black trump sign meanwhile vote clinton call n\n",
      "\n",
      "Topic 8\n",
      "1) mutti ist die merkel muss tagebuch\n",
      "2) merkel support hillary immigration policy hernow\n",
      "3) nach terrorattacke barcelona tet verd chtigen mann\n",
      "4) anos congelamento gastos n paralelo theintercept\n",
      "\n",
      "Topic 9\n",
      "1) know government tcot wakeupamerica pjnet\n",
      "2) shooter wife listen grassroots army come take back country pjnet cru\n",
      "3) anchor away obama sequestration sink u navy pjnet american thinker\n",
      "4) socialism simply communism people without testosterone man barricade gary north teaparty tcot tlot pjnet\n",
      "\n",
      "Topic 10\n",
      "1) officer save christmas one old little girl via usheraldnews\n",
      "2) local news police officer deliver baby way hospital\n",
      "3) slovaquie police envahisseurs alias refugee antifa\n",
      "4) no blacklivesmatter say dismantle police know one candidate suck elkaryani\n",
      "\n",
      "Topic 11\n",
      "1) tie w prog religion tabula rasa man man gt lt completely pliable must eliminate\n",
      "2) think laugh kaine spokesman god\n",
      "3) go farrakhan trap jesus white folk happy\n",
      "4) sundaymorning word god alive active sharp double edge sword penetrate even divid\n",
      "\n",
      "Topic 12\n",
      "1) somewhere right syrianrefugee vet tell like doctor keep docto\n",
      "2) truly believe allow liberal ruin country teapartynews theteaparty\n",
      "3) obama give putin plutonium potus enemy allys scatch head wonder elect\n",
      "4) americans want u accept syrian refugee poll islam kill brussels\n",
      "\n",
      "Topic 13\n",
      "1) session lie stone communication hacker innocuous flynn foreign agent obvious\n",
      "2) watch tapper let kaine dodge blumenthal birther charge policticalnews conservativen\n",
      "3) new podesta email expose playbook rig poll oversamples zero hedge teaparty\n",
      "4) kimberley strassel spin hide evidence nunes right\n",
      "\n",
      "\n",
      "------- Topic Correlation -------\n",
      "\n",
      "Topic Correlation Score: 30.52\n"
     ]
    },
    {
     "data": {
      "image/png": "[encoded data removed]",
      "text/plain": [
       "<Figure size 720x360 with 1 Axes>"
      ]
     },
     "metadata": {
      "needs_background": "light"
     },
     "output_type": "display_data"
    }
   ],
   "source": [
    "full_topic_report(topic_model, 4)"
   ]
  },
  {
   "cell_type": "code",
   "execution_count": null,
   "metadata": {},
   "outputs": [],
   "source": []
  },
  {
   "cell_type": "markdown",
   "metadata": {},
   "source": []
  },
  {
   "cell_type": "code",
   "execution_count": 47,
   "metadata": {
    "ExecuteTime": {
     "end_time": "2020-11-12T00:04:27.863937Z",
     "start_time": "2020-11-12T00:04:27.860376Z"
    }
   },
   "outputs": [
    {
     "data": {
      "text/plain": [
       "5"
      ]
     },
     "execution_count": 47,
     "metadata": {},
     "output_type": "execute_result"
    }
   ],
   "source": [
    "anchor_topics = [['isis'],\n",
    "                 ['pjnet'],\n",
    "                 ['conservative'],\n",
    "                 ['america'],\n",
    "                 ['ted', 'cruz'],\n",
    "                ]\n",
    "\n",
    "len(anchor_topics)"
   ]
  },
  {
   "cell_type": "code",
   "execution_count": 48,
   "metadata": {
    "ExecuteTime": {
     "end_time": "2020-11-12T00:06:48.211566Z",
     "start_time": "2020-11-12T00:04:53.221808Z"
    }
   },
   "outputs": [
    {
     "data": {
      "text/plain": [
       "<corextopic.corextopic.Corex at 0x7f8236c3b940>"
      ]
     },
     "execution_count": 48,
     "metadata": {},
     "output_type": "execute_result"
    }
   ],
   "source": [
    "topic_model = ct.Corex(n_hidden=8, \n",
    "                       words=words,\n",
    "                       max_iter=100, \n",
    "                       seed=42)\n",
    "\n",
    "topic_model.fit(doc_word, words=words, docs=proc_tweets, \n",
    "               anchors=anchor_topics, anchor_strength=8)"
   ]
  },
  {
   "cell_type": "code",
   "execution_count": 49,
   "metadata": {
    "ExecuteTime": {
     "end_time": "2020-11-12T00:06:50.716199Z",
     "start_time": "2020-11-12T00:06:48.416451Z"
    }
   },
   "outputs": [
    {
     "name": "stdout",
     "output_type": "stream",
     "text": [
      "------- Topics -------\n",
      "\n",
      "Topic 0 keywords: isis, islam, kill, refugee, muslim, police, terrorist, brussels, islamic, attack\n",
      "Topic 1 keywords: pjnet, tcot, ccot, wakeupamerica, teaparty, cruzcrew, tgdn, nra, lnyhbt, tlot\n",
      "Topic 2 keywords: conservative, merkel, muss, ist, die, sie, das, es, ich, zu\n",
      "Topic 3 keywords: america, great, make, save, patriot, nobama, hermoxita, join, dare, lisadaca\n",
      "Topic 4 keywords: cruz, ted, en, la, jadedbypolitics, le, sarcatstyx, les, des, kcarslin\n",
      "Topic 5 keywords: trump, donald, real, politic, president, gop, election, maga, poll, debate\n",
      "Topic 6 keywords: clinton, hillary, email, campaign, fbi, wikileaks, medium, foundation, cnn, dnc\n",
      "Topic 7 keywords: play, game, music, favorite, gt, headline, ft, song, trumps, sport\n",
      "\n",
      "------- Top Tweets -------\n",
      "\n",
      "Topic 0\n",
      "1) wise guy see crimea isis syria warn real donald trump russia via yahoocanada\n",
      "2) leo hohmann night muslims ride roughshod linden hill minnesota listen\n",
      "3) israeli jet rocket hit syrianarmy near damascus strategy stop weapon iran hezbollah reuters ht\n",
      "4) video report westbank palestinian demonstration abbas get violent tension rise west bank\n",
      "\n",
      "Topic 1\n",
      "1) late batch clinton email contain classify message tcot teaparty pjnet\n",
      "2) cruz fight dc cartel every day campaign wakeupamerica cruzcrew trust pjnet tcot\n",
      "3) american dream use unless illegal immigant judgejeanine tcot pjnet\n",
      "4) join potus cabinet twitter secpricemd epascottpruitt secelainechao secretaryzinke secretarycarson secretaryperr\n",
      "\n",
      "Topic 2\n",
      "1) promisedlanding ruth blane promisedlanding promisedlanding feminazi prorape congo conflict woman empowerin\n",
      "2) black conservative need apply smithsonian new african american museum choose ignore\n",
      "3) sie wird deutschland stark merkel muss\n",
      "4) unwissentlich den walfang unterst tzt opwhales\n",
      "\n",
      "Topic 3\n",
      "1) sort bullshittery country singer represent value middle america garth brook\n",
      "2) good morning trump train keep fight together make america great great day\n",
      "3) britain canada america germany poland australia sweden finland norway love bacon love life\n",
      "4) rep steve king debate america ask hillary meds meds debatenight debate\n",
      "\n",
      "Topic 4\n",
      "1) weimer suzanne justinamash hmmmm point cruz defend free press\n",
      "2) gameofthrones cerseilannister disease tvquotes quote quote gotquotes lenaheadey\n",
      "3) rickyrozay know thebest big rickyrozay richforever rickross richhaircare hair beard oil\n",
      "4) trump cruz accuse lie miss day lie like\n",
      "\n",
      "Topic 5\n",
      "1) hiliary master art profit government rig system real donald trump dtmag\n",
      "2) massive early voter turnout georgia town democratic party campaign sewage bus\n",
      "3) michael brown mother appear democratic national convention prompt police ire politic\n",
      "4) real donald trump melania trump anncoulter ingrahamangle katrinapierson kellyannepolls presidenttrump\n",
      "\n",
      "Topic 6\n",
      "1) big leak contribution nvdems earmark hillary victory fund come get real\n",
      "2) socarides fbi investigation clinton foundation kellyfile\n",
      "3) hillary clinton private server send aide scramble answer podesta email show\n",
      "4) fbi redact name contractor staffer involve use bleachbit software wipe clinton tech\n",
      "\n",
      "Topic 7\n",
      "1) min free hashtagroundup play game fastlaugh hashtagzoo special host nationallampoon\n",
      "2) win short screenplay law punctuality joy lin\n",
      "3) one mark amysteron fifi j come experience white toxicity masochist ukipnfkn\n",
      "4) look white manbaby offend harmless religious themed toy christianitysofragile\n",
      "\n",
      "\n",
      "------- Topic Correlation -------\n",
      "\n",
      "Topic Correlation Score: 3.46\n"
     ]
    },
    {
     "data": {
      "image/png": "[encoded data removed]",
      "text/plain": [
       "<Figure size 720x360 with 1 Axes>"
      ]
     },
     "metadata": {
      "needs_background": "light"
     },
     "output_type": "display_data"
    }
   ],
   "source": [
    "full_topic_report(topic_model, 4)"
   ]
  },
  {
   "cell_type": "code",
   "execution_count": null,
   "metadata": {},
   "outputs": [],
   "source": []
  }
 ],
 "metadata": {
  "kernelspec": {
   "display_name": "Python [conda env:metis] *",
   "language": "python",
   "name": "conda-env-metis-py"
  },
  "language_info": {
   "codemirror_mode": {
    "name": "ipython",
    "version": 3
   },
   "file_extension": ".py",
   "mimetype": "text/x-python",
   "name": "python",
   "nbconvert_exporter": "python",
   "pygments_lexer": "ipython3",
   "version": "3.8.5"
  },
  "toc": {
   "base_numbering": 1,
   "nav_menu": {},
   "number_sections": true,
   "sideBar": true,
   "skip_h1_title": false,
   "title_cell": "Table of Contents",
   "title_sidebar": "Contents",
   "toc_cell": false,
   "toc_position": {},
   "toc_section_display": true,
   "toc_window_display": true
  },
  "varInspector": {
   "cols": {
    "lenName": 16,
    "lenType": 16,
    "lenVar": 40
   },
   "kernels_config": {
    "python": {
     "delete_cmd_postfix": "",
     "delete_cmd_prefix": "del ",
     "library": "var_list.py",
     "varRefreshCmd": "print(var_dic_list())"
    },
    "r": {
     "delete_cmd_postfix": ") ",
     "delete_cmd_prefix": "rm(",
     "library": "var_list.r",
     "varRefreshCmd": "cat(var_dic_list()) "
    }
   },
   "types_to_exclude": [
    "module",
    "function",
    "builtin_function_or_method",
    "instance",
    "_Feature"
   ],
   "window_display": false
  }
 },
 "nbformat": 4,
 "nbformat_minor": 4
}
