{
 "cells": [
  {
   "cell_type": "markdown",
   "metadata": {},
   "source": [
    "# ScatterText Visualization Setup"
   ]
  },
  {
   "cell_type": "code",
   "execution_count": 1,
   "metadata": {
    "ExecuteTime": {
     "end_time": "2020-11-12T22:49:28.131854Z",
     "start_time": "2020-11-12T22:49:27.253397Z"
    }
   },
   "outputs": [],
   "source": [
    "import pandas as pd\n",
    "import pickle\n",
    "import numpy as np\n",
    "\n",
    "import scattertext as st\n",
    "\n",
    "import emoji\n",
    "from preprocessing_funcs import get_hashtags, remove_url, remove_rt_prefix, demojify"
   ]
  },
  {
   "cell_type": "code",
   "execution_count": 2,
   "metadata": {
    "ExecuteTime": {
     "end_time": "2020-11-12T22:49:28.250481Z",
     "start_time": "2020-11-12T22:49:28.136323Z"
    }
   },
   "outputs": [],
   "source": [
    "with open('../data_files/tweets_with_feels.pickle', 'rb') as read_file:\n",
    "    df = pickle.load(read_file)"
   ]
  },
  {
   "cell_type": "code",
   "execution_count": 3,
   "metadata": {
    "ExecuteTime": {
     "end_time": "2020-11-12T22:49:28.294453Z",
     "start_time": "2020-11-12T22:49:28.279791Z"
    }
   },
   "outputs": [
    {
     "data": {
      "text/html": [
       "<div>\n",
       "<style scoped>\n",
       "    .dataframe tbody tr th:only-of-type {\n",
       "        vertical-align: middle;\n",
       "    }\n",
       "\n",
       "    .dataframe tbody tr th {\n",
       "        vertical-align: top;\n",
       "    }\n",
       "\n",
       "    .dataframe thead th {\n",
       "        text-align: right;\n",
       "    }\n",
       "</style>\n",
       "<table border=\"1\" class=\"dataframe\">\n",
       "  <thead>\n",
       "    <tr style=\"text-align: right;\">\n",
       "      <th></th>\n",
       "      <th>month</th>\n",
       "      <th>handle</th>\n",
       "      <th>label</th>\n",
       "      <th>tweet</th>\n",
       "      <th>vader_score</th>\n",
       "    </tr>\n",
       "  </thead>\n",
       "  <tbody>\n",
       "    <tr>\n",
       "      <th>1</th>\n",
       "      <td>2016-10</td>\n",
       "      <td>detroitdailynew</td>\n",
       "      <td>clinton</td>\n",
       "      <td>Clinton: Trump should’ve apologized more, atta...</td>\n",
       "      <td>-0.2484</td>\n",
       "    </tr>\n",
       "    <tr>\n",
       "      <th>4</th>\n",
       "      <td>2017-08</td>\n",
       "      <td>mrclydepratt</td>\n",
       "      <td>clinton</td>\n",
       "      <td>RT @Shareblue: Pence and his lawyers decided w...</td>\n",
       "      <td>0.0000</td>\n",
       "    </tr>\n",
       "    <tr>\n",
       "      <th>13</th>\n",
       "      <td>2016-08</td>\n",
       "      <td>pamela_moore13</td>\n",
       "      <td>clinton</td>\n",
       "      <td>Dave Chappelle: \"Black Lives Matter\" is the wo...</td>\n",
       "      <td>-0.6792</td>\n",
       "    </tr>\n",
       "    <tr>\n",
       "      <th>42</th>\n",
       "      <td>2017-03</td>\n",
       "      <td>paulinett</td>\n",
       "      <td>clinton</td>\n",
       "      <td>RT @KStreetHipster: Hamner-Brown is already on...</td>\n",
       "      <td>0.0000</td>\n",
       "    </tr>\n",
       "    <tr>\n",
       "      <th>43</th>\n",
       "      <td>2017-03</td>\n",
       "      <td>hyddrox</td>\n",
       "      <td>clinton</td>\n",
       "      <td>RT @TrumpSuperPAC: Obama's a Muslim &amp;amp; this...</td>\n",
       "      <td>0.4184</td>\n",
       "    </tr>\n",
       "  </tbody>\n",
       "</table>\n",
       "</div>"
      ],
      "text/plain": [
       "      month           handle    label  \\\n",
       "1   2016-10  detroitdailynew  clinton   \n",
       "4   2017-08     mrclydepratt  clinton   \n",
       "13  2016-08   pamela_moore13  clinton   \n",
       "42  2017-03        paulinett  clinton   \n",
       "43  2017-03          hyddrox  clinton   \n",
       "\n",
       "                                                tweet  vader_score  \n",
       "1   Clinton: Trump should’ve apologized more, atta...      -0.2484  \n",
       "4   RT @Shareblue: Pence and his lawyers decided w...       0.0000  \n",
       "13  Dave Chappelle: \"Black Lives Matter\" is the wo...      -0.6792  \n",
       "42  RT @KStreetHipster: Hamner-Brown is already on...       0.0000  \n",
       "43  RT @TrumpSuperPAC: Obama's a Muslim &amp; this...       0.4184  "
      ]
     },
     "execution_count": 3,
     "metadata": {},
     "output_type": "execute_result"
    }
   ],
   "source": [
    "df.head()"
   ]
  },
  {
   "cell_type": "code",
   "execution_count": 4,
   "metadata": {
    "ExecuteTime": {
     "end_time": "2020-11-12T22:49:28.327534Z",
     "start_time": "2020-11-12T22:49:28.296851Z"
    }
   },
   "outputs": [],
   "source": [
    "trump_clinton_df = df[(df['label'] == 'trump') | \n",
    "                      (df['label'] == 'clinton')]"
   ]
  },
  {
   "cell_type": "code",
   "execution_count": 5,
   "metadata": {
    "ExecuteTime": {
     "end_time": "2020-11-12T22:49:28.341424Z",
     "start_time": "2020-11-12T22:49:28.329261Z"
    }
   },
   "outputs": [
    {
     "data": {
      "text/html": [
       "<div>\n",
       "<style scoped>\n",
       "    .dataframe tbody tr th:only-of-type {\n",
       "        vertical-align: middle;\n",
       "    }\n",
       "\n",
       "    .dataframe tbody tr th {\n",
       "        vertical-align: top;\n",
       "    }\n",
       "\n",
       "    .dataframe thead th {\n",
       "        text-align: right;\n",
       "    }\n",
       "</style>\n",
       "<table border=\"1\" class=\"dataframe\">\n",
       "  <thead>\n",
       "    <tr style=\"text-align: right;\">\n",
       "      <th></th>\n",
       "      <th>month</th>\n",
       "      <th>handle</th>\n",
       "      <th>label</th>\n",
       "      <th>tweet</th>\n",
       "      <th>vader_score</th>\n",
       "    </tr>\n",
       "  </thead>\n",
       "  <tbody>\n",
       "    <tr>\n",
       "      <th>1</th>\n",
       "      <td>2016-10</td>\n",
       "      <td>detroitdailynew</td>\n",
       "      <td>clinton</td>\n",
       "      <td>Clinton: Trump should’ve apologized more, atta...</td>\n",
       "      <td>-0.2484</td>\n",
       "    </tr>\n",
       "    <tr>\n",
       "      <th>4</th>\n",
       "      <td>2017-08</td>\n",
       "      <td>mrclydepratt</td>\n",
       "      <td>clinton</td>\n",
       "      <td>RT @Shareblue: Pence and his lawyers decided w...</td>\n",
       "      <td>0.0000</td>\n",
       "    </tr>\n",
       "    <tr>\n",
       "      <th>13</th>\n",
       "      <td>2016-08</td>\n",
       "      <td>pamela_moore13</td>\n",
       "      <td>clinton</td>\n",
       "      <td>Dave Chappelle: \"Black Lives Matter\" is the wo...</td>\n",
       "      <td>-0.6792</td>\n",
       "    </tr>\n",
       "    <tr>\n",
       "      <th>42</th>\n",
       "      <td>2017-03</td>\n",
       "      <td>paulinett</td>\n",
       "      <td>clinton</td>\n",
       "      <td>RT @KStreetHipster: Hamner-Brown is already on...</td>\n",
       "      <td>0.0000</td>\n",
       "    </tr>\n",
       "    <tr>\n",
       "      <th>43</th>\n",
       "      <td>2017-03</td>\n",
       "      <td>hyddrox</td>\n",
       "      <td>clinton</td>\n",
       "      <td>RT @TrumpSuperPAC: Obama's a Muslim &amp;amp; this...</td>\n",
       "      <td>0.4184</td>\n",
       "    </tr>\n",
       "    <tr>\n",
       "      <th>...</th>\n",
       "      <td>...</td>\n",
       "      <td>...</td>\n",
       "      <td>...</td>\n",
       "      <td>...</td>\n",
       "      <td>...</td>\n",
       "    </tr>\n",
       "    <tr>\n",
       "      <th>203463</th>\n",
       "      <td>2017-01</td>\n",
       "      <td>daileyjadon</td>\n",
       "      <td>trump</td>\n",
       "      <td>RT @paul_lander: Donald Trump Mistakenly Tweet...</td>\n",
       "      <td>-0.8126</td>\n",
       "    </tr>\n",
       "    <tr>\n",
       "      <th>203464</th>\n",
       "      <td>2016-07</td>\n",
       "      <td>dailysandiego</td>\n",
       "      <td>trump</td>\n",
       "      <td>Trump transition tests outsider's governing ab...</td>\n",
       "      <td>0.3182</td>\n",
       "    </tr>\n",
       "    <tr>\n",
       "      <th>203470</th>\n",
       "      <td>2016-09</td>\n",
       "      <td>onlinememphis</td>\n",
       "      <td>trump</td>\n",
       "      <td>ELECTION GUIDE: Federal and State elections ht...</td>\n",
       "      <td>0.0000</td>\n",
       "    </tr>\n",
       "    <tr>\n",
       "      <th>203474</th>\n",
       "      <td>2016-10</td>\n",
       "      <td>watchmewalkin</td>\n",
       "      <td>trump</td>\n",
       "      <td>RT @BuzzFeed: This 22-year-old got out of an a...</td>\n",
       "      <td>-0.1531</td>\n",
       "    </tr>\n",
       "    <tr>\n",
       "      <th>203476</th>\n",
       "      <td>2016-11</td>\n",
       "      <td>daileyjadon</td>\n",
       "      <td>trump</td>\n",
       "      <td>Hubby back from Heaven</td>\n",
       "      <td>0.5106</td>\n",
       "    </tr>\n",
       "  </tbody>\n",
       "</table>\n",
       "<p>83177 rows × 5 columns</p>\n",
       "</div>"
      ],
      "text/plain": [
       "          month           handle    label  \\\n",
       "1       2016-10  detroitdailynew  clinton   \n",
       "4       2017-08     mrclydepratt  clinton   \n",
       "13      2016-08   pamela_moore13  clinton   \n",
       "42      2017-03        paulinett  clinton   \n",
       "43      2017-03          hyddrox  clinton   \n",
       "...         ...              ...      ...   \n",
       "203463  2017-01      daileyjadon    trump   \n",
       "203464  2016-07    dailysandiego    trump   \n",
       "203470  2016-09    onlinememphis    trump   \n",
       "203474  2016-10    watchmewalkin    trump   \n",
       "203476  2016-11      daileyjadon    trump   \n",
       "\n",
       "                                                    tweet  vader_score  \n",
       "1       Clinton: Trump should’ve apologized more, atta...      -0.2484  \n",
       "4       RT @Shareblue: Pence and his lawyers decided w...       0.0000  \n",
       "13      Dave Chappelle: \"Black Lives Matter\" is the wo...      -0.6792  \n",
       "42      RT @KStreetHipster: Hamner-Brown is already on...       0.0000  \n",
       "43      RT @TrumpSuperPAC: Obama's a Muslim &amp; this...       0.4184  \n",
       "...                                                   ...          ...  \n",
       "203463  RT @paul_lander: Donald Trump Mistakenly Tweet...      -0.8126  \n",
       "203464  Trump transition tests outsider's governing ab...       0.3182  \n",
       "203470  ELECTION GUIDE: Federal and State elections ht...       0.0000  \n",
       "203474  RT @BuzzFeed: This 22-year-old got out of an a...      -0.1531  \n",
       "203476                             Hubby back from Heaven       0.5106  \n",
       "\n",
       "[83177 rows x 5 columns]"
      ]
     },
     "execution_count": 5,
     "metadata": {},
     "output_type": "execute_result"
    }
   ],
   "source": [
    "trump_clinton_df"
   ]
  },
  {
   "cell_type": "code",
   "execution_count": 6,
   "metadata": {
    "ExecuteTime": {
     "end_time": "2020-11-12T22:49:28.843318Z",
     "start_time": "2020-11-12T22:49:28.343308Z"
    }
   },
   "outputs": [],
   "source": [
    "trump_clinton_df['tweet'] = trump_clinton_df['tweet'].map(remove_url)\n",
    "trump_clinton_df['tweet'] = trump_clinton_df['tweet'].map(remove_rt_prefix)\n",
    "trump_clinton_df['tweet'] = trump_clinton_df['tweet'].map(demojify)"
   ]
  },
  {
   "cell_type": "code",
   "execution_count": 7,
   "metadata": {
    "ExecuteTime": {
     "end_time": "2020-11-12T22:49:28.855057Z",
     "start_time": "2020-11-12T22:49:28.844675Z"
    }
   },
   "outputs": [
    {
     "data": {
      "text/html": [
       "<div>\n",
       "<style scoped>\n",
       "    .dataframe tbody tr th:only-of-type {\n",
       "        vertical-align: middle;\n",
       "    }\n",
       "\n",
       "    .dataframe tbody tr th {\n",
       "        vertical-align: top;\n",
       "    }\n",
       "\n",
       "    .dataframe thead th {\n",
       "        text-align: right;\n",
       "    }\n",
       "</style>\n",
       "<table border=\"1\" class=\"dataframe\">\n",
       "  <thead>\n",
       "    <tr style=\"text-align: right;\">\n",
       "      <th></th>\n",
       "      <th>month</th>\n",
       "      <th>handle</th>\n",
       "      <th>label</th>\n",
       "      <th>tweet</th>\n",
       "      <th>vader_score</th>\n",
       "    </tr>\n",
       "  </thead>\n",
       "  <tbody>\n",
       "    <tr>\n",
       "      <th>1</th>\n",
       "      <td>2016-10</td>\n",
       "      <td>detroitdailynew</td>\n",
       "      <td>clinton</td>\n",
       "      <td>Clinton: Trump should’ve apologized more, atta...</td>\n",
       "      <td>-0.2484</td>\n",
       "    </tr>\n",
       "    <tr>\n",
       "      <th>4</th>\n",
       "      <td>2017-08</td>\n",
       "      <td>mrclydepratt</td>\n",
       "      <td>clinton</td>\n",
       "      <td>Pence and his lawyers decided which of his of...</td>\n",
       "      <td>0.0000</td>\n",
       "    </tr>\n",
       "    <tr>\n",
       "      <th>13</th>\n",
       "      <td>2016-08</td>\n",
       "      <td>pamela_moore13</td>\n",
       "      <td>clinton</td>\n",
       "      <td>Dave Chappelle: \"Black Lives Matter\" is the wo...</td>\n",
       "      <td>-0.6792</td>\n",
       "    </tr>\n",
       "    <tr>\n",
       "      <th>42</th>\n",
       "      <td>2017-03</td>\n",
       "      <td>paulinett</td>\n",
       "      <td>clinton</td>\n",
       "      <td>Hamner-Brown is already on its way here. It's...</td>\n",
       "      <td>0.0000</td>\n",
       "    </tr>\n",
       "    <tr>\n",
       "      <th>43</th>\n",
       "      <td>2017-03</td>\n",
       "      <td>hyddrox</td>\n",
       "      <td>clinton</td>\n",
       "      <td>Obama's a Muslim &amp;amp; this video from @FoxNe...</td>\n",
       "      <td>0.4184</td>\n",
       "    </tr>\n",
       "    <tr>\n",
       "      <th>...</th>\n",
       "      <td>...</td>\n",
       "      <td>...</td>\n",
       "      <td>...</td>\n",
       "      <td>...</td>\n",
       "      <td>...</td>\n",
       "    </tr>\n",
       "    <tr>\n",
       "      <th>203463</th>\n",
       "      <td>2017-01</td>\n",
       "      <td>daileyjadon</td>\n",
       "      <td>trump</td>\n",
       "      <td>Donald Trump Mistakenly Tweets to the Wrong I...</td>\n",
       "      <td>-0.8126</td>\n",
       "    </tr>\n",
       "    <tr>\n",
       "      <th>203464</th>\n",
       "      <td>2016-07</td>\n",
       "      <td>dailysandiego</td>\n",
       "      <td>trump</td>\n",
       "      <td>Trump transition tests outsider's governing ab...</td>\n",
       "      <td>0.3182</td>\n",
       "    </tr>\n",
       "    <tr>\n",
       "      <th>203470</th>\n",
       "      <td>2016-09</td>\n",
       "      <td>onlinememphis</td>\n",
       "      <td>trump</td>\n",
       "      <td>ELECTION GUIDE: Federal and State elections</td>\n",
       "      <td>0.0000</td>\n",
       "    </tr>\n",
       "    <tr>\n",
       "      <th>203474</th>\n",
       "      <td>2016-10</td>\n",
       "      <td>watchmewalkin</td>\n",
       "      <td>trump</td>\n",
       "      <td>This 22-year-old got out of an awkward convo ...</td>\n",
       "      <td>-0.1531</td>\n",
       "    </tr>\n",
       "    <tr>\n",
       "      <th>203476</th>\n",
       "      <td>2016-11</td>\n",
       "      <td>daileyjadon</td>\n",
       "      <td>trump</td>\n",
       "      <td>Hubby back from Heaven</td>\n",
       "      <td>0.5106</td>\n",
       "    </tr>\n",
       "  </tbody>\n",
       "</table>\n",
       "<p>83177 rows × 5 columns</p>\n",
       "</div>"
      ],
      "text/plain": [
       "          month           handle    label  \\\n",
       "1       2016-10  detroitdailynew  clinton   \n",
       "4       2017-08     mrclydepratt  clinton   \n",
       "13      2016-08   pamela_moore13  clinton   \n",
       "42      2017-03        paulinett  clinton   \n",
       "43      2017-03          hyddrox  clinton   \n",
       "...         ...              ...      ...   \n",
       "203463  2017-01      daileyjadon    trump   \n",
       "203464  2016-07    dailysandiego    trump   \n",
       "203470  2016-09    onlinememphis    trump   \n",
       "203474  2016-10    watchmewalkin    trump   \n",
       "203476  2016-11      daileyjadon    trump   \n",
       "\n",
       "                                                    tweet  vader_score  \n",
       "1       Clinton: Trump should’ve apologized more, atta...      -0.2484  \n",
       "4        Pence and his lawyers decided which of his of...       0.0000  \n",
       "13      Dave Chappelle: \"Black Lives Matter\" is the wo...      -0.6792  \n",
       "42       Hamner-Brown is already on its way here. It's...       0.0000  \n",
       "43       Obama's a Muslim &amp; this video from @FoxNe...       0.4184  \n",
       "...                                                   ...          ...  \n",
       "203463   Donald Trump Mistakenly Tweets to the Wrong I...      -0.8126  \n",
       "203464  Trump transition tests outsider's governing ab...       0.3182  \n",
       "203470       ELECTION GUIDE: Federal and State elections        0.0000  \n",
       "203474   This 22-year-old got out of an awkward convo ...      -0.1531  \n",
       "203476                             Hubby back from Heaven       0.5106  \n",
       "\n",
       "[83177 rows x 5 columns]"
      ]
     },
     "execution_count": 7,
     "metadata": {},
     "output_type": "execute_result"
    }
   ],
   "source": [
    "trump_clinton_df"
   ]
  },
  {
   "cell_type": "code",
   "execution_count": 8,
   "metadata": {
    "ExecuteTime": {
     "end_time": "2020-11-12T22:49:28.871761Z",
     "start_time": "2020-11-12T22:49:28.856600Z"
    }
   },
   "outputs": [],
   "source": [
    "trump_clinton_df = trump_clinton_df[trump_clinton_df['tweet'] != '']"
   ]
  },
  {
   "cell_type": "code",
   "execution_count": 9,
   "metadata": {
    "ExecuteTime": {
     "end_time": "2020-11-12T22:49:28.886955Z",
     "start_time": "2020-11-12T22:49:28.874188Z"
    }
   },
   "outputs": [
    {
     "data": {
      "text/html": [
       "<div>\n",
       "<style scoped>\n",
       "    .dataframe tbody tr th:only-of-type {\n",
       "        vertical-align: middle;\n",
       "    }\n",
       "\n",
       "    .dataframe tbody tr th {\n",
       "        vertical-align: top;\n",
       "    }\n",
       "\n",
       "    .dataframe thead th {\n",
       "        text-align: right;\n",
       "    }\n",
       "</style>\n",
       "<table border=\"1\" class=\"dataframe\">\n",
       "  <thead>\n",
       "    <tr style=\"text-align: right;\">\n",
       "      <th></th>\n",
       "      <th>month</th>\n",
       "      <th>handle</th>\n",
       "      <th>label</th>\n",
       "      <th>tweet</th>\n",
       "      <th>vader_score</th>\n",
       "    </tr>\n",
       "  </thead>\n",
       "  <tbody>\n",
       "    <tr>\n",
       "      <th>1</th>\n",
       "      <td>2016-10</td>\n",
       "      <td>detroitdailynew</td>\n",
       "      <td>clinton</td>\n",
       "      <td>Clinton: Trump should’ve apologized more, atta...</td>\n",
       "      <td>-0.2484</td>\n",
       "    </tr>\n",
       "    <tr>\n",
       "      <th>4</th>\n",
       "      <td>2017-08</td>\n",
       "      <td>mrclydepratt</td>\n",
       "      <td>clinton</td>\n",
       "      <td>Pence and his lawyers decided which of his of...</td>\n",
       "      <td>0.0000</td>\n",
       "    </tr>\n",
       "    <tr>\n",
       "      <th>13</th>\n",
       "      <td>2016-08</td>\n",
       "      <td>pamela_moore13</td>\n",
       "      <td>clinton</td>\n",
       "      <td>Dave Chappelle: \"Black Lives Matter\" is the wo...</td>\n",
       "      <td>-0.6792</td>\n",
       "    </tr>\n",
       "    <tr>\n",
       "      <th>42</th>\n",
       "      <td>2017-03</td>\n",
       "      <td>paulinett</td>\n",
       "      <td>clinton</td>\n",
       "      <td>Hamner-Brown is already on its way here. It's...</td>\n",
       "      <td>0.0000</td>\n",
       "    </tr>\n",
       "    <tr>\n",
       "      <th>43</th>\n",
       "      <td>2017-03</td>\n",
       "      <td>hyddrox</td>\n",
       "      <td>clinton</td>\n",
       "      <td>Obama's a Muslim &amp;amp; this video from @FoxNe...</td>\n",
       "      <td>0.4184</td>\n",
       "    </tr>\n",
       "    <tr>\n",
       "      <th>...</th>\n",
       "      <td>...</td>\n",
       "      <td>...</td>\n",
       "      <td>...</td>\n",
       "      <td>...</td>\n",
       "      <td>...</td>\n",
       "    </tr>\n",
       "    <tr>\n",
       "      <th>203463</th>\n",
       "      <td>2017-01</td>\n",
       "      <td>daileyjadon</td>\n",
       "      <td>trump</td>\n",
       "      <td>Donald Trump Mistakenly Tweets to the Wrong I...</td>\n",
       "      <td>-0.8126</td>\n",
       "    </tr>\n",
       "    <tr>\n",
       "      <th>203464</th>\n",
       "      <td>2016-07</td>\n",
       "      <td>dailysandiego</td>\n",
       "      <td>trump</td>\n",
       "      <td>Trump transition tests outsider's governing ab...</td>\n",
       "      <td>0.3182</td>\n",
       "    </tr>\n",
       "    <tr>\n",
       "      <th>203470</th>\n",
       "      <td>2016-09</td>\n",
       "      <td>onlinememphis</td>\n",
       "      <td>trump</td>\n",
       "      <td>ELECTION GUIDE: Federal and State elections</td>\n",
       "      <td>0.0000</td>\n",
       "    </tr>\n",
       "    <tr>\n",
       "      <th>203474</th>\n",
       "      <td>2016-10</td>\n",
       "      <td>watchmewalkin</td>\n",
       "      <td>trump</td>\n",
       "      <td>This 22-year-old got out of an awkward convo ...</td>\n",
       "      <td>-0.1531</td>\n",
       "    </tr>\n",
       "    <tr>\n",
       "      <th>203476</th>\n",
       "      <td>2016-11</td>\n",
       "      <td>daileyjadon</td>\n",
       "      <td>trump</td>\n",
       "      <td>Hubby back from Heaven</td>\n",
       "      <td>0.5106</td>\n",
       "    </tr>\n",
       "  </tbody>\n",
       "</table>\n",
       "<p>83010 rows × 5 columns</p>\n",
       "</div>"
      ],
      "text/plain": [
       "          month           handle    label  \\\n",
       "1       2016-10  detroitdailynew  clinton   \n",
       "4       2017-08     mrclydepratt  clinton   \n",
       "13      2016-08   pamela_moore13  clinton   \n",
       "42      2017-03        paulinett  clinton   \n",
       "43      2017-03          hyddrox  clinton   \n",
       "...         ...              ...      ...   \n",
       "203463  2017-01      daileyjadon    trump   \n",
       "203464  2016-07    dailysandiego    trump   \n",
       "203470  2016-09    onlinememphis    trump   \n",
       "203474  2016-10    watchmewalkin    trump   \n",
       "203476  2016-11      daileyjadon    trump   \n",
       "\n",
       "                                                    tweet  vader_score  \n",
       "1       Clinton: Trump should’ve apologized more, atta...      -0.2484  \n",
       "4        Pence and his lawyers decided which of his of...       0.0000  \n",
       "13      Dave Chappelle: \"Black Lives Matter\" is the wo...      -0.6792  \n",
       "42       Hamner-Brown is already on its way here. It's...       0.0000  \n",
       "43       Obama's a Muslim &amp; this video from @FoxNe...       0.4184  \n",
       "...                                                   ...          ...  \n",
       "203463   Donald Trump Mistakenly Tweets to the Wrong I...      -0.8126  \n",
       "203464  Trump transition tests outsider's governing ab...       0.3182  \n",
       "203470       ELECTION GUIDE: Federal and State elections        0.0000  \n",
       "203474   This 22-year-old got out of an awkward convo ...      -0.1531  \n",
       "203476                             Hubby back from Heaven       0.5106  \n",
       "\n",
       "[83010 rows x 5 columns]"
      ]
     },
     "execution_count": 9,
     "metadata": {},
     "output_type": "execute_result"
    }
   ],
   "source": [
    "trump_clinton_df"
   ]
  },
  {
   "cell_type": "code",
   "execution_count": 10,
   "metadata": {
    "ExecuteTime": {
     "end_time": "2020-11-12T22:49:42.279885Z",
     "start_time": "2020-11-12T22:49:28.888675Z"
    }
   },
   "outputs": [],
   "source": [
    "corpus = st.CorpusFromPandas(trump_clinton_df,\n",
    "                             category_col='label',\n",
    "                             text_col='tweet',\n",
    "                             nlp=st.whitespace_nlp_with_sentences\n",
    "                            ).build()"
   ]
  },
  {
   "cell_type": "code",
   "execution_count": 11,
   "metadata": {
    "ExecuteTime": {
     "end_time": "2020-11-12T22:49:45.354681Z",
     "start_time": "2020-11-12T22:49:42.281706Z"
    }
   },
   "outputs": [],
   "source": [
    "html = st.produce_scattertext_explorer(corpus,\n",
    "                                       category='trump',\n",
    "                                       category_name='Trump',\n",
    "                                       not_category_name='Clinton',\n",
    "                                       minimum_term_frequency=200,\n",
    "                                       pmi_threshold_coefficient=5,\n",
    "                                       width_in_pixels=1000,\n",
    "                                       metadata=trump_clinton_df['handle'],\n",
    "                                      )"
   ]
  },
  {
   "cell_type": "code",
   "execution_count": 12,
   "metadata": {
    "ExecuteTime": {
     "end_time": "2020-11-12T22:49:45.372429Z",
     "start_time": "2020-11-12T22:49:45.356496Z"
    }
   },
   "outputs": [],
   "source": [
    "\n",
    "open('6b_scattertext_trump_clinton.html', 'wb').write(html.encode('utf-8'));"
   ]
  }
 ],
 "metadata": {
  "kernelspec": {
   "display_name": "Python [conda env:metis] *",
   "language": "python",
   "name": "conda-env-metis-py"
  },
  "language_info": {
   "codemirror_mode": {
    "name": "ipython",
    "version": 3
   },
   "file_extension": ".py",
   "mimetype": "text/x-python",
   "name": "python",
   "nbconvert_exporter": "python",
   "pygments_lexer": "ipython3",
   "version": "3.8.5"
  },
  "toc": {
   "base_numbering": 1,
   "nav_menu": {},
   "number_sections": true,
   "sideBar": true,
   "skip_h1_title": false,
   "title_cell": "Table of Contents",
   "title_sidebar": "Contents",
   "toc_cell": false,
   "toc_position": {},
   "toc_section_display": true,
   "toc_window_display": false
  },
  "varInspector": {
   "cols": {
    "lenName": 16,
    "lenType": 16,
    "lenVar": 40
   },
   "kernels_config": {
    "python": {
     "delete_cmd_postfix": "",
     "delete_cmd_prefix": "del ",
     "library": "var_list.py",
     "varRefreshCmd": "print(var_dic_list())"
    },
    "r": {
     "delete_cmd_postfix": ") ",
     "delete_cmd_prefix": "rm(",
     "library": "var_list.r",
     "varRefreshCmd": "cat(var_dic_list()) "
    }
   },
   "types_to_exclude": [
    "module",
    "function",
    "builtin_function_or_method",
    "instance",
    "_Feature"
   ],
   "window_display": false
  }
 },
 "nbformat": 4,
 "nbformat_minor": 4
}
